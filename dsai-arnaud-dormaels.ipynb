{
  "cells": [
    {
      "cell_type": "markdown",
      "metadata": {
        "id": "XaE3CazUU8Qx"
      },
      "source": [
        "# Examen Data Science & AI\n",
        "\n",
        "- Student: Arnaud Dormaels\n",
        "- Studentennummer: 860541ad\n",
        "- Datum: 20/06/2022\n",
        "- Klasgroep: (Bert Van Vreckem)\n"
      ]
    },
    {
      "cell_type": "markdown",
      "metadata": {
        "id": "uASc9u5DU8Q0"
      },
      "source": [
        "## Instructies\n",
        "\n",
        "Bij een multiple-true-false vraag, geef je antwoorden als volgt (fictief voorbeeld):\n",
        "\n",
        "1. Waar\n",
        "2. Niet waar\n",
        "3. Niet waar\n",
        "4. Waar\n",
        "\n",
        "Ook bij vragen met verschillende deelvragen gebruik je een genummerde lijst (hieronder een fictief voorbeeld). Merk op dat je LaTeX-notatie mag gebruiken voor wiskundige uitrdukkingen.\n",
        "\n",
        "1. Een tweezijdige z-toets\n",
        "2. $\\overline{x} = 123.456$ (let op! getallen afronden tot 3 cijfers!)\n",
        "3. $g = 112.432$\n",
        "4. $p = 0.567$\n",
        "5. We kunnen de nulhypothese ... (enz.). Er is dus ... (enz.)\n",
        "\n",
        "**Verwijder vóór indienen a.u.b. alle niet gebruikte codeblokken, tekst tussen haakjes (Antwoord op vraag X) en deze instructies. Enkel jouw ingevulde antwoorden blijven over.**"
      ]
    },
    {
      "cell_type": "code",
      "execution_count": 1,
      "metadata": {
        "id": "iDgMZyW9U8Q2"
      },
      "outputs": [],
      "source": [
        "import numpy as np                                  # \"Scientific computing\"\n",
        "import scipy.stats as stats                         # Statistical tests\n",
        "\n",
        "import pandas as pd                                 # Data Frame\n",
        "from pandas.api.types import CategoricalDtype\n",
        "\n",
        "import matplotlib.pyplot as plt                     # Basic visualisation\n",
        "from statsmodels.graphics.mosaicplot import mosaic  # Mosaic diagram\n",
        "import seaborn as sns                               # Advanced data visualisation\n",
        "import altair as alt                                # Alternative visualisation system\n",
        "from pandas.core.algorithms import value_counts     #Extra import voor value_counts xx\n",
        "from scipy import stats\n",
        "import math\n",
        "from sklearn.linear_model import LinearRegression\n",
        "from datetime import datetime as datetime\n",
        "from statsmodels.tsa.holtwinters import ExponentialSmoothing\n",
        "from sklearn.metrics import mean_absolute_error, mean_squared_error  \n",
        "from statsmodels.tsa.api import Holt"
      ]
    },
    {
      "cell_type": "code",
      "source": [
        "!pip install --upgrade scipy==1.6.0"
      ],
      "metadata": {
        "colab": {
          "base_uri": "https://localhost:8080/"
        },
        "id": "wZTpMK4MVn-L",
        "outputId": "af40c37a-3794-45ba-869a-5608f419105d"
      },
      "execution_count": 2,
      "outputs": [
        {
          "output_type": "stream",
          "name": "stdout",
          "text": [
            "Looking in indexes: https://pypi.org/simple, https://us-python.pkg.dev/colab-wheels/public/simple/\n",
            "Requirement already satisfied: scipy==1.6.0 in /usr/local/lib/python3.7/dist-packages (1.6.0)\n",
            "Requirement already satisfied: numpy>=1.16.5 in /usr/local/lib/python3.7/dist-packages (from scipy==1.6.0) (1.21.6)\n"
          ]
        }
      ]
    },
    {
      "cell_type": "code",
      "source": [
        "!pip install matplotlib == 3.4.3\n",
        "!pip install --upgrade statsmodels"
      ],
      "metadata": {
        "colab": {
          "base_uri": "https://localhost:8080/"
        },
        "id": "v8q0gccgVqza",
        "outputId": "744d7688-120e-44aa-98d6-d4ea4fe46d53"
      },
      "execution_count": 3,
      "outputs": [
        {
          "output_type": "stream",
          "name": "stdout",
          "text": [
            "\u001b[31mERROR: Invalid requirement: '=='\u001b[0m\n",
            "Looking in indexes: https://pypi.org/simple, https://us-python.pkg.dev/colab-wheels/public/simple/\n",
            "Requirement already satisfied: statsmodels in /usr/local/lib/python3.7/dist-packages (0.13.2)\n",
            "Requirement already satisfied: patsy>=0.5.2 in /usr/local/lib/python3.7/dist-packages (from statsmodels) (0.5.2)\n",
            "Requirement already satisfied: numpy>=1.17 in /usr/local/lib/python3.7/dist-packages (from statsmodels) (1.21.6)\n",
            "Requirement already satisfied: scipy>=1.3 in /usr/local/lib/python3.7/dist-packages (from statsmodels) (1.6.0)\n",
            "Requirement already satisfied: pandas>=0.25 in /usr/local/lib/python3.7/dist-packages (from statsmodels) (1.3.5)\n",
            "Requirement already satisfied: packaging>=21.3 in /usr/local/lib/python3.7/dist-packages (from statsmodels) (21.3)\n",
            "Requirement already satisfied: pyparsing!=3.0.5,>=2.0.2 in /usr/local/lib/python3.7/dist-packages (from packaging>=21.3->statsmodels) (3.0.9)\n",
            "Requirement already satisfied: python-dateutil>=2.7.3 in /usr/local/lib/python3.7/dist-packages (from pandas>=0.25->statsmodels) (2.8.2)\n",
            "Requirement already satisfied: pytz>=2017.3 in /usr/local/lib/python3.7/dist-packages (from pandas>=0.25->statsmodels) (2022.1)\n",
            "Requirement already satisfied: six in /usr/local/lib/python3.7/dist-packages (from patsy>=0.5.2->statsmodels) (1.15.0)\n"
          ]
        }
      ]
    },
    {
      "cell_type": "markdown",
      "metadata": {
        "id": "ieaIVIyLU8Q3"
      },
      "source": [
        "## Vraag 1\n",
        "\n",
        "1. Interval\n",
        "2. interval\n",
        "3. Nominaal\n",
        "4. Ratio"
      ]
    },
    {
      "cell_type": "code",
      "execution_count": null,
      "metadata": {
        "id": "FVhJePSSU8Q4"
      },
      "outputs": [],
      "source": [
        "# Eventuele Python-code voor deze vraag\n"
      ]
    },
    {
      "cell_type": "markdown",
      "metadata": {
        "id": "vMXY5cNMU8Q5"
      },
      "source": [
        "## Vraag 2\n",
        "\n",
        "1. Neen, dit is geen aselecte steekproef want niet iedereen heeft evenveel kans om gekozen te worden. Als je deze manier van sampling nog eens zou uitvoeren dan zou je terug de zeflde groep uitkomen als ervoor. want je kiest elke keer dezelfde personen er uit persoon 3,13,23,33 ... (3+10x)\n",
        "2. systematische steekproef fout: Er wordt een verkeerde wijze toegepast om mensen te selecteren het zou beter zijn als de rij niet op volgorde zou staan."
      ]
    },
    {
      "cell_type": "code",
      "execution_count": null,
      "metadata": {
        "id": "06A1Q_rdU8Q5"
      },
      "outputs": [],
      "source": [
        "# Eventuele Python-code voor deze vraag\n"
      ]
    },
    {
      "cell_type": "markdown",
      "source": [
        "## Vraag 3\n",
        "\n",
        "a) **onafhankelijk**  \n",
        "b)72,727%   \n",
        "c)13.636%  \n",
        "d) 50.000%\n"
      ],
      "metadata": {
        "id": "I9V-Py1rXQia"
      }
    },
    {
      "cell_type": "code",
      "source": [
        "b=160/220\n",
        "print(b)\n",
        "\n",
        "c=30/220\n",
        "print(c)"
      ],
      "metadata": {
        "colab": {
          "base_uri": "https://localhost:8080/"
        },
        "id": "JxFzU28oYMNx",
        "outputId": "69a66947-dfa7-42b1-d568-ee0a94844550"
      },
      "execution_count": 4,
      "outputs": [
        {
          "output_type": "stream",
          "name": "stdout",
          "text": [
            "0.7272727272727273\n",
            "0.13636363636363635\n"
          ]
        }
      ]
    },
    {
      "cell_type": "markdown",
      "source": [
        "## **Vraag 4**\n",
        "D\n",
        "\n",
        "\n"
      ],
      "metadata": {
        "id": "28dzgX9OZKho"
      }
    },
    {
      "cell_type": "code",
      "source": [
        "mu= 30             #gemiddelde\n",
        "sigma = 1.5       #deviatie\n",
        "x = 30.75             #x-waarde\n",
        "n=4\n",
        "\n",
        "sf_value= stats.t.sf(x, loc=mu, scale=sigma, df=n-1)\n",
        "print(sf_value)"
      ],
      "metadata": {
        "colab": {
          "base_uri": "https://localhost:8080/"
        },
        "id": "4wzO6TLyZeHe",
        "outputId": "bcfd72f6-0acd-428a-d2bf-954267ae6423"
      },
      "execution_count": 5,
      "outputs": [
        {
          "output_type": "stream",
          "name": "stdout",
          "text": [
            "0.3257239824240755\n"
          ]
        }
      ]
    },
    {
      "cell_type": "code",
      "source": [
        "m=30\n",
        "s=1.5\n",
        "m_sample = 30.75                                 #Gemiddelde dat wordt waargenomen\n",
        "s_sample = s/math.sqrt(n)       \n",
        "significance = 0.05    \n",
        "p_value = stats.norm.sf(m_sample, loc=m, scale=s_sample)\n",
        "print(\"de kans dat m_sample kleiner is dan %.2f is %.2f\" % (m_sample,p_value))      #indien p_value kleiner is dan significantie niveau(5%) verwerpen hypothese\n",
        "print(\"p_value > significance\")\n",
        "print(\"%.2f > %.2f\" % (p_value,significance))"
      ],
      "metadata": {
        "colab": {
          "base_uri": "https://localhost:8080/"
        },
        "id": "rgXP2_kda-PY",
        "outputId": "abdd9210-ac0a-4955-b5c7-21461220307c"
      },
      "execution_count": 6,
      "outputs": [
        {
          "output_type": "stream",
          "name": "stdout",
          "text": [
            "de kans dat m_sample kleiner is dan 30.75 is 0.16\n",
            "p_value > significance\n",
            "0.16 > 0.05\n"
          ]
        }
      ]
    },
    {
      "cell_type": "code",
      "source": [
        "m= 30                         #Sample mean                                  m=(sample.mean())\n",
        "s= 1.5                          #Populatie standaardafwijking/sigma\n",
        "n= 4                          #Sample size                                  n=sample_size=len(sample)\n",
        "alpha= 0.5                      #1-alpha = betrouwbaarheids gebied (95%)\n",
        "x = 30.75                         #meegegeven variabele\n",
        "z_alpha_div2=stats.t.isf(alpha/2,n-1)                       #enkel gebruiken indien de s van de populatie onbekend is of n<30 \n",
        "print(\"z_alpha/2: %f.5\" % z_alpha_div2) \n",
        "a = stats.t.cdf(x1,df=df)\n",
        "b= stats.t.cdf(x2,df=df)\n",
        "print(\"oppervlakte onder de grafiek:%.5f\" % (b-a))\n",
        "print(\"\")\n",
        "\n",
        "x = np.linspace(m - 4*s, m + 4*s,201)\n",
        "t=stats.t.pdf(x, df)\n",
        "plt.plot(x,t)\n",
        "# Left tail probability plot\n",
        "\n",
        "\n",
        "# Fill the area left of x\n",
        "#plt.fill_between(x, 0, t, where=(x1 <= x) &(x2>=x), color='lightblue')\n",
        "# Show the mean with an orange line\n",
        "# plt.axvline(m, color=\"orange\", lw=2)                              %toont het gemiddelde\n",
        "# Show x with a green line\n",
        "#plt.axvline(x1, color=\"green\")\n",
        "#plt.axvline(x2, color=\"red\")\n",
        "y=stats.norm.pdf(x, m, s)\n",
        "plt.plot(x,y)\n",
        "#bonus\n",
        "t_cdf = stats.t.cdf(x,df)                                  #De kans dat de het getal kleiner zou zijn dan de x waarde op dat moment (wanneer je op het gemiddelde zit is y = 0.5 dan heb je 50% kans dat de waarde kleiner is dan x/gemiddelde (op dit moment))\n",
        "plt.plot(x,t_cdf)    "
      ],
      "metadata": {
        "colab": {
          "base_uri": "https://localhost:8080/",
          "height": 252
        },
        "id": "G3fPrjCecJb4",
        "outputId": "7391b618-992a-460e-bb6f-beae1e6bbc88"
      },
      "execution_count": 17,
      "outputs": [
        {
          "output_type": "stream",
          "name": "stdout",
          "text": [
            "z_alpha/2: 0.764892.5\n"
          ]
        },
        {
          "output_type": "error",
          "ename": "NameError",
          "evalue": "ignored",
          "traceback": [
            "\u001b[0;31m---------------------------------------------------------------------------\u001b[0m",
            "\u001b[0;31mNameError\u001b[0m                                 Traceback (most recent call last)",
            "\u001b[0;32m<ipython-input-17-ca8198a40196>\u001b[0m in \u001b[0;36m<module>\u001b[0;34m()\u001b[0m\n\u001b[1;32m      6\u001b[0m \u001b[0mz_alpha_div2\u001b[0m\u001b[0;34m=\u001b[0m\u001b[0mstats\u001b[0m\u001b[0;34m.\u001b[0m\u001b[0mt\u001b[0m\u001b[0;34m.\u001b[0m\u001b[0misf\u001b[0m\u001b[0;34m(\u001b[0m\u001b[0malpha\u001b[0m\u001b[0;34m/\u001b[0m\u001b[0;36m2\u001b[0m\u001b[0;34m,\u001b[0m\u001b[0mn\u001b[0m\u001b[0;34m-\u001b[0m\u001b[0;36m1\u001b[0m\u001b[0;34m)\u001b[0m                       \u001b[0;31m#enkel gebruiken indien de s van de populatie onbekend is of n<30\u001b[0m\u001b[0;34m\u001b[0m\u001b[0;34m\u001b[0m\u001b[0m\n\u001b[1;32m      7\u001b[0m \u001b[0mprint\u001b[0m\u001b[0;34m(\u001b[0m\u001b[0;34m\"z_alpha/2: %f.5\"\u001b[0m \u001b[0;34m%\u001b[0m \u001b[0mz_alpha_div2\u001b[0m\u001b[0;34m)\u001b[0m\u001b[0;34m\u001b[0m\u001b[0;34m\u001b[0m\u001b[0m\n\u001b[0;32m----> 8\u001b[0;31m \u001b[0ma\u001b[0m \u001b[0;34m=\u001b[0m \u001b[0mstats\u001b[0m\u001b[0;34m.\u001b[0m\u001b[0mt\u001b[0m\u001b[0;34m.\u001b[0m\u001b[0mcdf\u001b[0m\u001b[0;34m(\u001b[0m\u001b[0mx1\u001b[0m\u001b[0;34m,\u001b[0m\u001b[0mdf\u001b[0m\u001b[0;34m=\u001b[0m\u001b[0mdf\u001b[0m\u001b[0;34m)\u001b[0m\u001b[0;34m\u001b[0m\u001b[0;34m\u001b[0m\u001b[0m\n\u001b[0m\u001b[1;32m      9\u001b[0m \u001b[0mb\u001b[0m\u001b[0;34m=\u001b[0m \u001b[0mstats\u001b[0m\u001b[0;34m.\u001b[0m\u001b[0mt\u001b[0m\u001b[0;34m.\u001b[0m\u001b[0mcdf\u001b[0m\u001b[0;34m(\u001b[0m\u001b[0mx2\u001b[0m\u001b[0;34m,\u001b[0m\u001b[0mdf\u001b[0m\u001b[0;34m=\u001b[0m\u001b[0mdf\u001b[0m\u001b[0;34m)\u001b[0m\u001b[0;34m\u001b[0m\u001b[0;34m\u001b[0m\u001b[0m\n\u001b[1;32m     10\u001b[0m \u001b[0mprint\u001b[0m\u001b[0;34m(\u001b[0m\u001b[0;34m\"oppervlakte onder de grafiek:%.5f\"\u001b[0m \u001b[0;34m%\u001b[0m \u001b[0;34m(\u001b[0m\u001b[0mb\u001b[0m\u001b[0;34m-\u001b[0m\u001b[0ma\u001b[0m\u001b[0;34m)\u001b[0m\u001b[0;34m)\u001b[0m\u001b[0;34m\u001b[0m\u001b[0;34m\u001b[0m\u001b[0m\n",
            "\u001b[0;31mNameError\u001b[0m: name 'x1' is not defined"
          ]
        }
      ]
    },
    {
      "cell_type": "markdown",
      "source": [
        "##vraag 5\n",
        "1. 4894.035\n",
        "2. 5259.031"
      ],
      "metadata": {
        "id": "HYcWLdIAciAg"
      }
    },
    {
      "cell_type": "code",
      "source": [
        "sample = np.array([\n",
        "5967, 4638, 4667, 4638, 5185, 5165, 5041, 4767, 5333, 4894, 5166,\n",
        "4677, 4932, 4713, 6031, 4427, 4842, 5680, 4302, 4878, 4644, 4625,\n",
        "4945, 5808, 5036, 4942, 5124, 6108, 4974, 6147\n",
        "])\n",
        "m=sample.mean()\n",
        "s=510\n",
        "alpha = 0.05\n",
        "n=len(sample)"
      ],
      "metadata": {
        "id": "NmYp_LBwcqJb"
      },
      "execution_count": 8,
      "outputs": []
    },
    {
      "cell_type": "code",
      "source": [
        "z_alpha_div2=stats.norm.isf(alpha/2)                         #alpha/2 bereken\n",
        "#z_alpha_div2=stats.t.isf(alpha/2,n-1)                       #enkel gebruiken indien de s van de populatie onbekend is of n<30 \n",
        "print(\"z_alpha/2: %f.5\" % z_alpha_div2)                      #getal dat overeenkomt met alpha/2 op de norm\n",
        "\n",
        "\n",
        "\n",
        "lower_limit =m - (z_alpha_div2*s / math.sqrt(n))               #Betrouwbaarheids interval berekenen\n",
        "upper_limit =m + (z_alpha_div2*s / math.sqrt(n))\n",
        "print(\"Confidence interval: [%.5f ,%.5f]\" % (lower_limit,upper_limit))"
      ],
      "metadata": {
        "colab": {
          "base_uri": "https://localhost:8080/"
        },
        "id": "MINe8-MzcrWf",
        "outputId": "c77ef6e2-7b6d-4276-d997-1c1510e39e5f"
      },
      "execution_count": 9,
      "outputs": [
        {
          "output_type": "stream",
          "name": "stdout",
          "text": [
            "z_alpha/2: 1.959964.5\n",
            "Confidence interval: [4894.03553 ,5259.03114]\n"
          ]
        }
      ]
    },
    {
      "cell_type": "markdown",
      "source": [
        "##Vraag 6\n",
        "a. Unpaired samples t-test  \n",
        "b. H0: mu1 =mu2  \n",
        "H1: mu1 > mu2  \n",
        "c. p=0.000  \n",
        "d. de P-value is significant kleiner dan alpha waardoor er voldoende bewijs is om er van uit te gaan dat er wel degelijk een verschil is tussen de control groep en de interventie groep hiermee kunnen we H0 verwerpen en H1 behouden   \n",
        "e. 14.000  \n",
        "f. 88.000"
      ],
      "metadata": {
        "id": "IIP96AUJdseg"
      }
    },
    {
      "cell_type": "code",
      "source": [
        "my_sample = pd.DataFrame(data={\n",
        "'Group':\n",
        "[\"Control\", \"Control\", \"Control\", \"Control\", \"Control\", \"Control\",\n",
        "\"Control\", \"Control\", \"Intervention\", \"Control\", \"Control\",\n",
        "\"Intervention\", \"Intervention\", \"Intervention\", \"Control\",\n",
        "\"Control\", \"Intervention\", \"Intervention\", \"Intervention\",\n",
        "\"Control\", \"Control\", \"Intervention\", \"Intervention\",\n",
        "\"Control\", \"Intervention\", \"Control\", \"Intervention\",\n",
        "\"Control\", \"Intervention\", \"Intervention\", \"Control\",\n",
        "\"Control\", \"Control\", \"Intervention\", \"Intervention\",\n",
        "\"Intervention\", \"Intervention\", \"Control\", \"Control\",\n",
        "\"Intervention\"],\n",
        "'Count':\n",
        "[113, 121, 126, 120, 110, 114, 122, 129, 104, 137, 128, 89, 115, 93,\n",
        "113, 120, 105, 93, 115, 127, 123, 96, 91, 118, 74, 133, 81,\n",
        "129, 91, 86, 112, 125, 112, 112, 87, 88, 88, 124, 104, 88]})\n",
        "\n",
        "\n",
        "alpha = 0.05\n",
        "control=my_sample[my_sample.Group=='Control']['Count']\n",
        "treatment=my_sample[my_sample.Group=='Intervention']['Count']\n",
        "\n",
        "test = stats.ttest_ind(a=control, b=treatment,alternative='greater', equal_var=False)  #less -> gemiddelde van control groep is kleiner dan gemm van de treatment groep\n",
        "                                                                                    #equal_var=false -> er wordt van uit gegaan dat s1 != s2\n",
        "print(test)\n",
        "print(\"p value is kleiner dan 0.05 dus er is wel een significant verschil -> h0 verwerpen\")\n",
        "\n",
        "print('interkwartiel afstand = %.5f'%(treatment.quantile(0.75)-treatment.quantile(0.25)))\n",
        "print(treatment.quantile(0.25))"
      ],
      "metadata": {
        "colab": {
          "base_uri": "https://localhost:8080/"
        },
        "id": "hlmytW7ad9Om",
        "outputId": "08f4d3d8-bc55-4b7f-9ae5-5d4c07905ce3"
      },
      "execution_count": 10,
      "outputs": [
        {
          "output_type": "stream",
          "name": "stdout",
          "text": [
            "Ttest_indResult(statistic=8.238556131835796, pvalue=1.723874774888119e-09)\n",
            "p value is kleiner dan 0.05 dus er is wel een significant verschil -> h0 verwerpen\n",
            "interkwartiel afstand = 14.00000\n",
            "88.0\n"
          ]
        }
      ]
    },
    {
      "cell_type": "markdown",
      "source": [
        "## **Vraag 7**\n",
        "a. Chi kwadraat, cramers V test  \n",
        "b. X²=16.207  \n",
        "c. 0.013  \n",
        "d. De P-value is te klein hiermee hebben we genoeg bewijs om de 0 hypothese te verwerpen, er is wel een verschil tussen de verschillende groepen  \n",
        "e.Ja, enlke groep is genoeg vertegenwoordigd in de data  \n",
        "f.0.340, er is een gematigde-sterke associatie aanwezig."
      ],
      "metadata": {
        "id": "Apk8B5Vwi519"
      }
    },
    {
      "cell_type": "code",
      "source": [
        "my_sample = pd.DataFrame(data = {\n",
        "'Group':\n",
        "['Faculty', 'Student', 'Student', 'Faculty', 'Faculty', 'Faculty',\n",
        "'Faculty', 'Staff', 'Student', 'Student', 'Staff', 'Student',\n",
        "'Faculty', 'Student', 'Student', 'Student', 'Faculty',\n",
        "'Faculty', 'Faculty', 'Faculty', 'Staff', 'Faculty', 'Faculty',\n",
        "'Faculty', 'Staff', 'Student', 'Student', 'Staff', 'Faculty',\n",
        "'Student', 'Student', 'Staff', 'Staff', 'Student', 'Staff',\n",
        "'Staff', 'Staff', 'Student', 'Student', 'Student', 'Student',\n",
        "'Faculty', 'Student', 'Staff', 'Student', 'Student', 'Staff',\n",
        "'Staff', 'Staff', 'Staff', 'Faculty', 'Staff', 'Staff',\n",
        "'Student', 'Staff', 'Staff', 'Student', 'Faculty', 'Student',\n",
        "'Staff', 'Faculty', 'Faculty', 'Staff', 'Faculty', 'Student',\n",
        "'Student', 'Student', 'Student', 'Student', 'Faculty'],\n",
        "'Soda':\n",
        "['PittCola', 'PittCola', 'Nuka-Cola', 'Nozz-A-La', 'BuzzCola',\n",
        "'PittCola', 'BuzzCola', 'Nuka-Cola', 'Nuka-Cola', 'Nuka-Cola',\n",
        "'Nuka-Cola', 'BuzzCola', 'Nozz-A-La', 'PittCola', 'Nuka-Cola',\n",
        "'PittCola', 'Nozz-A-La', 'Nozz-A-La', 'Nozz-A-La', 'Nozz-A-La',\n",
        "'Nuka-Cola', 'PittCola', 'BuzzCola', 'BuzzCola', 'Nozz-A-La',\n",
        "'Nuka-Cola', 'Nozz-A-La', 'BuzzCola', 'Nuka-Cola', 'BuzzCola',\n",
        "'Nuka-Cola', 'BuzzCola', 'Nozz-A-La', 'PittCola', 'PittCola',\n",
        "'Nuka-Cola', 'Nozz-A-La', 'BuzzCola', 'Nuka-Cola', 'Nuka-Cola',\n",
        "'Nuka-Cola', 'Nozz-A-La', 'Nozz-A-La', 'PittCola', 'BuzzCola',\n",
        "'PittCola', 'BuzzCola', 'BuzzCola', 'Nuka-Cola', 'Nuka-Cola',\n",
        "'PittCola', 'BuzzCola', 'PittCola', 'Nuka-Cola', 'PittCola',\n",
        "'PittCola', 'BuzzCola', 'Nozz-A-La', 'Nuka-Cola', 'BuzzCola',\n",
        "'PittCola', 'Nozz-A-La', 'PittCola', 'PittCola', 'PittCola',\n",
        "'PittCola', 'Nuka-Cola', 'Nozz-A-La', 'Nuka-Cola', 'Nozz-A-La']\n",
        "})\n",
        "\n"
      ],
      "metadata": {
        "id": "6CRGOS2djS5t"
      },
      "execution_count": 11,
      "outputs": []
    },
    {
      "cell_type": "code",
      "source": [
        "observed = pd.crosstab(my_sample.Group, my_sample.Soda)\n",
        "chi2, p, df, expected = stats.chi2_contingency(observed)\n",
        "\n",
        "print(\"Chi-squared       : %.4f\" % chi2)\n",
        "print(\"Degrees of freedom: %d\" % df)\n",
        "print(\"P-value           : %.4f\" % p)"
      ],
      "metadata": {
        "colab": {
          "base_uri": "https://localhost:8080/"
        },
        "id": "5sWRkNUUmXPk",
        "outputId": "e0d5330c-4b21-45dc-b9f1-53d5495e27cb"
      },
      "execution_count": 12,
      "outputs": [
        {
          "output_type": "stream",
          "name": "stdout",
          "text": [
            "Chi-squared       : 16.2074\n",
            "Degrees of freedom: 6\n",
            "P-value           : 0.0127\n"
          ]
        }
      ]
    },
    {
      "cell_type": "code",
      "source": [
        "#Cramers V berekenen\n",
        "\n",
        "dof = min(observed.shape)-1\n",
        "cramers_v = np.sqrt(chi2 / (dof*n))\n",
        "print(\"Cramers V: %.3f\" % cramers_v)      \n",
        "print(\"0.1=weak assocation, 0.25=moderate assocation, 0.5=strong assocation, 0.75=very strong assocation, 1=complete assocation\")"
      ],
      "metadata": {
        "colab": {
          "base_uri": "https://localhost:8080/"
        },
        "id": "CywmKjGOkngG",
        "outputId": "7e60a029-9b75-4338-f7bf-1c3b5a3f3c0c"
      },
      "execution_count": 13,
      "outputs": [
        {
          "output_type": "stream",
          "name": "stdout",
          "text": [
            "Cramers V: 0.520\n",
            "0.1=weak assocation, 0.25=moderate assocation, 0.5=strong assocation, 0.75=very strong assocation, 1=complete assocation\n"
          ]
        }
      ]
    },
    {
      "cell_type": "markdown",
      "source": [
        "##Vraag 8"
      ],
      "metadata": {
        "id": "w7Qo4jEopNwr"
      }
    },
    {
      "cell_type": "markdown",
      "source": [
        "a. -0.12  \n",
        "b. (0,5737.56)  \n",
        "c. R=-0.26  \n",
        "d. R is positief dit betekent dat het een stijgende rechte is, |R| is klein dus het is een zwakke correlatie tussen de waarden, de waarden zullen eerder 'ver' van de rechte ligggen.\n",
        "e.R²=6.57%   \n",
        "f. slechts 6.57% van de variantie wordt verklaardt door de onafhankelijke variabele."
      ],
      "metadata": {
        "id": "Ya67toyspyhc"
      }
    },
    {
      "cell_type": "code",
      "source": [
        "sample_data = pd.DataFrame(data = {\n",
        "'x': [4080, 4103, 4711, 5858, 5146, 5332, 4864, 5430, 4756, 4786,\n",
        "4810, 4314, 5086, 4938, 5698, 4000, 5837, 4628, 5018,\n",
        "4999, 4510, 5210, 5537, 5328, 5595, 4452, 4459, 4475,\n",
        "4787, 3990, 4246, 5333, 5654, 4935, 5568, 5362, 4950,\n",
        "4744, 4863, 5360, 5323, 5196, 5524, 4260, 4173, 5787,\n",
        "4576, 5386, 5063, 4685, 4474, 4392, 4903, 6375, 4137,\n",
        "4754, 4498, 5248, 4880, 4760],\n",
        "'y': [5169, 5556, 5362, 5172, 4834, 4979, 5528, 4995, 5271, 5138,\n",
        "4744, 5051, 4783, 4752, 4609, 5084, 5335, 5186, 4884,\n",
        "5204, 5009, 5079, 5624, 5061, 4720, 5208, 5777, 5193,\n",
        "5382, 5135, 5305, 5123, 5121, 5267, 5280, 5069, 5250,\n",
        "5123, 5384, 5379, 4909, 4858, 5075, 4865, 5654, 5063,\n",
        "5269, 5291, 5256, 4758, 5285, 5560, 5302, 5074, 5151,\n",
        "5168, 5083, 5111, 5465, 5362]})\n"
      ],
      "metadata": {
        "id": "RiejCyQcpWXb"
      },
      "execution_count": 14,
      "outputs": []
    },
    {
      "cell_type": "code",
      "source": [
        "x=sample_data.x\n",
        "x = x.values.reshape(-1,1)\n",
        "y = sample_data.y"
      ],
      "metadata": {
        "id": "kANSnL2NpZm7"
      },
      "execution_count": 15,
      "outputs": []
    },
    {
      "cell_type": "code",
      "source": [
        "weight_model = LinearRegression().fit(x, y)                   #geeft de optimale rechte voor de waargenomen waarden\n",
        "print(\"Regressie rechte y = %.2f + %.2fx\"%(weight_model.intercept_, weight_model.coef_[0]))\n",
        "\n",
        "\n",
        "mx= x.mean()\n",
        "my= y.mean()\n",
        "\n",
        "cov = sum((sample_data.x - mx) * (y - my)) / (len(x) -1)            #cov > 0 relatie verterkt\n",
        "print(\"Cov(x,y): %.2f\"%cov)                                                        #cov < 0 relatie verzwakt\n",
        "                                                                                   #cov = 1 er is geen relatie\n",
        "#corelatie(R) berekenen\n",
        "R = cov / (x.std() * y.std())                                    #Pearson's coefficient\n",
        "#R = np.corrcoef(families.x, families.y)[0,1]\n",
        "print(\"R: %.2f\" % R)\n",
        "\n",
        "\n",
        "R2 =R**2                                                                           #R² \n",
        "print(\"%.2f%% van de (originele) variatie wordt verklaardt door de onafhankelijke (veranderlijke) variabele\" %(R2*100) )"
      ],
      "metadata": {
        "colab": {
          "base_uri": "https://localhost:8080/"
        },
        "id": "yrALJzqiptE7",
        "outputId": "0fca7942-295e-4071-a65d-604d786dddaf"
      },
      "execution_count": 16,
      "outputs": [
        {
          "output_type": "stream",
          "name": "stdout",
          "text": [
            "Regressie rechte y = 5737.56 + -0.12x\n",
            "Cov(x,y): -33030.89\n",
            "R: -0.26\n",
            "6.57% van de (originele) variatie wordt verklaardt door de onafhankelijke (veranderlijke) variabele\n"
          ]
        }
      ]
    },
    {
      "cell_type": "markdown",
      "source": [
        "## Vraag 9 \n",
        "lijn A = Eenvoudig voortschrijdend gemiddelde met periode 20  \n",
        "Lijn B = Enkelvoudige exponentiële afvlakking met α = 0.1\n"
      ],
      "metadata": {
        "id": "Ch5Un7ncrOCT"
      }
    }
  ],
  "metadata": {
    "language_info": {
      "name": "python"
    },
    "orig_nbformat": 4,
    "colab": {
      "name": "dsai-STUDENTNAAM.ipynb",
      "provenance": []
    },
    "kernelspec": {
      "name": "python3",
      "display_name": "Python 3"
    },
    "gpuClass": "standard"
  },
  "nbformat": 4,
  "nbformat_minor": 0
}