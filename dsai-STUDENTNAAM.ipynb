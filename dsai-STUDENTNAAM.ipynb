{
 "cells": [
  {
   "cell_type": "markdown",
   "metadata": {},
   "source": [
    "# Examen Data Science & AI\n",
    "\n",
    "- Student: **VUL HIER JE NAAM IN**\n",
    "- Studentennummer: **VUL HIER JE STUDENTENNUMMER IN**\n",
    "- Datum: **EXAMENDATUM**\n",
    "- Klasgroep: **VUL HIER JE KLASGROEP IN ZOALS IN DE EXAMENOPGAVE**\n"
   ]
  },
  {
   "cell_type": "markdown",
   "metadata": {},
   "source": [
    "## Instructies\n",
    "\n",
    "Bij een multiple-true-false vraag, geef je antwoorden als volgt (fictief voorbeeld):\n",
    "\n",
    "1. Waar\n",
    "2. Niet waar\n",
    "3. Niet waar\n",
    "4. Waar\n",
    "\n",
    "Ook bij vragen met verschillende deelvragen gebruik je een genummerde lijst (hieronder een fictief voorbeeld). Merk op dat je LaTeX-notatie mag gebruiken voor wiskundige uitrdukkingen.\n",
    "\n",
    "1. Een tweezijdige z-toets\n",
    "2. $\\overline{x} = 123.456$ (let op! getallen afronden tot 3 cijfers!)\n",
    "3. $g = 112.432$\n",
    "4. $p = 0.567$\n",
    "5. We kunnen de nulhypothese ... (enz.). Er is dus ... (enz.)\n",
    "\n",
    "**Verwijder vóór indienen a.u.b. alle niet gebruikte codeblokken, tekst tussen haakjes (Antwoord op vraag X) en deze instructies. Enkel jouw ingevulde antwoorden blijven over.**"
   ]
  },
  {
   "cell_type": "code",
   "execution_count": null,
   "metadata": {},
   "outputs": [],
   "source": [
    "# Package imports for data science\n",
    "import numpy as np\n",
    "import pandas as pd\n",
    "import scipy.stats as stats\n",
    "import matplotlib.pyplot as plt\n",
    "import seaborn as sns\n",
    "from statsmodels.graphics.mosaicplot import mosaic"
   ]
  },
  {
   "cell_type": "markdown",
   "metadata": {},
   "source": [
    "## Vraag 1\n",
    "\n",
    "(antwoord op vraag 1)"
   ]
  },
  {
   "cell_type": "code",
   "execution_count": null,
   "metadata": {},
   "outputs": [],
   "source": [
    "# Eventuele Python-code voor deze vraag\n"
   ]
  },
  {
   "cell_type": "markdown",
   "metadata": {},
   "source": [
    "## Vraag 2\n",
    "\n",
    "(antwoord op vraag 2)"
   ]
  },
  {
   "cell_type": "code",
   "execution_count": null,
   "metadata": {},
   "outputs": [],
   "source": [
    "# Eventuele Python-code voor deze vraag\n"
   ]
  },
  {
   "cell_type": "markdown",
   "metadata": {},
   "source": [
    "**VUL ZELF Markdown- en codeblokken toe voor de volgende vragen! Zorg dat elke vraag beantwoord is! Verwijder ook deze Markdown-cel voordat je indient.**"
   ]
  }
 ],
 "metadata": {
  "language_info": {
   "name": "python"
  },
  "orig_nbformat": 4
 },
 "nbformat": 4,
 "nbformat_minor": 2
}
