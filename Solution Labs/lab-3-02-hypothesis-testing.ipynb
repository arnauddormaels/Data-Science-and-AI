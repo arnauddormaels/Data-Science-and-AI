{
  "cells": [
    {
      "cell_type": "markdown",
      "source": [
        "# Labo T-toetsen\n",
        "\n",
        "> Ingesprongen blok\n",
        "\n"
      ],
      "metadata": {
        "id": "FUNyem1LK6RQ"
      }
    },
    {
      "cell_type": "code",
      "source": [
        "# Importing the necessary packages\n",
        "import numpy as np                                  # \"Scientific computing\"\n",
        "import scipy.stats as stats                         # Statistical tests\n",
        "\n",
        "import pandas as pd                                 # Data Frame\n",
        "from pandas.api.types import CategoricalDtype\n",
        "\n",
        "import matplotlib.pyplot as plt                     # Basic visualisation\n",
        "from statsmodels.graphics.mosaicplot import mosaic  # Mosaic diagram\n",
        "import seaborn as sns                               # Advanced data visualisation"
      ],
      "metadata": {
        "id": "NOqFJCIhK4px",
        "outputId": "a9719a66-66a3-4435-f77b-2df2aa962bf4",
        "colab": {
          "base_uri": "https://localhost:8080/"
        }
      },
      "execution_count": 1,
      "outputs": [
        {
          "output_type": "stream",
          "name": "stderr",
          "text": [
            "/usr/local/lib/python3.7/dist-packages/statsmodels/tools/_testing.py:19: FutureWarning: pandas.util.testing is deprecated. Use the functions in the public API at pandas.testing instead.\n",
            "  import pandas.util.testing as tm\n"
          ]
        }
      ]
    },
    {
      "cell_type": "markdown",
      "metadata": {
        "id": "0Ko0rwoyKzNg"
      },
      "source": [
        "# Lab 3.02 - Statistical hypothesis testing\n",
        "\n",
        "## Exercise 1 - Binding recommendation on continuation of studies \n",
        "\n",
        "It is being said that introducing a “binding recommendation on continuation of studies” (refusing enrollment in the next academic year if a student did not complete a certain level of credits, NL: \"bindend studie-advies, BSA\") has a positive effect on the study efficiency and success rate. Before the introduction of binding recommendations, the number of completed credits per student per year was 44 with a standard deviation of 6.2. After the introduction, a sample of 72 random students has an average number of completed credits of 46.2.\n",
        "\n",
        "1. Test whether there is evidence that the introduction of binding recommendations has improved the success rate among students. Calculate the critical value for a significance level of $\\alpha = 2.5\\%$.\n",
        "2. Do the same by calculating the $p$-value.\n",
        "3. Interpret the meaning of $\\alpha$ being 2.5%."
      ]
    },
    {
      "cell_type": "code",
      "execution_count": null,
      "metadata": {
        "id": "qFjE8RbxKzNm"
      },
      "outputs": [],
      "source": [
        ""
      ]
    },
    {
      "cell_type": "markdown",
      "metadata": {
        "id": "14jElH08KzNn"
      },
      "source": [
        "\n",
        "### Answers\n",
        "\n",
        "1. $g \\approx 45.4 < x = 46.2$.\n",
        "\n",
        "    $x$ is inside the critical region, so we can reject the null hypothesis. Therefore, we can assume that binding recommendation on continuation of studies does increase the success rate.\n",
        "\n",
        "2. $P(M > 46.2) \\approx 0.0013 < \\alpha = 0.025$. The probability value is smaller than the significance level, so we can reject the null hypothesis.\n",
        "3. $\\alpha$ represents the probability of rejecting a true null hypothesis $H_0$. In other words, there is a 2.5% chance that you wrongly conclude that the success rate has increased."
      ]
    },
    {
      "cell_type": "markdown",
      "metadata": {
        "id": "2hOihXxHKzNo"
      },
      "source": [
        "\n",
        "## Exercise 2 - Car dealers\n",
        "\n",
        "One of the motives for choosing a car dealership is the resale value of the previous car, or more specifically the price a dealer wants to pay for the old car when the customer buys a new one. The importer of Ford wants that all dealers implement the same price policy.\n",
        "\n",
        "The importer is of the opinion that the average price difference between the closest Ford dealer and the dealer where the old car was purchased should be at most €300. It is assumed that, if the difference is larger, potential customers will be more inclined to stay with their previous\n",
        "dealer.\n",
        "\n",
        "In a random sample, the following price differences are recorded:\n",
        "\n",
        "```\n",
        "[400, 350, 400, 500, 300, 350, 200,\n",
        " 500, 200, 250, 250, 500, 350, 100]\n",
        "```\n",
        "\n",
        "Test whether there is reason to assume that the average price difference in reality is significantly greater than €300, using a significance level of 5%."
      ]
    },
    {
      "cell_type": "code",
      "source": [
        "sample = np.array([400, 350, 400, 500, 300, 350, 200,\n",
        " 500, 200, 250, 250, 500, 350, 100])\n",
        "\n",
        "#correcte manier is via pandas want dan gaat de s wel het juiste uitkomen omdat deze bij pandas gebruikt maakt van n-1 ipv n (zoals bij numpy)\n",
        "#sample = pd.DataFrame(.......)"
      ],
      "metadata": {
        "id": "nsM7phaSLPsZ"
      },
      "execution_count": 14,
      "outputs": []
    },
    {
      "cell_type": "code",
      "source": [
        "len(sample)\n",
        "sample.mean()\n",
        "sample.std()"
      ],
      "metadata": {
        "id": "kK91wdwfLae4",
        "outputId": "3e0bddf8-1f84-401b-e351-55fe639ffe27",
        "colab": {
          "base_uri": "https://localhost:8080/"
        }
      },
      "execution_count": 15,
      "outputs": [
        {
          "output_type": "execute_result",
          "data": {
            "text/plain": [
              "118.93447003819081"
            ]
          },
          "metadata": {},
          "execution_count": 15
        }
      ]
    },
    {
      "cell_type": "code",
      "execution_count": 16,
      "metadata": {
        "id": "PTgrYyPfKzNp"
      },
      "outputs": [],
      "source": [
        "# Properties of the sample:\n",
        "n = len(sample)      # sample size\n",
        "sm = sample.mean()  # sample mean\n",
        "s = sample.std()    # population standard deviation (assumed to be known)\n",
        "a = 0.05    # significance level (chosen by the researcher)\n",
        "m0 = 300    # hypothetical population mean (H0)"
      ]
    },
    {
      "cell_type": "code",
      "source": [
        "\n",
        "t_stat, p_val = stats.ttest_1samp(sample,popmean= m0)\n",
        "print(\"Sample mean        : %.3f\" % np.mean(sample))\n",
        "print(\"s                  : %.3f\" %s)\n",
        "print(\"t-score            : %.3f\" % t_stat)\n",
        "print(\"p-value (2-tailed) : %.5f\" % p_val)\n",
        "print(\"p-value (1-tailed) : %.5f\" % (p_val/2))"
      ],
      "metadata": {
        "id": "vW2HSjDeMGXZ",
        "outputId": "fc0aba09-437f-4359-8b02-ae1ab8a71359",
        "colab": {
          "base_uri": "https://localhost:8080/"
        }
      },
      "execution_count": 18,
      "outputs": [
        {
          "output_type": "stream",
          "name": "stdout",
          "text": [
            "Sample mean        : 332.143\n",
            "s                  : 118.934\n",
            "t-score            : 0.974\n",
            "p-value (2-tailed) : 0.34763\n",
            "p-value (1-tailed) : 0.17381\n"
          ]
        }
      ]
    },
    {
      "cell_type": "markdown",
      "metadata": {
        "id": "2PBKu_tbKzNq"
      },
      "source": [
        "### Answers\n",
        "\n",
        "In this context ($n = 14 < 30$) the $z$-test cannot be used. Instead, we use Student’s $t$-test.\n",
        "\n",
        "- $x \\approx 332.143$\n",
        "- $s \\approx 123.424$\n",
        "- $g \\approx 358.42$. The sample mean is outside of the critical region, so we cannot reject $H_0$.\n",
        "- $p \\approx 0.1738$. $p \\nless \\alpha$ , so we cannot reject $H_0$. Based on this sample there is no reason to assume that the average price difference on the residual value of old cars is significantly higher than the amount recommended by the importer."
      ]
    },
    {
      "cell_type": "markdown",
      "metadata": {
        "id": "TOuwOHLIKzNq"
      },
      "source": [
        "## Exercise 3 - rlanders.csv, revisited\n",
        "\n",
        "The variable *Money* represents a gross annual salary (×100\\\\$). We assume this variable has a mean of $\\mu = 500$ with standard deviation $\\sigma = 98$. If we calculate the sample mean over the entire dataset (do this yourself!), it seems to support our assumptions. But what if we looked at\n",
        "men and women separately (variable *Gender*)?\n",
        "\n",
        "First, visualise this case by plotting a kernel density estimate of the variable *Money* over the entire dataset and split up according to *Gender*. Draw a vertical line for the assumed population mean and sample means.\n",
        "\n",
        "Use an appropriate statistical test to verify the statements below, usinge a significance level of $\\alpha = 5\\%$. For each statement, calculate the critical value(s) and the $p$-value.\n",
        "\n",
        "1. The average gross annual salary of men seems higher than the average. Is it also significantly higher?\n",
        "2. The average gross annual salary of women seems lower. Is it significantly lower?\n",
        "3. Calculate the region of acceptance for the average gross annual salary for the sample (men and women combined). In this case we want to verify if the sample mean is significantly different from the expected value, but it can be lower or higher.\n",
        "\n",
        "### Answers\n",
        "\n",
        "1. Sample mean: $\\overline{x} \\approx 507.535$, critical value: $g \\approx 511.456$, $p \\approx 0.1396$. We can **not** reject the null hypothesis. The gross annual income of men in this sample is not significantly higher than expected.\n",
        "2. Sample mean: $\\overline{x} \\approx 472.058$, critical value: $g \\approx 477.646$, $p \\approx 0.0199$. We can reject the null hypothesis. The gross annual income of women in this sample is significantly lower than expected.\n",
        "3. The acceptance region is the interval $[487.852, 512.148]$."
      ]
    }
  ],
  "metadata": {
    "kernelspec": {
      "display_name": "Python 3",
      "language": "python",
      "name": "python3"
    },
    "language_info": {
      "codemirror_mode": {
        "name": "ipython",
        "version": 3
      },
      "file_extension": ".py",
      "mimetype": "text/x-python",
      "name": "python",
      "nbconvert_exporter": "python",
      "pygments_lexer": "ipython3",
      "version": "3.8.8"
    },
    "colab": {
      "name": "lab-3-02-hypothesis-testing.ipynb",
      "provenance": []
    }
  },
  "nbformat": 4,
  "nbformat_minor": 0
}