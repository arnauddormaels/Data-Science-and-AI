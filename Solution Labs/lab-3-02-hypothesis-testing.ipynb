{
  "cells": [
    {
      "cell_type": "code",
      "source": [
        "import numpy as np                                  # \"Scientific computing\"\n",
        "import scipy.stats as stats                         # Statistical tests\n",
        "\n",
        "import pandas as pd                                 # Data Frame\n",
        "from pandas.api.types import CategoricalDtype\n",
        "\n",
        "import matplotlib.pyplot as plt                     # Basic visualisation\n",
        "from statsmodels.graphics.mosaicplot import mosaic  # Mosaic diagram\n",
        "import seaborn as sns                               # Advanced data visualisation"
      ],
      "metadata": {
        "id": "UCjecH5E1rLE"
      },
      "execution_count": 4,
      "outputs": []
    },
    {
      "cell_type": "markdown",
      "metadata": {
        "id": "HJxsDtMLfP7f"
      },
      "source": [
        "# Lab 3.02 - Statistical hypothesis testing\n",
        "\n",
        "## Exercise 1 - Binding recommendation on continuation of studies \n",
        "\n",
        "It is being said that introducing a “binding recommendation on continuation of studies” (refusing enrollment in the next academic year if a student did not complete a certain level of credits, NL: \"bindend studie-advies, BSA\") has a positive effect on the study efficiency and success rate. Before the introduction of binding recommendations, the number of completed credits per student per year was 44 with a standard deviation of 6.2. After the introduction, a sample of 72 random students has an average number of completed credits of 46.2.\n",
        "\n",
        "1. Test whether there is evidence that the introduction of binding recommendations has improved the success rate among students. Calculate the critical value for a significance level of $\\alpha = 2.5\\%$.\n",
        "2. Do the same by calculating the $p$-value.\n",
        "3. Interpret the meaning of $\\alpha$ being 2.5%."
      ]
    },
    {
      "cell_type": "code",
      "execution_count": 9,
      "metadata": {
        "id": "3updFKLIfP7l"
      },
      "outputs": [],
      "source": [
        "n = 72      # sample size\n",
        "sm = 46.2  # sample mean\n",
        "s = 6.2    # population standard deviation (assumed to be known)\n",
        "a = 0.025    # significance level (chosen by the researcher)\n",
        "m0 = 44    # hypothetical population mean (H0)\n",
        "\n"
      ]
    },
    {
      "cell_type": "code",
      "source": [
        "# 1)\n",
        "g = stats.norm.isf(a, loc=m0, scale=s / np.sqrt(n)) #\n",
        "print(\"Critical value g ≃ %.3f\" % g)\n",
        "if (sm < g):\n",
        "    print(\"sample mean = %.3f < g = %.3f: do not reject H0\" % (sm, g))\n",
        "else:\n",
        "    print(\"sample mean = %.3f > g = %.3f: reject H0\" % (sm, g))"
      ],
      "metadata": {
        "colab": {
          "base_uri": "https://localhost:8080/"
        },
        "id": "qRV8sbJw1O_8",
        "outputId": "c89e9a4a-e426-45e1-ea4d-ea7e91e496f5"
      },
      "execution_count": 10,
      "outputs": [
        {
          "output_type": "stream",
          "name": "stdout",
          "text": [
            "Critical value g ≃ 45.432\n",
            "sample mean = 46.200 > g = 45.432: reject H0\n"
          ]
        }
      ]
    },
    {
      "cell_type": "code",
      "source": [
        "# 2)\n",
        "\n",
        "p = stats.norm.sf(sm, loc=m0, scale=s/np.sqrt(n))\n",
        "print(\"p-value: %.5f\" % p)\n",
        "if(p < a):\n",
        "    print(\"p < a: reject H0\")\n",
        "else:\n",
        "    print(\"p > a: do not reject H0\")"
      ],
      "metadata": {
        "colab": {
          "base_uri": "https://localhost:8080/"
        },
        "id": "UOGz3SEC3PZN",
        "outputId": "5360d92e-5ef9-4627-e3ff-0af8ca96b4de"
      },
      "execution_count": 11,
      "outputs": [
        {
          "output_type": "stream",
          "name": "stdout",
          "text": [
            "p-value: 0.00130\n",
            "p < a: reject H0\n"
          ]
        }
      ]
    },
    {
      "cell_type": "markdown",
      "metadata": {
        "id": "18lDZeGwfP7m"
      },
      "source": [
        "\n",
        "### Answers\n",
        "\n",
        "1. $g \\approx 45.4 < x = 46.2$.\n",
        "\n",
        "    $x$ is inside the critical region, so we can reject the null hypothesis. Therefore, we can assume that binding recommendation on continuation of studies does increase the success rate.\n",
        "\n",
        "2. $P(M > 46.2) \\approx 0.0013 < \\alpha = 0.025$. The probability value is smaller than the significance level, so we can reject the null hypothesis.\n",
        "3. $\\alpha$ represents the probability of rejecting a true null hypothesis $H_0$. In other words, there is a 2.5% chance that you wrongly conclude that the success rate has increased."
      ]
    },
    {
      "cell_type": "markdown",
      "metadata": {
        "id": "nP5-d5qpfP7n"
      },
      "source": [
        "\n",
        "## Exercise 2 - Car dealers\n",
        "\n",
        "One of the motives for choosing a car dealership is the resale value of the previous car, or more specifically the price a dealer wants to pay for the old car when the customer buys a new one. The importer of Ford wants that all dealers implement the same price policy.\n",
        "\n",
        "The importer is of the opinion that the average price difference between the closest Ford dealer and the dealer where the old car was purchased should be at most €300. It is assumed that, if the difference is larger, potential customers will be more inclined to stay with their previous\n",
        "dealer.\n",
        "\n",
        "In a random sample, the following price differences are recorded:\n",
        "\n",
        "```\n",
        "[400, 350, 400, 500, 300, 350, 200,\n",
        " 500, 200, 250, 250, 500, 350, 100]\n",
        "```\n",
        "\n",
        "Test whether there is reason to assume that the average price difference in reality is significantly greater than €300, using a significance level of 5%."
      ]
    },
    {
      "cell_type": "code",
      "execution_count": null,
      "metadata": {
        "id": "5LYKgu0_fP7o"
      },
      "outputs": [],
      "source": [
        ""
      ]
    },
    {
      "cell_type": "markdown",
      "metadata": {
        "id": "1KUg2BU0fP7o"
      },
      "source": [
        "### Answers\n",
        "\n",
        "In this context ($n = 14 < 30$) the $z$-test cannot be used. Instead, we use Student’s $t$-test.\n",
        "\n",
        "- $x \\approx 332.143$\n",
        "- $s \\approx 123.424$\n",
        "- $g \\approx 358.42$. The sample mean is outside of the critical region, so we cannot reject $H_0$.\n",
        "- $p \\approx 0.1738$. $p \\nless \\alpha$ , so we cannot reject $H_0$. Based on this sample there is no reason to assume that the average price difference on the residual value of old cars is significantly higher than the amount recommended by the importer."
      ]
    },
    {
      "cell_type": "markdown",
      "metadata": {
        "id": "FA_Qd4kzfP7p"
      },
      "source": [
        "## Exercise 3 - rlanders.csv, revisited\n",
        "\n",
        "The variable *Money* represents a gross annual salary (×100\\\\$). We assume this variable has a mean of $\\mu = 500$ with standard deviation $\\sigma = 98$. If we calculate the sample mean over the entire dataset (do this yourself!), it seems to support our assumptions. But what if we looked at\n",
        "men and women separately (variable *Gender*)?\n",
        "\n",
        "First, visualise this case by plotting a kernel density estimate of the variable *Money* over the entire dataset and split up according to *Gender*. Draw a vertical line for the assumed population mean and sample means.\n",
        "\n",
        "Use an appropriate statistical test to verify the statements below, usinge a significance level of $\\alpha = 5\\%$. For each statement, calculate the critical value(s) and the $p$-value.\n",
        "\n",
        "1. The average gross annual salary of men seems higher than the average. Is it also significantly higher?\n",
        "2. The average gross annual salary of women seems lower. Is it significantly lower?\n",
        "3. Calculate the region of acceptance for the average gross annual salary for the sample (men and women combined). In this case we want to verify if the sample mean is significantly different from the expected value, but it can be lower or higher.\n",
        "\n"
      ]
    },
    {
      "cell_type": "code",
      "source": [
        "ais = pd.read_csv('https://raw.githubusercontent.com/arnauddormaels/Data-Science-and-AI/main/data/rlanders.csv')\n",
        "ais.head"
      ],
      "metadata": {
        "colab": {
          "base_uri": "https://localhost:8080/"
        },
        "id": "Bo_KWMwm48W9",
        "outputId": "af5b6657-fc15-487b-e478-93e13f532910"
      },
      "execution_count": 15,
      "outputs": [
        {
          "output_type": "execute_result",
          "data": {
            "text/plain": [
              "<bound method NDFrame.head of       ID  Gender  Money  Days  Months  Count  Survey\n",
              "0      1  Female    440    29      11     35       3\n",
              "1      2  Female    503    23      10     52       3\n",
              "2      3    Male    412    16      11     55       3\n",
              "3      4    Male    587    25       9     28       5\n",
              "4      5    Male    525    30      11     41       4\n",
              "..   ...     ...    ...   ...     ...    ...     ...\n",
              "245  246    Male    491    22      11     47       2\n",
              "246  247  Female    479    20      14     51       3\n",
              "247  248    Male    637    33       7     48       4\n",
              "248  249    Male    442    30      12     44       5\n",
              "249  250  Female    734    25       8     51       3\n",
              "\n",
              "[250 rows x 7 columns]>"
            ]
          },
          "metadata": {},
          "execution_count": 15
        }
      ]
    },
    {
      "cell_type": "code",
      "source": [
        "# De genders kan je ook op een 2 manier eruithalen\n",
        "\n",
        "lijst = ais.groupby(['Gender']).Money\n",
        "print(lijst.count().Male)\n",
        "print(lijst.mean().Male)\n"
      ],
      "metadata": {
        "colab": {
          "base_uri": "https://localhost:8080/"
        },
        "id": "uSCprYqL7i4v",
        "outputId": "3df6c017-01af-4a98-b403-46b5b84d6f29"
      },
      "execution_count": 93,
      "outputs": [
        {
          "output_type": "stream",
          "name": "stdout",
          "text": [
            "198\n",
            "507.5353535353535\n"
          ]
        }
      ]
    },
    {
      "cell_type": "code",
      "source": [
        "# 1)\n",
        "Mannen = ais[ais.Gender == 'Male']\n",
        "n = len(Mannen)     # sample size\n",
        "sm = Mannen.Money.mean()  # sample mean\n",
        "s = 98    # population standard deviation (assumed to be known)\n",
        "a = 0.05    # significance level (chosen by the researcher)\n",
        "m0 = 500    # hypothetical population mean (H0)"
      ],
      "metadata": {
        "id": "Dx4cJWyG334V"
      },
      "execution_count": 55,
      "outputs": []
    },
    {
      "cell_type": "code",
      "source": [
        "g = stats.norm.isf(a, loc=m0, scale=s / np.sqrt(n)) #\n",
        "print(\"Critical value g ≃ %.3f\" % g)\n",
        "if (sm < g):\n",
        "    print(\"sample mean = %.3f < g = %.3f: do not reject H0\" % (sm, g))\n",
        "else:\n",
        "    print(\"sample mean = %.3f > g = %.3f: reject H0\" % (sm, g))\n",
        "\n",
        "p = stats.norm.sf(sm, loc=m0, scale=s/np.sqrt(n))\n",
        "print(\"p-value: %.5f\" % p)\n",
        "if(p < a):\n",
        "    print(\"p < a: reject H0\")\n",
        "else:\n",
        "    print(\"p > a: do not reject H0\")"
      ],
      "metadata": {
        "colab": {
          "base_uri": "https://localhost:8080/"
        },
        "id": "PwxcI-Jg9-qO",
        "outputId": "fa1b69c8-fe35-40ce-f0e8-dbad686d127c"
      },
      "execution_count": 56,
      "outputs": [
        {
          "output_type": "stream",
          "name": "stdout",
          "text": [
            "Critical value g ≃ 511.456\n",
            "sample mean = 507.535 < g = 511.456: do not reject H0\n",
            "p-value: 0.13964\n",
            "p > a: do not reject H0\n"
          ]
        }
      ]
    },
    {
      "cell_type": "code",
      "source": [
        "# Gauss-curve plot:\n",
        "# X-values\n",
        "dist_x = np.linspace(m0 - 4 * s/np.sqrt(n), m0 + 4 * s/np.sqrt(n), num=201)\n",
        "# Y-values for the Gauss curve\n",
        "dist_y = stats.norm.pdf(dist_x, m0, s/np.sqrt(n))\n",
        "fig, dplot = plt.subplots(1, 1)\n",
        "# Plot the Gauss-curve\n",
        "dplot.plot(dist_x, dist_y)\n",
        "# Show the hypothetical population mean with an orange line\n",
        "dplot.axvline(m0, color=\"orange\", lw=2)\n",
        "# Show the sample mean with a red line\n",
        "dplot.axvline(sm, color=\"red\")\n",
        "# Fill the acceptance area in light blue\n",
        "dplot.fill_between(dist_x, 0, dist_y, where=dist_x <= g, color='lightblue')"
      ],
      "metadata": {
        "colab": {
          "base_uri": "https://localhost:8080/",
          "height": 287
        },
        "id": "3OhDZxx5_thu",
        "outputId": "619eff8c-2b73-465f-cc84-71d33c3c9ae5"
      },
      "execution_count": 57,
      "outputs": [
        {
          "output_type": "execute_result",
          "data": {
            "text/plain": [
              "<matplotlib.collections.PolyCollection at 0x7f4c303df550>"
            ]
          },
          "metadata": {},
          "execution_count": 57
        },
        {
          "output_type": "display_data",
          "data": {
            "text/plain": [
              "<Figure size 432x288 with 1 Axes>"
            ],
            "image/png": "[encoded data removed]"
          },
          "metadata": {
            "needs_background": "light"
          }
        }
      ]
    },
    {
      "cell_type": "code",
      "source": [
        "# 2)\n",
        "Vrouwen = ais[ais.Gender == 'Female']\n",
        "n = len(Vrouwen)     # sample size\n",
        "sm = Vrouwen.Money.mean()  # sample mean\n",
        "s = 98    # population standard deviation (assumed to be known)\n",
        "a = 0.05    # significance level (chosen by the researcher)\n",
        "m0 = 500    # hypothetical population mean (H0)\n"
      ],
      "metadata": {
        "id": "Cqf-s4zo-xA-"
      },
      "execution_count": 61,
      "outputs": []
    },
    {
      "cell_type": "code",
      "source": [
        "g = stats.norm.isf(1-a, loc=m0, scale=(s / np.sqrt(n)))\n",
        "print(\"Critical value g ≃ %.3f\" % g)\n",
        "if (sm > g):\n",
        "    print(\"sample mean = %.3f > g = %.3f: do not reject H0\" % (sm, g))\n",
        "else:\n",
        "    print(\"sample mean = %.3f < g = %.3f: reject H0\" % (sm, g))\n",
        "p = stats.norm.cdf(sm, loc=m0, scale=s/np.sqrt(n)) # Let op! cdf() ipv sf()!\n",
        "print(\"p-waarde: %.5f\" % p)\n",
        "if(p < a):\n",
        "    print(\"p < a, dus H0 verwerpen\")\n",
        "else:\n",
        "    print(\"p > a, dus H0 niet verwerpen\")"
      ],
      "metadata": {
        "colab": {
          "base_uri": "https://localhost:8080/"
        },
        "id": "KanBXqEV-7Vn",
        "outputId": "4566af8f-3092-4f62-e8ff-1091fd0c67d6"
      },
      "execution_count": 65,
      "outputs": [
        {
          "output_type": "stream",
          "name": "stdout",
          "text": [
            "Critical value g ≃ 477.646\n",
            "sample mean = 472.058 < g = 477.646: reject H0\n",
            "p-waarde: 0.01989\n",
            "p < a, dus H0 verwerpen\n"
          ]
        }
      ]
    },
    {
      "cell_type": "code",
      "source": [
        "# Gauss-curve:\n",
        "# X-values\n",
        "dist_x = np.linspace(m0 - 4 * s/np.sqrt(n), m0 + 4 * s/np.sqrt(n), num=201)\n",
        "# Y-values\n",
        "dist_y = stats.norm.pdf(dist_x, m0, s/np.sqrt(n))\n",
        "fig, dplot = plt.subplots(1, 1)\n",
        "# Plot\n",
        "dplot.plot(dist_x, dist_y)\n",
        "# Hypothetical population mean in orange\n",
        "dplot.axvline(m0, color=\"orange\", lw=2)\n",
        "# Sample mean in red\n",
        "dplot.axvline(sm, color=\"red\")\n",
        "# Fill the acceptance region in light blue\n",
        "dplot.fill_between(dist_x, 0, dist_y, where=dist_x >= g, color='lightblue')"
      ],
      "metadata": {
        "colab": {
          "base_uri": "https://localhost:8080/",
          "height": 284
        },
        "id": "oDygqrDUBbVJ",
        "outputId": "7cf81bb7-7ddd-47ba-c438-cc2e45376fdc"
      },
      "execution_count": 66,
      "outputs": [
        {
          "output_type": "execute_result",
          "data": {
            "text/plain": [
              "<matplotlib.collections.PolyCollection at 0x7f4c3023d350>"
            ]
          },
          "metadata": {},
          "execution_count": 66
        },
        {
          "output_type": "display_data",
          "data": {
            "text/plain": [
              "<Figure size 432x288 with 1 Axes>"
            ],
            "image/png": "[encoded data removed]"
          },
          "metadata": {
            "needs_background": "light"
          }
        }
      ]
    },
    {
      "cell_type": "code",
      "source": [
        "# 3)\n",
        "\n",
        "n = ais.Money.count()    # sample size\n",
        "sm = ais.Money.mean()  # sample mean\n",
        "s = 98   # population standard deviation (assumed to be known)\n",
        "a = 0.05    # significance level (chosen by the researcher)\n",
        "m0 = 500    # hypothetical population mean (H0)\n",
        "\n",
        "g1 = m0 - stats.norm.isf(a/2) * s / np.sqrt(n)\n",
        "g2 = m0 + stats.norm.isf(a/2) * s / np.sqrt(n)\n",
        "\n",
        "print(\"Acceptance region [g1, g2] ≃ [%.3f, %.3f]\" % (g1,g2))\n",
        "if (g1 < sm and sm < g2):\n",
        "    print(\"Sample mean = %.3f is inside acceptance region: do not reject H0\" % sm)\n",
        "else:\n",
        "    print(\"Sample mean = %.3f is outside acceptance region: reject H0\" % sm)"
      ],
      "metadata": {
        "colab": {
          "base_uri": "https://localhost:8080/"
        },
        "id": "YUCCMXNUAx3n",
        "outputId": "602ec3a8-b4ba-4107-dcd9-8a5108cc2538"
      },
      "execution_count": 97,
      "outputs": [
        {
          "output_type": "stream",
          "name": "stdout",
          "text": [
            "Acceptance region [g1, g2] ≃ [487.852, 512.148]\n",
            "Sample mean = 500.156 is inside acceptance region: do not reject H0\n"
          ]
        }
      ]
    },
    {
      "cell_type": "code",
      "source": [
        "# Gauss-curve\n",
        "# X-values\n",
        "dist_x = np.linspace(m0 - 4 * s/np.sqrt(n), m0 + 4 * s/np.sqrt(n), num=201)\n",
        "# Y-values\n",
        "dist_y = stats.norm.pdf(dist_x, loc=m0, scale=s/np.sqrt(n))\n",
        "fig, dplot = plt.subplots(1, 1)\n",
        "# Plot\n",
        "dplot.plot(dist_x, dist_y)\n",
        "# Hypothetical population mean in orange\n",
        "dplot.axvline(m0, color=\"orange\", lw=2)\n",
        "# Sample mean in red\n",
        "dplot.axvline(sm, color=\"red\")\n",
        "acc_x = np.linspace(g1, g2, num=101)\n",
        "acc_y = stats.norm.pdf(acc_x, loc=m0, scale=s/np.sqrt(n))\n",
        "# Fill the acceptance region in light blue\n",
        "dplot.fill_between(acc_x, 0, acc_y, color='lightblue')"
      ],
      "metadata": {
        "colab": {
          "base_uri": "https://localhost:8080/",
          "height": 284
        },
        "id": "MbpJrioeBXMP",
        "outputId": "11e6ad69-20fd-4271-bea7-3fc6f06d95d6"
      },
      "execution_count": 52,
      "outputs": [
        {
          "output_type": "execute_result",
          "data": {
            "text/plain": [
              "<matplotlib.collections.PolyCollection at 0x7f4c331b0310>"
            ]
          },
          "metadata": {},
          "execution_count": 52
        },
        {
          "output_type": "display_data",
          "data": {
            "text/plain": [
              "<Figure size 432x288 with 1 Axes>"
            ],
            "image/png": "[encoded data removed]"
          },
          "metadata": {
            "needs_background": "light"
          }
        }
      ]
    },
    {
      "cell_type": "markdown",
      "source": [
        "### Answers\n",
        "\n",
        "1. Sample mean: $\\overline{x} \\approx 507.535$, critical value: $g \\approx 511.456$, $p \\approx 0.1396$. We can **not** reject the null hypothesis. The gross annual income of men in this sample is not significantly higher than expected.\n",
        "2. Sample mean: $\\overline{x} \\approx 472.058$, critical value: $g \\approx 477.646$, $p \\approx 0.0199$. We can reject the null hypothesis. The gross annual income of women in this sample is significantly lower than expected.\n",
        "3. The acceptance region is the interval $[487.852, 512.148]$.\n"
      ],
      "metadata": {
        "id": "960TwJTL30qm"
      }
    }
  ],
  "metadata": {
    "kernelspec": {
      "display_name": "Python 3",
      "language": "python",
      "name": "python3"
    },
    "language_info": {
      "codemirror_mode": {
        "name": "ipython",
        "version": 3
      },
      "file_extension": ".py",
      "mimetype": "text/x-python",
      "name": "python",
      "nbconvert_exporter": "python",
      "pygments_lexer": "ipython3",
      "version": "3.8.8"
    },
    "colab": {
      "name": "lab-3-02-hypothesis-testing.ipynb",
      "provenance": []
    }
  },
  "nbformat": 4,
  "nbformat_minor": 0
}