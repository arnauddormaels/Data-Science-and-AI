{
  "cells": [
    {
      "cell_type": "code",
      "source": [
        "import numpy as np                                  # \"Scientific computing\"\n",
        "import scipy.stats as stats                         # Statistical tests\n",
        "\n",
        "import pandas as pd                                 # Data Frame\n",
        "from pandas.api.types import CategoricalDtype\n",
        "\n",
        "import matplotlib.pyplot as plt                     # Basic visualisation\n",
        "from statsmodels.graphics.mosaicplot import mosaic  # Mosaic diagram\n",
        "import seaborn as sns                               # Advanced data visualisation\n",
        "import altair as alt                                # Alternative visualisation system\n",
        "from pandas.core.algorithms import value_counts     #Extra import voor value_counts xx\n",
        "from scipy import stats\n",
        "import math"
      ],
      "metadata": {
        "id": "-hFXxXATONGd"
      },
      "execution_count": 126,
      "outputs": []
    },
    {
      "cell_type": "code",
      "source": [
        "ais = pd.read_csv(\"https://raw.githubusercontent.com/DataRepo2019/Data-files/master/titanic.csv\")\n",
        "\n",
        "\n",
        "ais.set_index(['PassengerId'])        # set index/id\n",
        "ais.Survived= ais.Survived.astype('category')             #Gaat de numerieke waarden van deze kolom aanschouwen als een categorie\n",
        "\n",
        "\n",
        "ais.head()\n"
      ],
      "metadata": {
        "id": "uaNlm6DZOneF"
      },
      "execution_count": null,
      "outputs": []
    },
    {
      "cell_type": "markdown",
      "source": [
        "# **Hoofdstuk 1** \n",
        "\n"
      ],
      "metadata": {
        "id": "txFWJg1rOPWO"
      }
    },
    {
      "cell_type": "markdown",
      "source": [
        "Categoriën ordenen/categorie ordinaal maken"
      ],
      "metadata": {
        "id": "nnBK_gG2Tk-U"
      }
    },
    {
      "cell_type": "code",
      "source": [
        "embarked_type = CategoricalDtype(categories=['S','C','Q'], ordered=True)\n",
        "ais.Embarked= ais.Embarked.astype(embarked_type)\n",
        "ais.Embarked.describe()"
      ],
      "metadata": {
        "id": "134U1tjZOqXf"
      },
      "execution_count": null,
      "outputs": []
    },
    {
      "cell_type": "markdown",
      "source": [
        "Bepaalde kolommen selecteren"
      ],
      "metadata": {
        "id": "cSKU3tN1Wf5T"
      }
    },
    {
      "cell_type": "code",
      "source": [
        "ais[[\"PassengerId\",\"Survived\",\"Name\"]]            ##Dubbele haken!!!\n",
        "ais[ais['PassengerId'] < 6][[\"PassengerId\",'Survived', 'Name']]          #Combinatie met if-else \n",
        "ais[(ais.sport == 'Netball')&('wt' == 63)]                               #combinatie van 2x if-else"
      ],
      "metadata": {
        "id": "827VQ770OqUX"
      },
      "execution_count": null,
      "outputs": []
    },
    {
      "cell_type": "code",
      "source": [
        "ais = pd.read_csv('https://raw.githubusercontent.com/arnauddormaels/Data-Science-and-AI/main/data/ais.csv')"
      ],
      "metadata": {
        "id": "tLlqogJgZPyz"
      },
      "execution_count": null,
      "outputs": []
    },
    {
      "cell_type": "code",
      "source": [
        "print(ais.ferr.describe())\n",
        "print('='*50)"
      ],
      "metadata": {
        "id": "qdokC-8HOqRd"
      },
      "execution_count": null,
      "outputs": []
    },
    {
      "cell_type": "code",
      "source": [
        "#quality of Life \n",
        "                                          ##Geeft een overzicht van alle variabelen\n",
        "ais.sport.value_counts()                  ##Handig voor als je ze moet overtyppen voor een if-else case bijvoorbeeld                     "
      ],
      "metadata": {
        "id": "YARUTqX4TNJH",
        "outputId": "e29debed-4234-4c0a-faf8-7e71423ed61f",
        "colab": {
          "base_uri": "https://localhost:8080/"
        }
      },
      "execution_count": null,
      "outputs": [
        {
          "output_type": "execute_result",
          "data": {
            "text/plain": [
              "Row        37\n",
              "T_400m     29\n",
              "B_Ball     25\n",
              "Netball    23\n",
              "Swim       22\n",
              "Field      19\n",
              "W_Polo     17\n",
              "T_Sprnt    15\n",
              "Tennis     11\n",
              "Gym         4\n",
              "Name: sport, dtype: int64"
            ]
          },
          "metadata": {},
          "execution_count": 69
        }
      ]
    },
    {
      "cell_type": "code",
      "source": [
        "ais[ais.bmi >26 ] ['sport'].value_counts()            #gaat alle waardes dat hiertoe behoeren en overeen komen met elkaar samen tellen"
      ],
      "metadata": {
        "id": "aWfxIBG0OqOt"
      },
      "execution_count": null,
      "outputs": []
    },
    {
      "cell_type": "markdown",
      "source": [
        "# **Hoofdstuk 2 Grafieken tekenen**\n"
      ],
      "metadata": {
        "id": "LFKMnedlbAsM"
      }
    },
    {
      "cell_type": "markdown",
      "source": [
        "## grafieken"
      ],
      "metadata": {
        "id": "GY-KMhl9sg4g"
      }
    },
    {
      "cell_type": "code",
      "source": [
        "ais = pd.read_csv('https://raw.githubusercontent.com/arnauddormaels/Data-Science-and-AI/main/data/ais.csv')\n",
        "ais = ais.set_index(['id'])\n",
        "ais.sex=ais.sex.astype('category')\n",
        "ais.sport=ais.sport.astype('category')"
      ],
      "metadata": {
        "id": "k_hW6W0rOqLu"
      },
      "execution_count": null,
      "outputs": []
    },
    {
      "cell_type": "code",
      "source": [
        "sns.catplot(data=ais,kind=\"count\",y=\"sex\")"
      ],
      "metadata": {
        "colab": {
          "base_uri": "https://localhost:8080/",
          "height": 386
        },
        "id": "HpMAKtwzOqJF",
        "outputId": "33390bfe-2903-4c45-c512-ab93a742b53c"
      },
      "execution_count": null,
      "outputs": [
        {
          "output_type": "execute_result",
          "data": {
            "text/plain": [
              "<seaborn.axisgrid.FacetGrid at 0x7fe56f17bfd0>"
            ]
          },
          "metadata": {},
          "execution_count": 35
        },
        {
          "output_type": "display_data",
          "data": {
            "text/plain": [
              "<Figure size 360x360 with 1 Axes>"
            ],
            "image/png": "[encoded data removed]"
          },
          "metadata": {
            "needs_background": "light"
          }
        }
      ]
    },
    {
      "cell_type": "code",
      "source": [
        "#sns.catplot(data=ais,kind=\"count\",y=\"sport\")                                     #not sorted\n",
        "sns.countplot(data=ais, y=\"sport\", order = ais.sport.value_counts().index)        #sorted"
      ],
      "metadata": {
        "colab": {
          "base_uri": "https://localhost:8080/",
          "height": 296
        },
        "id": "66kfbwrqOqGF",
        "outputId": "02747369-07f8-46d3-fb11-2659b29c7550"
      },
      "execution_count": null,
      "outputs": [
        {
          "output_type": "execute_result",
          "data": {
            "text/plain": [
              "<matplotlib.axes._subplots.AxesSubplot at 0x7fe56a38edd0>"
            ]
          },
          "metadata": {},
          "execution_count": 38
        },
        {
          "output_type": "display_data",
          "data": {
            "text/plain": [
              "<Figure size 432x288 with 1 Axes>"
            ],
            "image/png": "[encoded data removed]"
          },
          "metadata": {
            "needs_background": "light"
          }
        }
      ]
    },
    {
      "cell_type": "code",
      "source": [
        "sns.boxplot(data=ais,x='ht',y='sport')"
      ],
      "metadata": {
        "colab": {
          "base_uri": "https://localhost:8080/",
          "height": 296
        },
        "id": "OxpTAC60Op8c",
        "outputId": "1d1ee396-c34d-4bff-e06e-100955e4386b"
      },
      "execution_count": null,
      "outputs": [
        {
          "output_type": "execute_result",
          "data": {
            "text/plain": [
              "<matplotlib.axes._subplots.AxesSubplot at 0x7fe56a301dd0>"
            ]
          },
          "metadata": {},
          "execution_count": 39
        },
        {
          "output_type": "display_data",
          "data": {
            "text/plain": [
              "<Figure size 432x288 with 1 Axes>"
            ],
            "image/png": "[encoded data removed]"
          },
          "metadata": {
            "needs_background": "light"
          }
        }
      ]
    },
    {
      "cell_type": "code",
      "source": [
        "sns.violinplot(data=ais,x='ht',y='sport')"
      ],
      "metadata": {
        "colab": {
          "base_uri": "https://localhost:8080/",
          "height": 296
        },
        "id": "KBD5KmcabIN-",
        "outputId": "7b0c3a31-a537-4314-d70b-9d22bed3b3e2"
      },
      "execution_count": null,
      "outputs": [
        {
          "output_type": "execute_result",
          "data": {
            "text/plain": [
              "<matplotlib.axes._subplots.AxesSubplot at 0x7fe56a1747d0>"
            ]
          },
          "metadata": {},
          "execution_count": 40
        },
        {
          "output_type": "display_data",
          "data": {
            "text/plain": [
              "<Figure size 432x288 with 1 Axes>"
            ],
            "image/png": "[encoded data removed]"
          },
          "metadata": {
            "needs_background": "light"
          }
        }
      ]
    },
    {
      "cell_type": "code",
      "source": [
        "sns.boxplot(data=ais[ais.sex=='f'],x='ht')"
      ],
      "metadata": {
        "colab": {
          "base_uri": "https://localhost:8080/",
          "height": 296
        },
        "id": "2HtbQS1zbILT",
        "outputId": "42b51b35-789e-4cd6-86c4-26a459a68d88"
      },
      "execution_count": null,
      "outputs": [
        {
          "output_type": "execute_result",
          "data": {
            "text/plain": [
              "<matplotlib.axes._subplots.AxesSubplot at 0x7fe5680ec290>"
            ]
          },
          "metadata": {},
          "execution_count": 41
        },
        {
          "output_type": "display_data",
          "data": {
            "text/plain": [
              "<Figure size 432x288 with 1 Axes>"
            ],
            "image/png": "[encoded data removed]"
          },
          "metadata": {
            "needs_background": "light"
          }
        }
      ]
    },
    {
      "cell_type": "code",
      "source": [
        "sns.boxplot(data=ais[ais.sex=='m'],x='ht',color='orange')"
      ],
      "metadata": {
        "colab": {
          "base_uri": "https://localhost:8080/",
          "height": 296
        },
        "id": "cddnSfvhbIIj",
        "outputId": "786d1eb4-30c8-4b06-e6e4-8e3a1eae0d59"
      },
      "execution_count": null,
      "outputs": [
        {
          "output_type": "execute_result",
          "data": {
            "text/plain": [
              "<matplotlib.axes._subplots.AxesSubplot at 0x7fe56805c8d0>"
            ]
          },
          "metadata": {},
          "execution_count": 42
        },
        {
          "output_type": "display_data",
          "data": {
            "text/plain": [
              "<Figure size 432x288 with 1 Axes>"
            ],
            "image/png": "[encoded data removed]"
          },
          "metadata": {
            "needs_background": "light"
          }
        }
      ]
    },
    {
      "cell_type": "markdown",
      "source": [
        "## oefening "
      ],
      "metadata": {
        "id": "0K3LPDBEsnry"
      }
    },
    {
      "cell_type": "code",
      "source": [
        "ais = pd.read_csv('https://raw.githubusercontent.com/arnauddormaels/Data-Science-and-AI/main/data/ais.csv')\n",
        "ais = ais.set_index(['id'])\n",
        "ais.sex=ais.sex.astype('category')\n",
        "ais.sport=ais.sport.astype('category')"
      ],
      "metadata": {
        "id": "g9_d9Wv_s9JJ"
      },
      "execution_count": null,
      "outputs": []
    },
    {
      "cell_type": "code",
      "source": [
        "# ais[(ais.sport=='Row')|(ais.sport=='Netball')|(ais.sport=='Tennis')].ht.describe()     #Zonder tussenstap\n",
        "\n",
        "\n",
        "data=ais[(ais.sport=='Row')|(ais.sport=='Netball')|(ais.sport=='Tennis')]               #met tussenstap\n",
        "print(data.ht.describe())"
      ],
      "metadata": {
        "colab": {
          "base_uri": "https://localhost:8080/"
        },
        "id": "SsSKUFSzbIFz",
        "outputId": "5a0521df-2f70-4087-bc9c-958ddce79301"
      },
      "execution_count": null,
      "outputs": [
        {
          "output_type": "execute_result",
          "data": {
            "text/plain": [
              "count     71.000000\n",
              "mean     179.066197\n",
              "std        7.936371\n",
              "min      156.000000\n",
              "25%      174.250000\n",
              "50%      179.500000\n",
              "75%      183.400000\n",
              "max      198.000000\n",
              "Name: ht, dtype: float64"
            ]
          },
          "metadata": {},
          "execution_count": 45
        }
      ]
    },
    {
      "cell_type": "code",
      "source": [
        "data=ais[(ais.sport=='Row')|(ais.sport=='Netball')|(ais.sport=='Tennis')]\n",
        "print(data.sex.describe())\n"
      ],
      "metadata": {
        "colab": {
          "base_uri": "https://localhost:8080/"
        },
        "id": "9YmdJYQNbIC7",
        "outputId": "04a49944-6378-44cf-97f9-7f9ca7336d4f"
      },
      "execution_count": null,
      "outputs": [
        {
          "output_type": "stream",
          "name": "stdout",
          "text": [
            "count     71\n",
            "unique     2\n",
            "top        f\n",
            "freq      52\n",
            "Name: sex, dtype: object\n"
          ]
        }
      ]
    },
    {
      "cell_type": "markdown",
      "source": [
        "## lab 02 "
      ],
      "metadata": {
        "id": "P0Mm30QL-oSV"
      }
    },
    {
      "cell_type": "code",
      "source": [
        "ais.groupby('sport')['sex'].value_counts() #Groupby gebruiken\n"
      ],
      "metadata": {
        "colab": {
          "base_uri": "https://localhost:8080/"
        },
        "id": "0KCANA3P-t0g",
        "outputId": "d8ea0682-35bc-4c19-813b-c8fa1f688bd3"
      },
      "execution_count": null,
      "outputs": [
        {
          "output_type": "execute_result",
          "data": {
            "text/plain": [
              "sport     \n",
              "B_Ball   f    13\n",
              "         m    12\n",
              "Field    m    12\n",
              "         f     7\n",
              "Gym      f     4\n",
              "         m     0\n",
              "Netball  f    23\n",
              "         m     0\n",
              "Row      f    22\n",
              "         m    15\n",
              "Swim     m    13\n",
              "         f     9\n",
              "T_400m   m    18\n",
              "         f    11\n",
              "T_Sprnt  m    11\n",
              "         f     4\n",
              "Tennis   f     7\n",
              "         m     4\n",
              "W_Polo   m    17\n",
              "         f     0\n",
              "Name: sex, dtype: int64"
            ]
          },
          "metadata": {},
          "execution_count": 66
        }
      ]
    },
    {
      "cell_type": "code",
      "source": [
        "ais.head()"
      ],
      "metadata": {
        "colab": {
          "base_uri": "https://localhost:8080/",
          "height": 238
        },
        "id": "KGNzy0dc-3_X",
        "outputId": "04ebf645-779f-4778-edb9-1b22193a2013"
      },
      "execution_count": null,
      "outputs": [
        {
          "output_type": "execute_result",
          "data": {
            "text/plain": [
              "     rcc  wcc    hc    hg  ferr    bmi    ssf  pcBfat    lbm     ht    wt sex  \\\n",
              "id                                                                              \n",
              "1   3.96  7.5  37.5  12.3    60  20.56  109.1   19.75  63.32  195.9  78.9   f   \n",
              "2   4.41  8.3  38.2  12.7    68  20.67  102.8   21.30  58.55  189.7  74.4   f   \n",
              "3   4.14  5.0  36.4  11.6    21  21.86  104.6   19.88  55.36  177.8  69.1   f   \n",
              "4   4.11  5.3  37.3  12.6    69  21.88  126.4   23.66  57.18  185.0  74.9   f   \n",
              "5   4.45  6.8  41.5  14.0    29  18.96   80.3   17.64  53.20  184.6  64.6   f   \n",
              "\n",
              "     sport  \n",
              "id          \n",
              "1   B_Ball  \n",
              "2   B_Ball  \n",
              "3   B_Ball  \n",
              "4   B_Ball  \n",
              "5   B_Ball  "
            ],
            "text/html": [
              "\n",
              "  <div id=\"df-b86cf164-c154-4645-bac6-7d4d23bcbb29\">\n",
              "    <div class=\"colab-df-container\">\n",
              "      <div>\n",
              "<style scoped>\n",
              "    .dataframe tbody tr th:only-of-type {\n",
              "        vertical-align: middle;\n",
              "    }\n",
              "\n",
              "    .dataframe tbody tr th {\n",
              "        vertical-align: top;\n",
              "    }\n",
              "\n",
              "    .dataframe thead th {\n",
              "        text-align: right;\n",
              "    }\n",
              "</style>\n",
              "<table border=\"1\" class=\"dataframe\">\n",
              "  <thead>\n",
              "    <tr style=\"text-align: right;\">\n",
              "      <th></th>\n",
              "      <th>rcc</th>\n",
              "      <th>wcc</th>\n",
              "      <th>hc</th>\n",
              "      <th>hg</th>\n",
              "      <th>ferr</th>\n",
              "      <th>bmi</th>\n",
              "      <th>ssf</th>\n",
              "      <th>pcBfat</th>\n",
              "      <th>lbm</th>\n",
              "      <th>ht</th>\n",
              "      <th>wt</th>\n",
              "      <th>sex</th>\n",
              "      <th>sport</th>\n",
              "    </tr>\n",
              "    <tr>\n",
              "      <th>id</th>\n",
              "      <th></th>\n",
              "      <th></th>\n",
              "      <th></th>\n",
              "      <th></th>\n",
              "      <th></th>\n",
              "      <th></th>\n",
              "      <th></th>\n",
              "      <th></th>\n",
              "      <th></th>\n",
              "      <th></th>\n",
              "      <th></th>\n",
              "      <th></th>\n",
              "      <th></th>\n",
              "    </tr>\n",
              "  </thead>\n",
              "  <tbody>\n",
              "    <tr>\n",
              "      <th>1</th>\n",
              "      <td>3.96</td>\n",
              "      <td>7.5</td>\n",
              "      <td>37.5</td>\n",
              "      <td>12.3</td>\n",
              "      <td>60</td>\n",
              "      <td>20.56</td>\n",
              "      <td>109.1</td>\n",
              "      <td>19.75</td>\n",
              "      <td>63.32</td>\n",
              "      <td>195.9</td>\n",
              "      <td>78.9</td>\n",
              "      <td>f</td>\n",
              "      <td>B_Ball</td>\n",
              "    </tr>\n",
              "    <tr>\n",
              "      <th>2</th>\n",
              "      <td>4.41</td>\n",
              "      <td>8.3</td>\n",
              "      <td>38.2</td>\n",
              "      <td>12.7</td>\n",
              "      <td>68</td>\n",
              "      <td>20.67</td>\n",
              "      <td>102.8</td>\n",
              "      <td>21.30</td>\n",
              "      <td>58.55</td>\n",
              "      <td>189.7</td>\n",
              "      <td>74.4</td>\n",
              "      <td>f</td>\n",
              "      <td>B_Ball</td>\n",
              "    </tr>\n",
              "    <tr>\n",
              "      <th>3</th>\n",
              "      <td>4.14</td>\n",
              "      <td>5.0</td>\n",
              "      <td>36.4</td>\n",
              "      <td>11.6</td>\n",
              "      <td>21</td>\n",
              "      <td>21.86</td>\n",
              "      <td>104.6</td>\n",
              "      <td>19.88</td>\n",
              "      <td>55.36</td>\n",
              "      <td>177.8</td>\n",
              "      <td>69.1</td>\n",
              "      <td>f</td>\n",
              "      <td>B_Ball</td>\n",
              "    </tr>\n",
              "    <tr>\n",
              "      <th>4</th>\n",
              "      <td>4.11</td>\n",
              "      <td>5.3</td>\n",
              "      <td>37.3</td>\n",
              "      <td>12.6</td>\n",
              "      <td>69</td>\n",
              "      <td>21.88</td>\n",
              "      <td>126.4</td>\n",
              "      <td>23.66</td>\n",
              "      <td>57.18</td>\n",
              "      <td>185.0</td>\n",
              "      <td>74.9</td>\n",
              "      <td>f</td>\n",
              "      <td>B_Ball</td>\n",
              "    </tr>\n",
              "    <tr>\n",
              "      <th>5</th>\n",
              "      <td>4.45</td>\n",
              "      <td>6.8</td>\n",
              "      <td>41.5</td>\n",
              "      <td>14.0</td>\n",
              "      <td>29</td>\n",
              "      <td>18.96</td>\n",
              "      <td>80.3</td>\n",
              "      <td>17.64</td>\n",
              "      <td>53.20</td>\n",
              "      <td>184.6</td>\n",
              "      <td>64.6</td>\n",
              "      <td>f</td>\n",
              "      <td>B_Ball</td>\n",
              "    </tr>\n",
              "  </tbody>\n",
              "</table>\n",
              "</div>\n",
              "      <button class=\"colab-df-convert\" onclick=\"convertToInteractive('df-b86cf164-c154-4645-bac6-7d4d23bcbb29')\"\n",
              "              title=\"Convert this dataframe to an interactive table.\"\n",
              "              style=\"display:none;\">\n",
              "        \n",
              "  <svg xmlns=\"http://www.w3.org/2000/svg\" height=\"24px\"viewBox=\"0 0 24 24\"\n",
              "       width=\"24px\">\n",
              "    <path d=\"M0 0h24v24H0V0z\" fill=\"none\"/>\n",
              "    <path d=\"M18.56 5.44l.94 2.06.94-2.06 2.06-.94-2.06-.94-.94-2.06-.94 2.06-2.06.94zm-11 1L8.5 8.5l.94-2.06 2.06-.94-2.06-.94L8.5 2.5l-.94 2.06-2.06.94zm10 10l.94 2.06.94-2.06 2.06-.94-2.06-.94-.94-2.06-.94 2.06-2.06.94z\"/><path d=\"M17.41 7.96l-1.37-1.37c-.4-.4-.92-.59-1.43-.59-.52 0-1.04.2-1.43.59L10.3 9.45l-7.72 7.72c-.78.78-.78 2.05 0 2.83L4 21.41c.39.39.9.59 1.41.59.51 0 1.02-.2 1.41-.59l7.78-7.78 2.81-2.81c.8-.78.8-2.07 0-2.86zM5.41 20L4 18.59l7.72-7.72 1.47 1.35L5.41 20z\"/>\n",
              "  </svg>\n",
              "      </button>\n",
              "      \n",
              "  <style>\n",
              "    .colab-df-container {\n",
              "      display:flex;\n",
              "      flex-wrap:wrap;\n",
              "      gap: 12px;\n",
              "    }\n",
              "\n",
              "    .colab-df-convert {\n",
              "      background-color: #E8F0FE;\n",
              "      border: none;\n",
              "      border-radius: 50%;\n",
              "      cursor: pointer;\n",
              "      display: none;\n",
              "      fill: #1967D2;\n",
              "      height: 32px;\n",
              "      padding: 0 0 0 0;\n",
              "      width: 32px;\n",
              "    }\n",
              "\n",
              "    .colab-df-convert:hover {\n",
              "      background-color: #E2EBFA;\n",
              "      box-shadow: 0px 1px 2px rgba(60, 64, 67, 0.3), 0px 1px 3px 1px rgba(60, 64, 67, 0.15);\n",
              "      fill: #174EA6;\n",
              "    }\n",
              "\n",
              "    [theme=dark] .colab-df-convert {\n",
              "      background-color: #3B4455;\n",
              "      fill: #D2E3FC;\n",
              "    }\n",
              "\n",
              "    [theme=dark] .colab-df-convert:hover {\n",
              "      background-color: #434B5C;\n",
              "      box-shadow: 0px 1px 3px 1px rgba(0, 0, 0, 0.15);\n",
              "      filter: drop-shadow(0px 1px 2px rgba(0, 0, 0, 0.3));\n",
              "      fill: #FFFFFF;\n",
              "    }\n",
              "  </style>\n",
              "\n",
              "      <script>\n",
              "        const buttonEl =\n",
              "          document.querySelector('#df-b86cf164-c154-4645-bac6-7d4d23bcbb29 button.colab-df-convert');\n",
              "        buttonEl.style.display =\n",
              "          google.colab.kernel.accessAllowed ? 'block' : 'none';\n",
              "\n",
              "        async function convertToInteractive(key) {\n",
              "          const element = document.querySelector('#df-b86cf164-c154-4645-bac6-7d4d23bcbb29');\n",
              "          const dataTable =\n",
              "            await google.colab.kernel.invokeFunction('convertToInteractive',\n",
              "                                                     [key], {});\n",
              "          if (!dataTable) return;\n",
              "\n",
              "          const docLinkHtml = 'Like what you see? Visit the ' +\n",
              "            '<a target=\"_blank\" href=https://colab.research.google.com/notebooks/data_table.ipynb>data table notebook</a>'\n",
              "            + ' to learn more about interactive tables.';\n",
              "          element.innerHTML = '';\n",
              "          dataTable['output_type'] = 'display_data';\n",
              "          await google.colab.output.renderOutput(dataTable, element);\n",
              "          const docLink = document.createElement('div');\n",
              "          docLink.innerHTML = docLinkHtml;\n",
              "          element.appendChild(docLink);\n",
              "        }\n",
              "      </script>\n",
              "    </div>\n",
              "  </div>\n",
              "  "
            ]
          },
          "metadata": {},
          "execution_count": 61
        }
      ]
    },
    {
      "cell_type": "markdown",
      "source": [
        "## Functies"
      ],
      "metadata": {
        "id": "0wgC65G5sbep"
      }
    },
    {
      "cell_type": "code",
      "source": [
        "mpg = sns.load_dataset(\"mpg\")      # Characteristics of cars\n",
        "tips = sns.load_dataset(\"tips\")    # Info on tips given at restaurants"
      ],
      "metadata": {
        "id": "A2B2K9r-bH3K"
      },
      "execution_count": null,
      "outputs": []
    },
    {
      "cell_type": "code",
      "source": [
        "#lange versie\n",
        "\n",
        "print(f\"Mean:                {tips['tip'].mean()}\")\n",
        "print(f\"Standard deviation:  {tips['tip'].std()}\") # Pay attention: n-1 in the denominator\n",
        "print(f\"Variance:            {tips['tip'].var()}\") # Pay attention: n-1 in the denominator\n",
        "print(f\"Skewness:            {tips['tip'].skew()}\")\n",
        "print(f\"Kurtosis:            {tips['tip'].kurtosis()}\")\n",
        "\n",
        "# Median & co\n",
        "print(f\"Minimum:   {tips['tip'].min()}\")\n",
        "print(f\"Median:    {tips['tip'].median()}\")\n",
        "print(f\"Maximum:   {tips['tip'].max()}\")\n",
        "percentiles = [0.0, 0.25, 0.5, 0.75, 1.0]\n",
        "print(\"Percentiles\", percentiles, \"\\n\", tips['tip'].quantile(percentiles))\n",
        "print(\"Inter Quartile Range:\", tips['tip'].quantile(.75) - tips['tip'].quantile(.25))\n",
        "print(f\"Range :    {tips['tip'].max() - tips['tip'].min()}\")"
      ],
      "metadata": {
        "id": "9ZIEkrFIbHmC"
      },
      "execution_count": null,
      "outputs": []
    },
    {
      "cell_type": "code",
      "source": [
        "#korte versie\n",
        "tips[\"tip\"].describe()"
      ],
      "metadata": {
        "colab": {
          "base_uri": "https://localhost:8080/"
        },
        "id": "gHJlLc99ygB4",
        "outputId": "2ede9006-41f1-4db1-c5ef-97171c8d033a"
      },
      "execution_count": null,
      "outputs": [
        {
          "output_type": "execute_result",
          "data": {
            "text/plain": [
              "count    244.000000\n",
              "mean       2.998279\n",
              "std        1.383638\n",
              "min        1.000000\n",
              "25%        2.000000\n",
              "50%        2.900000\n",
              "75%        3.562500\n",
              "max       10.000000\n",
              "Name: tip, dtype: float64"
            ]
          },
          "metadata": {},
          "execution_count": 58
        }
      ]
    },
    {
      "cell_type": "markdown",
      "source": [
        "# **Hoofdstuk 3 Normaalverdeling + T-verdeling** "
      ],
      "metadata": {
        "id": "wxauGwT1S_xl"
      }
    },
    {
      "cell_type": "markdown",
      "source": [
        "## Normaalverdeling functies\n",
        "\n"
      ],
      "metadata": {
        "id": "EghQXh-3rmum"
      }
    },
    {
      "cell_type": "code",
      "source": [
        "mu= 5             #gemiddelde\n",
        "sigma = 1.5       #deviatie\n",
        "x = 6             #x-waarde\n",
        "p=0.40            #percentage"
      ],
      "metadata": {
        "id": "xQ9ih5NJyh6e"
      },
      "execution_count": 57,
      "outputs": []
    },
    {
      "cell_type": "code",
      "source": [
        "#probabilty density function: berekend de Y-waarde die overeenkomt met x (is niet hetzelfde als een kans)\n",
        "\n",
        "pdf_value = stats.norm.pdf(x, loc=mu, scale=sigma)   \n",
        "print(pdf_value)\n",
        "\n",
        "#Cumulatieve distributie functie: kans dat een waarde kleiner is dan x (berekend de oppervlakte onder de curve)\n",
        "#cdf_value= stats.norm.cdf(x, loc=mu, scale=sigma)\n",
        "#print(cdf_value)\n",
        "\n",
        "#Survival function: kans dat de waarde groter is dan x\n",
        "sf_value= stats.norm.sf(x, loc=mu, scale=sigma)\n",
        "print(sf_value)\n",
        "\n",
        "\n",
        "#Inversed survival function: x waarde dat komt overeen met het (meegegeven) percentage   \n",
        "#ipv het percentage te berekenen, gaat deze de x-waarde berekenen (omgekeerde van de sf-function)\n",
        "\n",
        "isf_value = stats.norm.isf(sf_value, loc=mu, scale=sigma)\n",
        "print(isf_value)\n",
        "\n"
      ],
      "metadata": {
        "id": "QJfHhH91yh4T",
        "outputId": "040e06d4-e4bf-4890-e52d-8e8749138dc0",
        "colab": {
          "base_uri": "https://localhost:8080/"
        }
      },
      "execution_count": 58,
      "outputs": [
        {
          "output_type": "stream",
          "name": "stdout",
          "text": [
            "0.2129653370149015\n",
            "0.2524925375469229\n",
            "6.0\n"
          ]
        }
      ]
    },
    {
      "cell_type": "markdown",
      "source": [
        "## Centrale limiet stelling\n"
      ],
      "metadata": {
        "id": "e65w6RjU3_vb"
      }
    },
    {
      "cell_type": "markdown",
      "source": [
        "###aantonen dat de gemiddeldes een normaal verdeling zijn"
      ],
      "metadata": {
        "id": "RT2zlgVP8sbx"
      }
    },
    {
      "cell_type": "code",
      "source": [
        "ais = pd.read_csv('https://raw.githubusercontent.com/arnauddormaels/Data-Science-and-AI/main/data/ais.csv')\n"
      ],
      "metadata": {
        "id": "AV_mGvupyh1o"
      },
      "execution_count": null,
      "outputs": []
    },
    {
      "cell_type": "code",
      "source": [
        "ais.head()"
      ],
      "metadata": {
        "id": "FwOvWFK5yhv5",
        "outputId": "6fd9f122-5ee8-439c-8629-81d85a4b4eb2",
        "colab": {
          "base_uri": "https://localhost:8080/"
        }
      },
      "execution_count": null,
      "outputs": [
        {
          "output_type": "execute_result",
          "data": {
            "text/plain": [
              "   id   rcc  wcc    hc    hg  ferr    bmi    ssf  pcBfat    lbm     ht    wt  \\\n",
              "0   1  3.96  7.5  37.5  12.3    60  20.56  109.1   19.75  63.32  195.9  78.9   \n",
              "1   2  4.41  8.3  38.2  12.7    68  20.67  102.8   21.30  58.55  189.7  74.4   \n",
              "2   3  4.14  5.0  36.4  11.6    21  21.86  104.6   19.88  55.36  177.8  69.1   \n",
              "3   4  4.11  5.3  37.3  12.6    69  21.88  126.4   23.66  57.18  185.0  74.9   \n",
              "4   5  4.45  6.8  41.5  14.0    29  18.96   80.3   17.64  53.20  184.6  64.6   \n",
              "\n",
              "  sex   sport  \n",
              "0   f  B_Ball  \n",
              "1   f  B_Ball  \n",
              "2   f  B_Ball  \n",
              "3   f  B_Ball  \n",
              "4   f  B_Ball  "
            ],
            "text/html": [
              "\n",
              "  <div id=\"df-b6a10243-8584-41fa-adbf-1240d028f70e\">\n",
              "    <div class=\"colab-df-container\">\n",
              "      <div>\n",
              "<style scoped>\n",
              "    .dataframe tbody tr th:only-of-type {\n",
              "        vertical-align: middle;\n",
              "    }\n",
              "\n",
              "    .dataframe tbody tr th {\n",
              "        vertical-align: top;\n",
              "    }\n",
              "\n",
              "    .dataframe thead th {\n",
              "        text-align: right;\n",
              "    }\n",
              "</style>\n",
              "<table border=\"1\" class=\"dataframe\">\n",
              "  <thead>\n",
              "    <tr style=\"text-align: right;\">\n",
              "      <th></th>\n",
              "      <th>id</th>\n",
              "      <th>rcc</th>\n",
              "      <th>wcc</th>\n",
              "      <th>hc</th>\n",
              "      <th>hg</th>\n",
              "      <th>ferr</th>\n",
              "      <th>bmi</th>\n",
              "      <th>ssf</th>\n",
              "      <th>pcBfat</th>\n",
              "      <th>lbm</th>\n",
              "      <th>ht</th>\n",
              "      <th>wt</th>\n",
              "      <th>sex</th>\n",
              "      <th>sport</th>\n",
              "    </tr>\n",
              "  </thead>\n",
              "  <tbody>\n",
              "    <tr>\n",
              "      <th>0</th>\n",
              "      <td>1</td>\n",
              "      <td>3.96</td>\n",
              "      <td>7.5</td>\n",
              "      <td>37.5</td>\n",
              "      <td>12.3</td>\n",
              "      <td>60</td>\n",
              "      <td>20.56</td>\n",
              "      <td>109.1</td>\n",
              "      <td>19.75</td>\n",
              "      <td>63.32</td>\n",
              "      <td>195.9</td>\n",
              "      <td>78.9</td>\n",
              "      <td>f</td>\n",
              "      <td>B_Ball</td>\n",
              "    </tr>\n",
              "    <tr>\n",
              "      <th>1</th>\n",
              "      <td>2</td>\n",
              "      <td>4.41</td>\n",
              "      <td>8.3</td>\n",
              "      <td>38.2</td>\n",
              "      <td>12.7</td>\n",
              "      <td>68</td>\n",
              "      <td>20.67</td>\n",
              "      <td>102.8</td>\n",
              "      <td>21.30</td>\n",
              "      <td>58.55</td>\n",
              "      <td>189.7</td>\n",
              "      <td>74.4</td>\n",
              "      <td>f</td>\n",
              "      <td>B_Ball</td>\n",
              "    </tr>\n",
              "    <tr>\n",
              "      <th>2</th>\n",
              "      <td>3</td>\n",
              "      <td>4.14</td>\n",
              "      <td>5.0</td>\n",
              "      <td>36.4</td>\n",
              "      <td>11.6</td>\n",
              "      <td>21</td>\n",
              "      <td>21.86</td>\n",
              "      <td>104.6</td>\n",
              "      <td>19.88</td>\n",
              "      <td>55.36</td>\n",
              "      <td>177.8</td>\n",
              "      <td>69.1</td>\n",
              "      <td>f</td>\n",
              "      <td>B_Ball</td>\n",
              "    </tr>\n",
              "    <tr>\n",
              "      <th>3</th>\n",
              "      <td>4</td>\n",
              "      <td>4.11</td>\n",
              "      <td>5.3</td>\n",
              "      <td>37.3</td>\n",
              "      <td>12.6</td>\n",
              "      <td>69</td>\n",
              "      <td>21.88</td>\n",
              "      <td>126.4</td>\n",
              "      <td>23.66</td>\n",
              "      <td>57.18</td>\n",
              "      <td>185.0</td>\n",
              "      <td>74.9</td>\n",
              "      <td>f</td>\n",
              "      <td>B_Ball</td>\n",
              "    </tr>\n",
              "    <tr>\n",
              "      <th>4</th>\n",
              "      <td>5</td>\n",
              "      <td>4.45</td>\n",
              "      <td>6.8</td>\n",
              "      <td>41.5</td>\n",
              "      <td>14.0</td>\n",
              "      <td>29</td>\n",
              "      <td>18.96</td>\n",
              "      <td>80.3</td>\n",
              "      <td>17.64</td>\n",
              "      <td>53.20</td>\n",
              "      <td>184.6</td>\n",
              "      <td>64.6</td>\n",
              "      <td>f</td>\n",
              "      <td>B_Ball</td>\n",
              "    </tr>\n",
              "  </tbody>\n",
              "</table>\n",
              "</div>\n",
              "      <button class=\"colab-df-convert\" onclick=\"convertToInteractive('df-b6a10243-8584-41fa-adbf-1240d028f70e')\"\n",
              "              title=\"Convert this dataframe to an interactive table.\"\n",
              "              style=\"display:none;\">\n",
              "        \n",
              "  <svg xmlns=\"http://www.w3.org/2000/svg\" height=\"24px\"viewBox=\"0 0 24 24\"\n",
              "       width=\"24px\">\n",
              "    <path d=\"M0 0h24v24H0V0z\" fill=\"none\"/>\n",
              "    <path d=\"M18.56 5.44l.94 2.06.94-2.06 2.06-.94-2.06-.94-.94-2.06-.94 2.06-2.06.94zm-11 1L8.5 8.5l.94-2.06 2.06-.94-2.06-.94L8.5 2.5l-.94 2.06-2.06.94zm10 10l.94 2.06.94-2.06 2.06-.94-2.06-.94-.94-2.06-.94 2.06-2.06.94z\"/><path d=\"M17.41 7.96l-1.37-1.37c-.4-.4-.92-.59-1.43-.59-.52 0-1.04.2-1.43.59L10.3 9.45l-7.72 7.72c-.78.78-.78 2.05 0 2.83L4 21.41c.39.39.9.59 1.41.59.51 0 1.02-.2 1.41-.59l7.78-7.78 2.81-2.81c.8-.78.8-2.07 0-2.86zM5.41 20L4 18.59l7.72-7.72 1.47 1.35L5.41 20z\"/>\n",
              "  </svg>\n",
              "      </button>\n",
              "      \n",
              "  <style>\n",
              "    .colab-df-container {\n",
              "      display:flex;\n",
              "      flex-wrap:wrap;\n",
              "      gap: 12px;\n",
              "    }\n",
              "\n",
              "    .colab-df-convert {\n",
              "      background-color: #E8F0FE;\n",
              "      border: none;\n",
              "      border-radius: 50%;\n",
              "      cursor: pointer;\n",
              "      display: none;\n",
              "      fill: #1967D2;\n",
              "      height: 32px;\n",
              "      padding: 0 0 0 0;\n",
              "      width: 32px;\n",
              "    }\n",
              "\n",
              "    .colab-df-convert:hover {\n",
              "      background-color: #E2EBFA;\n",
              "      box-shadow: 0px 1px 2px rgba(60, 64, 67, 0.3), 0px 1px 3px 1px rgba(60, 64, 67, 0.15);\n",
              "      fill: #174EA6;\n",
              "    }\n",
              "\n",
              "    [theme=dark] .colab-df-convert {\n",
              "      background-color: #3B4455;\n",
              "      fill: #D2E3FC;\n",
              "    }\n",
              "\n",
              "    [theme=dark] .colab-df-convert:hover {\n",
              "      background-color: #434B5C;\n",
              "      box-shadow: 0px 1px 3px 1px rgba(0, 0, 0, 0.15);\n",
              "      filter: drop-shadow(0px 1px 2px rgba(0, 0, 0, 0.3));\n",
              "      fill: #FFFFFF;\n",
              "    }\n",
              "  </style>\n",
              "\n",
              "      <script>\n",
              "        const buttonEl =\n",
              "          document.querySelector('#df-b6a10243-8584-41fa-adbf-1240d028f70e button.colab-df-convert');\n",
              "        buttonEl.style.display =\n",
              "          google.colab.kernel.accessAllowed ? 'block' : 'none';\n",
              "\n",
              "        async function convertToInteractive(key) {\n",
              "          const element = document.querySelector('#df-b6a10243-8584-41fa-adbf-1240d028f70e');\n",
              "          const dataTable =\n",
              "            await google.colab.kernel.invokeFunction('convertToInteractive',\n",
              "                                                     [key], {});\n",
              "          if (!dataTable) return;\n",
              "\n",
              "          const docLinkHtml = 'Like what you see? Visit the ' +\n",
              "            '<a target=\"_blank\" href=https://colab.research.google.com/notebooks/data_table.ipynb>data table notebook</a>'\n",
              "            + ' to learn more about interactive tables.';\n",
              "          element.innerHTML = '';\n",
              "          dataTable['output_type'] = 'display_data';\n",
              "          await google.colab.output.renderOutput(dataTable, element);\n",
              "          const docLink = document.createElement('div');\n",
              "          docLink.innerHTML = docLinkHtml;\n",
              "          element.appendChild(docLink);\n",
              "        }\n",
              "      </script>\n",
              "    </div>\n",
              "  </div>\n",
              "  "
            ]
          },
          "metadata": {},
          "execution_count": 55
        }
      ]
    },
    {
      "cell_type": "code",
      "source": [
        "arr =np.array([])\n",
        "for i in range(5000):\n",
        "  arr=np.append(arr,ais['ht'].sample(n=50).mean())\n",
        "\n",
        "sns.displot(arr)"
      ],
      "metadata": {
        "id": "KBIObzO1yhyw",
        "outputId": "942f7b26-a612-4c1d-f2a1-a254e9ff133d",
        "colab": {
          "base_uri": "https://localhost:8080/"
        }
      },
      "execution_count": null,
      "outputs": [
        {
          "output_type": "execute_result",
          "data": {
            "text/plain": [
              "<seaborn.axisgrid.FacetGrid at 0x7f4bde332a50>"
            ]
          },
          "metadata": {},
          "execution_count": 56
        },
        {
          "output_type": "display_data",
          "data": {
            "text/plain": [
              "<Figure size 360x360 with 1 Axes>"
            ],
            "image/png": "[encoded data removed]"
          },
          "metadata": {
            "needs_background": "light"
          }
        }
      ]
    },
    {
      "cell_type": "markdown",
      "source": [
        "### werken met centrale limietstelling"
      ],
      "metadata": {
        "id": "6KWMw_1K8-Bp"
      }
    },
    {
      "cell_type": "code",
      "source": [
        "mu= 12.1             #gemiddelde\n",
        "sigma = 3.8/math.sqrt(43)       #deviatie van sample/sample grootte = deviatie\n",
        "x = 11             #x-waarde\n",
        "p=0.40            #percentage\n"
      ],
      "metadata": {
        "id": "xZfXcAUUyhtA"
      },
      "execution_count": null,
      "outputs": []
    },
    {
      "cell_type": "code",
      "source": [
        "cdf_value= stats.norm.cdf(x, loc=mu, scale=sigma)\n",
        "print(cdf_value)"
      ],
      "metadata": {
        "id": "4Ydq9ZSmyhqJ",
        "outputId": "50e84061-fac9-4499-be64-b1525a7241bd",
        "colab": {
          "base_uri": "https://localhost:8080/"
        }
      },
      "execution_count": null,
      "outputs": [
        {
          "output_type": "stream",
          "name": "stdout",
          "text": [
            "0.02883448270747309\n"
          ]
        }
      ]
    },
    {
      "cell_type": "markdown",
      "source": [
        "## Normaal verdeling (Betrouwbaarheidsinterval + Z-score)\n",
        "\n"
      ],
      "metadata": {
        "id": "KfR1CFar-eW5"
      }
    },
    {
      "cell_type": "code",
      "source": [
        "sample = np.array([123,22,55,44,66,45,8489,5,4,84,35,4,84,5,43,84,3,354,354,546,2134,8943,4849])\n",
        "\n",
        "m= 5.2                          #Sample mean                                  m=(sample.mean())\n",
        "s= 1.5                          #Populatie standaardafwijking/sigma\n",
        "n= 100                          #Sample size                                  n=sample_size=len(sample)\n",
        "alpha= 0.5                      #1-alpha = betrouwbaarheids gebied (95%)\n",
        "x = 5.4                         #meegegeven variabele"
      ],
      "metadata": {
        "id": "UIAyxXoCyhnA"
      },
      "execution_count": 70,
      "outputs": []
    },
    {
      "cell_type": "code",
      "source": [
        "z_score=(x-m)/s                                         #z-score berekenen\n",
        "print(\"Z-score voor %.1f is: %.2f\" % (x,z_score))\n",
        "\n",
        "\n",
        "z_alpha_div2=stats.norm.isf(alpha/2)                         #alpha/2 bereken\n",
        "#z_alpha_div2=stats.t.isf(alpha/2,n-1)                       #enkel gebruiken indien de s van de populatie onbekend is of n<30 \n",
        "print(\"z_alpha/2: %f.5\" % z_alpha_div2)                      #getal dat overeenkomt met alpha/2 op de norm\n",
        "\n",
        "\n",
        "\n",
        "lower_limit =m - (z_alpha_div2*s / math.sqrt(n))               #Betrouwbaarheids interval berekenen\n",
        "upper_limit =m + (z_alpha_div2*s / math.sqrt(n))\n",
        "\n",
        "\n",
        "print(\"Confidence interval: [%.5f ,%.5f]\" % (lower_limit,upper_limit))\n"
      ],
      "metadata": {
        "id": "B3aD8zJ5yhhQ",
        "outputId": "2508905b-66e6-4d50-f41a-200bfe44e4fd",
        "colab": {
          "base_uri": "https://localhost:8080/"
        }
      },
      "execution_count": 74,
      "outputs": [
        {
          "output_type": "stream",
          "name": "stdout",
          "text": [
            "Z-score voor 5.4 is: 0.13\n",
            "z_alpha/2: 0.674490.5\n",
            "Confidence interval: [5.09883 ,5.30117]\n"
          ]
        }
      ]
    },
    {
      "cell_type": "markdown",
      "source": [
        "## T-verdeling\n"
      ],
      "metadata": {
        "id": "V3vdaN6NcDcn"
      }
    },
    {
      "cell_type": "code",
      "source": [
        "m= 5.2                #Sample mean                                  m=(sample.mean())\n",
        "s= 1.5              #Populatie standaardafwijking/sigma\n",
        "n = 15               #Sample size                                  n=sample_size=len(sample)\n",
        "alpha=0.05          #1-alpha = betrouwbaarheids gebied (95%)"
      ],
      "metadata": {
        "id": "3nxNyQgIzm6K"
      },
      "execution_count": 2,
      "outputs": []
    },
    {
      "cell_type": "code",
      "source": [
        "t = stats.t.isf(alpha/2, df=n-1)                #T-score berekenen\n",
        "print(\"T-score: %.5f\" % t)\n",
        "\n",
        "\n",
        "lower_limit= m - (t*s / math.sqrt(n))\n",
        "upper_limit= m + (t*s / math.sqrt(n))\n",
        "\n",
        "print(\"Confidence interval: [%.5f ,%.5f]\" % (lower_limit,upper_limit))\n"
      ],
      "metadata": {
        "id": "30k03ZC_zm3c",
        "outputId": "3c59507b-0209-47e4-ef65-e5ca85a39245",
        "colab": {
          "base_uri": "https://localhost:8080/"
        }
      },
      "execution_count": 3,
      "outputs": [
        {
          "output_type": "stream",
          "name": "stdout",
          "text": [
            "T-score: 2.14479\n",
            "Confidence interval: [4.36933 ,6.03067]\n"
          ]
        }
      ]
    },
    {
      "cell_type": "markdown",
      "source": [
        "## Grafiek plotten\n"
      ],
      "metadata": {
        "id": "twVL_OaydVmK"
      }
    },
    {
      "cell_type": "markdown",
      "source": [
        "### normaal verdeling plotten"
      ],
      "metadata": {
        "id": "MwBxRsvembGr"
      }
    },
    {
      "cell_type": "code",
      "source": [
        "m = 2.5\n",
        "s = 1.5\n",
        "x1 = 0.5\n",
        "x2 = 4"
      ],
      "metadata": {
        "id": "NhuPgn__zm01"
      },
      "execution_count": 5,
      "outputs": []
    },
    {
      "cell_type": "code",
      "source": [
        "a = stats.norm.cdf(x1,loc=m,scale=s)\n",
        "b= stats.norm.cdf(x2,loc=m,scale=s)\n",
        "print(\"oppervlakte onder de grafiek:%.5f\" % (b-a))\n",
        "print(\"\")\n",
        "\n",
        "x = np.linspace(m - 4*s, m + 4*s,201)\n",
        "y=stats.norm.pdf(x, m, s)\n",
        "plt.plot(x,y)\n",
        "# Left tail probability plot\n",
        "\n",
        "\n",
        "# Fill the area left of x\n",
        "plt.fill_between(x, 0, y, where=(x1 <= x) &(x2>=x), color='lightblue')\n",
        "# Show the mean with an orange line\n",
        "# plt.axvline(m, color=\"orange\", lw=2)                              %toont het gemiddelde\n",
        "# Show x with a green line\n",
        "plt.axvline(x1, color=\"green\")\n",
        "plt.axvline(x2, color=\"red\")\n",
        "\n",
        "\n",
        "\n",
        "#bonus\n",
        "#y_cdf = stats.norm.cdf(x,loc=m,scale=s)                                  #De kans dat de het getal kleiner zou zijn dan de x waarde op dat moment (wanneer je op het gemiddelde zit is y = 0.5 dan heb je 50% kans dat de waarde kleiner is dan x/gemiddelde (op dit moment))\n",
        "#plt.plot(x,y_cdf)                                                        #Wanneer y=1 heb je 100% kans dat de waarde gelijk kleiner is dan x"
      ],
      "metadata": {
        "id": "hMy2TI4fzmyC",
        "colab": {
          "base_uri": "https://localhost:8080/",
          "height": 317
        },
        "outputId": "d544d3a9-5802-4f2c-f7cb-54d09e40e631"
      },
      "execution_count": 7,
      "outputs": [
        {
          "output_type": "stream",
          "name": "stdout",
          "text": [
            "oppervlakte onder de grafiek:0.75013\n",
            "\n"
          ]
        },
        {
          "output_type": "execute_result",
          "data": {
            "text/plain": [
              "<matplotlib.lines.Line2D at 0x7f796bc1ad50>"
            ]
          },
          "metadata": {},
          "execution_count": 7
        },
        {
          "output_type": "display_data",
          "data": {
            "text/plain": [
              "<Figure size 432x288 with 1 Axes>"
            ],
            "image/png": "[encoded data removed]"
          },
          "metadata": {
            "needs_background": "light"
          }
        }
      ]
    },
    {
      "cell_type": "markdown",
      "source": [
        "###T-verdeling plotten"
      ],
      "metadata": {
        "id": "fOuh1uhgmhih"
      }
    },
    {
      "cell_type": "code",
      "source": [
        "m = 0\n",
        "s = 1\n",
        "x1 = 0.5\n",
        "x2 = 4\n",
        "df = 3            #Aantal vrijheidsgraden"
      ],
      "metadata": {
        "id": "atjZCDjzzmsb"
      },
      "execution_count": 29,
      "outputs": []
    },
    {
      "cell_type": "code",
      "source": [
        "a = stats.t.cdf(x1,df=df)\n",
        "b= stats.t.cdf(x2,df=df)\n",
        "print(\"oppervlakte onder de grafiek:%.5f\" % (b-a))\n",
        "print(\"\")\n",
        "\n",
        "x = np.linspace(m - 4*s, m + 4*s,201)\n",
        "t=stats.t.pdf(x, df)\n",
        "plt.plot(x,t)\n",
        "# Left tail probability plot\n",
        "\n",
        "\n",
        "# Fill the area left of x\n",
        "#plt.fill_between(x, 0, t, where=(x1 <= x) &(x2>=x), color='lightblue')\n",
        "# Show the mean with an orange line\n",
        "# plt.axvline(m, color=\"orange\", lw=2)                              %toont het gemiddelde\n",
        "# Show x with a green line\n",
        "#plt.axvline(x1, color=\"green\")\n",
        "#plt.axvline(x2, color=\"red\")\n",
        "y=stats.norm.pdf(x, m, s)\n",
        "plt.plot(x,y)\n",
        "#bonus\n",
        "t_cdf = stats.t.cdf(x,df)                                  #De kans dat de het getal kleiner zou zijn dan de x waarde op dat moment (wanneer je op het gemiddelde zit is y = 0.5 dan heb je 50% kans dat de waarde kleiner is dan x/gemiddelde (op dit moment))\n",
        "plt.plot(x,t_cdf)                                                        #Wanneer y=1 heb je 100% kans dat de waarde gelijk kleiner is dan x"
      ],
      "metadata": {
        "id": "inEe9G7Ezmva",
        "colab": {
          "base_uri": "https://localhost:8080/",
          "height": 317
        },
        "outputId": "d5f51ebd-486f-4932-9b49-83e387960d44"
      },
      "execution_count": 30,
      "outputs": [
        {
          "output_type": "stream",
          "name": "stdout",
          "text": [
            "oppervlakte onder de grafiek:0.31172\n",
            "\n"
          ]
        },
        {
          "output_type": "execute_result",
          "data": {
            "text/plain": [
              "[<matplotlib.lines.Line2D at 0x7f796b3cc390>]"
            ]
          },
          "metadata": {},
          "execution_count": 30
        },
        {
          "output_type": "display_data",
          "data": {
            "text/plain": [
              "<Figure size 432x288 with 1 Axes>"
            ],
            "image/png": "[encoded data removed]"
          },
          "metadata": {
            "needs_background": "light"
          }
        }
      ]
    },
    {
      "cell_type": "markdown",
      "source": [
        "## Oefening theorie vs praktijk\n",
        "\n",
        "\n",
        "\n"
      ],
      "metadata": {
        "id": "SThyUJl1qqaz"
      }
    },
    {
      "cell_type": "code",
      "source": [
        "n=10                   #Hoe groter n hoe nauwkeuriger dat de observaties gaan zijn\n",
        "m=0\n",
        "s=1\n",
        "\n",
        "observaties = np.random.normal(loc = m ,scale=s,size=n)              #neemt n random waarden van de T-verdeling\n",
        "\n",
        "obs_hist = sns.histplot(observaties,stat='density', kde=True)        #toont de verdeling en histogram van de uitkozen waarden\n",
        "\n",
        "\n",
        "x_dist = np.linspace(m-4*s,m+4*s, num=201)\n",
        "dist_y = stats.norm.pdf(x_dist,m,s)\n",
        "obs_hist.plot(x_dist, dist_y,'red', lw=2)                           #toont de t-verdeling van de waarden\n"
      ],
      "metadata": {
        "id": "vN85rYk-zmpq",
        "colab": {
          "base_uri": "https://localhost:8080/",
          "height": 282
        },
        "outputId": "6069febf-a785-42a0-cb4f-8a49d944d3e7"
      },
      "execution_count": 55,
      "outputs": [
        {
          "output_type": "execute_result",
          "data": {
            "text/plain": [
              "[<matplotlib.lines.Line2D at 0x7f796872f390>]"
            ]
          },
          "metadata": {},
          "execution_count": 55
        },
        {
          "output_type": "display_data",
          "data": {
            "text/plain": [
              "<Figure size 432x288 with 1 Axes>"
            ],
            "image/png": "[encoded data removed]"
          },
          "metadata": {
            "needs_background": "light"
          }
        }
      ]
    },
    {
      "cell_type": "markdown",
      "source": [
        "rode lijn is theorie \n",
        "\n",
        "blauw is praktijk"
      ],
      "metadata": {
        "id": "3K8bAJj5vtGz"
      }
    },
    {
      "cell_type": "markdown",
      "source": [
        "## oefeningen"
      ],
      "metadata": {
        "id": "nZyuTjL5vmyM"
      }
    },
    {
      "cell_type": "markdown",
      "source": [
        "### Excercise 1"
      ],
      "metadata": {
        "id": "ihm2FUyBG6I3"
      }
    },
    {
      "cell_type": "code",
      "source": [
        "m = 2.5\n",
        "s = 1.5\n",
        "x1 = 0.5\n",
        "x2 = 4\n",
        "\n",
        "a = stats.norm.cdf(x1,loc=m,scale=s)\n",
        "b= stats.norm.cdf(x2,loc=m,scale=s)\n",
        "print(\"oppervlakte onder de grafiek:%.5f\" % (b-a))                  #Oppervlakte berekenen\n",
        "print(\"\")\n",
        "\n",
        "x = np.linspace(m - 4*s, m + 4*s,201)\n",
        "y=stats.norm.pdf(x, m, s)\n",
        "plt.plot(x,y)\n",
        "# Left tail probability plot\n",
        "\n",
        "\n",
        "# Fill the area left of x\n",
        "plt.fill_between(x, 0, y, where=(x1 <= x) &(x2>=x), color='lightblue')\n",
        "# Show the mean with an orange line\n",
        "# plt.axvline(m, color=\"orange\", lw=2)                              %toont het gemiddelde\n",
        "# Show x with a green line\n",
        "plt.axvline(x1, color=\"green\")\n",
        "plt.axvline(x2, color=\"green\")\n",
        "\n",
        "\n",
        "y_cdf = stats.norm.cdf(x,loc=m,scale=s)\n",
        "plt.plot(x,y_cdf)"
      ],
      "metadata": {
        "colab": {
          "base_uri": "https://localhost:8080/",
          "height": 317
        },
        "id": "AQFIkztYvmkE",
        "outputId": "89063883-ebf8-4a68-e527-5708e4031173"
      },
      "execution_count": 90,
      "outputs": [
        {
          "output_type": "stream",
          "name": "stdout",
          "text": [
            "oppervlakte onder de grafiek:0.75013\n",
            "\n"
          ]
        },
        {
          "output_type": "execute_result",
          "data": {
            "text/plain": [
              "[<matplotlib.lines.Line2D at 0x7f7966306fd0>]"
            ]
          },
          "metadata": {},
          "execution_count": 90
        },
        {
          "output_type": "display_data",
          "data": {
            "text/plain": [
              "<Figure size 432x288 with 1 Axes>"
            ],
            "image/png": "[encoded data removed]"
          },
          "metadata": {
            "needs_background": "light"
          }
        }
      ]
    },
    {
      "cell_type": "markdown",
      "source": [
        "### Excersice 2"
      ],
      "metadata": {
        "id": "rRDl05sbHBLP"
      }
    },
    {
      "cell_type": "code",
      "source": [
        "n=64\n",
        "m= 20\n",
        "s=16/math.sqrt(n)\n",
        "x1=22\n",
        "x2=16\n",
        "x=np.linspace(m - 4*s, m + 4*s,201)\n",
        "y=stats.norm.pdf(x,m,s)\n",
        "plt.plot(x,y)\n",
        "\n",
        "\n",
        "\n",
        "a= stats.norm.cdf(x1, loc=m, scale=s)\n",
        "print(\"kans dat x kleiner is dan %.2f is %.2f\" % (x1,a))\n",
        "b=stats.norm.cdf(x2, loc=m, scale=s)\n",
        "print(\"kans dat x tussen x1 en x2 ligt is %.2f\" %(a-b))\n",
        "print(\"kans dat x groter is dan x3 is %.2f\" % stats.norm.sf(19,loc=m,scale=s))\n",
        "\n",
        "\n",
        "z1=(15.5-m)/s\n",
        "print(\"Z-score: %.2f\" % z1)\n",
        "\n",
        "z2=(23-m)/s\n",
        "print(\"Z-score: %.2f\" % z2)"
      ],
      "metadata": {
        "colab": {
          "base_uri": "https://localhost:8080/",
          "height": 352
        },
        "id": "PgB7BAv-vmhc",
        "outputId": "4edaf041-9f0d-485d-c820-c3c2509d6e83"
      },
      "execution_count": 89,
      "outputs": [
        {
          "output_type": "stream",
          "name": "stdout",
          "text": [
            "kans dat x kleiner is dan 22.00 is 0.84\n",
            "kans dat x tussen x1 en x2 ligt is 0.82\n",
            "kans dat x groter is dan x3 is 0.69\n",
            "Z-score: -2.25\n",
            "Z-score: 1.50\n"
          ]
        },
        {
          "output_type": "display_data",
          "data": {
            "text/plain": [
              "<Figure size 432x288 with 1 Axes>"
            ],
            "image/png": "[encoded data removed]"
          },
          "metadata": {
            "needs_background": "light"
          }
        }
      ]
    },
    {
      "cell_type": "markdown",
      "source": [
        "###Exersice 3"
      ],
      "metadata": {
        "id": "-uSLUZfNHB-J"
      }
    },
    {
      "cell_type": "code",
      "source": [
        "df = pd.read_csv('https://raw.githubusercontent.com/arnauddormaels/Data-Science-and-AI/main/data/rlanders.csv').set_index([\"ID\"])\n",
        "df.head"
      ],
      "metadata": {
        "id": "kXEZwuZrvmeE"
      },
      "execution_count": null,
      "outputs": []
    },
    {
      "cell_type": "code",
      "source": [
        "s=df['Money'][:25].std()                                      #gebruikt enkel de eerste 25 waarden nemen van df\n",
        "n=25\n",
        "m=df['Money'][:25].mean()\n",
        "alpha= 0.05\n",
        "\n",
        "z_alpha_div2=stats.t.isf(alpha/2,n-1)                         #alpha/2 bereken    \n",
        "print(\"alpha/2: %f.5\" % z_alpha_div2)                        \n",
        "\n",
        "lower_limit =m - (z_alpha_div2*s / math.sqrt(n))               #Betrouwbaarheids interval berekenen\n",
        "upper_limit =m + (z_alpha_div2*s / math.sqrt(n))\n",
        "\n",
        "\n",
        "print(\"Confidence interval: [%.5f ,%.5f]\" % (lower_limit,upper_limit))"
      ],
      "metadata": {
        "id": "YbEj_hEGzmm6",
        "colab": {
          "base_uri": "https://localhost:8080/"
        },
        "outputId": "19eeebd2-26cc-4df4-e76e-96f1cc622e11"
      },
      "execution_count": 93,
      "outputs": [
        {
          "output_type": "stream",
          "name": "stdout",
          "text": [
            "alpha/2: 2.063899.5\n",
            "Confidence interval: [450.29121 ,536.66879]\n"
          ]
        }
      ]
    },
    {
      "cell_type": "markdown",
      "source": [
        "# **Hoofdstuk 3 Hypothese testing** "
      ],
      "metadata": {
        "id": "EpqscCnUJrif"
      }
    },
    {
      "cell_type": "markdown",
      "source": [
        "## Z-test"
      ],
      "metadata": {
        "id": "3MOwVu3WKClP"
      }
    },
    {
      "cell_type": "code",
      "source": [
        ""
      ],
      "metadata": {
        "id": "nfM0SOcKv1h9"
      },
      "execution_count": null,
      "outputs": []
    },
    {
      "cell_type": "markdown",
      "source": [
        "###Rechtzijdige Z-toets"
      ],
      "metadata": {
        "id": "SSFpdUIRvyHd"
      }
    },
    {
      "cell_type": "code",
      "source": [
        "n=40\n",
        "m=351.2\n",
        "s=4.1\n",
        "m_sample = 352.8                                   #Gemiddelde dat wordt waargenomen\n",
        "s_sample = s/math.sqrt(n)       \n",
        "signifance = 0.05                                  #Significantie niveau "
      ],
      "metadata": {
        "id": "2KLAFWM3KEUv"
      },
      "execution_count": 124,
      "outputs": []
    },
    {
      "cell_type": "code",
      "source": [
        "#methode 1 \n",
        "p_value = stats.norm.sf(m_sample, loc=m, scale=s_sample)\n",
        "print(\"de kans dat m_sample kleiner is dan %.2f is %.2f\" % (m_sample,p_value))      #indien p_value kleiner is dan significantie niveau(5%) verwerpen hypothese\n",
        "\n",
        "\n",
        "\n",
        "#methode 2 eerst grenswaarde berekenen adhv significnatie niveau (5%) en kijken of deze waarde kleiner is dan m_sample\n",
        "g_value = stats.norm.isf(signifance, m, s_sample)                                    #grens waarde\n",
        "print(\"Grens waarde: %.2f\" % g_value)                                                #indien g_value kleiner dan m_sample verwerpen hypothese\n",
        "print(\" m_sample: %.2f\" % m_sample)\n",
        "\n",
        "\n",
        "#tekening maken\n",
        "dist_x=np.linspace(m - 4 * s_sample,m + 4 * s_sample,num=201)\n",
        "dist_y= stats.norm.pdf(dist_x,m,s_sample)\n",
        "\n",
        "plt.plot(dist_x,dist_y)\n",
        "plt.fill_between(dist_x,dist_y, where=dist_x >= g_value,color='lightblue')\n",
        "plt.axvline(x=g_value, color='blue')\n",
        "plt.axvline(x=m_sample, color='red')                                                  #waarde ligt erbuiten dus nulhypothese wordt verworpen (indien rood in het blauw ligt = verwerpen)"
      ],
      "metadata": {
        "id": "bzoty6MaKER_",
        "outputId": "61edcb42-ccf4-466d-d8f7-25b763fd41e3",
        "colab": {
          "base_uri": "https://localhost:8080/",
          "height": 334
        }
      },
      "execution_count": 142,
      "outputs": [
        {
          "output_type": "stream",
          "name": "stdout",
          "text": [
            "de kans dat m_sample kleiner is dan 352.80 is 0.01\n",
            " m_sample: 352.80\n",
            "Grens waarde: 352.27\n"
          ]
        },
        {
          "output_type": "execute_result",
          "data": {
            "text/plain": [
              "<matplotlib.lines.Line2D at 0x7f796531bf10>"
            ]
          },
          "metadata": {},
          "execution_count": 142
        },
        {
          "output_type": "display_data",
          "data": {
            "text/plain": [
              "<Figure size 432x288 with 1 Axes>"
            ],
            "image/png": "[encoded data removed]"
          },
          "metadata": {
            "needs_background": "light"
          }
        }
      ]
    },
    {
      "cell_type": "markdown",
      "source": [
        "###Linkszijdige Z-test"
      ],
      "metadata": {
        "id": "toGfUhk_1c6t"
      }
    },
    {
      "cell_type": "code",
      "source": [
        "n=40\n",
        "m=350.4\n",
        "s=4.1\n",
        "m_sample = 352.8                                   #Gemiddelde dat wordt waargenomen\n",
        "s_sample = s/math.sqrt(n)       \n",
        "signifance = 0.05                                  #Significantie niveau "
      ],
      "metadata": {
        "id": "uWHBCn6wKD0I"
      },
      "execution_count": 143,
      "outputs": []
    },
    {
      "cell_type": "code",
      "source": [
        ""
      ],
      "metadata": {
        "id": "re3j7IroKDxY"
      },
      "execution_count": null,
      "outputs": []
    },
    {
      "cell_type": "markdown",
      "source": [
        "### Dubbelzijdige Z-test"
      ],
      "metadata": {
        "id": "qvJ1rMMB1ovN"
      }
    },
    {
      "cell_type": "code",
      "source": [
        ""
      ],
      "metadata": {
        "id": "3s5aX5WEKDpP"
      },
      "execution_count": null,
      "outputs": []
    },
    {
      "cell_type": "code",
      "source": [
        ""
      ],
      "metadata": {
        "id": "zoKXA5f-KDIn"
      },
      "execution_count": null,
      "outputs": []
    }
  ],
  "metadata": {
    "language_info": {
      "name": "python"
    },
    "orig_nbformat": 4,
    "colab": {
      "name": "lab-1.01-ais.ipynb",
      "provenance": []
    },
    "kernelspec": {
      "name": "python3",
      "display_name": "Python 3"
    }
  },
  "nbformat": 4,
  "nbformat_minor": 0
}