{
  "cells": [
    {
      "cell_type": "code",
      "source": [
        "import numpy as np                                  # \"Scientific computing\"\n",
        "import scipy.stats as stats                         # Statistical tests\n",
        "\n",
        "import pandas as pd                                 # Data Frame\n",
        "from pandas.api.types import CategoricalDtype\n",
        "\n",
        "import matplotlib.pyplot as plt                     # Basic visualisation\n",
        "from statsmodels.graphics.mosaicplot import mosaic  # Mosaic diagram\n",
        "import seaborn as sns                               # Advanced data visualisation\n",
        "import altair as alt                                # Alternative visualisation system\n",
        "from pandas.core.algorithms import value_counts     #Extra import voor value_counts xx\n",
        "from scipy import stats\n",
        "import math\n",
        "from sklearn.linear_model import LinearRegression"
      ],
      "metadata": {
        "id": "-hFXxXATONGd",
        "outputId": "1673e454-3c09-4e0a-8e6b-87d983105fdb",
        "colab": {
          "base_uri": "https://localhost:8080/"
        }
      },
      "execution_count": 1,
      "outputs": [
        {
          "output_type": "stream",
          "name": "stderr",
          "text": [
            "/usr/local/lib/python3.7/dist-packages/statsmodels/tools/_testing.py:19: FutureWarning: pandas.util.testing is deprecated. Use the functions in the public API at pandas.testing instead.\n",
            "  import pandas.util.testing as tm\n"
          ]
        }
      ]
    },
    {
      "cell_type": "code",
      "source": [
        "ais = pd.read_csv(\"https://raw.githubusercontent.com/DataRepo2019/Data-files/master/titanic.csv\")\n",
        "\n",
        "\n",
        "ais.set_index(['PassengerId'])        # set index/id\n",
        "ais.Survived= ais.Survived.astype('category')             #Gaat de numerieke waarden van deze kolom aanschouwen als een categorie\n",
        "\n",
        "\n",
        "ais.head()\n"
      ],
      "metadata": {
        "id": "uaNlm6DZOneF"
      },
      "execution_count": null,
      "outputs": []
    },
    {
      "cell_type": "markdown",
      "source": [
        "# **Hoofdstuk 1** \n",
        "\n"
      ],
      "metadata": {
        "id": "txFWJg1rOPWO"
      }
    },
    {
      "cell_type": "markdown",
      "source": [
        "Categoriën ordenen/categorie ordinaal maken"
      ],
      "metadata": {
        "id": "nnBK_gG2Tk-U"
      }
    },
    {
      "cell_type": "code",
      "source": [
        "embarked_type = CategoricalDtype(categories=['S','C','Q'], ordered=True)\n",
        "ais.Embarked= ais.Embarked.astype(embarked_type)\n",
        "ais.Embarked.describe()"
      ],
      "metadata": {
        "id": "134U1tjZOqXf"
      },
      "execution_count": null,
      "outputs": []
    },
    {
      "cell_type": "markdown",
      "source": [
        "Bepaalde kolommen selecteren"
      ],
      "metadata": {
        "id": "cSKU3tN1Wf5T"
      }
    },
    {
      "cell_type": "code",
      "source": [
        "ais[[\"PassengerId\",\"Survived\",\"Name\"]]            ##Dubbele haken!!!\n",
        "ais[ais['PassengerId'] < 6][[\"PassengerId\",'Survived', 'Name']]          #Combinatie met if-else \n",
        "ais[(ais.sport == 'Netball')&('wt' == 63)]                               #combinatie van 2x if-else"
      ],
      "metadata": {
        "id": "827VQ770OqUX"
      },
      "execution_count": null,
      "outputs": []
    },
    {
      "cell_type": "code",
      "source": [
        "ais = pd.read_csv('https://raw.githubusercontent.com/arnauddormaels/Data-Science-and-AI/main/data/ais.csv')"
      ],
      "metadata": {
        "id": "tLlqogJgZPyz"
      },
      "execution_count": null,
      "outputs": []
    },
    {
      "cell_type": "code",
      "source": [
        "print(ais.ferr.describe())\n",
        "print('='*50)"
      ],
      "metadata": {
        "id": "qdokC-8HOqRd"
      },
      "execution_count": null,
      "outputs": []
    },
    {
      "cell_type": "code",
      "source": [
        "#quality of Life \n",
        "                                          ##Geeft een overzicht van alle variabelen\n",
        "ais.sport.value_counts()                  ##Handig voor als je ze moet overtyppen voor een if-else case bijvoorbeeld                     "
      ],
      "metadata": {
        "id": "YARUTqX4TNJH",
        "outputId": "e29debed-4234-4c0a-faf8-7e71423ed61f",
        "colab": {
          "base_uri": "https://localhost:8080/"
        }
      },
      "execution_count": null,
      "outputs": [
        {
          "output_type": "execute_result",
          "data": {
            "text/plain": [
              "Row        37\n",
              "T_400m     29\n",
              "B_Ball     25\n",
              "Netball    23\n",
              "Swim       22\n",
              "Field      19\n",
              "W_Polo     17\n",
              "T_Sprnt    15\n",
              "Tennis     11\n",
              "Gym         4\n",
              "Name: sport, dtype: int64"
            ]
          },
          "metadata": {},
          "execution_count": 69
        }
      ]
    },
    {
      "cell_type": "code",
      "source": [
        "ais[ais.bmi >26 ] ['sport'].value_counts()            #gaat alle waardes dat hiertoe behoeren en overeen komen met elkaar samen tellen"
      ],
      "metadata": {
        "id": "aWfxIBG0OqOt"
      },
      "execution_count": null,
      "outputs": []
    },
    {
      "cell_type": "markdown",
      "source": [
        "# **Hoofdstuk 2 Grafieken tekenen**\n"
      ],
      "metadata": {
        "id": "LFKMnedlbAsM"
      }
    },
    {
      "cell_type": "markdown",
      "source": [
        "## grafieken"
      ],
      "metadata": {
        "id": "GY-KMhl9sg4g"
      }
    },
    {
      "cell_type": "code",
      "source": [
        "ais = pd.read_csv('https://raw.githubusercontent.com/arnauddormaels/Data-Science-and-AI/main/data/ais.csv')\n",
        "ais = ais.set_index(['id'])\n",
        "ais.sex=ais.sex.astype('category')\n",
        "ais.sport=ais.sport.astype('category')"
      ],
      "metadata": {
        "id": "k_hW6W0rOqLu"
      },
      "execution_count": null,
      "outputs": []
    },
    {
      "cell_type": "code",
      "source": [
        "sns.catplot(data=ais,kind=\"count\",y=\"sex\")"
      ],
      "metadata": {
        "colab": {
          "base_uri": "https://localhost:8080/",
          "height": 386
        },
        "id": "HpMAKtwzOqJF",
        "outputId": "33390bfe-2903-4c45-c512-ab93a742b53c"
      },
      "execution_count": null,
      "outputs": [
        {
          "output_type": "execute_result",
          "data": {
            "text/plain": [
              "<seaborn.axisgrid.FacetGrid at 0x7fe56f17bfd0>"
            ]
          },
          "metadata": {},
          "execution_count": 35
        },
        {
          "output_type": "display_data",
          "data": {
            "text/plain": [
              "<Figure size 360x360 with 1 Axes>"
            ],
            "image/png": "[encoded data removed]"
          },
          "metadata": {
            "needs_background": "light"
          }
        }
      ]
    },
    {
      "cell_type": "code",
      "source": [
        "#sns.catplot(data=ais,kind=\"count\",y=\"sport\")                                     #not sorted\n",
        "sns.countplot(data=ais, y=\"sport\", order = ais.sport.value_counts().index)        #sorted"
      ],
      "metadata": {
        "colab": {
          "base_uri": "https://localhost:8080/",
          "height": 296
        },
        "id": "66kfbwrqOqGF",
        "outputId": "02747369-07f8-46d3-fb11-2659b29c7550"
      },
      "execution_count": null,
      "outputs": [
        {
          "output_type": "execute_result",
          "data": {
            "text/plain": [
              "<matplotlib.axes._subplots.AxesSubplot at 0x7fe56a38edd0>"
            ]
          },
          "metadata": {},
          "execution_count": 38
        },
        {
          "output_type": "display_data",
          "data": {
            "text/plain": [
              "<Figure size 432x288 with 1 Axes>"
            ],
            "image/png": "[encoded data removed]"
          },
          "metadata": {
            "needs_background": "light"
          }
        }
      ]
    },
    {
      "cell_type": "code",
      "source": [
        "sns.boxplot(data=ais,x='ht',y='sport')"
      ],
      "metadata": {
        "colab": {
          "base_uri": "https://localhost:8080/",
          "height": 296
        },
        "id": "OxpTAC60Op8c",
        "outputId": "1d1ee396-c34d-4bff-e06e-100955e4386b"
      },
      "execution_count": null,
      "outputs": [
        {
          "output_type": "execute_result",
          "data": {
            "text/plain": [
              "<matplotlib.axes._subplots.AxesSubplot at 0x7fe56a301dd0>"
            ]
          },
          "metadata": {},
          "execution_count": 39
        },
        {
          "output_type": "display_data",
          "data": {
            "text/plain": [
              "<Figure size 432x288 with 1 Axes>"
            ],
            "image/png": "[encoded data removed]"
          },
          "metadata": {
            "needs_background": "light"
          }
        }
      ]
    },
    {
      "cell_type": "code",
      "source": [
        "sns.violinplot(data=ais,x='ht',y='sport')"
      ],
      "metadata": {
        "colab": {
          "base_uri": "https://localhost:8080/",
          "height": 296
        },
        "id": "KBD5KmcabIN-",
        "outputId": "7b0c3a31-a537-4314-d70b-9d22bed3b3e2"
      },
      "execution_count": null,
      "outputs": [
        {
          "output_type": "execute_result",
          "data": {
            "text/plain": [
              "<matplotlib.axes._subplots.AxesSubplot at 0x7fe56a1747d0>"
            ]
          },
          "metadata": {},
          "execution_count": 40
        },
        {
          "output_type": "display_data",
          "data": {
            "text/plain": [
              "<Figure size 432x288 with 1 Axes>"
            ],
            "image/png": "[encoded data removed]"
          },
          "metadata": {
            "needs_background": "light"
          }
        }
      ]
    },
    {
      "cell_type": "code",
      "source": [
        "sns.boxplot(data=ais[ais.sex=='f'],x='ht')"
      ],
      "metadata": {
        "colab": {
          "base_uri": "https://localhost:8080/",
          "height": 296
        },
        "id": "2HtbQS1zbILT",
        "outputId": "42b51b35-789e-4cd6-86c4-26a459a68d88"
      },
      "execution_count": null,
      "outputs": [
        {
          "output_type": "execute_result",
          "data": {
            "text/plain": [
              "<matplotlib.axes._subplots.AxesSubplot at 0x7fe5680ec290>"
            ]
          },
          "metadata": {},
          "execution_count": 41
        },
        {
          "output_type": "display_data",
          "data": {
            "text/plain": [
              "<Figure size 432x288 with 1 Axes>"
            ],
            "image/png": "[encoded data removed]"
          },
          "metadata": {
            "needs_background": "light"
          }
        }
      ]
    },
    {
      "cell_type": "code",
      "source": [
        "sns.boxplot(data=ais[ais.sex=='m'],x='ht',color='orange')"
      ],
      "metadata": {
        "colab": {
          "base_uri": "https://localhost:8080/",
          "height": 296
        },
        "id": "cddnSfvhbIIj",
        "outputId": "786d1eb4-30c8-4b06-e6e4-8e3a1eae0d59"
      },
      "execution_count": null,
      "outputs": [
        {
          "output_type": "execute_result",
          "data": {
            "text/plain": [
              "<matplotlib.axes._subplots.AxesSubplot at 0x7fe56805c8d0>"
            ]
          },
          "metadata": {},
          "execution_count": 42
        },
        {
          "output_type": "display_data",
          "data": {
            "text/plain": [
              "<Figure size 432x288 with 1 Axes>"
            ],
            "image/png": "[encoded data removed]"
          },
          "metadata": {
            "needs_background": "light"
          }
        }
      ]
    },
    {
      "cell_type": "markdown",
      "source": [
        "## oefening "
      ],
      "metadata": {
        "id": "0K3LPDBEsnry"
      }
    },
    {
      "cell_type": "code",
      "source": [
        "ais = pd.read_csv('https://raw.githubusercontent.com/arnauddormaels/Data-Science-and-AI/main/data/ais.csv')\n",
        "ais = ais.set_index(['id'])\n",
        "ais.sex=ais.sex.astype('category')\n",
        "ais.sport=ais.sport.astype('category')"
      ],
      "metadata": {
        "id": "g9_d9Wv_s9JJ"
      },
      "execution_count": null,
      "outputs": []
    },
    {
      "cell_type": "code",
      "source": [
        "# ais[(ais.sport=='Row')|(ais.sport=='Netball')|(ais.sport=='Tennis')].ht.describe()     #Zonder tussenstap\n",
        "\n",
        "\n",
        "data=ais[(ais.sport=='Row')|(ais.sport=='Netball')|(ais.sport=='Tennis')]               #met tussenstap\n",
        "print(data.ht.describe())"
      ],
      "metadata": {
        "colab": {
          "base_uri": "https://localhost:8080/"
        },
        "id": "SsSKUFSzbIFz",
        "outputId": "285dab4b-273d-4d61-f2d8-24ee5354b536"
      },
      "execution_count": null,
      "outputs": [
        {
          "output_type": "stream",
          "name": "stdout",
          "text": [
            "count     71.000000\n",
            "mean     179.066197\n",
            "std        7.936371\n",
            "min      156.000000\n",
            "25%      174.250000\n",
            "50%      179.500000\n",
            "75%      183.400000\n",
            "max      198.000000\n",
            "Name: ht, dtype: float64\n"
          ]
        }
      ]
    },
    {
      "cell_type": "code",
      "source": [
        "data=ais[(ais.sport=='Row')|(ais.sport=='Netball')|(ais.sport=='Tennis')]\n",
        "print(data.sex.describe())\n"
      ],
      "metadata": {
        "colab": {
          "base_uri": "https://localhost:8080/"
        },
        "id": "9YmdJYQNbIC7",
        "outputId": "66e8d06f-5624-4781-f958-be7f0f7e6756"
      },
      "execution_count": null,
      "outputs": [
        {
          "output_type": "stream",
          "name": "stdout",
          "text": [
            "count     71\n",
            "unique     2\n",
            "top        f\n",
            "freq      52\n",
            "Name: sex, dtype: object\n"
          ]
        }
      ]
    },
    {
      "cell_type": "markdown",
      "source": [
        "## lab 02 "
      ],
      "metadata": {
        "id": "P0Mm30QL-oSV"
      }
    },
    {
      "cell_type": "code",
      "source": [
        "ais.groupby('sport')['sex'].value_counts() #Groupby gebruiken\n"
      ],
      "metadata": {
        "colab": {
          "base_uri": "https://localhost:8080/"
        },
        "id": "0KCANA3P-t0g",
        "outputId": "d8ea0682-35bc-4c19-813b-c8fa1f688bd3"
      },
      "execution_count": null,
      "outputs": [
        {
          "output_type": "execute_result",
          "data": {
            "text/plain": [
              "sport     \n",
              "B_Ball   f    13\n",
              "         m    12\n",
              "Field    m    12\n",
              "         f     7\n",
              "Gym      f     4\n",
              "         m     0\n",
              "Netball  f    23\n",
              "         m     0\n",
              "Row      f    22\n",
              "         m    15\n",
              "Swim     m    13\n",
              "         f     9\n",
              "T_400m   m    18\n",
              "         f    11\n",
              "T_Sprnt  m    11\n",
              "         f     4\n",
              "Tennis   f     7\n",
              "         m     4\n",
              "W_Polo   m    17\n",
              "         f     0\n",
              "Name: sex, dtype: int64"
            ]
          },
          "metadata": {},
          "execution_count": 66
        }
      ]
    },
    {
      "cell_type": "code",
      "source": [
        "ais.head()"
      ],
      "metadata": {
        "colab": {
          "base_uri": "https://localhost:8080/",
          "height": 238
        },
        "id": "KGNzy0dc-3_X",
        "outputId": "04ebf645-779f-4778-edb9-1b22193a2013"
      },
      "execution_count": null,
      "outputs": [
        {
          "output_type": "execute_result",
          "data": {
            "text/plain": [
              "     rcc  wcc    hc    hg  ferr    bmi    ssf  pcBfat    lbm     ht    wt sex  \\\n",
              "id                                                                              \n",
              "1   3.96  7.5  37.5  12.3    60  20.56  109.1   19.75  63.32  195.9  78.9   f   \n",
              "2   4.41  8.3  38.2  12.7    68  20.67  102.8   21.30  58.55  189.7  74.4   f   \n",
              "3   4.14  5.0  36.4  11.6    21  21.86  104.6   19.88  55.36  177.8  69.1   f   \n",
              "4   4.11  5.3  37.3  12.6    69  21.88  126.4   23.66  57.18  185.0  74.9   f   \n",
              "5   4.45  6.8  41.5  14.0    29  18.96   80.3   17.64  53.20  184.6  64.6   f   \n",
              "\n",
              "     sport  \n",
              "id          \n",
              "1   B_Ball  \n",
              "2   B_Ball  \n",
              "3   B_Ball  \n",
              "4   B_Ball  \n",
              "5   B_Ball  "
            ],
            "text/html": [
              "\n",
              "  <div id=\"df-b86cf164-c154-4645-bac6-7d4d23bcbb29\">\n",
              "    <div class=\"colab-df-container\">\n",
              "      <div>\n",
              "<style scoped>\n",
              "    .dataframe tbody tr th:only-of-type {\n",
              "        vertical-align: middle;\n",
              "    }\n",
              "\n",
              "    .dataframe tbody tr th {\n",
              "        vertical-align: top;\n",
              "    }\n",
              "\n",
              "    .dataframe thead th {\n",
              "        text-align: right;\n",
              "    }\n",
              "</style>\n",
              "<table border=\"1\" class=\"dataframe\">\n",
              "  <thead>\n",
              "    <tr style=\"text-align: right;\">\n",
              "      <th></th>\n",
              "      <th>rcc</th>\n",
              "      <th>wcc</th>\n",
              "      <th>hc</th>\n",
              "      <th>hg</th>\n",
              "      <th>ferr</th>\n",
              "      <th>bmi</th>\n",
              "      <th>ssf</th>\n",
              "      <th>pcBfat</th>\n",
              "      <th>lbm</th>\n",
              "      <th>ht</th>\n",
              "      <th>wt</th>\n",
              "      <th>sex</th>\n",
              "      <th>sport</th>\n",
              "    </tr>\n",
              "    <tr>\n",
              "      <th>id</th>\n",
              "      <th></th>\n",
              "      <th></th>\n",
              "      <th></th>\n",
              "      <th></th>\n",
              "      <th></th>\n",
              "      <th></th>\n",
              "      <th></th>\n",
              "      <th></th>\n",
              "      <th></th>\n",
              "      <th></th>\n",
              "      <th></th>\n",
              "      <th></th>\n",
              "      <th></th>\n",
              "    </tr>\n",
              "  </thead>\n",
              "  <tbody>\n",
              "    <tr>\n",
              "      <th>1</th>\n",
              "      <td>3.96</td>\n",
              "      <td>7.5</td>\n",
              "      <td>37.5</td>\n",
              "      <td>12.3</td>\n",
              "      <td>60</td>\n",
              "      <td>20.56</td>\n",
              "      <td>109.1</td>\n",
              "      <td>19.75</td>\n",
              "      <td>63.32</td>\n",
              "      <td>195.9</td>\n",
              "      <td>78.9</td>\n",
              "      <td>f</td>\n",
              "      <td>B_Ball</td>\n",
              "    </tr>\n",
              "    <tr>\n",
              "      <th>2</th>\n",
              "      <td>4.41</td>\n",
              "      <td>8.3</td>\n",
              "      <td>38.2</td>\n",
              "      <td>12.7</td>\n",
              "      <td>68</td>\n",
              "      <td>20.67</td>\n",
              "      <td>102.8</td>\n",
              "      <td>21.30</td>\n",
              "      <td>58.55</td>\n",
              "      <td>189.7</td>\n",
              "      <td>74.4</td>\n",
              "      <td>f</td>\n",
              "      <td>B_Ball</td>\n",
              "    </tr>\n",
              "    <tr>\n",
              "      <th>3</th>\n",
              "      <td>4.14</td>\n",
              "      <td>5.0</td>\n",
              "      <td>36.4</td>\n",
              "      <td>11.6</td>\n",
              "      <td>21</td>\n",
              "      <td>21.86</td>\n",
              "      <td>104.6</td>\n",
              "      <td>19.88</td>\n",
              "      <td>55.36</td>\n",
              "      <td>177.8</td>\n",
              "      <td>69.1</td>\n",
              "      <td>f</td>\n",
              "      <td>B_Ball</td>\n",
              "    </tr>\n",
              "    <tr>\n",
              "      <th>4</th>\n",
              "      <td>4.11</td>\n",
              "      <td>5.3</td>\n",
              "      <td>37.3</td>\n",
              "      <td>12.6</td>\n",
              "      <td>69</td>\n",
              "      <td>21.88</td>\n",
              "      <td>126.4</td>\n",
              "      <td>23.66</td>\n",
              "      <td>57.18</td>\n",
              "      <td>185.0</td>\n",
              "      <td>74.9</td>\n",
              "      <td>f</td>\n",
              "      <td>B_Ball</td>\n",
              "    </tr>\n",
              "    <tr>\n",
              "      <th>5</th>\n",
              "      <td>4.45</td>\n",
              "      <td>6.8</td>\n",
              "      <td>41.5</td>\n",
              "      <td>14.0</td>\n",
              "      <td>29</td>\n",
              "      <td>18.96</td>\n",
              "      <td>80.3</td>\n",
              "      <td>17.64</td>\n",
              "      <td>53.20</td>\n",
              "      <td>184.6</td>\n",
              "      <td>64.6</td>\n",
              "      <td>f</td>\n",
              "      <td>B_Ball</td>\n",
              "    </tr>\n",
              "  </tbody>\n",
              "</table>\n",
              "</div>\n",
              "      <button class=\"colab-df-convert\" onclick=\"convertToInteractive('df-b86cf164-c154-4645-bac6-7d4d23bcbb29')\"\n",
              "              title=\"Convert this dataframe to an interactive table.\"\n",
              "              style=\"display:none;\">\n",
              "        \n",
              "  <svg xmlns=\"http://www.w3.org/2000/svg\" height=\"24px\"viewBox=\"0 0 24 24\"\n",
              "       width=\"24px\">\n",
              "    <path d=\"M0 0h24v24H0V0z\" fill=\"none\"/>\n",
              "    <path d=\"M18.56 5.44l.94 2.06.94-2.06 2.06-.94-2.06-.94-.94-2.06-.94 2.06-2.06.94zm-11 1L8.5 8.5l.94-2.06 2.06-.94-2.06-.94L8.5 2.5l-.94 2.06-2.06.94zm10 10l.94 2.06.94-2.06 2.06-.94-2.06-.94-.94-2.06-.94 2.06-2.06.94z\"/><path d=\"M17.41 7.96l-1.37-1.37c-.4-.4-.92-.59-1.43-.59-.52 0-1.04.2-1.43.59L10.3 9.45l-7.72 7.72c-.78.78-.78 2.05 0 2.83L4 21.41c.39.39.9.59 1.41.59.51 0 1.02-.2 1.41-.59l7.78-7.78 2.81-2.81c.8-.78.8-2.07 0-2.86zM5.41 20L4 18.59l7.72-7.72 1.47 1.35L5.41 20z\"/>\n",
              "  </svg>\n",
              "      </button>\n",
              "      \n",
              "  <style>\n",
              "    .colab-df-container {\n",
              "      display:flex;\n",
              "      flex-wrap:wrap;\n",
              "      gap: 12px;\n",
              "    }\n",
              "\n",
              "    .colab-df-convert {\n",
              "      background-color: #E8F0FE;\n",
              "      border: none;\n",
              "      border-radius: 50%;\n",
              "      cursor: pointer;\n",
              "      display: none;\n",
              "      fill: #1967D2;\n",
              "      height: 32px;\n",
              "      padding: 0 0 0 0;\n",
              "      width: 32px;\n",
              "    }\n",
              "\n",
              "    .colab-df-convert:hover {\n",
              "      background-color: #E2EBFA;\n",
              "      box-shadow: 0px 1px 2px rgba(60, 64, 67, 0.3), 0px 1px 3px 1px rgba(60, 64, 67, 0.15);\n",
              "      fill: #174EA6;\n",
              "    }\n",
              "\n",
              "    [theme=dark] .colab-df-convert {\n",
              "      background-color: #3B4455;\n",
              "      fill: #D2E3FC;\n",
              "    }\n",
              "\n",
              "    [theme=dark] .colab-df-convert:hover {\n",
              "      background-color: #434B5C;\n",
              "      box-shadow: 0px 1px 3px 1px rgba(0, 0, 0, 0.15);\n",
              "      filter: drop-shadow(0px 1px 2px rgba(0, 0, 0, 0.3));\n",
              "      fill: #FFFFFF;\n",
              "    }\n",
              "  </style>\n",
              "\n",
              "      <script>\n",
              "        const buttonEl =\n",
              "          document.querySelector('#df-b86cf164-c154-4645-bac6-7d4d23bcbb29 button.colab-df-convert');\n",
              "        buttonEl.style.display =\n",
              "          google.colab.kernel.accessAllowed ? 'block' : 'none';\n",
              "\n",
              "        async function convertToInteractive(key) {\n",
              "          const element = document.querySelector('#df-b86cf164-c154-4645-bac6-7d4d23bcbb29');\n",
              "          const dataTable =\n",
              "            await google.colab.kernel.invokeFunction('convertToInteractive',\n",
              "                                                     [key], {});\n",
              "          if (!dataTable) return;\n",
              "\n",
              "          const docLinkHtml = 'Like what you see? Visit the ' +\n",
              "            '<a target=\"_blank\" href=https://colab.research.google.com/notebooks/data_table.ipynb>data table notebook</a>'\n",
              "            + ' to learn more about interactive tables.';\n",
              "          element.innerHTML = '';\n",
              "          dataTable['output_type'] = 'display_data';\n",
              "          await google.colab.output.renderOutput(dataTable, element);\n",
              "          const docLink = document.createElement('div');\n",
              "          docLink.innerHTML = docLinkHtml;\n",
              "          element.appendChild(docLink);\n",
              "        }\n",
              "      </script>\n",
              "    </div>\n",
              "  </div>\n",
              "  "
            ]
          },
          "metadata": {},
          "execution_count": 61
        }
      ]
    },
    {
      "cell_type": "markdown",
      "source": [
        "## Functies"
      ],
      "metadata": {
        "id": "0wgC65G5sbep"
      }
    },
    {
      "cell_type": "code",
      "source": [
        "mpg = sns.load_dataset(\"mpg\")      # Characteristics of cars\n",
        "tips = sns.load_dataset(\"tips\")    # Info on tips given at restaurants"
      ],
      "metadata": {
        "id": "A2B2K9r-bH3K"
      },
      "execution_count": null,
      "outputs": []
    },
    {
      "cell_type": "code",
      "source": [
        "#lange versie\n",
        "\n",
        "print(f\"Mean:                {tips['tip'].mean()}\")\n",
        "print(f\"Standard deviation:  {tips['tip'].std()}\") # Pay attention: n-1 in the denominator\n",
        "print(f\"Variance:            {tips['tip'].var()}\") # Pay attention: n-1 in the denominator\n",
        "print(f\"Skewness:            {tips['tip'].skew()}\")\n",
        "print(f\"Kurtosis:            {tips['tip'].kurtosis()}\")\n",
        "\n",
        "# Median & co\n",
        "print(f\"Minimum:   {tips['tip'].min()}\")\n",
        "print(f\"Median:    {tips['tip'].median()}\")\n",
        "print(f\"Maximum:   {tips['tip'].max()}\")\n",
        "percentiles = [0.0, 0.25, 0.5, 0.75, 1.0]\n",
        "print(\"Percentiles\", percentiles, \"\\n\", tips['tip'].quantile(percentiles))\n",
        "print(\"Inter Quartile Range:\", tips['tip'].quantile(.75) - tips['tip'].quantile(.25))\n",
        "print(f\"Range :    {tips['tip'].max() - tips['tip'].min()}\")"
      ],
      "metadata": {
        "id": "9ZIEkrFIbHmC"
      },
      "execution_count": null,
      "outputs": []
    },
    {
      "cell_type": "code",
      "source": [
        "#korte versie\n",
        "tips[\"tip\"].describe()"
      ],
      "metadata": {
        "colab": {
          "base_uri": "https://localhost:8080/"
        },
        "id": "gHJlLc99ygB4",
        "outputId": "2ede9006-41f1-4db1-c5ef-97171c8d033a"
      },
      "execution_count": null,
      "outputs": [
        {
          "output_type": "execute_result",
          "data": {
            "text/plain": [
              "count    244.000000\n",
              "mean       2.998279\n",
              "std        1.383638\n",
              "min        1.000000\n",
              "25%        2.000000\n",
              "50%        2.900000\n",
              "75%        3.562500\n",
              "max       10.000000\n",
              "Name: tip, dtype: float64"
            ]
          },
          "metadata": {},
          "execution_count": 58
        }
      ]
    },
    {
      "cell_type": "markdown",
      "source": [
        "# **Hoofdstuk 3 Normaalverdeling + T-verdeling** "
      ],
      "metadata": {
        "id": "wxauGwT1S_xl"
      }
    },
    {
      "cell_type": "markdown",
      "source": [
        "## Normaalverdeling functies\n",
        "\n"
      ],
      "metadata": {
        "id": "EghQXh-3rmum"
      }
    },
    {
      "cell_type": "code",
      "source": [
        "mu= 5             #gemiddelde\n",
        "sigma = 1.5       #deviatie\n",
        "x = 6             #x-waarde\n",
        "p=0.40            #percentage"
      ],
      "metadata": {
        "id": "xQ9ih5NJyh6e"
      },
      "execution_count": null,
      "outputs": []
    },
    {
      "cell_type": "code",
      "source": [
        "#probabilty density function: berekend de Y-waarde die overeenkomt met x (is niet hetzelfde als een kans)\n",
        "\n",
        "pdf_value = stats.norm.pdf(x, loc=mu, scale=sigma)   \n",
        "print(pdf_value)\n",
        "\n",
        "#Cumulatieve distributie functie: kans dat een waarde kleiner is dan x (berekend de oppervlakte onder de curve)\n",
        "#cdf_value= stats.norm.cdf(x, loc=mu, scale=sigma)\n",
        "#print(cdf_value)\n",
        "\n",
        "#Survival function: kans dat de waarde groter is dan x\n",
        "sf_value= stats.norm.sf(x, loc=mu, scale=sigma)\n",
        "print(sf_value)\n",
        "\n",
        "\n",
        "#Inversed survival function: x waarde dat komt overeen met het (meegegeven) percentage   \n",
        "#ipv het percentage te berekenen, gaat deze de x-waarde berekenen (omgekeerde van de sf-function)\n",
        "\n",
        "isf_value = stats.norm.isf(sf_value, loc=mu, scale=sigma)\n",
        "print(isf_value)\n",
        "\n"
      ],
      "metadata": {
        "id": "QJfHhH91yh4T",
        "outputId": "040e06d4-e4bf-4890-e52d-8e8749138dc0",
        "colab": {
          "base_uri": "https://localhost:8080/"
        }
      },
      "execution_count": null,
      "outputs": [
        {
          "output_type": "stream",
          "name": "stdout",
          "text": [
            "0.2129653370149015\n",
            "0.2524925375469229\n",
            "6.0\n"
          ]
        }
      ]
    },
    {
      "cell_type": "markdown",
      "source": [
        "## Centrale limiet stelling\n"
      ],
      "metadata": {
        "id": "e65w6RjU3_vb"
      }
    },
    {
      "cell_type": "markdown",
      "source": [
        "###aantonen dat de gemiddeldes een normaal verdeling zijn"
      ],
      "metadata": {
        "id": "RT2zlgVP8sbx"
      }
    },
    {
      "cell_type": "code",
      "source": [
        "ais = pd.read_csv('https://raw.githubusercontent.com/arnauddormaels/Data-Science-and-AI/main/data/ais.csv')\n"
      ],
      "metadata": {
        "id": "AV_mGvupyh1o"
      },
      "execution_count": null,
      "outputs": []
    },
    {
      "cell_type": "code",
      "source": [
        "ais.head()"
      ],
      "metadata": {
        "id": "FwOvWFK5yhv5",
        "outputId": "6fd9f122-5ee8-439c-8629-81d85a4b4eb2",
        "colab": {
          "base_uri": "https://localhost:8080/"
        }
      },
      "execution_count": null,
      "outputs": [
        {
          "output_type": "execute_result",
          "data": {
            "text/plain": [
              "   id   rcc  wcc    hc    hg  ferr    bmi    ssf  pcBfat    lbm     ht    wt  \\\n",
              "0   1  3.96  7.5  37.5  12.3    60  20.56  109.1   19.75  63.32  195.9  78.9   \n",
              "1   2  4.41  8.3  38.2  12.7    68  20.67  102.8   21.30  58.55  189.7  74.4   \n",
              "2   3  4.14  5.0  36.4  11.6    21  21.86  104.6   19.88  55.36  177.8  69.1   \n",
              "3   4  4.11  5.3  37.3  12.6    69  21.88  126.4   23.66  57.18  185.0  74.9   \n",
              "4   5  4.45  6.8  41.5  14.0    29  18.96   80.3   17.64  53.20  184.6  64.6   \n",
              "\n",
              "  sex   sport  \n",
              "0   f  B_Ball  \n",
              "1   f  B_Ball  \n",
              "2   f  B_Ball  \n",
              "3   f  B_Ball  \n",
              "4   f  B_Ball  "
            ],
            "text/html": [
              "\n",
              "  <div id=\"df-b6a10243-8584-41fa-adbf-1240d028f70e\">\n",
              "    <div class=\"colab-df-container\">\n",
              "      <div>\n",
              "<style scoped>\n",
              "    .dataframe tbody tr th:only-of-type {\n",
              "        vertical-align: middle;\n",
              "    }\n",
              "\n",
              "    .dataframe tbody tr th {\n",
              "        vertical-align: top;\n",
              "    }\n",
              "\n",
              "    .dataframe thead th {\n",
              "        text-align: right;\n",
              "    }\n",
              "</style>\n",
              "<table border=\"1\" class=\"dataframe\">\n",
              "  <thead>\n",
              "    <tr style=\"text-align: right;\">\n",
              "      <th></th>\n",
              "      <th>id</th>\n",
              "      <th>rcc</th>\n",
              "      <th>wcc</th>\n",
              "      <th>hc</th>\n",
              "      <th>hg</th>\n",
              "      <th>ferr</th>\n",
              "      <th>bmi</th>\n",
              "      <th>ssf</th>\n",
              "      <th>pcBfat</th>\n",
              "      <th>lbm</th>\n",
              "      <th>ht</th>\n",
              "      <th>wt</th>\n",
              "      <th>sex</th>\n",
              "      <th>sport</th>\n",
              "    </tr>\n",
              "  </thead>\n",
              "  <tbody>\n",
              "    <tr>\n",
              "      <th>0</th>\n",
              "      <td>1</td>\n",
              "      <td>3.96</td>\n",
              "      <td>7.5</td>\n",
              "      <td>37.5</td>\n",
              "      <td>12.3</td>\n",
              "      <td>60</td>\n",
              "      <td>20.56</td>\n",
              "      <td>109.1</td>\n",
              "      <td>19.75</td>\n",
              "      <td>63.32</td>\n",
              "      <td>195.9</td>\n",
              "      <td>78.9</td>\n",
              "      <td>f</td>\n",
              "      <td>B_Ball</td>\n",
              "    </tr>\n",
              "    <tr>\n",
              "      <th>1</th>\n",
              "      <td>2</td>\n",
              "      <td>4.41</td>\n",
              "      <td>8.3</td>\n",
              "      <td>38.2</td>\n",
              "      <td>12.7</td>\n",
              "      <td>68</td>\n",
              "      <td>20.67</td>\n",
              "      <td>102.8</td>\n",
              "      <td>21.30</td>\n",
              "      <td>58.55</td>\n",
              "      <td>189.7</td>\n",
              "      <td>74.4</td>\n",
              "      <td>f</td>\n",
              "      <td>B_Ball</td>\n",
              "    </tr>\n",
              "    <tr>\n",
              "      <th>2</th>\n",
              "      <td>3</td>\n",
              "      <td>4.14</td>\n",
              "      <td>5.0</td>\n",
              "      <td>36.4</td>\n",
              "      <td>11.6</td>\n",
              "      <td>21</td>\n",
              "      <td>21.86</td>\n",
              "      <td>104.6</td>\n",
              "      <td>19.88</td>\n",
              "      <td>55.36</td>\n",
              "      <td>177.8</td>\n",
              "      <td>69.1</td>\n",
              "      <td>f</td>\n",
              "      <td>B_Ball</td>\n",
              "    </tr>\n",
              "    <tr>\n",
              "      <th>3</th>\n",
              "      <td>4</td>\n",
              "      <td>4.11</td>\n",
              "      <td>5.3</td>\n",
              "      <td>37.3</td>\n",
              "      <td>12.6</td>\n",
              "      <td>69</td>\n",
              "      <td>21.88</td>\n",
              "      <td>126.4</td>\n",
              "      <td>23.66</td>\n",
              "      <td>57.18</td>\n",
              "      <td>185.0</td>\n",
              "      <td>74.9</td>\n",
              "      <td>f</td>\n",
              "      <td>B_Ball</td>\n",
              "    </tr>\n",
              "    <tr>\n",
              "      <th>4</th>\n",
              "      <td>5</td>\n",
              "      <td>4.45</td>\n",
              "      <td>6.8</td>\n",
              "      <td>41.5</td>\n",
              "      <td>14.0</td>\n",
              "      <td>29</td>\n",
              "      <td>18.96</td>\n",
              "      <td>80.3</td>\n",
              "      <td>17.64</td>\n",
              "      <td>53.20</td>\n",
              "      <td>184.6</td>\n",
              "      <td>64.6</td>\n",
              "      <td>f</td>\n",
              "      <td>B_Ball</td>\n",
              "    </tr>\n",
              "  </tbody>\n",
              "</table>\n",
              "</div>\n",
              "      <button class=\"colab-df-convert\" onclick=\"convertToInteractive('df-b6a10243-8584-41fa-adbf-1240d028f70e')\"\n",
              "              title=\"Convert this dataframe to an interactive table.\"\n",
              "              style=\"display:none;\">\n",
              "        \n",
              "  <svg xmlns=\"http://www.w3.org/2000/svg\" height=\"24px\"viewBox=\"0 0 24 24\"\n",
              "       width=\"24px\">\n",
              "    <path d=\"M0 0h24v24H0V0z\" fill=\"none\"/>\n",
              "    <path d=\"M18.56 5.44l.94 2.06.94-2.06 2.06-.94-2.06-.94-.94-2.06-.94 2.06-2.06.94zm-11 1L8.5 8.5l.94-2.06 2.06-.94-2.06-.94L8.5 2.5l-.94 2.06-2.06.94zm10 10l.94 2.06.94-2.06 2.06-.94-2.06-.94-.94-2.06-.94 2.06-2.06.94z\"/><path d=\"M17.41 7.96l-1.37-1.37c-.4-.4-.92-.59-1.43-.59-.52 0-1.04.2-1.43.59L10.3 9.45l-7.72 7.72c-.78.78-.78 2.05 0 2.83L4 21.41c.39.39.9.59 1.41.59.51 0 1.02-.2 1.41-.59l7.78-7.78 2.81-2.81c.8-.78.8-2.07 0-2.86zM5.41 20L4 18.59l7.72-7.72 1.47 1.35L5.41 20z\"/>\n",
              "  </svg>\n",
              "      </button>\n",
              "      \n",
              "  <style>\n",
              "    .colab-df-container {\n",
              "      display:flex;\n",
              "      flex-wrap:wrap;\n",
              "      gap: 12px;\n",
              "    }\n",
              "\n",
              "    .colab-df-convert {\n",
              "      background-color: #E8F0FE;\n",
              "      border: none;\n",
              "      border-radius: 50%;\n",
              "      cursor: pointer;\n",
              "      display: none;\n",
              "      fill: #1967D2;\n",
              "      height: 32px;\n",
              "      padding: 0 0 0 0;\n",
              "      width: 32px;\n",
              "    }\n",
              "\n",
              "    .colab-df-convert:hover {\n",
              "      background-color: #E2EBFA;\n",
              "      box-shadow: 0px 1px 2px rgba(60, 64, 67, 0.3), 0px 1px 3px 1px rgba(60, 64, 67, 0.15);\n",
              "      fill: #174EA6;\n",
              "    }\n",
              "\n",
              "    [theme=dark] .colab-df-convert {\n",
              "      background-color: #3B4455;\n",
              "      fill: #D2E3FC;\n",
              "    }\n",
              "\n",
              "    [theme=dark] .colab-df-convert:hover {\n",
              "      background-color: #434B5C;\n",
              "      box-shadow: 0px 1px 3px 1px rgba(0, 0, 0, 0.15);\n",
              "      filter: drop-shadow(0px 1px 2px rgba(0, 0, 0, 0.3));\n",
              "      fill: #FFFFFF;\n",
              "    }\n",
              "  </style>\n",
              "\n",
              "      <script>\n",
              "        const buttonEl =\n",
              "          document.querySelector('#df-b6a10243-8584-41fa-adbf-1240d028f70e button.colab-df-convert');\n",
              "        buttonEl.style.display =\n",
              "          google.colab.kernel.accessAllowed ? 'block' : 'none';\n",
              "\n",
              "        async function convertToInteractive(key) {\n",
              "          const element = document.querySelector('#df-b6a10243-8584-41fa-adbf-1240d028f70e');\n",
              "          const dataTable =\n",
              "            await google.colab.kernel.invokeFunction('convertToInteractive',\n",
              "                                                     [key], {});\n",
              "          if (!dataTable) return;\n",
              "\n",
              "          const docLinkHtml = 'Like what you see? Visit the ' +\n",
              "            '<a target=\"_blank\" href=https://colab.research.google.com/notebooks/data_table.ipynb>data table notebook</a>'\n",
              "            + ' to learn more about interactive tables.';\n",
              "          element.innerHTML = '';\n",
              "          dataTable['output_type'] = 'display_data';\n",
              "          await google.colab.output.renderOutput(dataTable, element);\n",
              "          const docLink = document.createElement('div');\n",
              "          docLink.innerHTML = docLinkHtml;\n",
              "          element.appendChild(docLink);\n",
              "        }\n",
              "      </script>\n",
              "    </div>\n",
              "  </div>\n",
              "  "
            ]
          },
          "metadata": {},
          "execution_count": 55
        }
      ]
    },
    {
      "cell_type": "code",
      "source": [
        "arr =np.array([])\n",
        "for i in range(5000):\n",
        "  arr=np.append(arr,ais['ht'].sample(n=50).mean())\n",
        "\n",
        "sns.displot(arr)"
      ],
      "metadata": {
        "id": "KBIObzO1yhyw",
        "outputId": "942f7b26-a612-4c1d-f2a1-a254e9ff133d",
        "colab": {
          "base_uri": "https://localhost:8080/"
        }
      },
      "execution_count": null,
      "outputs": [
        {
          "output_type": "execute_result",
          "data": {
            "text/plain": [
              "<seaborn.axisgrid.FacetGrid at 0x7f4bde332a50>"
            ]
          },
          "metadata": {},
          "execution_count": 56
        },
        {
          "output_type": "display_data",
          "data": {
            "text/plain": [
              "<Figure size 360x360 with 1 Axes>"
            ],
            "image/png": "[encoded data removed]"
          },
          "metadata": {
            "needs_background": "light"
          }
        }
      ]
    },
    {
      "cell_type": "markdown",
      "source": [
        "### werken met centrale limietstelling"
      ],
      "metadata": {
        "id": "6KWMw_1K8-Bp"
      }
    },
    {
      "cell_type": "code",
      "source": [
        "mu= 12.1             #gemiddelde\n",
        "sigma = 3.8/math.sqrt(43)       #deviatie van sample/sample grootte = deviatie\n",
        "x = 11             #x-waarde\n",
        "p=0.40            #percentage\n"
      ],
      "metadata": {
        "id": "xZfXcAUUyhtA"
      },
      "execution_count": null,
      "outputs": []
    },
    {
      "cell_type": "code",
      "source": [
        "cdf_value= stats.norm.cdf(x, loc=mu, scale=sigma)\n",
        "print(cdf_value)"
      ],
      "metadata": {
        "id": "4Ydq9ZSmyhqJ",
        "outputId": "50e84061-fac9-4499-be64-b1525a7241bd",
        "colab": {
          "base_uri": "https://localhost:8080/"
        }
      },
      "execution_count": null,
      "outputs": [
        {
          "output_type": "stream",
          "name": "stdout",
          "text": [
            "0.02883448270747309\n"
          ]
        }
      ]
    },
    {
      "cell_type": "markdown",
      "source": [
        "## Normaal verdeling (Betrouwbaarheidsinterval + Z-score)\n",
        "\n"
      ],
      "metadata": {
        "id": "KfR1CFar-eW5"
      }
    },
    {
      "cell_type": "code",
      "source": [
        "sample = np.array([123,22,55,44,66,45,8489,5,4,84,35,4,84,5,43,84,3,354,354,546,2134,8943,4849])\n",
        "\n",
        "m= 5.2                          #Sample mean                                  m=(sample.mean())\n",
        "s= 1.5                          #Populatie standaardafwijking/sigma\n",
        "n= 100                          #Sample size                                  n=sample_size=len(sample)\n",
        "alpha= 0.5                      #1-alpha = betrouwbaarheids gebied (95%)\n",
        "x = 5.4                         #meegegeven variabele"
      ],
      "metadata": {
        "id": "UIAyxXoCyhnA"
      },
      "execution_count": null,
      "outputs": []
    },
    {
      "cell_type": "code",
      "source": [
        "z_score=(x-m)/s                                         #z-score berekenen\n",
        "print(\"Z-score voor %.1f is: %.2f\" % (x,z_score))\n",
        "\n",
        "\n",
        "z_alpha_div2=stats.norm.isf(alpha/2)                         #alpha/2 bereken\n",
        "#z_alpha_div2=stats.t.isf(alpha/2,n-1)                       #enkel gebruiken indien de s van de populatie onbekend is of n<30 \n",
        "print(\"z_alpha/2: %f.5\" % z_alpha_div2)                      #getal dat overeenkomt met alpha/2 op de norm\n",
        "\n",
        "\n",
        "\n",
        "lower_limit =m - (z_alpha_div2*s / math.sqrt(n))               #Betrouwbaarheids interval berekenen\n",
        "upper_limit =m + (z_alpha_div2*s / math.sqrt(n))\n",
        "\n",
        "\n",
        "print(\"Confidence interval: [%.5f ,%.5f]\" % (lower_limit,upper_limit))\n"
      ],
      "metadata": {
        "id": "B3aD8zJ5yhhQ",
        "outputId": "2508905b-66e6-4d50-f41a-200bfe44e4fd",
        "colab": {
          "base_uri": "https://localhost:8080/"
        }
      },
      "execution_count": null,
      "outputs": [
        {
          "output_type": "stream",
          "name": "stdout",
          "text": [
            "Z-score voor 5.4 is: 0.13\n",
            "z_alpha/2: 0.674490.5\n",
            "Confidence interval: [5.09883 ,5.30117]\n"
          ]
        }
      ]
    },
    {
      "cell_type": "markdown",
      "source": [
        "## T-verdeling\n"
      ],
      "metadata": {
        "id": "V3vdaN6NcDcn"
      }
    },
    {
      "cell_type": "code",
      "source": [
        "m= 5.2                #Sample mean                                  m=(sample.mean())\n",
        "s= 1.5              #Populatie standaardafwijking/sigma\n",
        "n = 15               #Sample size                                  n=sample_size=len(sample)\n",
        "alpha=0.05          #1-alpha = betrouwbaarheids gebied (95%)"
      ],
      "metadata": {
        "id": "3nxNyQgIzm6K"
      },
      "execution_count": null,
      "outputs": []
    },
    {
      "cell_type": "code",
      "source": [
        "t = stats.t.isf(alpha/2, df=n-1)                #T-score berekenen\n",
        "print(\"T-score: %.5f\" % t)\n",
        "\n",
        "\n",
        "lower_limit= m - (t*s / math.sqrt(n))\n",
        "upper_limit= m + (t*s / math.sqrt(n))\n",
        "\n",
        "print(\"Confidence interval: [%.5f ,%.5f]\" % (lower_limit,upper_limit))\n"
      ],
      "metadata": {
        "id": "30k03ZC_zm3c",
        "outputId": "3c59507b-0209-47e4-ef65-e5ca85a39245",
        "colab": {
          "base_uri": "https://localhost:8080/"
        }
      },
      "execution_count": null,
      "outputs": [
        {
          "output_type": "stream",
          "name": "stdout",
          "text": [
            "T-score: 2.14479\n",
            "Confidence interval: [4.36933 ,6.03067]\n"
          ]
        }
      ]
    },
    {
      "cell_type": "markdown",
      "source": [
        "## Grafiek plotten\n"
      ],
      "metadata": {
        "id": "twVL_OaydVmK"
      }
    },
    {
      "cell_type": "markdown",
      "source": [
        "### normaal verdeling plotten"
      ],
      "metadata": {
        "id": "MwBxRsvembGr"
      }
    },
    {
      "cell_type": "code",
      "source": [
        "m = 2.5\n",
        "s = 1.5\n",
        "x1 = 0.5\n",
        "x2 = 4"
      ],
      "metadata": {
        "id": "NhuPgn__zm01"
      },
      "execution_count": null,
      "outputs": []
    },
    {
      "cell_type": "code",
      "source": [
        "a = stats.norm.cdf(x1,loc=m,scale=s)\n",
        "b= stats.norm.cdf(x2,loc=m,scale=s)\n",
        "print(\"oppervlakte onder de grafiek:%.5f\" % (b-a))\n",
        "print(\"\")\n",
        "\n",
        "x = np.linspace(m - 4*s, m + 4*s,201)\n",
        "y=stats.norm.pdf(x, m, s)\n",
        "plt.plot(x,y)\n",
        "# Left tail probability plot\n",
        "\n",
        "\n",
        "# Fill the area left of x\n",
        "plt.fill_between(x, 0, y, where=(x1 <= x) &(x2>=x), color='lightblue')\n",
        "# Show the mean with an orange line\n",
        "# plt.axvline(m, color=\"orange\", lw=2)                              %toont het gemiddelde\n",
        "# Show x with a green line\n",
        "plt.axvline(x1, color=\"green\")\n",
        "plt.axvline(x2, color=\"red\")\n",
        "\n",
        "\n",
        "\n",
        "#bonus\n",
        "#y_cdf = stats.norm.cdf(x,loc=m,scale=s)                                  #De kans dat de het getal kleiner zou zijn dan de x waarde op dat moment (wanneer je op het gemiddelde zit is y = 0.5 dan heb je 50% kans dat de waarde kleiner is dan x/gemiddelde (op dit moment))\n",
        "#plt.plot(x,y_cdf)                                                        #Wanneer y=1 heb je 100% kans dat de waarde gelijk kleiner is dan x"
      ],
      "metadata": {
        "id": "hMy2TI4fzmyC",
        "colab": {
          "base_uri": "https://localhost:8080/",
          "height": 317
        },
        "outputId": "d544d3a9-5802-4f2c-f7cb-54d09e40e631"
      },
      "execution_count": null,
      "outputs": [
        {
          "output_type": "stream",
          "name": "stdout",
          "text": [
            "oppervlakte onder de grafiek:0.75013\n",
            "\n"
          ]
        },
        {
          "output_type": "execute_result",
          "data": {
            "text/plain": [
              "<matplotlib.lines.Line2D at 0x7f796bc1ad50>"
            ]
          },
          "metadata": {},
          "execution_count": 7
        },
        {
          "output_type": "display_data",
          "data": {
            "text/plain": [
              "<Figure size 432x288 with 1 Axes>"
            ],
            "image/png": "[encoded data removed]"
          },
          "metadata": {
            "needs_background": "light"
          }
        }
      ]
    },
    {
      "cell_type": "markdown",
      "source": [
        "###T-verdeling plotten"
      ],
      "metadata": {
        "id": "fOuh1uhgmhih"
      }
    },
    {
      "cell_type": "code",
      "source": [
        "m = 0\n",
        "s = 1\n",
        "x1 = 0.5\n",
        "x2 = 4\n",
        "df = 3            #Aantal vrijheidsgraden"
      ],
      "metadata": {
        "id": "atjZCDjzzmsb"
      },
      "execution_count": null,
      "outputs": []
    },
    {
      "cell_type": "code",
      "source": [
        "a = stats.t.cdf(x1,df=df)\n",
        "b= stats.t.cdf(x2,df=df)\n",
        "print(\"oppervlakte onder de grafiek:%.5f\" % (b-a))\n",
        "print(\"\")\n",
        "\n",
        "x = np.linspace(m - 4*s, m + 4*s,201)\n",
        "t=stats.t.pdf(x, df)\n",
        "plt.plot(x,t)\n",
        "# Left tail probability plot\n",
        "\n",
        "\n",
        "# Fill the area left of x\n",
        "#plt.fill_between(x, 0, t, where=(x1 <= x) &(x2>=x), color='lightblue')\n",
        "# Show the mean with an orange line\n",
        "# plt.axvline(m, color=\"orange\", lw=2)                              %toont het gemiddelde\n",
        "# Show x with a green line\n",
        "#plt.axvline(x1, color=\"green\")\n",
        "#plt.axvline(x2, color=\"red\")\n",
        "y=stats.norm.pdf(x, m, s)\n",
        "plt.plot(x,y)\n",
        "#bonus\n",
        "t_cdf = stats.t.cdf(x,df)                                  #De kans dat de het getal kleiner zou zijn dan de x waarde op dat moment (wanneer je op het gemiddelde zit is y = 0.5 dan heb je 50% kans dat de waarde kleiner is dan x/gemiddelde (op dit moment))\n",
        "plt.plot(x,t_cdf)                                                        #Wanneer y=1 heb je 100% kans dat de waarde gelijk kleiner is dan x"
      ],
      "metadata": {
        "id": "inEe9G7Ezmva",
        "colab": {
          "base_uri": "https://localhost:8080/",
          "height": 317
        },
        "outputId": "d5f51ebd-486f-4932-9b49-83e387960d44"
      },
      "execution_count": null,
      "outputs": [
        {
          "output_type": "stream",
          "name": "stdout",
          "text": [
            "oppervlakte onder de grafiek:0.31172\n",
            "\n"
          ]
        },
        {
          "output_type": "execute_result",
          "data": {
            "text/plain": [
              "[<matplotlib.lines.Line2D at 0x7f796b3cc390>]"
            ]
          },
          "metadata": {},
          "execution_count": 30
        },
        {
          "output_type": "display_data",
          "data": {
            "text/plain": [
              "<Figure size 432x288 with 1 Axes>"
            ],
            "image/png": "[encoded data removed]"
          },
          "metadata": {
            "needs_background": "light"
          }
        }
      ]
    },
    {
      "cell_type": "markdown",
      "source": [
        "## Oefening theorie vs praktijk\n",
        "\n",
        "\n",
        "\n"
      ],
      "metadata": {
        "id": "SThyUJl1qqaz"
      }
    },
    {
      "cell_type": "code",
      "source": [
        "n=10                   #Hoe groter n hoe nauwkeuriger dat de observaties gaan zijn\n",
        "m=0\n",
        "s=1\n",
        "\n",
        "observaties = np.random.normal(loc = m ,scale=s,size=n)              #neemt n random waarden van de T-verdeling\n",
        "\n",
        "obs_hist = sns.histplot(observaties,stat='density', kde=True)        #toont de verdeling en histogram van de uitkozen waarden\n",
        "\n",
        "\n",
        "x_dist = np.linspace(m-4*s,m+4*s, num=201)\n",
        "dist_y = stats.norm.pdf(x_dist,m,s)\n",
        "obs_hist.plot(x_dist, dist_y,'red', lw=2)                           #toont de t-verdeling van de waarden\n"
      ],
      "metadata": {
        "id": "vN85rYk-zmpq",
        "colab": {
          "base_uri": "https://localhost:8080/",
          "height": 282
        },
        "outputId": "6069febf-a785-42a0-cb4f-8a49d944d3e7"
      },
      "execution_count": null,
      "outputs": [
        {
          "output_type": "execute_result",
          "data": {
            "text/plain": [
              "[<matplotlib.lines.Line2D at 0x7f796872f390>]"
            ]
          },
          "metadata": {},
          "execution_count": 55
        },
        {
          "output_type": "display_data",
          "data": {
            "text/plain": [
              "<Figure size 432x288 with 1 Axes>"
            ],
            "image/png": "[encoded data removed]"
          },
          "metadata": {
            "needs_background": "light"
          }
        }
      ]
    },
    {
      "cell_type": "markdown",
      "source": [
        "rode lijn is theorie \n",
        "\n",
        "blauw is praktijk"
      ],
      "metadata": {
        "id": "3K8bAJj5vtGz"
      }
    },
    {
      "cell_type": "markdown",
      "source": [
        "## oefeningen"
      ],
      "metadata": {
        "id": "nZyuTjL5vmyM"
      }
    },
    {
      "cell_type": "markdown",
      "source": [
        "### Excercise 1"
      ],
      "metadata": {
        "id": "ihm2FUyBG6I3"
      }
    },
    {
      "cell_type": "code",
      "source": [
        "m = 2.5\n",
        "s = 1.5\n",
        "x1 = 0.5\n",
        "x2 = 4\n",
        "\n",
        "a = stats.norm.cdf(x1,loc=m,scale=s)\n",
        "b= stats.norm.cdf(x2,loc=m,scale=s)\n",
        "print(\"oppervlakte onder de grafiek:%.5f\" % (b-a))                  #Oppervlakte berekenen\n",
        "print(\"\")\n",
        "\n",
        "x = np.linspace(m - 4*s, m + 4*s,201)\n",
        "y=stats.norm.pdf(x, m, s)\n",
        "plt.plot(x,y)\n",
        "# Left tail probability plot\n",
        "\n",
        "\n",
        "# Fill the area left of x\n",
        "plt.fill_between(x, 0, y, where=(x1 <= x) &(x2>=x), color='lightblue')\n",
        "# Show the mean with an orange line\n",
        "# plt.axvline(m, color=\"orange\", lw=2)                              %toont het gemiddelde\n",
        "# Show x with a green line\n",
        "plt.axvline(x1, color=\"green\")\n",
        "plt.axvline(x2, color=\"green\")\n",
        "\n",
        "\n",
        "y_cdf = stats.norm.cdf(x,loc=m,scale=s)\n",
        "plt.plot(x,y_cdf)"
      ],
      "metadata": {
        "colab": {
          "base_uri": "https://localhost:8080/",
          "height": 317
        },
        "id": "AQFIkztYvmkE",
        "outputId": "89063883-ebf8-4a68-e527-5708e4031173"
      },
      "execution_count": null,
      "outputs": [
        {
          "output_type": "stream",
          "name": "stdout",
          "text": [
            "oppervlakte onder de grafiek:0.75013\n",
            "\n"
          ]
        },
        {
          "output_type": "execute_result",
          "data": {
            "text/plain": [
              "[<matplotlib.lines.Line2D at 0x7f7966306fd0>]"
            ]
          },
          "metadata": {},
          "execution_count": 90
        },
        {
          "output_type": "display_data",
          "data": {
            "text/plain": [
              "<Figure size 432x288 with 1 Axes>"
            ],
            "image/png": "[encoded data removed]"
          },
          "metadata": {
            "needs_background": "light"
          }
        }
      ]
    },
    {
      "cell_type": "markdown",
      "source": [
        "### Exercise 2"
      ],
      "metadata": {
        "id": "rRDl05sbHBLP"
      }
    },
    {
      "cell_type": "code",
      "source": [
        "n=64\n",
        "m= 20\n",
        "s=16/math.sqrt(n)\n",
        "x1=22\n",
        "x2=16\n",
        "x=np.linspace(m - 4*s, m + 4*s,201)\n",
        "y=stats.norm.pdf(x,m,s)\n",
        "plt.plot(x,y)\n",
        "\n",
        "\n",
        "\n",
        "a= stats.norm.cdf(x1, loc=m, scale=s)\n",
        "print(\"kans dat x kleiner is dan %.2f is %.2f\" % (x1,a))\n",
        "b=stats.norm.cdf(x2, loc=m, scale=s)\n",
        "print(\"kans dat x tussen x1 en x2 ligt is %.2f\" %(a-b))\n",
        "print(\"kans dat x groter is dan x3 is %.2f\" % stats.norm.sf(19,loc=m,scale=s))\n",
        "\n",
        "\n",
        "z1=(15.5-m)/s\n",
        "print(\"Z-score: %.2f\" % z1)\n",
        "\n",
        "z2=(23-m)/s\n",
        "print(\"Z-score: %.2f\" % z2)"
      ],
      "metadata": {
        "colab": {
          "base_uri": "https://localhost:8080/",
          "height": 352
        },
        "id": "PgB7BAv-vmhc",
        "outputId": "4edaf041-9f0d-485d-c820-c3c2509d6e83"
      },
      "execution_count": null,
      "outputs": [
        {
          "output_type": "stream",
          "name": "stdout",
          "text": [
            "kans dat x kleiner is dan 22.00 is 0.84\n",
            "kans dat x tussen x1 en x2 ligt is 0.82\n",
            "kans dat x groter is dan x3 is 0.69\n",
            "Z-score: -2.25\n",
            "Z-score: 1.50\n"
          ]
        },
        {
          "output_type": "display_data",
          "data": {
            "text/plain": [
              "<Figure size 432x288 with 1 Axes>"
            ],
            "image/png": "[encoded data removed]"
          },
          "metadata": {
            "needs_background": "light"
          }
        }
      ]
    },
    {
      "cell_type": "markdown",
      "source": [
        "###Exercise 3"
      ],
      "metadata": {
        "id": "-uSLUZfNHB-J"
      }
    },
    {
      "cell_type": "code",
      "source": [
        "df = pd.read_csv('https://raw.githubusercontent.com/arnauddormaels/Data-Science-and-AI/main/data/rlanders.csv').set_index([\"ID\"])\n",
        "df.head"
      ],
      "metadata": {
        "id": "kXEZwuZrvmeE"
      },
      "execution_count": null,
      "outputs": []
    },
    {
      "cell_type": "code",
      "source": [
        "s=df['Money'][:25].std()                                      #gebruikt enkel de eerste 25 waarden nemen van df\n",
        "n=25\n",
        "m=df['Money'][:25].mean()\n",
        "alpha= 0.05\n",
        "\n",
        "z_alpha_div2=stats.t.isf(alpha/2,n-1)                         #alpha/2 bereken    \n",
        "print(\"alpha/2: %f.5\" % z_alpha_div2)                        \n",
        "\n",
        "lower_limit =m - (z_alpha_div2*s / math.sqrt(n))               #Betrouwbaarheids interval berekenen\n",
        "upper_limit =m + (z_alpha_div2*s / math.sqrt(n))\n",
        "\n",
        "\n",
        "print(\"Confidence interval: [%.5f ,%.5f]\" % (lower_limit,upper_limit))"
      ],
      "metadata": {
        "id": "YbEj_hEGzmm6",
        "colab": {
          "base_uri": "https://localhost:8080/"
        },
        "outputId": "19eeebd2-26cc-4df4-e76e-96f1cc622e11"
      },
      "execution_count": null,
      "outputs": [
        {
          "output_type": "stream",
          "name": "stdout",
          "text": [
            "alpha/2: 2.063899.5\n",
            "Confidence interval: [450.29121 ,536.66879]\n"
          ]
        }
      ]
    },
    {
      "cell_type": "markdown",
      "source": [
        "# **Hoofdstuk 3 Hypothese testing** "
      ],
      "metadata": {
        "id": "EpqscCnUJrif"
      }
    },
    {
      "cell_type": "markdown",
      "source": [
        "## Z-test"
      ],
      "metadata": {
        "id": "3MOwVu3WKClP"
      }
    },
    {
      "cell_type": "markdown",
      "source": [
        "###Rechtzijdige Z-toets"
      ],
      "metadata": {
        "id": "SSFpdUIRvyHd"
      }
    },
    {
      "cell_type": "code",
      "source": [
        "n=40\n",
        "m=351.2\n",
        "s=4.1\n",
        "m_sample = 352.8                                   #Gemiddelde dat wordt waargenomen\n",
        "s_sample = s/math.sqrt(n)       \n",
        "significance = 0.05                                  #Significantie niveau "
      ],
      "metadata": {
        "id": "2KLAFWM3KEUv"
      },
      "execution_count": null,
      "outputs": []
    },
    {
      "cell_type": "code",
      "source": [
        "#methode 1 \n",
        "p_value = stats.norm.sf(m_sample, loc=m, scale=s_sample)\n",
        "print(\"de kans dat m_sample kleiner is dan %.2f is %.2f\" % (m_sample,p_value))      #indien p_value kleiner is dan significantie niveau(5%) verwerpen hypothese\n",
        "print(\"p_value > significance\")\n",
        "print(\"%.2f > %.2f\" % (p_value,significance))\n",
        "\n",
        "\n",
        "#methode 2 eerst grenswaarde berekenen adhv significnatie niveau (5%) en kijken of deze waarde kleiner is dan m_sample\n",
        "g_value = stats.norm.isf(significance, m, s_sample)                                    #grens waarde\n",
        "print(\"Grens waarde > m_sample\")                                                #indien g_value kleiner dan m_sample verwerpen hypothese\n",
        "print(\" %.2f > %.2f\" % (g_value,m_sample))\n",
        "\n",
        "\n",
        "#tekening maken\n",
        "dist_x=np.linspace(m - 4 * s_sample,m + 4 * s_sample,num=201)\n",
        "dist_y= stats.norm.pdf(dist_x,m,s_sample)\n",
        "\n",
        "plt.plot(dist_x,dist_y)\n",
        "plt.fill_between(dist_x,dist_y, where=dist_x >= g_value,color='lightblue')\n",
        "plt.axvline(x=g_value, color='blue')\n",
        "plt.axvline(x=m_sample, color='green')                                                  #indien groen in het blauw ligt = verwerpen"
      ],
      "metadata": {
        "id": "bzoty6MaKER_",
        "outputId": "bf6d49a4-31d3-41e1-a4c5-0d8e24868ff3",
        "colab": {
          "base_uri": "https://localhost:8080/",
          "height": 369
        }
      },
      "execution_count": null,
      "outputs": [
        {
          "output_type": "stream",
          "name": "stdout",
          "text": [
            "de kans dat m_sample kleiner is dan 352.80 is 0.01\n",
            "p_value > significance\n",
            "0.01 > 0.05\n",
            "Grens waarde > m_sample\n",
            " 352.27 > 352.80\n"
          ]
        },
        {
          "output_type": "execute_result",
          "data": {
            "text/plain": [
              "<matplotlib.lines.Line2D at 0x7f1d8cb3e850>"
            ]
          },
          "metadata": {},
          "execution_count": 32
        },
        {
          "output_type": "display_data",
          "data": {
            "text/plain": [
              "<Figure size 432x288 with 1 Axes>"
            ],
            "image/png": "[encoded data removed]"
          },
          "metadata": {
            "needs_background": "light"
          }
        }
      ]
    },
    {
      "cell_type": "markdown",
      "source": [
        "###Linkszijdige Z-test"
      ],
      "metadata": {
        "id": "toGfUhk_1c6t"
      }
    },
    {
      "cell_type": "code",
      "source": [
        "n=40\n",
        "m=351.2\n",
        "s=4.1\n",
        "m_sample = 350.4                                  #Gemiddelde dat wordt waargenomen\n",
        "s_sample = s/math.sqrt(n)       \n",
        "significance = 0.05                                  #Significantie niveau "
      ],
      "metadata": {
        "id": "uWHBCn6wKD0I"
      },
      "execution_count": null,
      "outputs": []
    },
    {
      "cell_type": "code",
      "source": [
        "#methode 1 \n",
        "p_value = stats.norm.cdf(m_sample,loc=m,scale=s_sample)\n",
        "print(\"de kans dat m_sample kleiner is dan m is %.2f\" % p_value)             #indien p_value kleiner is dan significance (5%) -> nulhypothese verwerpen\n",
        "print(\"p_value > significance\")\n",
        "print(\"%.2f > %.2f\" % (p_value,significance))\n",
        "\n",
        "\n",
        "#methode 2 \n",
        "g_value = stats.norm.isf(1-significance,loc=m,scale=s_sample)                #!!!!(1-significance)\n",
        "print(\"m_sample > g_value\")                                                  #indien m_sample kleiner is dan nulhypothese verwerpen\n",
        "print(\"%.2f > %.2f\" % (m_sample,g_value))\n",
        "\n",
        "\n",
        "\n",
        "#tekening\n",
        "dist_x=np.linspace(m - 4 * s_sample,m + 4 * s_sample,num=201)\n",
        "dist_y= stats.norm.pdf(dist_x,m,s_sample)\n",
        "\n",
        "plt.plot(dist_x,dist_y)\n",
        "plt.fill_between(dist_x,dist_y, where=dist_x <= g_value,color='lightblue')\n",
        "plt.axvline(x=g_value, color='blue')\n",
        "plt.axvline(x=m_sample, color='green')                                                  #indien groen in het blauw ligt = verwerpen nulhypothese"
      ],
      "metadata": {
        "id": "re3j7IroKDxY",
        "outputId": "90853090-9d54-4df2-b437-55d6799f2daf",
        "colab": {
          "base_uri": "https://localhost:8080/",
          "height": 369
        }
      },
      "execution_count": null,
      "outputs": [
        {
          "output_type": "stream",
          "name": "stdout",
          "text": [
            "de kans dat m_sample kleiner is dan m is 0.11\n",
            "p_value > significance\n",
            "0.11 > 0.05\n",
            "m_sample > g_value\n",
            "350.40 > 350.13\n"
          ]
        },
        {
          "output_type": "execute_result",
          "data": {
            "text/plain": [
              "<matplotlib.lines.Line2D at 0x7f1d8ced0a90>"
            ]
          },
          "metadata": {},
          "execution_count": 21
        },
        {
          "output_type": "display_data",
          "data": {
            "text/plain": [
              "<Figure size 432x288 with 1 Axes>"
            ],
            "image/png": "[encoded data removed]"
          },
          "metadata": {
            "needs_background": "light"
          }
        }
      ]
    },
    {
      "cell_type": "markdown",
      "source": [
        "### Dubbelzijdige Z-test"
      ],
      "metadata": {
        "id": "qvJ1rMMB1ovN"
      }
    },
    {
      "cell_type": "code",
      "source": [
        "n=40\n",
        "m=351.2\n",
        "s=4.1\n",
        "m_sample = 351.4                                  #Gemiddelde dat wordt waargenomen\n",
        "s_sample = s/math.sqrt(n)       \n",
        "significance = 0.05                                  #Significantie niveau \n"
      ],
      "metadata": {
        "id": "3s5aX5WEKDpP"
      },
      "execution_count": null,
      "outputs": []
    },
    {
      "cell_type": "code",
      "source": [
        "#methode 1 \n",
        "p_value = stats.norm.sf(m_sample, loc=m, scale=s_sample)\n",
        "\n",
        "\n",
        "print(\"de kans dat m_sample kleiner is dan %.2f is %.2f\" % (m_sample,p_value))      #indien niet tussen de waarden ligt dan verwerpen hypothese\n",
        "print(\"significane < p_value < significance\")\n",
        "print(\"%.2f < %.2f < %.2f\" % (significance/2,p_value,1-significance/2))\n",
        "\n",
        "\n",
        "#methode 2 eerst grenswaarde berekenen adhv significnatie niveau (5%) en kijken of deze waarde kleiner is dan m_sample\n",
        "g_upper = stats.norm.isf(significance/2, m, s_sample)                                    #grens waarde\n",
        "g_lower = stats.norm.isf(1-significance/2,loc=m,scale=s_sample)\n",
        "print(\"grens waarde < m_sample < grenswaarde\")                                                         #indien m_sample niet tussen de waarde ligt dan verwerpen hypothese\n",
        "print(\"%.2f < %.2f < %.2f\" % (g_lower,m_sample,g_upper))\n",
        "\n",
        "\n",
        "#tekening maken\n",
        "dist_x=np.linspace(m - 4 * s_sample,m + 4 * s_sample,num=201)\n",
        "dist_y= stats.norm.pdf(dist_x,m,s_sample)\n",
        "\n",
        "plt.plot(dist_x,dist_y)\n",
        "plt.fill_between(dist_x,dist_y, where=dist_x >= g_upper,color='lightblue')\n",
        "plt.fill_between(dist_x,dist_y, where=dist_x <= g_lower,color='lightblue')\n",
        "\n",
        "plt.axvline(x=g_upper, color='blue')\n",
        "plt.axvline(x=g_lower, color='blue')\n",
        "plt.axvline(x=m_sample, color='green')                                                  #windien groen in het blauw ligt = verwerpen"
      ],
      "metadata": {
        "id": "zoKXA5f-KDIn",
        "outputId": "e1c706b7-ef51-47cf-dd4b-7b6de8fcb266",
        "colab": {
          "base_uri": "https://localhost:8080/",
          "height": 369
        }
      },
      "execution_count": null,
      "outputs": [
        {
          "output_type": "stream",
          "name": "stdout",
          "text": [
            "de kans dat m_sample kleiner is dan 351.40 is 0.38\n",
            "significane < p_value < significance\n",
            "0.03 < 0.38 < 0.97\n",
            "grens waarde < m_sample < grenswaarde\n",
            "349.93 < 351.40 < 352.47\n"
          ]
        },
        {
          "output_type": "execute_result",
          "data": {
            "text/plain": [
              "<matplotlib.lines.Line2D at 0x7f1d8c008c90>"
            ]
          },
          "metadata": {},
          "execution_count": 52
        },
        {
          "output_type": "display_data",
          "data": {
            "text/plain": [
              "<Figure size 432x288 with 1 Axes>"
            ],
            "image/png": "[encoded data removed]"
          },
          "metadata": {
            "needs_background": "light"
          }
        }
      ]
    },
    {
      "cell_type": "markdown",
      "source": [
        "## oefeningen"
      ],
      "metadata": {
        "id": "34svyflY7bNq"
      }
    },
    {
      "cell_type": "markdown",
      "source": [
        "###Exercise 1 Rechtzijdige T-test"
      ],
      "metadata": {
        "id": "gkARZTNF7hmR"
      }
    },
    {
      "cell_type": "code",
      "source": [
        "pulses = [48,52,59,45,57,52,44,58,56,44,63,50]\n",
        "\n",
        "n=len(pulses)\n",
        "m=80\n",
        "s=9\n",
        "m_sample = np.mean(pulses)\n",
        "s_sample = np.std(pulses, ddof=1)\n",
        "significance = 0.05\n",
        "#methode 1 \n",
        "p_value = stats.t.cdf(m_sample, loc=m, scale = s_sample/math.sqrt(n), df=n-1)\n",
        "print(\"de kans dat m_sample kleiner is dan m is %.2f\" % p_value)             #indien p_value kleiner is dan significance (5%) -> nulhypothese verwerpen\n",
        "print(\"p_value > significance\")\n",
        "print(\"%f > %.2f\" % (p_value,significance))\n",
        "\n",
        "\n",
        "#methode 2 \n",
        "g_value = stats.t.isf(1-significance,loc=m,scale=s_sample/math.sqrt(n), df=n-1)                #!!!!(1-significance)\n",
        "print(\"m_sample > g_value\")                                                  #indien m_sample kleiner is dan nulhypothese verwerpen\n",
        "print(\"%.2f > %.2f\" % (m_sample,g_value))\n",
        "\n",
        "\n",
        "\n",
        "#tekening\n",
        "dist_x=np.linspace(m - 4 * s_sample,m + 4 * s_sample,num=201)\n",
        "dist_y= stats.norm.pdf(dist_x,m,s_sample)\n",
        "\n",
        "plt.plot(dist_x,dist_y)\n",
        "plt.fill_between(dist_x,dist_y, where=dist_x <= g_value,color='lightblue')\n",
        "plt.axvline(x=g_value, color='blue')\n",
        "plt.axvline(x=m_sample, color='green')                                                  #indien groen in het blauw ligt = verwerpen nulhypothese\n",
        "\n",
        "\n"
      ],
      "metadata": {
        "id": "o4ZYQSkq7hBB",
        "outputId": "a03b36ee-5e28-4933-e817-a8c65153a51a",
        "colab": {
          "base_uri": "https://localhost:8080/",
          "height": 369
        }
      },
      "execution_count": null,
      "outputs": [
        {
          "output_type": "stream",
          "name": "stdout",
          "text": [
            "de kans dat m_sample kleiner is dan m is 0.00\n",
            "p_value > significance\n",
            "0.000000 > 0.05\n",
            "m_sample > g_value\n",
            "52.33 > 76.71\n"
          ]
        },
        {
          "output_type": "execute_result",
          "data": {
            "text/plain": [
              "<matplotlib.lines.Line2D at 0x7fdc0a3475d0>"
            ]
          },
          "metadata": {},
          "execution_count": 3
        },
        {
          "output_type": "display_data",
          "data": {
            "text/plain": [
              "<Figure size 432x288 with 1 Axes>"
            ],
            "image/png": "[encoded data removed]"
          },
          "metadata": {
            "needs_background": "light"
          }
        }
      ]
    },
    {
      "cell_type": "markdown",
      "source": [
        "### Exercise 2"
      ],
      "metadata": {
        "id": "-E4rF222a3yf"
      }
    },
    {
      "cell_type": "code",
      "source": [
        "m=44\n",
        "s=6.2\n",
        "n=72\n",
        "m_sample= 46.2\n",
        "s_sample = s/math.sqrt(n)\n",
        "significance = 0.025\n",
        "\n",
        "#1.\n",
        "g_value=stats.norm.isf(significance,loc=m,scale=s_sample)\n",
        "print(g_value)\n",
        "\n",
        "\n",
        "#2.\n",
        "p_value = stats.norm.sf(m_sample, loc = m, scale = s_sample)\n",
        "print(p_value)\n",
        "\n",
        "#tekening maken\n",
        "dist_x=np.linspace(m - 4 * s_sample,m + 4 * s_sample,num=201)\n",
        "dist_y= stats.norm.pdf(dist_x,m,s_sample)\n",
        "\n",
        "plt.plot(dist_x,dist_y)\n",
        "plt.fill_between(dist_x,dist_y, where=dist_x >= g_value,color='lightblue')\n",
        "plt.axvline(x=g_value, color='blue')\n",
        "plt.axvline(x=m_sample, color='green')                                                  #indien groen in het blauw ligt = verwerpen"
      ],
      "metadata": {
        "id": "fqZJJ6Sc7g-R",
        "colab": {
          "base_uri": "https://localhost:8080/",
          "height": 317
        },
        "outputId": "043546aa-312f-4ea2-e1d3-265221654d40"
      },
      "execution_count": null,
      "outputs": [
        {
          "output_type": "stream",
          "name": "stdout",
          "text": [
            "45.432100618494665\n",
            "0.001302346104883357\n"
          ]
        },
        {
          "output_type": "execute_result",
          "data": {
            "text/plain": [
              "<matplotlib.lines.Line2D at 0x7fdc0716f8d0>"
            ]
          },
          "metadata": {},
          "execution_count": 9
        },
        {
          "output_type": "display_data",
          "data": {
            "text/plain": [
              "<Figure size 432x288 with 1 Axes>"
            ],
            "image/png": "[encoded data removed]"
          },
          "metadata": {
            "needs_background": "light"
          }
        }
      ]
    },
    {
      "cell_type": "markdown",
      "source": [
        "###Excercise 3\n",
        "\n"
      ],
      "metadata": {
        "id": "4tfe_svLebtn"
      }
    },
    {
      "cell_type": "code",
      "source": [
        "arr=[400,350,400,500,300,350,200,500,200,250,250,500,350,100]\n",
        "\n",
        "m=300\n",
        "n=len(arr)\n",
        "m_sample = np.mean(arr)\n",
        "s_sample = np.std(arr, ddof=1) / math.sqrt(n)\n",
        "significance = 0.05\n",
        "\n",
        "p_value = stats.t.sf(m_sample, loc=m, scale=s_sample, df=n-1)\n",
        "print(p_value)\n",
        "\n",
        "g_value = stats.t.isf(significance, loc=m, scale=s_sample, df=n-1)\n",
        "g_value\n",
        "\n"
      ],
      "metadata": {
        "id": "Dq1oi-7q7g4a",
        "colab": {
          "base_uri": "https://localhost:8080/"
        },
        "outputId": "24e0fb3e-7d9b-458f-93c3-cb0e17d8eb02"
      },
      "execution_count": null,
      "outputs": [
        {
          "output_type": "stream",
          "name": "stdout",
          "text": [
            "0.1738147584626205\n"
          ]
        },
        {
          "output_type": "execute_result",
          "data": {
            "text/plain": [
              "358.41687132781624"
            ]
          },
          "metadata": {},
          "execution_count": 23
        }
      ]
    },
    {
      "cell_type": "markdown",
      "source": [
        "###Excercise 4"
      ],
      "metadata": {
        "id": "ArTrPpM2j-vV"
      }
    },
    {
      "cell_type": "code",
      "source": [
        "rlanders = pd.read_csv('https://raw.githubusercontent.com/arnauddormaels/Data-Science-and-AI/main/data/rlanders.csv')\n",
        "rlanders.head()"
      ],
      "metadata": {
        "id": "a9erpUvN7g1h",
        "colab": {
          "base_uri": "https://localhost:8080/",
          "height": 206
        },
        "outputId": "ddbe71ac-1704-4234-ed2b-cf7a486d09db"
      },
      "execution_count": null,
      "outputs": [
        {
          "output_type": "execute_result",
          "data": {
            "text/plain": [
              "   ID  Gender  Money  Days  Months  Count  Survey\n",
              "0   1  Female    440    29      11     35       3\n",
              "1   2  Female    503    23      10     52       3\n",
              "2   3    Male    412    16      11     55       3\n",
              "3   4    Male    587    25       9     28       5\n",
              "4   5    Male    525    30      11     41       4"
            ],
            "text/html": [
              "\n",
              "  <div id=\"df-e076a439-8533-41b6-bb6e-0603e463b9e2\">\n",
              "    <div class=\"colab-df-container\">\n",
              "      <div>\n",
              "<style scoped>\n",
              "    .dataframe tbody tr th:only-of-type {\n",
              "        vertical-align: middle;\n",
              "    }\n",
              "\n",
              "    .dataframe tbody tr th {\n",
              "        vertical-align: top;\n",
              "    }\n",
              "\n",
              "    .dataframe thead th {\n",
              "        text-align: right;\n",
              "    }\n",
              "</style>\n",
              "<table border=\"1\" class=\"dataframe\">\n",
              "  <thead>\n",
              "    <tr style=\"text-align: right;\">\n",
              "      <th></th>\n",
              "      <th>ID</th>\n",
              "      <th>Gender</th>\n",
              "      <th>Money</th>\n",
              "      <th>Days</th>\n",
              "      <th>Months</th>\n",
              "      <th>Count</th>\n",
              "      <th>Survey</th>\n",
              "    </tr>\n",
              "  </thead>\n",
              "  <tbody>\n",
              "    <tr>\n",
              "      <th>0</th>\n",
              "      <td>1</td>\n",
              "      <td>Female</td>\n",
              "      <td>440</td>\n",
              "      <td>29</td>\n",
              "      <td>11</td>\n",
              "      <td>35</td>\n",
              "      <td>3</td>\n",
              "    </tr>\n",
              "    <tr>\n",
              "      <th>1</th>\n",
              "      <td>2</td>\n",
              "      <td>Female</td>\n",
              "      <td>503</td>\n",
              "      <td>23</td>\n",
              "      <td>10</td>\n",
              "      <td>52</td>\n",
              "      <td>3</td>\n",
              "    </tr>\n",
              "    <tr>\n",
              "      <th>2</th>\n",
              "      <td>3</td>\n",
              "      <td>Male</td>\n",
              "      <td>412</td>\n",
              "      <td>16</td>\n",
              "      <td>11</td>\n",
              "      <td>55</td>\n",
              "      <td>3</td>\n",
              "    </tr>\n",
              "    <tr>\n",
              "      <th>3</th>\n",
              "      <td>4</td>\n",
              "      <td>Male</td>\n",
              "      <td>587</td>\n",
              "      <td>25</td>\n",
              "      <td>9</td>\n",
              "      <td>28</td>\n",
              "      <td>5</td>\n",
              "    </tr>\n",
              "    <tr>\n",
              "      <th>4</th>\n",
              "      <td>5</td>\n",
              "      <td>Male</td>\n",
              "      <td>525</td>\n",
              "      <td>30</td>\n",
              "      <td>11</td>\n",
              "      <td>41</td>\n",
              "      <td>4</td>\n",
              "    </tr>\n",
              "  </tbody>\n",
              "</table>\n",
              "</div>\n",
              "      <button class=\"colab-df-convert\" onclick=\"convertToInteractive('df-e076a439-8533-41b6-bb6e-0603e463b9e2')\"\n",
              "              title=\"Convert this dataframe to an interactive table.\"\n",
              "              style=\"display:none;\">\n",
              "        \n",
              "  <svg xmlns=\"http://www.w3.org/2000/svg\" height=\"24px\"viewBox=\"0 0 24 24\"\n",
              "       width=\"24px\">\n",
              "    <path d=\"M0 0h24v24H0V0z\" fill=\"none\"/>\n",
              "    <path d=\"M18.56 5.44l.94 2.06.94-2.06 2.06-.94-2.06-.94-.94-2.06-.94 2.06-2.06.94zm-11 1L8.5 8.5l.94-2.06 2.06-.94-2.06-.94L8.5 2.5l-.94 2.06-2.06.94zm10 10l.94 2.06.94-2.06 2.06-.94-2.06-.94-.94-2.06-.94 2.06-2.06.94z\"/><path d=\"M17.41 7.96l-1.37-1.37c-.4-.4-.92-.59-1.43-.59-.52 0-1.04.2-1.43.59L10.3 9.45l-7.72 7.72c-.78.78-.78 2.05 0 2.83L4 21.41c.39.39.9.59 1.41.59.51 0 1.02-.2 1.41-.59l7.78-7.78 2.81-2.81c.8-.78.8-2.07 0-2.86zM5.41 20L4 18.59l7.72-7.72 1.47 1.35L5.41 20z\"/>\n",
              "  </svg>\n",
              "      </button>\n",
              "      \n",
              "  <style>\n",
              "    .colab-df-container {\n",
              "      display:flex;\n",
              "      flex-wrap:wrap;\n",
              "      gap: 12px;\n",
              "    }\n",
              "\n",
              "    .colab-df-convert {\n",
              "      background-color: #E8F0FE;\n",
              "      border: none;\n",
              "      border-radius: 50%;\n",
              "      cursor: pointer;\n",
              "      display: none;\n",
              "      fill: #1967D2;\n",
              "      height: 32px;\n",
              "      padding: 0 0 0 0;\n",
              "      width: 32px;\n",
              "    }\n",
              "\n",
              "    .colab-df-convert:hover {\n",
              "      background-color: #E2EBFA;\n",
              "      box-shadow: 0px 1px 2px rgba(60, 64, 67, 0.3), 0px 1px 3px 1px rgba(60, 64, 67, 0.15);\n",
              "      fill: #174EA6;\n",
              "    }\n",
              "\n",
              "    [theme=dark] .colab-df-convert {\n",
              "      background-color: #3B4455;\n",
              "      fill: #D2E3FC;\n",
              "    }\n",
              "\n",
              "    [theme=dark] .colab-df-convert:hover {\n",
              "      background-color: #434B5C;\n",
              "      box-shadow: 0px 1px 3px 1px rgba(0, 0, 0, 0.15);\n",
              "      filter: drop-shadow(0px 1px 2px rgba(0, 0, 0, 0.3));\n",
              "      fill: #FFFFFF;\n",
              "    }\n",
              "  </style>\n",
              "\n",
              "      <script>\n",
              "        const buttonEl =\n",
              "          document.querySelector('#df-e076a439-8533-41b6-bb6e-0603e463b9e2 button.colab-df-convert');\n",
              "        buttonEl.style.display =\n",
              "          google.colab.kernel.accessAllowed ? 'block' : 'none';\n",
              "\n",
              "        async function convertToInteractive(key) {\n",
              "          const element = document.querySelector('#df-e076a439-8533-41b6-bb6e-0603e463b9e2');\n",
              "          const dataTable =\n",
              "            await google.colab.kernel.invokeFunction('convertToInteractive',\n",
              "                                                     [key], {});\n",
              "          if (!dataTable) return;\n",
              "\n",
              "          const docLinkHtml = 'Like what you see? Visit the ' +\n",
              "            '<a target=\"_blank\" href=https://colab.research.google.com/notebooks/data_table.ipynb>data table notebook</a>'\n",
              "            + ' to learn more about interactive tables.';\n",
              "          element.innerHTML = '';\n",
              "          dataTable['output_type'] = 'display_data';\n",
              "          await google.colab.output.renderOutput(dataTable, element);\n",
              "          const docLink = document.createElement('div');\n",
              "          docLink.innerHTML = docLinkHtml;\n",
              "          element.appendChild(docLink);\n",
              "        }\n",
              "      </script>\n",
              "    </div>\n",
              "  </div>\n",
              "  "
            ]
          },
          "metadata": {},
          "execution_count": 24
        }
      ]
    },
    {
      "cell_type": "code",
      "source": [
        "m=500\n",
        "s=98\n",
        "m_sample = rlanders['Money'].mean()\n",
        "significance = 0.05\n",
        "\n",
        "sns.kdeplot(data= rlanders, x='Money',hue='Gender' )\n",
        "plt.axvline(m_sample, color=\"red\")"
      ],
      "metadata": {
        "id": "KSTMriE97gy7",
        "colab": {
          "base_uri": "https://localhost:8080/",
          "height": 296
        },
        "outputId": "ddde9d4f-5883-487f-d77b-4c6b30913720"
      },
      "execution_count": null,
      "outputs": [
        {
          "output_type": "execute_result",
          "data": {
            "text/plain": [
              "<matplotlib.lines.Line2D at 0x7fdc01c37f50>"
            ]
          },
          "metadata": {},
          "execution_count": 59
        },
        {
          "output_type": "display_data",
          "data": {
            "text/plain": [
              "<Figure size 432x288 with 1 Axes>"
            ],
            "image/png": "[encoded data removed]"
          },
          "metadata": {
            "needs_background": "light"
          }
        }
      ]
    },
    {
      "cell_type": "code",
      "source": [
        "#men \n",
        "n1=rlanders[rlanders['Gender'] == 'Male']['Money'].count()\n",
        "m_sample1= rlanders[rlanders['Gender'] == 'Male']['Money'].mean()\n",
        "\n",
        "\n",
        "p_value1= stats.norm.sf(m_sample1,loc=m,scale=s/math.sqrt(n1))\n",
        "print(p_value1)\n",
        "\n",
        "g_value1 = stats.norm.isf(significance,loc=m,scale=s/math.sqrt(n1))\n",
        "print(g_value1)\n",
        "\n",
        "#women\n",
        "n2=rlanders[rlanders['Gender'] == 'Female']['Money'].count()\n",
        "m_sample2= rlanders[rlanders['Gender'] == 'Female']['Money'].mean()\n",
        "\n",
        "\n",
        "p_value2= stats.norm.cdf(m_sample2,loc=m,scale=s/math.sqrt(n2))\n",
        "print(p_value2)\n",
        "\n",
        "g_value2 = stats.norm.isf(1-significance,loc=m,scale=s/math.sqrt(n2))\n",
        "print(g_value2)"
      ],
      "metadata": {
        "colab": {
          "base_uri": "https://localhost:8080/"
        },
        "id": "HHvjlt8DeYTW",
        "outputId": "99d29a0f-71b1-4205-bf6c-f2262de71cfd"
      },
      "execution_count": null,
      "outputs": [
        {
          "output_type": "stream",
          "name": "stdout",
          "text": [
            "0.1396357338827816\n",
            "511.45567640449514\n",
            "0.01988789146266692\n",
            "477.64618457402185\n"
          ]
        }
      ]
    },
    {
      "cell_type": "markdown",
      "source": [
        "#**Hoofdstuk 4 Twee kwantitatieve variabelen**"
      ],
      "metadata": {
        "id": "UcU71UteuYeF"
      }
    },
    {
      "cell_type": "markdown",
      "source": [
        "##Functies chi-kwadraat\n"
      ],
      "metadata": {
        "id": "ChWx4Ew-jZta"
      }
    },
    {
      "cell_type": "code",
      "source": [
        "rlanders = pd.read_csv('https://raw.githubusercontent.com/arnauddormaels/Data-Science-and-AI/main/data/rlanders.csv')"
      ],
      "metadata": {
        "id": "xAa6GtxBkFHZ"
      },
      "execution_count": null,
      "outputs": []
    },
    {
      "cell_type": "code",
      "source": [
        "o = pd.crosstab(rlanders.Survey, rlanders.Gender)\n",
        "alpha=0.05\n",
        "\n"
      ],
      "metadata": {
        "id": "HobZ0GjckIQZ"
      },
      "execution_count": null,
      "outputs": []
    },
    {
      "cell_type": "code",
      "source": [
        "chi2,p,df,e= stats.chi2_contingency(o)                                          #expected table opzetten op basis van observed\n",
        "print(\"chi²: %.2f\" % chi2)\n",
        "print(\"p_value: %.2f\" % p)\n",
        "print(\"degrees of freedom: %d\" % df)\n",
        "print(f\"{e}\")\n",
        "\n",
        "#x=np.linspace(0,15,num=100)\n",
        "\n",
        "#Probability density function\n",
        "#pdf_value = stats.chi2.pdf(x,df)\n",
        "#print(pdf_value)\n",
        "\n",
        "#Inverse starvation functie\n",
        "g_value=stats.chi2.isf(alpha,df)\n",
        "print(\"g_value < chi²\")\n",
        "print(\"%.2f < %.2f\" % (g_value,chi2))                                           #Indien chi-kwadraat kleiner is dan is er geen verband -> H1 verwerpen"
      ],
      "metadata": {
        "id": "0OvJGdpCjjWB",
        "outputId": "a444fc54-2dd2-412c-8d1a-785001f662ae",
        "colab": {
          "base_uri": "https://localhost:8080/"
        }
      },
      "execution_count": null,
      "outputs": [
        {
          "output_type": "stream",
          "name": "stdout",
          "text": [
            "chi²: 5.49\n",
            "p_value: 0.48\n",
            "degrees of freedom: 6\n",
            "[[92.09745763  9.25847458  8.28389831  5.36016949]\n",
            " [18.41949153  1.85169492  1.65677966  1.0720339 ]\n",
            " [78.48305085  7.88983051  7.05932203  4.56779661]]\n",
            "[0.         0.00133012 0.00493231 0.01028801 0.01695539 0.0245599\n",
            " 0.03278597 0.04136953 0.05009142 0.05877157 0.06726377 0.07545108\n",
            " 0.0832418  0.09056588 0.09737172 0.10362349 0.10929859 0.1143856\n",
            " 0.11888236 0.12279438 0.12613343 0.12891626 0.13116361 0.13289927\n",
            " 0.13414927 0.13494125 0.1353039  0.13526644 0.13485824 0.13410851\n",
            " 0.13304598 0.13169871 0.13009392 0.12825781 0.1262155  0.12399091\n",
            " 0.12160674 0.11908444 0.11644414 0.11370474 0.11088384 0.10799779\n",
            " 0.10506175 0.10208969 0.09909443 0.0960877  0.09308021 0.09008164\n",
            " 0.08710076 0.08414543 0.08122268 0.07833873 0.0754991  0.07270859\n",
            " 0.06997138 0.06729103 0.06467058 0.06211254 0.05961897 0.05719149\n",
            " 0.05483134 0.05253937 0.05031616 0.04816196 0.04607675 0.04406031\n",
            " 0.04211217 0.04023169 0.03841805 0.03667031 0.03498738 0.03336806\n",
            " 0.03181106 0.03031501 0.02887848 0.02749998 0.02617797 0.02491088\n",
            " 0.02369713 0.02253511 0.0214232  0.02035979 0.01934327 0.01837204\n",
            " 0.0174445  0.0165591  0.01571429 0.01490854 0.01414038 0.01340832\n",
            " 0.01271096 0.01204689 0.01141476 0.01081324 0.01024106 0.00969695\n",
            " 0.00917972 0.00868819 0.00822123 0.00777775]\n",
            "g_value < chi²\n",
            "12.59 < 5.49\n"
          ]
        }
      ]
    },
    {
      "cell_type": "markdown",
      "source": [
        "## tabellen opzetten"
      ],
      "metadata": {
        "id": "nxuVCHWePnRk"
      }
    },
    {
      "cell_type": "code",
      "source": [
        "df = pd.read_csv('https://raw.githubusercontent.com/arnauddormaels/Data-Science-and-AI/main/data/MuziekWijn.csv')\n",
        "df.head()\n",
        "\n",
        "df = df.rename(columns={' Wijn': 'Wijn'})                      #Wijzigt de naam van de kolom\n",
        "df.columns"
      ],
      "metadata": {
        "id": "GwMZg-ZmPmd8",
        "outputId": "df3282a6-e010-4a9b-b0f5-8a76c3dd9a25",
        "colab": {
          "base_uri": "https://localhost:8080/"
        }
      },
      "execution_count": null,
      "outputs": [
        {
          "output_type": "execute_result",
          "data": {
            "text/plain": [
              "Index(['Muziek', 'Wijn'], dtype='object')"
            ]
          },
          "metadata": {},
          "execution_count": 27
        }
      ]
    },
    {
      "cell_type": "code",
      "source": [
        "#OBSERVED TABEL\n",
        "o = pd.crosstab(df.Muziek,df.Wijn)                   #observed tabel opzetten\n",
        "#print(o)\n",
        "\n",
        "#marginale totalen bereken\n",
        "row_sums = o.sum(axis=1)\n",
        "col_sums = o.sum()\n",
        "n=row_sums.sum()\n",
        "\n",
        "#print(row_sums)\n",
        "#print(col_sums)\n",
        "#print('aantal observaties: %.2f' % n)\n",
        "\n",
        "\n",
        "#EXPECTED TABEL OPZETTEN\n",
        "e= np.outer(row_sums,col_sums)/n                      #expected tabel opzetten\n",
        "print(e)\n",
        "\n",
        "e_row_sums = e.sum(axis = 1)                    \n",
        "e_col_sum = e.sum(axis = 0)\n",
        "n = e_row_sums.sum()\n",
        "\n",
        "#print(e_row_sums)\n",
        "##print(e_col_sum)\n",
        "#print('aantal observaties: %d' %n)\n",
        "\n",
        "\n",
        "#SPREIDINGSTABEL\n",
        "diffs = (e-o)**2/e                                    #Spreidings tabel opzetten\n",
        "print(\"Spreidingstabel: \")\n",
        "print(diffs)"
      ],
      "metadata": {
        "id": "r_QENv1LPscs",
        "outputId": "a8d2005a-fa61-432b-95be-4725113c1e1a",
        "colab": {
          "base_uri": "https://localhost:8080/"
        }
      },
      "execution_count": null,
      "outputs": [
        {
          "output_type": "stream",
          "name": "stdout",
          "text": [
            "[[34.87654321 30.55555556  9.56790123]\n",
            " [39.0617284  34.22222222 10.71604938]\n",
            " [39.0617284  34.22222222 10.71604938]]\n",
            "Spreidingstabel: \n",
            "Wijn          Andere    Franse   Italiaanse\n",
            "Muziek                                     \n",
            "Franse      0.000437  2.333737     7.672417\n",
            "Geen        0.397063  0.520924     0.007524\n",
            "Italiaanse  0.422348  0.520924     6.403837\n"
          ]
        }
      ]
    },
    {
      "cell_type": "markdown",
      "source": [
        "##Chi-kwadraat en Cramers_V"
      ],
      "metadata": {
        "id": "uWOkG8SFUttb"
      }
    },
    {
      "cell_type": "code",
      "source": [
        "df = pd.read_csv('https://raw.githubusercontent.com/arnauddormaels/Data-Science-and-AI/main/data/MuziekWijn.csv')\n",
        "df.head()\n",
        "df = df.rename(columns={' Wijn': 'Wijn'})                      #Wijzigt de naam van de kolom"
      ],
      "metadata": {
        "id": "CsP5ZumvUzvL"
      },
      "execution_count": null,
      "outputs": []
    },
    {
      "cell_type": "code",
      "source": [
        "o = pd.crosstab(df.Muziek,df.Wijn)                   #observed tabel opzetten\n",
        "e= np.outer(row_sums,col_sums)/n                      #expected tabel opzetten\n",
        "row_sums = o.sum(axis=1)\n",
        "n=row_sums.sum()"
      ],
      "metadata": {
        "id": "8nAwVHPEU2pb"
      },
      "execution_count": null,
      "outputs": []
    },
    {
      "cell_type": "code",
      "source": [
        "#Chi-kwadraat berekenen\n",
        "diffs = (e-o)**2/e                                    #Spreidings tabel opzetten\n",
        "chi2 = diffs.values.sum()\n",
        "print(\"chi-kwadraat: %.2f\" %chi2)"
      ],
      "metadata": {
        "id": "Jv2YtOajPsaD",
        "outputId": "a7c30fa7-8dbb-48ad-f165-39f2b5aef97a",
        "colab": {
          "base_uri": "https://localhost:8080/"
        }
      },
      "execution_count": null,
      "outputs": [
        {
          "output_type": "stream",
          "name": "stdout",
          "text": [
            "chi-kwadraat: 18.28\n"
          ]
        }
      ]
    },
    {
      "cell_type": "code",
      "source": [
        "#Cramers V berekenen\n",
        "dof = min(o.shape)-1\n",
        "cramers_v = np.sqrt(chi2 / (dof*n))\n",
        "print(\"Cramers V: %.3f\" % cramers_v)      \n",
        "print(\"0.1=weak assocation, 0.25=moderate assocation, 0.5=strong assocation, 0.75=very strong assocation, 1=complete assocation\")"
      ],
      "metadata": {
        "id": "M0K839SQPsXU",
        "outputId": "486cfd3e-4cde-4bc9-cbd5-26698513aa78",
        "colab": {
          "base_uri": "https://localhost:8080/"
        }
      },
      "execution_count": null,
      "outputs": [
        {
          "output_type": "stream",
          "name": "stdout",
          "text": [
            "Cramers V: 0.194\n",
            "0.1=weak assocation, 0.25=moderate assocation, 0.5=strong assocation, 0.75=very strong assocation, 1=complete assocation\n"
          ]
        }
      ]
    },
    {
      "cell_type": "code",
      "source": [
        "rlanders = pd.read_csv('https://raw.githubusercontent.com/arnauddormaels/Data-Science-and-AI/main/data/rlanders.csv')"
      ],
      "metadata": {
        "id": "gSil2TlxeYQu"
      },
      "execution_count": null,
      "outputs": []
    },
    {
      "cell_type": "code",
      "source": [
        "o = pd.crosstab(rlanders.Survey, rlanders.Gender)\n",
        "\n",
        "chi2,p,df,e= stats.chi2_contingency(o)                                          #expected table opzetten op basis van observed\n",
        "print(\"chi²: %.2f\" % chi2)\n",
        "print(\"p_value: %.2f\" % p)\n",
        "print(\"degrees of freedom: %d\" % df)\n",
        "print(f\"{e}\")\n"
      ],
      "metadata": {
        "colab": {
          "base_uri": "https://localhost:8080/"
        },
        "id": "5uaxBatbeYOB",
        "outputId": "62e2f0fc-a840-4525-fc0f-ed4944a110ca"
      },
      "execution_count": null,
      "outputs": [
        {
          "output_type": "stream",
          "name": "stdout",
          "text": [
            "chi²: 4.26\n",
            "p_value: 0.37\n",
            "degrees of freedom: 4\n",
            "[[ 0.832  3.168]\n",
            " [12.896 49.104]\n",
            " [23.712 90.288]\n",
            " [13.52  51.48 ]\n",
            " [ 1.04   3.96 ]]\n"
          ]
        }
      ]
    },
    {
      "cell_type": "markdown",
      "source": [
        "##Goodness of fit test\n",
        "\n"
      ],
      "metadata": {
        "id": "PtpL_Hjn16Hz"
      }
    },
    {
      "cell_type": "code",
      "source": [
        "o= np.array([127,75,98,27,73])\n",
        "e_p= np.array([.35, .17,.23,.08,.17])\n",
        "e= e_p * sum(o)\n",
        "chi2,p=stats.chisquare(f_obs=o, f_exp=e )\n",
        "print(\"chi2: %.2f\"%chi2)\n",
        "print(\"p: %.2f\", p)"
      ],
      "metadata": {
        "colab": {
          "base_uri": "https://localhost:8080/"
        },
        "id": "vMLohXxjeYLQ",
        "outputId": "7e62489c-271d-4760-81d4-2035b6f32dbf"
      },
      "execution_count": null,
      "outputs": [
        {
          "output_type": "stream",
          "name": "stdout",
          "text": [
            "chi2: 3.47\n",
            "p: %.2f 0.4827710008728282\n"
          ]
        }
      ]
    },
    {
      "cell_type": "markdown",
      "source": [
        "##Grafieken opstellen"
      ],
      "metadata": {
        "id": "YxyFRk-gVW8b"
      }
    },
    {
      "cell_type": "code",
      "source": [
        "df = pd.read_csv('https://raw.githubusercontent.com/arnauddormaels/Data-Science-and-AI/main/data/MuziekWijn.csv')\n",
        "df.head()\n",
        "\n",
        "df = df.rename(columns={' Wijn': 'Wijn'})                      #Wijzigt de naam van de kolom"
      ],
      "metadata": {
        "id": "Va-kbWYsVbE7"
      },
      "execution_count": null,
      "outputs": []
    },
    {
      "cell_type": "code",
      "source": [
        "o = pd.crosstab(df.Muziek,df.Wijn)                   #observed tabel opzetten\n"
      ],
      "metadata": {
        "id": "7jWs49iXVyXD"
      },
      "execution_count": null,
      "outputs": []
    },
    {
      "cell_type": "code",
      "source": [
        "o.loc['Geen']"
      ],
      "metadata": {
        "id": "D_xtkYeyVarz",
        "outputId": "4e736669-388c-43fc-d3b7-bff1bc0a4bae",
        "colab": {
          "base_uri": "https://localhost:8080/"
        }
      },
      "execution_count": null,
      "outputs": [
        {
          "output_type": "execute_result",
          "data": {
            "text/plain": [
              "Wijn\n",
              " Andere        43\n",
              " Franse        30\n",
              " Italiaanse    11\n",
              "Name: Geen, dtype: int64"
            ]
          },
          "metadata": {},
          "execution_count": 46
        }
      ]
    },
    {
      "cell_type": "code",
      "source": [
        "#Waargenomen waarden\n",
        "sns.barplot(x=o.loc['Geen'].index, y=o.loc['Geen'])"
      ],
      "metadata": {
        "id": "HMH3RnveVapL",
        "outputId": "7b6a91bf-16eb-4b65-a80e-ed395c08ede8",
        "colab": {
          "base_uri": "https://localhost:8080/",
          "height": 297
        }
      },
      "execution_count": null,
      "outputs": [
        {
          "output_type": "execute_result",
          "data": {
            "text/plain": [
              "<matplotlib.axes._subplots.AxesSubplot at 0x7fe668a81f50>"
            ]
          },
          "metadata": {},
          "execution_count": 47
        },
        {
          "output_type": "display_data",
          "data": {
            "text/plain": [
              "<Figure size 432x288 with 1 Axes>"
            ],
            "image/png": "[encoded data removed]"
          },
          "metadata": {
            "needs_background": "light"
          }
        }
      ]
    },
    {
      "cell_type": "code",
      "source": [
        "#Relatieve waarden \n",
        "sns.barplot(x=o.loc['Geen'].index, y=o.loc['Geen']/np.sum(o.loc['Geen']))"
      ],
      "metadata": {
        "id": "pUoosr6AVak9",
        "outputId": "56b6e28b-b588-4d44-eff7-7d0dbd19c89d",
        "colab": {
          "base_uri": "https://localhost:8080/",
          "height": 297
        }
      },
      "execution_count": null,
      "outputs": [
        {
          "output_type": "execute_result",
          "data": {
            "text/plain": [
              "<matplotlib.axes._subplots.AxesSubplot at 0x7fe6689e5210>"
            ]
          },
          "metadata": {},
          "execution_count": 50
        },
        {
          "output_type": "display_data",
          "data": {
            "text/plain": [
              "<Figure size 432x288 with 1 Axes>"
            ],
            "image/png": "[encoded data removed]"
          },
          "metadata": {
            "needs_background": "light"
          }
        }
      ]
    },
    {
      "cell_type": "code",
      "source": [
        "#Clustered barchart\n",
        "sns.catplot(data=df,x='Muziek', hue='Wijn',kind='count')"
      ],
      "metadata": {
        "id": "-Vq2O2hjZMDD",
        "outputId": "36538d4b-4d9c-43fb-b68d-e04b588e6bc1",
        "colab": {
          "base_uri": "https://localhost:8080/",
          "height": 387
        }
      },
      "execution_count": null,
      "outputs": [
        {
          "output_type": "execute_result",
          "data": {
            "text/plain": [
              "<seaborn.axisgrid.FacetGrid at 0x7fe668f9bf50>"
            ]
          },
          "metadata": {},
          "execution_count": 76
        },
        {
          "output_type": "display_data",
          "data": {
            "text/plain": [
              "<Figure size 447.75x360 with 1 Axes>"
            ],
            "image/png": "[encoded data removed]"
          },
          "metadata": {
            "needs_background": "light"
          }
        }
      ]
    },
    {
      "cell_type": "code",
      "source": [
        "#Stacked bar chart\n",
        "o.plot(kind='bar',stacked=True)"
      ],
      "metadata": {
        "id": "_OrQ1Oo4bpsz",
        "outputId": "003bcdf9-5896-4df9-a2d6-6cfcc31312af",
        "colab": {
          "base_uri": "https://localhost:8080/",
          "height": 336
        }
      },
      "execution_count": null,
      "outputs": [
        {
          "output_type": "execute_result",
          "data": {
            "text/plain": [
              "<matplotlib.axes._subplots.AxesSubplot at 0x7fe665b0ea90>"
            ]
          },
          "metadata": {},
          "execution_count": 77
        },
        {
          "output_type": "display_data",
          "data": {
            "text/plain": [
              "<Figure size 432x288 with 1 Axes>"
            ],
            "image/png": "[encoded data removed]"
          },
          "metadata": {
            "needs_background": "light"
          }
        }
      ]
    },
    {
      "cell_type": "markdown",
      "source": [
        "##Excercises"
      ],
      "metadata": {
        "id": "-yZ5PaTSoqyA"
      }
    },
    {
      "cell_type": "markdown",
      "source": [
        "### Excercise 1"
      ],
      "metadata": {
        "id": "cyZ52e582U0o"
      }
    },
    {
      "cell_type": "code",
      "source": [
        "survey = pd.read_csv('https://raw.githubusercontent.com/arnauddormaels/Data-Science-and-AI/main/data/survey.csv')\n",
        "survey.head()"
      ],
      "metadata": {
        "id": "64A9ycA-eX8u",
        "outputId": "88efb1d9-9660-499a-f2ca-a01ca2233890",
        "colab": {
          "base_uri": "https://localhost:8080/",
          "height": 206
        }
      },
      "execution_count": null,
      "outputs": [
        {
          "output_type": "execute_result",
          "data": {
            "text/plain": [
              "   Unnamed: 0     Sex  Wr.Hnd  NW.Hnd  W.Hnd     Fold  Pulse     Clap  Exer  \\\n",
              "0           1  Female    18.5    18.0  Right   R on L   92.0     Left  Some   \n",
              "1           2    Male    19.5    20.5   Left   R on L  104.0     Left  None   \n",
              "2           3    Male    18.0    13.3  Right   L on R   87.0  Neither  None   \n",
              "3           4    Male    18.8    18.9  Right   R on L    NaN  Neither  None   \n",
              "4           5    Male    20.0    20.0  Right  Neither   35.0    Right  Some   \n",
              "\n",
              "   Smoke  Height       M.I     Age  \n",
              "0  Never   173.0    Metric  18.250  \n",
              "1  Regul   177.8  Imperial  17.583  \n",
              "2  Occas     NaN       NaN  16.917  \n",
              "3  Never   160.0    Metric  20.333  \n",
              "4  Never   165.0    Metric  23.667  "
            ],
            "text/html": [
              "\n",
              "  <div id=\"df-2e7fb278-08c0-4e1f-8158-cea79b9a9b82\">\n",
              "    <div class=\"colab-df-container\">\n",
              "      <div>\n",
              "<style scoped>\n",
              "    .dataframe tbody tr th:only-of-type {\n",
              "        vertical-align: middle;\n",
              "    }\n",
              "\n",
              "    .dataframe tbody tr th {\n",
              "        vertical-align: top;\n",
              "    }\n",
              "\n",
              "    .dataframe thead th {\n",
              "        text-align: right;\n",
              "    }\n",
              "</style>\n",
              "<table border=\"1\" class=\"dataframe\">\n",
              "  <thead>\n",
              "    <tr style=\"text-align: right;\">\n",
              "      <th></th>\n",
              "      <th>Unnamed: 0</th>\n",
              "      <th>Sex</th>\n",
              "      <th>Wr.Hnd</th>\n",
              "      <th>NW.Hnd</th>\n",
              "      <th>W.Hnd</th>\n",
              "      <th>Fold</th>\n",
              "      <th>Pulse</th>\n",
              "      <th>Clap</th>\n",
              "      <th>Exer</th>\n",
              "      <th>Smoke</th>\n",
              "      <th>Height</th>\n",
              "      <th>M.I</th>\n",
              "      <th>Age</th>\n",
              "    </tr>\n",
              "  </thead>\n",
              "  <tbody>\n",
              "    <tr>\n",
              "      <th>0</th>\n",
              "      <td>1</td>\n",
              "      <td>Female</td>\n",
              "      <td>18.5</td>\n",
              "      <td>18.0</td>\n",
              "      <td>Right</td>\n",
              "      <td>R on L</td>\n",
              "      <td>92.0</td>\n",
              "      <td>Left</td>\n",
              "      <td>Some</td>\n",
              "      <td>Never</td>\n",
              "      <td>173.0</td>\n",
              "      <td>Metric</td>\n",
              "      <td>18.250</td>\n",
              "    </tr>\n",
              "    <tr>\n",
              "      <th>1</th>\n",
              "      <td>2</td>\n",
              "      <td>Male</td>\n",
              "      <td>19.5</td>\n",
              "      <td>20.5</td>\n",
              "      <td>Left</td>\n",
              "      <td>R on L</td>\n",
              "      <td>104.0</td>\n",
              "      <td>Left</td>\n",
              "      <td>None</td>\n",
              "      <td>Regul</td>\n",
              "      <td>177.8</td>\n",
              "      <td>Imperial</td>\n",
              "      <td>17.583</td>\n",
              "    </tr>\n",
              "    <tr>\n",
              "      <th>2</th>\n",
              "      <td>3</td>\n",
              "      <td>Male</td>\n",
              "      <td>18.0</td>\n",
              "      <td>13.3</td>\n",
              "      <td>Right</td>\n",
              "      <td>L on R</td>\n",
              "      <td>87.0</td>\n",
              "      <td>Neither</td>\n",
              "      <td>None</td>\n",
              "      <td>Occas</td>\n",
              "      <td>NaN</td>\n",
              "      <td>NaN</td>\n",
              "      <td>16.917</td>\n",
              "    </tr>\n",
              "    <tr>\n",
              "      <th>3</th>\n",
              "      <td>4</td>\n",
              "      <td>Male</td>\n",
              "      <td>18.8</td>\n",
              "      <td>18.9</td>\n",
              "      <td>Right</td>\n",
              "      <td>R on L</td>\n",
              "      <td>NaN</td>\n",
              "      <td>Neither</td>\n",
              "      <td>None</td>\n",
              "      <td>Never</td>\n",
              "      <td>160.0</td>\n",
              "      <td>Metric</td>\n",
              "      <td>20.333</td>\n",
              "    </tr>\n",
              "    <tr>\n",
              "      <th>4</th>\n",
              "      <td>5</td>\n",
              "      <td>Male</td>\n",
              "      <td>20.0</td>\n",
              "      <td>20.0</td>\n",
              "      <td>Right</td>\n",
              "      <td>Neither</td>\n",
              "      <td>35.0</td>\n",
              "      <td>Right</td>\n",
              "      <td>Some</td>\n",
              "      <td>Never</td>\n",
              "      <td>165.0</td>\n",
              "      <td>Metric</td>\n",
              "      <td>23.667</td>\n",
              "    </tr>\n",
              "  </tbody>\n",
              "</table>\n",
              "</div>\n",
              "      <button class=\"colab-df-convert\" onclick=\"convertToInteractive('df-2e7fb278-08c0-4e1f-8158-cea79b9a9b82')\"\n",
              "              title=\"Convert this dataframe to an interactive table.\"\n",
              "              style=\"display:none;\">\n",
              "        \n",
              "  <svg xmlns=\"http://www.w3.org/2000/svg\" height=\"24px\"viewBox=\"0 0 24 24\"\n",
              "       width=\"24px\">\n",
              "    <path d=\"M0 0h24v24H0V0z\" fill=\"none\"/>\n",
              "    <path d=\"M18.56 5.44l.94 2.06.94-2.06 2.06-.94-2.06-.94-.94-2.06-.94 2.06-2.06.94zm-11 1L8.5 8.5l.94-2.06 2.06-.94-2.06-.94L8.5 2.5l-.94 2.06-2.06.94zm10 10l.94 2.06.94-2.06 2.06-.94-2.06-.94-.94-2.06-.94 2.06-2.06.94z\"/><path d=\"M17.41 7.96l-1.37-1.37c-.4-.4-.92-.59-1.43-.59-.52 0-1.04.2-1.43.59L10.3 9.45l-7.72 7.72c-.78.78-.78 2.05 0 2.83L4 21.41c.39.39.9.59 1.41.59.51 0 1.02-.2 1.41-.59l7.78-7.78 2.81-2.81c.8-.78.8-2.07 0-2.86zM5.41 20L4 18.59l7.72-7.72 1.47 1.35L5.41 20z\"/>\n",
              "  </svg>\n",
              "      </button>\n",
              "      \n",
              "  <style>\n",
              "    .colab-df-container {\n",
              "      display:flex;\n",
              "      flex-wrap:wrap;\n",
              "      gap: 12px;\n",
              "    }\n",
              "\n",
              "    .colab-df-convert {\n",
              "      background-color: #E8F0FE;\n",
              "      border: none;\n",
              "      border-radius: 50%;\n",
              "      cursor: pointer;\n",
              "      display: none;\n",
              "      fill: #1967D2;\n",
              "      height: 32px;\n",
              "      padding: 0 0 0 0;\n",
              "      width: 32px;\n",
              "    }\n",
              "\n",
              "    .colab-df-convert:hover {\n",
              "      background-color: #E2EBFA;\n",
              "      box-shadow: 0px 1px 2px rgba(60, 64, 67, 0.3), 0px 1px 3px 1px rgba(60, 64, 67, 0.15);\n",
              "      fill: #174EA6;\n",
              "    }\n",
              "\n",
              "    [theme=dark] .colab-df-convert {\n",
              "      background-color: #3B4455;\n",
              "      fill: #D2E3FC;\n",
              "    }\n",
              "\n",
              "    [theme=dark] .colab-df-convert:hover {\n",
              "      background-color: #434B5C;\n",
              "      box-shadow: 0px 1px 3px 1px rgba(0, 0, 0, 0.15);\n",
              "      filter: drop-shadow(0px 1px 2px rgba(0, 0, 0, 0.3));\n",
              "      fill: #FFFFFF;\n",
              "    }\n",
              "  </style>\n",
              "\n",
              "      <script>\n",
              "        const buttonEl =\n",
              "          document.querySelector('#df-2e7fb278-08c0-4e1f-8158-cea79b9a9b82 button.colab-df-convert');\n",
              "        buttonEl.style.display =\n",
              "          google.colab.kernel.accessAllowed ? 'block' : 'none';\n",
              "\n",
              "        async function convertToInteractive(key) {\n",
              "          const element = document.querySelector('#df-2e7fb278-08c0-4e1f-8158-cea79b9a9b82');\n",
              "          const dataTable =\n",
              "            await google.colab.kernel.invokeFunction('convertToInteractive',\n",
              "                                                     [key], {});\n",
              "          if (!dataTable) return;\n",
              "\n",
              "          const docLinkHtml = 'Like what you see? Visit the ' +\n",
              "            '<a target=\"_blank\" href=https://colab.research.google.com/notebooks/data_table.ipynb>data table notebook</a>'\n",
              "            + ' to learn more about interactive tables.';\n",
              "          element.innerHTML = '';\n",
              "          dataTable['output_type'] = 'display_data';\n",
              "          await google.colab.output.renderOutput(dataTable, element);\n",
              "          const docLink = document.createElement('div');\n",
              "          docLink.innerHTML = docLinkHtml;\n",
              "          element.appendChild(docLink);\n",
              "        }\n",
              "      </script>\n",
              "    </div>\n",
              "  </div>\n",
              "  "
            ]
          },
          "metadata": {},
          "execution_count": 114
        }
      ]
    },
    {
      "cell_type": "code",
      "source": [
        "print(survey.Exer.unique())\n",
        "print(survey.Smoke.unique())"
      ],
      "metadata": {
        "id": "NXkW0Fh1czc9",
        "outputId": "745c2acb-3686-4932-9729-6a01c466b440",
        "colab": {
          "base_uri": "https://localhost:8080/"
        }
      },
      "execution_count": null,
      "outputs": [
        {
          "output_type": "stream",
          "name": "stdout",
          "text": [
            "['Some' 'None' 'Freq']\n",
            "['Never', 'Regul', 'Occas', 'Heavy', NaN]\n",
            "Categories (4, object): ['Never' < 'Occas' < 'Regul' < 'Heavy']\n"
          ]
        }
      ]
    },
    {
      "cell_type": "code",
      "source": [
        "survey.Excer = survey.Exer.astype(CategoricalDtype(categories=['None','Some','Freq'], ordered= True))\n",
        "survey.Smoke = survey.Smoke.astype(CategoricalDtype(categories=['Never','Occas','Regul','Heavy'], ordered= True))"
      ],
      "metadata": {
        "id": "v4FI84WLczaa"
      },
      "execution_count": null,
      "outputs": []
    },
    {
      "cell_type": "code",
      "source": [
        "print(survey.Exer.describe())\n",
        "print(survey.Smoke.describe())\n"
      ],
      "metadata": {
        "id": "wWmRKGdOczXy",
        "outputId": "5867c407-ebff-4c03-d6f7-e5bab500c2e1",
        "colab": {
          "base_uri": "https://localhost:8080/"
        }
      },
      "execution_count": null,
      "outputs": [
        {
          "output_type": "stream",
          "name": "stdout",
          "text": [
            "count      237\n",
            "unique       3\n",
            "top       Freq\n",
            "freq       115\n",
            "Name: Exer, dtype: object\n",
            "count       236\n",
            "unique        4\n",
            "top       Never\n",
            "freq        189\n",
            "Name: Smoke, dtype: object\n"
          ]
        }
      ]
    },
    {
      "cell_type": "code",
      "source": [
        "o = pd.crosstab(survey.Exer, survey.Smoke)\n",
        "chi2,p,df,e= stats.chi2_contingency(o)                                          #expected table opzetten op basis van observed\n",
        "alpha=0.05\n",
        "g=stats.chi2.isf(alpha,df)\n",
        "\n",
        "print(\"g_value < chi²\")\n",
        "print(\"%.2f < %.2f\" % (g_value,chi2))                                           #indien chi-kwadraat kleiner dan is er geen verband -> h1 verwerpen\n",
        "print(\"p_value: %.2f\" % p)\n",
        "print(\"degrees of freedom: %d\" % df)\n",
        "\n",
        "\n",
        "g_value=stats.chi2.isf(alpha,df)\n",
        "\n"
      ],
      "metadata": {
        "id": "Hk-Zm97bczVD",
        "outputId": "e8b848ff-a755-4c8b-a8f4-f5fa7c9b53b2",
        "colab": {
          "base_uri": "https://localhost:8080/"
        }
      },
      "execution_count": null,
      "outputs": [
        {
          "output_type": "stream",
          "name": "stdout",
          "text": [
            "g_value < chi²\n",
            "9.49 < 5.49\n",
            "p_value: 0.48\n",
            "degrees of freedom: 6\n"
          ]
        }
      ]
    },
    {
      "cell_type": "markdown",
      "source": [
        "### Excercise 2"
      ],
      "metadata": {
        "id": "SAydQR4Ao4YK"
      }
    },
    {
      "cell_type": "code",
      "source": [
        "digi = pd.read_csv('https://raw.githubusercontent.com/arnauddormaels/Data-Science-and-AI/main/data/leeftijden-digimeter.csv')\n",
        "digi.head(10)"
      ],
      "metadata": {
        "id": "bq_NpptTczSS",
        "outputId": "68286b08-2d43-4c16-e749-23eb5a8791e5",
        "colab": {
          "base_uri": "https://localhost:8080/",
          "height": 269
        }
      },
      "execution_count": null,
      "outputs": [
        {
          "output_type": "execute_result",
          "data": {
            "text/plain": [
              "  Leeftijdsgroep  Percentage\n",
              "0          15-19         6.6\n",
              "1          20-29        14.2\n",
              "2          30-39        15.0\n",
              "3          40-49        16.3\n",
              "4          50-59        17.3\n",
              "5          60-64         7.3\n",
              "6            64+        23.2"
            ],
            "text/html": [
              "\n",
              "  <div id=\"df-f21920c2-b4aa-4fc8-8058-9c011e5b4650\">\n",
              "    <div class=\"colab-df-container\">\n",
              "      <div>\n",
              "<style scoped>\n",
              "    .dataframe tbody tr th:only-of-type {\n",
              "        vertical-align: middle;\n",
              "    }\n",
              "\n",
              "    .dataframe tbody tr th {\n",
              "        vertical-align: top;\n",
              "    }\n",
              "\n",
              "    .dataframe thead th {\n",
              "        text-align: right;\n",
              "    }\n",
              "</style>\n",
              "<table border=\"1\" class=\"dataframe\">\n",
              "  <thead>\n",
              "    <tr style=\"text-align: right;\">\n",
              "      <th></th>\n",
              "      <th>Leeftijdsgroep</th>\n",
              "      <th>Percentage</th>\n",
              "    </tr>\n",
              "  </thead>\n",
              "  <tbody>\n",
              "    <tr>\n",
              "      <th>0</th>\n",
              "      <td>15-19</td>\n",
              "      <td>6.6</td>\n",
              "    </tr>\n",
              "    <tr>\n",
              "      <th>1</th>\n",
              "      <td>20-29</td>\n",
              "      <td>14.2</td>\n",
              "    </tr>\n",
              "    <tr>\n",
              "      <th>2</th>\n",
              "      <td>30-39</td>\n",
              "      <td>15.0</td>\n",
              "    </tr>\n",
              "    <tr>\n",
              "      <th>3</th>\n",
              "      <td>40-49</td>\n",
              "      <td>16.3</td>\n",
              "    </tr>\n",
              "    <tr>\n",
              "      <th>4</th>\n",
              "      <td>50-59</td>\n",
              "      <td>17.3</td>\n",
              "    </tr>\n",
              "    <tr>\n",
              "      <th>5</th>\n",
              "      <td>60-64</td>\n",
              "      <td>7.3</td>\n",
              "    </tr>\n",
              "    <tr>\n",
              "      <th>6</th>\n",
              "      <td>64+</td>\n",
              "      <td>23.2</td>\n",
              "    </tr>\n",
              "  </tbody>\n",
              "</table>\n",
              "</div>\n",
              "      <button class=\"colab-df-convert\" onclick=\"convertToInteractive('df-f21920c2-b4aa-4fc8-8058-9c011e5b4650')\"\n",
              "              title=\"Convert this dataframe to an interactive table.\"\n",
              "              style=\"display:none;\">\n",
              "        \n",
              "  <svg xmlns=\"http://www.w3.org/2000/svg\" height=\"24px\"viewBox=\"0 0 24 24\"\n",
              "       width=\"24px\">\n",
              "    <path d=\"M0 0h24v24H0V0z\" fill=\"none\"/>\n",
              "    <path d=\"M18.56 5.44l.94 2.06.94-2.06 2.06-.94-2.06-.94-.94-2.06-.94 2.06-2.06.94zm-11 1L8.5 8.5l.94-2.06 2.06-.94-2.06-.94L8.5 2.5l-.94 2.06-2.06.94zm10 10l.94 2.06.94-2.06 2.06-.94-2.06-.94-.94-2.06-.94 2.06-2.06.94z\"/><path d=\"M17.41 7.96l-1.37-1.37c-.4-.4-.92-.59-1.43-.59-.52 0-1.04.2-1.43.59L10.3 9.45l-7.72 7.72c-.78.78-.78 2.05 0 2.83L4 21.41c.39.39.9.59 1.41.59.51 0 1.02-.2 1.41-.59l7.78-7.78 2.81-2.81c.8-.78.8-2.07 0-2.86zM5.41 20L4 18.59l7.72-7.72 1.47 1.35L5.41 20z\"/>\n",
              "  </svg>\n",
              "      </button>\n",
              "      \n",
              "  <style>\n",
              "    .colab-df-container {\n",
              "      display:flex;\n",
              "      flex-wrap:wrap;\n",
              "      gap: 12px;\n",
              "    }\n",
              "\n",
              "    .colab-df-convert {\n",
              "      background-color: #E8F0FE;\n",
              "      border: none;\n",
              "      border-radius: 50%;\n",
              "      cursor: pointer;\n",
              "      display: none;\n",
              "      fill: #1967D2;\n",
              "      height: 32px;\n",
              "      padding: 0 0 0 0;\n",
              "      width: 32px;\n",
              "    }\n",
              "\n",
              "    .colab-df-convert:hover {\n",
              "      background-color: #E2EBFA;\n",
              "      box-shadow: 0px 1px 2px rgba(60, 64, 67, 0.3), 0px 1px 3px 1px rgba(60, 64, 67, 0.15);\n",
              "      fill: #174EA6;\n",
              "    }\n",
              "\n",
              "    [theme=dark] .colab-df-convert {\n",
              "      background-color: #3B4455;\n",
              "      fill: #D2E3FC;\n",
              "    }\n",
              "\n",
              "    [theme=dark] .colab-df-convert:hover {\n",
              "      background-color: #434B5C;\n",
              "      box-shadow: 0px 1px 3px 1px rgba(0, 0, 0, 0.15);\n",
              "      filter: drop-shadow(0px 1px 2px rgba(0, 0, 0, 0.3));\n",
              "      fill: #FFFFFF;\n",
              "    }\n",
              "  </style>\n",
              "\n",
              "      <script>\n",
              "        const buttonEl =\n",
              "          document.querySelector('#df-f21920c2-b4aa-4fc8-8058-9c011e5b4650 button.colab-df-convert');\n",
              "        buttonEl.style.display =\n",
              "          google.colab.kernel.accessAllowed ? 'block' : 'none';\n",
              "\n",
              "        async function convertToInteractive(key) {\n",
              "          const element = document.querySelector('#df-f21920c2-b4aa-4fc8-8058-9c011e5b4650');\n",
              "          const dataTable =\n",
              "            await google.colab.kernel.invokeFunction('convertToInteractive',\n",
              "                                                     [key], {});\n",
              "          if (!dataTable) return;\n",
              "\n",
              "          const docLinkHtml = 'Like what you see? Visit the ' +\n",
              "            '<a target=\"_blank\" href=https://colab.research.google.com/notebooks/data_table.ipynb>data table notebook</a>'\n",
              "            + ' to learn more about interactive tables.';\n",
              "          element.innerHTML = '';\n",
              "          dataTable['output_type'] = 'display_data';\n",
              "          await google.colab.output.renderOutput(dataTable, element);\n",
              "          const docLink = document.createElement('div');\n",
              "          docLink.innerHTML = docLinkHtml;\n",
              "          element.appendChild(docLink);\n",
              "        }\n",
              "      </script>\n",
              "    </div>\n",
              "  </div>\n",
              "  "
            ]
          },
          "metadata": {},
          "execution_count": 185
        }
      ]
    },
    {
      "cell_type": "code",
      "source": [
        "belstat = pd.read_csv('https://raw.githubusercontent.com/arnauddormaels/Data-Science-and-AI/main/data/leeftijden-bestat-vl.csv')\n",
        "belstat.head(20)\n"
      ],
      "metadata": {
        "id": "SU_F-eB4czPS",
        "outputId": "e780997c-d7c8-407d-f37d-7876eba448b2",
        "colab": {
          "base_uri": "https://localhost:8080/",
          "height": 676
        }
      },
      "execution_count": null,
      "outputs": [
        {
          "output_type": "execute_result",
          "data": {
            "text/plain": [
              "   age.group  population\n",
              "0        0-5      352017\n",
              "1        5-9      330320\n",
              "2      10-14      341303\n",
              "3      15-19      366648\n",
              "4      20-24      375469\n",
              "5      25-29      387131\n",
              "6      30-34      401285\n",
              "7      35-39      409587\n",
              "8      40-44      458485\n",
              "9      45-49      493720\n",
              "10     50-54      463668\n",
              "11     55-59      413315\n",
              "12     60-64      379301\n",
              "13     65-69      299152\n",
              "14     70-74      279789\n",
              "15     75-79      249260\n",
              "16     80-84      182352\n",
              "17     85-89      104449\n",
              "18     90-94       29888\n",
              "19     95-99        7678"
            ],
            "text/html": [
              "\n",
              "  <div id=\"df-37179b25-b600-4adc-a084-ca515e43bdbc\">\n",
              "    <div class=\"colab-df-container\">\n",
              "      <div>\n",
              "<style scoped>\n",
              "    .dataframe tbody tr th:only-of-type {\n",
              "        vertical-align: middle;\n",
              "    }\n",
              "\n",
              "    .dataframe tbody tr th {\n",
              "        vertical-align: top;\n",
              "    }\n",
              "\n",
              "    .dataframe thead th {\n",
              "        text-align: right;\n",
              "    }\n",
              "</style>\n",
              "<table border=\"1\" class=\"dataframe\">\n",
              "  <thead>\n",
              "    <tr style=\"text-align: right;\">\n",
              "      <th></th>\n",
              "      <th>age.group</th>\n",
              "      <th>population</th>\n",
              "    </tr>\n",
              "  </thead>\n",
              "  <tbody>\n",
              "    <tr>\n",
              "      <th>0</th>\n",
              "      <td>0-5</td>\n",
              "      <td>352017</td>\n",
              "    </tr>\n",
              "    <tr>\n",
              "      <th>1</th>\n",
              "      <td>5-9</td>\n",
              "      <td>330320</td>\n",
              "    </tr>\n",
              "    <tr>\n",
              "      <th>2</th>\n",
              "      <td>10-14</td>\n",
              "      <td>341303</td>\n",
              "    </tr>\n",
              "    <tr>\n",
              "      <th>3</th>\n",
              "      <td>15-19</td>\n",
              "      <td>366648</td>\n",
              "    </tr>\n",
              "    <tr>\n",
              "      <th>4</th>\n",
              "      <td>20-24</td>\n",
              "      <td>375469</td>\n",
              "    </tr>\n",
              "    <tr>\n",
              "      <th>5</th>\n",
              "      <td>25-29</td>\n",
              "      <td>387131</td>\n",
              "    </tr>\n",
              "    <tr>\n",
              "      <th>6</th>\n",
              "      <td>30-34</td>\n",
              "      <td>401285</td>\n",
              "    </tr>\n",
              "    <tr>\n",
              "      <th>7</th>\n",
              "      <td>35-39</td>\n",
              "      <td>409587</td>\n",
              "    </tr>\n",
              "    <tr>\n",
              "      <th>8</th>\n",
              "      <td>40-44</td>\n",
              "      <td>458485</td>\n",
              "    </tr>\n",
              "    <tr>\n",
              "      <th>9</th>\n",
              "      <td>45-49</td>\n",
              "      <td>493720</td>\n",
              "    </tr>\n",
              "    <tr>\n",
              "      <th>10</th>\n",
              "      <td>50-54</td>\n",
              "      <td>463668</td>\n",
              "    </tr>\n",
              "    <tr>\n",
              "      <th>11</th>\n",
              "      <td>55-59</td>\n",
              "      <td>413315</td>\n",
              "    </tr>\n",
              "    <tr>\n",
              "      <th>12</th>\n",
              "      <td>60-64</td>\n",
              "      <td>379301</td>\n",
              "    </tr>\n",
              "    <tr>\n",
              "      <th>13</th>\n",
              "      <td>65-69</td>\n",
              "      <td>299152</td>\n",
              "    </tr>\n",
              "    <tr>\n",
              "      <th>14</th>\n",
              "      <td>70-74</td>\n",
              "      <td>279789</td>\n",
              "    </tr>\n",
              "    <tr>\n",
              "      <th>15</th>\n",
              "      <td>75-79</td>\n",
              "      <td>249260</td>\n",
              "    </tr>\n",
              "    <tr>\n",
              "      <th>16</th>\n",
              "      <td>80-84</td>\n",
              "      <td>182352</td>\n",
              "    </tr>\n",
              "    <tr>\n",
              "      <th>17</th>\n",
              "      <td>85-89</td>\n",
              "      <td>104449</td>\n",
              "    </tr>\n",
              "    <tr>\n",
              "      <th>18</th>\n",
              "      <td>90-94</td>\n",
              "      <td>29888</td>\n",
              "    </tr>\n",
              "    <tr>\n",
              "      <th>19</th>\n",
              "      <td>95-99</td>\n",
              "      <td>7678</td>\n",
              "    </tr>\n",
              "  </tbody>\n",
              "</table>\n",
              "</div>\n",
              "      <button class=\"colab-df-convert\" onclick=\"convertToInteractive('df-37179b25-b600-4adc-a084-ca515e43bdbc')\"\n",
              "              title=\"Convert this dataframe to an interactive table.\"\n",
              "              style=\"display:none;\">\n",
              "        \n",
              "  <svg xmlns=\"http://www.w3.org/2000/svg\" height=\"24px\"viewBox=\"0 0 24 24\"\n",
              "       width=\"24px\">\n",
              "    <path d=\"M0 0h24v24H0V0z\" fill=\"none\"/>\n",
              "    <path d=\"M18.56 5.44l.94 2.06.94-2.06 2.06-.94-2.06-.94-.94-2.06-.94 2.06-2.06.94zm-11 1L8.5 8.5l.94-2.06 2.06-.94-2.06-.94L8.5 2.5l-.94 2.06-2.06.94zm10 10l.94 2.06.94-2.06 2.06-.94-2.06-.94-.94-2.06-.94 2.06-2.06.94z\"/><path d=\"M17.41 7.96l-1.37-1.37c-.4-.4-.92-.59-1.43-.59-.52 0-1.04.2-1.43.59L10.3 9.45l-7.72 7.72c-.78.78-.78 2.05 0 2.83L4 21.41c.39.39.9.59 1.41.59.51 0 1.02-.2 1.41-.59l7.78-7.78 2.81-2.81c.8-.78.8-2.07 0-2.86zM5.41 20L4 18.59l7.72-7.72 1.47 1.35L5.41 20z\"/>\n",
              "  </svg>\n",
              "      </button>\n",
              "      \n",
              "  <style>\n",
              "    .colab-df-container {\n",
              "      display:flex;\n",
              "      flex-wrap:wrap;\n",
              "      gap: 12px;\n",
              "    }\n",
              "\n",
              "    .colab-df-convert {\n",
              "      background-color: #E8F0FE;\n",
              "      border: none;\n",
              "      border-radius: 50%;\n",
              "      cursor: pointer;\n",
              "      display: none;\n",
              "      fill: #1967D2;\n",
              "      height: 32px;\n",
              "      padding: 0 0 0 0;\n",
              "      width: 32px;\n",
              "    }\n",
              "\n",
              "    .colab-df-convert:hover {\n",
              "      background-color: #E2EBFA;\n",
              "      box-shadow: 0px 1px 2px rgba(60, 64, 67, 0.3), 0px 1px 3px 1px rgba(60, 64, 67, 0.15);\n",
              "      fill: #174EA6;\n",
              "    }\n",
              "\n",
              "    [theme=dark] .colab-df-convert {\n",
              "      background-color: #3B4455;\n",
              "      fill: #D2E3FC;\n",
              "    }\n",
              "\n",
              "    [theme=dark] .colab-df-convert:hover {\n",
              "      background-color: #434B5C;\n",
              "      box-shadow: 0px 1px 3px 1px rgba(0, 0, 0, 0.15);\n",
              "      filter: drop-shadow(0px 1px 2px rgba(0, 0, 0, 0.3));\n",
              "      fill: #FFFFFF;\n",
              "    }\n",
              "  </style>\n",
              "\n",
              "      <script>\n",
              "        const buttonEl =\n",
              "          document.querySelector('#df-37179b25-b600-4adc-a084-ca515e43bdbc button.colab-df-convert');\n",
              "        buttonEl.style.display =\n",
              "          google.colab.kernel.accessAllowed ? 'block' : 'none';\n",
              "\n",
              "        async function convertToInteractive(key) {\n",
              "          const element = document.querySelector('#df-37179b25-b600-4adc-a084-ca515e43bdbc');\n",
              "          const dataTable =\n",
              "            await google.colab.kernel.invokeFunction('convertToInteractive',\n",
              "                                                     [key], {});\n",
              "          if (!dataTable) return;\n",
              "\n",
              "          const docLinkHtml = 'Like what you see? Visit the ' +\n",
              "            '<a target=\"_blank\" href=https://colab.research.google.com/notebooks/data_table.ipynb>data table notebook</a>'\n",
              "            + ' to learn more about interactive tables.';\n",
              "          element.innerHTML = '';\n",
              "          dataTable['output_type'] = 'display_data';\n",
              "          await google.colab.output.renderOutput(dataTable, element);\n",
              "          const docLink = document.createElement('div');\n",
              "          docLink.innerHTML = docLinkHtml;\n",
              "          element.appendChild(docLink);\n",
              "        }\n",
              "      </script>\n",
              "    </div>\n",
              "  </div>\n",
              "  "
            ]
          },
          "metadata": {},
          "execution_count": 186
        }
      ]
    },
    {
      "cell_type": "code",
      "source": [
        "belstat= belstat[(belstat['age.group'] !='0-5') & (belstat['age.group'] !='5-9') & (belstat['age.group'] !='10-14')]      #eerste 3 groepen eruit filteren\n",
        "belstat.head()"
      ],
      "metadata": {
        "id": "qQKrQpYBczMi",
        "outputId": "9b646c2c-5f15-46be-d4a6-5ddf9036253a",
        "colab": {
          "base_uri": "https://localhost:8080/",
          "height": 206
        }
      },
      "execution_count": null,
      "outputs": [
        {
          "output_type": "execute_result",
          "data": {
            "text/plain": [
              "  age.group  population\n",
              "3     15-19      366648\n",
              "4     20-24      375469\n",
              "5     25-29      387131\n",
              "6     30-34      401285\n",
              "7     35-39      409587"
            ],
            "text/html": [
              "\n",
              "  <div id=\"df-7f4ebe6f-ba6d-4d36-bef3-f5250418ee4e\">\n",
              "    <div class=\"colab-df-container\">\n",
              "      <div>\n",
              "<style scoped>\n",
              "    .dataframe tbody tr th:only-of-type {\n",
              "        vertical-align: middle;\n",
              "    }\n",
              "\n",
              "    .dataframe tbody tr th {\n",
              "        vertical-align: top;\n",
              "    }\n",
              "\n",
              "    .dataframe thead th {\n",
              "        text-align: right;\n",
              "    }\n",
              "</style>\n",
              "<table border=\"1\" class=\"dataframe\">\n",
              "  <thead>\n",
              "    <tr style=\"text-align: right;\">\n",
              "      <th></th>\n",
              "      <th>age.group</th>\n",
              "      <th>population</th>\n",
              "    </tr>\n",
              "  </thead>\n",
              "  <tbody>\n",
              "    <tr>\n",
              "      <th>3</th>\n",
              "      <td>15-19</td>\n",
              "      <td>366648</td>\n",
              "    </tr>\n",
              "    <tr>\n",
              "      <th>4</th>\n",
              "      <td>20-24</td>\n",
              "      <td>375469</td>\n",
              "    </tr>\n",
              "    <tr>\n",
              "      <th>5</th>\n",
              "      <td>25-29</td>\n",
              "      <td>387131</td>\n",
              "    </tr>\n",
              "    <tr>\n",
              "      <th>6</th>\n",
              "      <td>30-34</td>\n",
              "      <td>401285</td>\n",
              "    </tr>\n",
              "    <tr>\n",
              "      <th>7</th>\n",
              "      <td>35-39</td>\n",
              "      <td>409587</td>\n",
              "    </tr>\n",
              "  </tbody>\n",
              "</table>\n",
              "</div>\n",
              "      <button class=\"colab-df-convert\" onclick=\"convertToInteractive('df-7f4ebe6f-ba6d-4d36-bef3-f5250418ee4e')\"\n",
              "              title=\"Convert this dataframe to an interactive table.\"\n",
              "              style=\"display:none;\">\n",
              "        \n",
              "  <svg xmlns=\"http://www.w3.org/2000/svg\" height=\"24px\"viewBox=\"0 0 24 24\"\n",
              "       width=\"24px\">\n",
              "    <path d=\"M0 0h24v24H0V0z\" fill=\"none\"/>\n",
              "    <path d=\"M18.56 5.44l.94 2.06.94-2.06 2.06-.94-2.06-.94-.94-2.06-.94 2.06-2.06.94zm-11 1L8.5 8.5l.94-2.06 2.06-.94-2.06-.94L8.5 2.5l-.94 2.06-2.06.94zm10 10l.94 2.06.94-2.06 2.06-.94-2.06-.94-.94-2.06-.94 2.06-2.06.94z\"/><path d=\"M17.41 7.96l-1.37-1.37c-.4-.4-.92-.59-1.43-.59-.52 0-1.04.2-1.43.59L10.3 9.45l-7.72 7.72c-.78.78-.78 2.05 0 2.83L4 21.41c.39.39.9.59 1.41.59.51 0 1.02-.2 1.41-.59l7.78-7.78 2.81-2.81c.8-.78.8-2.07 0-2.86zM5.41 20L4 18.59l7.72-7.72 1.47 1.35L5.41 20z\"/>\n",
              "  </svg>\n",
              "      </button>\n",
              "      \n",
              "  <style>\n",
              "    .colab-df-container {\n",
              "      display:flex;\n",
              "      flex-wrap:wrap;\n",
              "      gap: 12px;\n",
              "    }\n",
              "\n",
              "    .colab-df-convert {\n",
              "      background-color: #E8F0FE;\n",
              "      border: none;\n",
              "      border-radius: 50%;\n",
              "      cursor: pointer;\n",
              "      display: none;\n",
              "      fill: #1967D2;\n",
              "      height: 32px;\n",
              "      padding: 0 0 0 0;\n",
              "      width: 32px;\n",
              "    }\n",
              "\n",
              "    .colab-df-convert:hover {\n",
              "      background-color: #E2EBFA;\n",
              "      box-shadow: 0px 1px 2px rgba(60, 64, 67, 0.3), 0px 1px 3px 1px rgba(60, 64, 67, 0.15);\n",
              "      fill: #174EA6;\n",
              "    }\n",
              "\n",
              "    [theme=dark] .colab-df-convert {\n",
              "      background-color: #3B4455;\n",
              "      fill: #D2E3FC;\n",
              "    }\n",
              "\n",
              "    [theme=dark] .colab-df-convert:hover {\n",
              "      background-color: #434B5C;\n",
              "      box-shadow: 0px 1px 3px 1px rgba(0, 0, 0, 0.15);\n",
              "      filter: drop-shadow(0px 1px 2px rgba(0, 0, 0, 0.3));\n",
              "      fill: #FFFFFF;\n",
              "    }\n",
              "  </style>\n",
              "\n",
              "      <script>\n",
              "        const buttonEl =\n",
              "          document.querySelector('#df-7f4ebe6f-ba6d-4d36-bef3-f5250418ee4e button.colab-df-convert');\n",
              "        buttonEl.style.display =\n",
              "          google.colab.kernel.accessAllowed ? 'block' : 'none';\n",
              "\n",
              "        async function convertToInteractive(key) {\n",
              "          const element = document.querySelector('#df-7f4ebe6f-ba6d-4d36-bef3-f5250418ee4e');\n",
              "          const dataTable =\n",
              "            await google.colab.kernel.invokeFunction('convertToInteractive',\n",
              "                                                     [key], {});\n",
              "          if (!dataTable) return;\n",
              "\n",
              "          const docLinkHtml = 'Like what you see? Visit the ' +\n",
              "            '<a target=\"_blank\" href=https://colab.research.google.com/notebooks/data_table.ipynb>data table notebook</a>'\n",
              "            + ' to learn more about interactive tables.';\n",
              "          element.innerHTML = '';\n",
              "          dataTable['output_type'] = 'display_data';\n",
              "          await google.colab.output.renderOutput(dataTable, element);\n",
              "          const docLink = document.createElement('div');\n",
              "          docLink.innerHTML = docLinkHtml;\n",
              "          element.appendChild(docLink);\n",
              "        }\n",
              "      </script>\n",
              "    </div>\n",
              "  </div>\n",
              "  "
            ]
          },
          "metadata": {},
          "execution_count": 187
        }
      ]
    },
    {
      "cell_type": "code",
      "source": [
        "d={'15-19':'15-19','20-24':'20-29','25-29':'20-29','30-34':'30-39','35-39':'30-39','40-44':'40-49','45-49':'40-49','50-54':'50-59','55-59':'50-59','60-64':'60-64'}\n",
        "belstat['Leeftijdsgroep']=belstat['age.group'].map(d).fillna('64+')\n",
        "belstat.head(20)"
      ],
      "metadata": {
        "id": "-m5O8XnsumIw",
        "outputId": "05573b35-e51f-48a7-9b15-2a49b5e045d5",
        "colab": {
          "base_uri": "https://localhost:8080/",
          "height": 614
        }
      },
      "execution_count": null,
      "outputs": [
        {
          "output_type": "execute_result",
          "data": {
            "text/plain": [
              "   age.group  population Leeftijdsgroep\n",
              "3      15-19      366648          15-19\n",
              "4      20-24      375469          20-29\n",
              "5      25-29      387131          20-29\n",
              "6      30-34      401285          30-39\n",
              "7      35-39      409587          30-39\n",
              "8      40-44      458485          40-49\n",
              "9      45-49      493720          40-49\n",
              "10     50-54      463668          50-59\n",
              "11     55-59      413315          50-59\n",
              "12     60-64      379301          60-64\n",
              "13     65-69      299152            64+\n",
              "14     70-74      279789            64+\n",
              "15     75-79      249260            64+\n",
              "16     80-84      182352            64+\n",
              "17     85-89      104449            64+\n",
              "18     90-94       29888            64+\n",
              "19     95-99        7678            64+\n",
              "20      100+         923            64+"
            ],
            "text/html": [
              "\n",
              "  <div id=\"df-0b24f7c5-2b3f-49cf-beb7-698f317d94be\">\n",
              "    <div class=\"colab-df-container\">\n",
              "      <div>\n",
              "<style scoped>\n",
              "    .dataframe tbody tr th:only-of-type {\n",
              "        vertical-align: middle;\n",
              "    }\n",
              "\n",
              "    .dataframe tbody tr th {\n",
              "        vertical-align: top;\n",
              "    }\n",
              "\n",
              "    .dataframe thead th {\n",
              "        text-align: right;\n",
              "    }\n",
              "</style>\n",
              "<table border=\"1\" class=\"dataframe\">\n",
              "  <thead>\n",
              "    <tr style=\"text-align: right;\">\n",
              "      <th></th>\n",
              "      <th>age.group</th>\n",
              "      <th>population</th>\n",
              "      <th>Leeftijdsgroep</th>\n",
              "    </tr>\n",
              "  </thead>\n",
              "  <tbody>\n",
              "    <tr>\n",
              "      <th>3</th>\n",
              "      <td>15-19</td>\n",
              "      <td>366648</td>\n",
              "      <td>15-19</td>\n",
              "    </tr>\n",
              "    <tr>\n",
              "      <th>4</th>\n",
              "      <td>20-24</td>\n",
              "      <td>375469</td>\n",
              "      <td>20-29</td>\n",
              "    </tr>\n",
              "    <tr>\n",
              "      <th>5</th>\n",
              "      <td>25-29</td>\n",
              "      <td>387131</td>\n",
              "      <td>20-29</td>\n",
              "    </tr>\n",
              "    <tr>\n",
              "      <th>6</th>\n",
              "      <td>30-34</td>\n",
              "      <td>401285</td>\n",
              "      <td>30-39</td>\n",
              "    </tr>\n",
              "    <tr>\n",
              "      <th>7</th>\n",
              "      <td>35-39</td>\n",
              "      <td>409587</td>\n",
              "      <td>30-39</td>\n",
              "    </tr>\n",
              "    <tr>\n",
              "      <th>8</th>\n",
              "      <td>40-44</td>\n",
              "      <td>458485</td>\n",
              "      <td>40-49</td>\n",
              "    </tr>\n",
              "    <tr>\n",
              "      <th>9</th>\n",
              "      <td>45-49</td>\n",
              "      <td>493720</td>\n",
              "      <td>40-49</td>\n",
              "    </tr>\n",
              "    <tr>\n",
              "      <th>10</th>\n",
              "      <td>50-54</td>\n",
              "      <td>463668</td>\n",
              "      <td>50-59</td>\n",
              "    </tr>\n",
              "    <tr>\n",
              "      <th>11</th>\n",
              "      <td>55-59</td>\n",
              "      <td>413315</td>\n",
              "      <td>50-59</td>\n",
              "    </tr>\n",
              "    <tr>\n",
              "      <th>12</th>\n",
              "      <td>60-64</td>\n",
              "      <td>379301</td>\n",
              "      <td>60-64</td>\n",
              "    </tr>\n",
              "    <tr>\n",
              "      <th>13</th>\n",
              "      <td>65-69</td>\n",
              "      <td>299152</td>\n",
              "      <td>64+</td>\n",
              "    </tr>\n",
              "    <tr>\n",
              "      <th>14</th>\n",
              "      <td>70-74</td>\n",
              "      <td>279789</td>\n",
              "      <td>64+</td>\n",
              "    </tr>\n",
              "    <tr>\n",
              "      <th>15</th>\n",
              "      <td>75-79</td>\n",
              "      <td>249260</td>\n",
              "      <td>64+</td>\n",
              "    </tr>\n",
              "    <tr>\n",
              "      <th>16</th>\n",
              "      <td>80-84</td>\n",
              "      <td>182352</td>\n",
              "      <td>64+</td>\n",
              "    </tr>\n",
              "    <tr>\n",
              "      <th>17</th>\n",
              "      <td>85-89</td>\n",
              "      <td>104449</td>\n",
              "      <td>64+</td>\n",
              "    </tr>\n",
              "    <tr>\n",
              "      <th>18</th>\n",
              "      <td>90-94</td>\n",
              "      <td>29888</td>\n",
              "      <td>64+</td>\n",
              "    </tr>\n",
              "    <tr>\n",
              "      <th>19</th>\n",
              "      <td>95-99</td>\n",
              "      <td>7678</td>\n",
              "      <td>64+</td>\n",
              "    </tr>\n",
              "    <tr>\n",
              "      <th>20</th>\n",
              "      <td>100+</td>\n",
              "      <td>923</td>\n",
              "      <td>64+</td>\n",
              "    </tr>\n",
              "  </tbody>\n",
              "</table>\n",
              "</div>\n",
              "      <button class=\"colab-df-convert\" onclick=\"convertToInteractive('df-0b24f7c5-2b3f-49cf-beb7-698f317d94be')\"\n",
              "              title=\"Convert this dataframe to an interactive table.\"\n",
              "              style=\"display:none;\">\n",
              "        \n",
              "  <svg xmlns=\"http://www.w3.org/2000/svg\" height=\"24px\"viewBox=\"0 0 24 24\"\n",
              "       width=\"24px\">\n",
              "    <path d=\"M0 0h24v24H0V0z\" fill=\"none\"/>\n",
              "    <path d=\"M18.56 5.44l.94 2.06.94-2.06 2.06-.94-2.06-.94-.94-2.06-.94 2.06-2.06.94zm-11 1L8.5 8.5l.94-2.06 2.06-.94-2.06-.94L8.5 2.5l-.94 2.06-2.06.94zm10 10l.94 2.06.94-2.06 2.06-.94-2.06-.94-.94-2.06-.94 2.06-2.06.94z\"/><path d=\"M17.41 7.96l-1.37-1.37c-.4-.4-.92-.59-1.43-.59-.52 0-1.04.2-1.43.59L10.3 9.45l-7.72 7.72c-.78.78-.78 2.05 0 2.83L4 21.41c.39.39.9.59 1.41.59.51 0 1.02-.2 1.41-.59l7.78-7.78 2.81-2.81c.8-.78.8-2.07 0-2.86zM5.41 20L4 18.59l7.72-7.72 1.47 1.35L5.41 20z\"/>\n",
              "  </svg>\n",
              "      </button>\n",
              "      \n",
              "  <style>\n",
              "    .colab-df-container {\n",
              "      display:flex;\n",
              "      flex-wrap:wrap;\n",
              "      gap: 12px;\n",
              "    }\n",
              "\n",
              "    .colab-df-convert {\n",
              "      background-color: #E8F0FE;\n",
              "      border: none;\n",
              "      border-radius: 50%;\n",
              "      cursor: pointer;\n",
              "      display: none;\n",
              "      fill: #1967D2;\n",
              "      height: 32px;\n",
              "      padding: 0 0 0 0;\n",
              "      width: 32px;\n",
              "    }\n",
              "\n",
              "    .colab-df-convert:hover {\n",
              "      background-color: #E2EBFA;\n",
              "      box-shadow: 0px 1px 2px rgba(60, 64, 67, 0.3), 0px 1px 3px 1px rgba(60, 64, 67, 0.15);\n",
              "      fill: #174EA6;\n",
              "    }\n",
              "\n",
              "    [theme=dark] .colab-df-convert {\n",
              "      background-color: #3B4455;\n",
              "      fill: #D2E3FC;\n",
              "    }\n",
              "\n",
              "    [theme=dark] .colab-df-convert:hover {\n",
              "      background-color: #434B5C;\n",
              "      box-shadow: 0px 1px 3px 1px rgba(0, 0, 0, 0.15);\n",
              "      filter: drop-shadow(0px 1px 2px rgba(0, 0, 0, 0.3));\n",
              "      fill: #FFFFFF;\n",
              "    }\n",
              "  </style>\n",
              "\n",
              "      <script>\n",
              "        const buttonEl =\n",
              "          document.querySelector('#df-0b24f7c5-2b3f-49cf-beb7-698f317d94be button.colab-df-convert');\n",
              "        buttonEl.style.display =\n",
              "          google.colab.kernel.accessAllowed ? 'block' : 'none';\n",
              "\n",
              "        async function convertToInteractive(key) {\n",
              "          const element = document.querySelector('#df-0b24f7c5-2b3f-49cf-beb7-698f317d94be');\n",
              "          const dataTable =\n",
              "            await google.colab.kernel.invokeFunction('convertToInteractive',\n",
              "                                                     [key], {});\n",
              "          if (!dataTable) return;\n",
              "\n",
              "          const docLinkHtml = 'Like what you see? Visit the ' +\n",
              "            '<a target=\"_blank\" href=https://colab.research.google.com/notebooks/data_table.ipynb>data table notebook</a>'\n",
              "            + ' to learn more about interactive tables.';\n",
              "          element.innerHTML = '';\n",
              "          dataTable['output_type'] = 'display_data';\n",
              "          await google.colab.output.renderOutput(dataTable, element);\n",
              "          const docLink = document.createElement('div');\n",
              "          docLink.innerHTML = docLinkHtml;\n",
              "          element.appendChild(docLink);\n",
              "        }\n",
              "      </script>\n",
              "    </div>\n",
              "  </div>\n",
              "  "
            ]
          },
          "metadata": {},
          "execution_count": 188
        }
      ]
    },
    {
      "cell_type": "code",
      "source": [
        "belstat = belstat.groupby('Leeftijdsgroep')['population'].sum().reset_index()\n",
        "belstat.head(10)"
      ],
      "metadata": {
        "id": "0HEO5MZwumF_",
        "outputId": "a8f79066-f2d7-4bc1-837f-3de782cf1914",
        "colab": {
          "base_uri": "https://localhost:8080/",
          "height": 269
        }
      },
      "execution_count": null,
      "outputs": [
        {
          "output_type": "execute_result",
          "data": {
            "text/plain": [
              "  Leeftijdsgroep  population\n",
              "0          15-19      366648\n",
              "1          20-29      762600\n",
              "2          30-39      810872\n",
              "3          40-49      952205\n",
              "4          50-59      876983\n",
              "5          60-64      379301\n",
              "6            64+     1153491"
            ],
            "text/html": [
              "\n",
              "  <div id=\"df-df789bc6-0c66-4717-8378-bd7545ae0658\">\n",
              "    <div class=\"colab-df-container\">\n",
              "      <div>\n",
              "<style scoped>\n",
              "    .dataframe tbody tr th:only-of-type {\n",
              "        vertical-align: middle;\n",
              "    }\n",
              "\n",
              "    .dataframe tbody tr th {\n",
              "        vertical-align: top;\n",
              "    }\n",
              "\n",
              "    .dataframe thead th {\n",
              "        text-align: right;\n",
              "    }\n",
              "</style>\n",
              "<table border=\"1\" class=\"dataframe\">\n",
              "  <thead>\n",
              "    <tr style=\"text-align: right;\">\n",
              "      <th></th>\n",
              "      <th>Leeftijdsgroep</th>\n",
              "      <th>population</th>\n",
              "    </tr>\n",
              "  </thead>\n",
              "  <tbody>\n",
              "    <tr>\n",
              "      <th>0</th>\n",
              "      <td>15-19</td>\n",
              "      <td>366648</td>\n",
              "    </tr>\n",
              "    <tr>\n",
              "      <th>1</th>\n",
              "      <td>20-29</td>\n",
              "      <td>762600</td>\n",
              "    </tr>\n",
              "    <tr>\n",
              "      <th>2</th>\n",
              "      <td>30-39</td>\n",
              "      <td>810872</td>\n",
              "    </tr>\n",
              "    <tr>\n",
              "      <th>3</th>\n",
              "      <td>40-49</td>\n",
              "      <td>952205</td>\n",
              "    </tr>\n",
              "    <tr>\n",
              "      <th>4</th>\n",
              "      <td>50-59</td>\n",
              "      <td>876983</td>\n",
              "    </tr>\n",
              "    <tr>\n",
              "      <th>5</th>\n",
              "      <td>60-64</td>\n",
              "      <td>379301</td>\n",
              "    </tr>\n",
              "    <tr>\n",
              "      <th>6</th>\n",
              "      <td>64+</td>\n",
              "      <td>1153491</td>\n",
              "    </tr>\n",
              "  </tbody>\n",
              "</table>\n",
              "</div>\n",
              "      <button class=\"colab-df-convert\" onclick=\"convertToInteractive('df-df789bc6-0c66-4717-8378-bd7545ae0658')\"\n",
              "              title=\"Convert this dataframe to an interactive table.\"\n",
              "              style=\"display:none;\">\n",
              "        \n",
              "  <svg xmlns=\"http://www.w3.org/2000/svg\" height=\"24px\"viewBox=\"0 0 24 24\"\n",
              "       width=\"24px\">\n",
              "    <path d=\"M0 0h24v24H0V0z\" fill=\"none\"/>\n",
              "    <path d=\"M18.56 5.44l.94 2.06.94-2.06 2.06-.94-2.06-.94-.94-2.06-.94 2.06-2.06.94zm-11 1L8.5 8.5l.94-2.06 2.06-.94-2.06-.94L8.5 2.5l-.94 2.06-2.06.94zm10 10l.94 2.06.94-2.06 2.06-.94-2.06-.94-.94-2.06-.94 2.06-2.06.94z\"/><path d=\"M17.41 7.96l-1.37-1.37c-.4-.4-.92-.59-1.43-.59-.52 0-1.04.2-1.43.59L10.3 9.45l-7.72 7.72c-.78.78-.78 2.05 0 2.83L4 21.41c.39.39.9.59 1.41.59.51 0 1.02-.2 1.41-.59l7.78-7.78 2.81-2.81c.8-.78.8-2.07 0-2.86zM5.41 20L4 18.59l7.72-7.72 1.47 1.35L5.41 20z\"/>\n",
              "  </svg>\n",
              "      </button>\n",
              "      \n",
              "  <style>\n",
              "    .colab-df-container {\n",
              "      display:flex;\n",
              "      flex-wrap:wrap;\n",
              "      gap: 12px;\n",
              "    }\n",
              "\n",
              "    .colab-df-convert {\n",
              "      background-color: #E8F0FE;\n",
              "      border: none;\n",
              "      border-radius: 50%;\n",
              "      cursor: pointer;\n",
              "      display: none;\n",
              "      fill: #1967D2;\n",
              "      height: 32px;\n",
              "      padding: 0 0 0 0;\n",
              "      width: 32px;\n",
              "    }\n",
              "\n",
              "    .colab-df-convert:hover {\n",
              "      background-color: #E2EBFA;\n",
              "      box-shadow: 0px 1px 2px rgba(60, 64, 67, 0.3), 0px 1px 3px 1px rgba(60, 64, 67, 0.15);\n",
              "      fill: #174EA6;\n",
              "    }\n",
              "\n",
              "    [theme=dark] .colab-df-convert {\n",
              "      background-color: #3B4455;\n",
              "      fill: #D2E3FC;\n",
              "    }\n",
              "\n",
              "    [theme=dark] .colab-df-convert:hover {\n",
              "      background-color: #434B5C;\n",
              "      box-shadow: 0px 1px 3px 1px rgba(0, 0, 0, 0.15);\n",
              "      filter: drop-shadow(0px 1px 2px rgba(0, 0, 0, 0.3));\n",
              "      fill: #FFFFFF;\n",
              "    }\n",
              "  </style>\n",
              "\n",
              "      <script>\n",
              "        const buttonEl =\n",
              "          document.querySelector('#df-df789bc6-0c66-4717-8378-bd7545ae0658 button.colab-df-convert');\n",
              "        buttonEl.style.display =\n",
              "          google.colab.kernel.accessAllowed ? 'block' : 'none';\n",
              "\n",
              "        async function convertToInteractive(key) {\n",
              "          const element = document.querySelector('#df-df789bc6-0c66-4717-8378-bd7545ae0658');\n",
              "          const dataTable =\n",
              "            await google.colab.kernel.invokeFunction('convertToInteractive',\n",
              "                                                     [key], {});\n",
              "          if (!dataTable) return;\n",
              "\n",
              "          const docLinkHtml = 'Like what you see? Visit the ' +\n",
              "            '<a target=\"_blank\" href=https://colab.research.google.com/notebooks/data_table.ipynb>data table notebook</a>'\n",
              "            + ' to learn more about interactive tables.';\n",
              "          element.innerHTML = '';\n",
              "          dataTable['output_type'] = 'display_data';\n",
              "          await google.colab.output.renderOutput(dataTable, element);\n",
              "          const docLink = document.createElement('div');\n",
              "          docLink.innerHTML = docLinkHtml;\n",
              "          element.appendChild(docLink);\n",
              "        }\n",
              "      </script>\n",
              "    </div>\n",
              "  </div>\n",
              "  "
            ]
          },
          "metadata": {},
          "execution_count": 189
        }
      ]
    },
    {
      "cell_type": "code",
      "source": [
        "tot_population = belstat['population'].sum()\n",
        "print(tot_population)\n",
        "belstat['percentage_population']= belstat['population']/tot_population\n",
        "belstat.head(10)"
      ],
      "metadata": {
        "id": "HOBQGbj2umDP",
        "outputId": "a5e87ad9-bd31-4ef4-8555-6f6acb241902",
        "colab": {
          "base_uri": "https://localhost:8080/",
          "height": 287
        }
      },
      "execution_count": null,
      "outputs": [
        {
          "output_type": "stream",
          "name": "stdout",
          "text": [
            "5302100\n"
          ]
        },
        {
          "output_type": "execute_result",
          "data": {
            "text/plain": [
              "  Leeftijdsgroep  population  percentage_population\n",
              "0          15-19      366648               0.069151\n",
              "1          20-29      762600               0.143830\n",
              "2          30-39      810872               0.152934\n",
              "3          40-49      952205               0.179590\n",
              "4          50-59      876983               0.165403\n",
              "5          60-64      379301               0.071538\n",
              "6            64+     1153491               0.217554"
            ],
            "text/html": [
              "\n",
              "  <div id=\"df-3543ec09-01d5-4849-8ed7-0b031dab2707\">\n",
              "    <div class=\"colab-df-container\">\n",
              "      <div>\n",
              "<style scoped>\n",
              "    .dataframe tbody tr th:only-of-type {\n",
              "        vertical-align: middle;\n",
              "    }\n",
              "\n",
              "    .dataframe tbody tr th {\n",
              "        vertical-align: top;\n",
              "    }\n",
              "\n",
              "    .dataframe thead th {\n",
              "        text-align: right;\n",
              "    }\n",
              "</style>\n",
              "<table border=\"1\" class=\"dataframe\">\n",
              "  <thead>\n",
              "    <tr style=\"text-align: right;\">\n",
              "      <th></th>\n",
              "      <th>Leeftijdsgroep</th>\n",
              "      <th>population</th>\n",
              "      <th>percentage_population</th>\n",
              "    </tr>\n",
              "  </thead>\n",
              "  <tbody>\n",
              "    <tr>\n",
              "      <th>0</th>\n",
              "      <td>15-19</td>\n",
              "      <td>366648</td>\n",
              "      <td>0.069151</td>\n",
              "    </tr>\n",
              "    <tr>\n",
              "      <th>1</th>\n",
              "      <td>20-29</td>\n",
              "      <td>762600</td>\n",
              "      <td>0.143830</td>\n",
              "    </tr>\n",
              "    <tr>\n",
              "      <th>2</th>\n",
              "      <td>30-39</td>\n",
              "      <td>810872</td>\n",
              "      <td>0.152934</td>\n",
              "    </tr>\n",
              "    <tr>\n",
              "      <th>3</th>\n",
              "      <td>40-49</td>\n",
              "      <td>952205</td>\n",
              "      <td>0.179590</td>\n",
              "    </tr>\n",
              "    <tr>\n",
              "      <th>4</th>\n",
              "      <td>50-59</td>\n",
              "      <td>876983</td>\n",
              "      <td>0.165403</td>\n",
              "    </tr>\n",
              "    <tr>\n",
              "      <th>5</th>\n",
              "      <td>60-64</td>\n",
              "      <td>379301</td>\n",
              "      <td>0.071538</td>\n",
              "    </tr>\n",
              "    <tr>\n",
              "      <th>6</th>\n",
              "      <td>64+</td>\n",
              "      <td>1153491</td>\n",
              "      <td>0.217554</td>\n",
              "    </tr>\n",
              "  </tbody>\n",
              "</table>\n",
              "</div>\n",
              "      <button class=\"colab-df-convert\" onclick=\"convertToInteractive('df-3543ec09-01d5-4849-8ed7-0b031dab2707')\"\n",
              "              title=\"Convert this dataframe to an interactive table.\"\n",
              "              style=\"display:none;\">\n",
              "        \n",
              "  <svg xmlns=\"http://www.w3.org/2000/svg\" height=\"24px\"viewBox=\"0 0 24 24\"\n",
              "       width=\"24px\">\n",
              "    <path d=\"M0 0h24v24H0V0z\" fill=\"none\"/>\n",
              "    <path d=\"M18.56 5.44l.94 2.06.94-2.06 2.06-.94-2.06-.94-.94-2.06-.94 2.06-2.06.94zm-11 1L8.5 8.5l.94-2.06 2.06-.94-2.06-.94L8.5 2.5l-.94 2.06-2.06.94zm10 10l.94 2.06.94-2.06 2.06-.94-2.06-.94-.94-2.06-.94 2.06-2.06.94z\"/><path d=\"M17.41 7.96l-1.37-1.37c-.4-.4-.92-.59-1.43-.59-.52 0-1.04.2-1.43.59L10.3 9.45l-7.72 7.72c-.78.78-.78 2.05 0 2.83L4 21.41c.39.39.9.59 1.41.59.51 0 1.02-.2 1.41-.59l7.78-7.78 2.81-2.81c.8-.78.8-2.07 0-2.86zM5.41 20L4 18.59l7.72-7.72 1.47 1.35L5.41 20z\"/>\n",
              "  </svg>\n",
              "      </button>\n",
              "      \n",
              "  <style>\n",
              "    .colab-df-container {\n",
              "      display:flex;\n",
              "      flex-wrap:wrap;\n",
              "      gap: 12px;\n",
              "    }\n",
              "\n",
              "    .colab-df-convert {\n",
              "      background-color: #E8F0FE;\n",
              "      border: none;\n",
              "      border-radius: 50%;\n",
              "      cursor: pointer;\n",
              "      display: none;\n",
              "      fill: #1967D2;\n",
              "      height: 32px;\n",
              "      padding: 0 0 0 0;\n",
              "      width: 32px;\n",
              "    }\n",
              "\n",
              "    .colab-df-convert:hover {\n",
              "      background-color: #E2EBFA;\n",
              "      box-shadow: 0px 1px 2px rgba(60, 64, 67, 0.3), 0px 1px 3px 1px rgba(60, 64, 67, 0.15);\n",
              "      fill: #174EA6;\n",
              "    }\n",
              "\n",
              "    [theme=dark] .colab-df-convert {\n",
              "      background-color: #3B4455;\n",
              "      fill: #D2E3FC;\n",
              "    }\n",
              "\n",
              "    [theme=dark] .colab-df-convert:hover {\n",
              "      background-color: #434B5C;\n",
              "      box-shadow: 0px 1px 3px 1px rgba(0, 0, 0, 0.15);\n",
              "      filter: drop-shadow(0px 1px 2px rgba(0, 0, 0, 0.3));\n",
              "      fill: #FFFFFF;\n",
              "    }\n",
              "  </style>\n",
              "\n",
              "      <script>\n",
              "        const buttonEl =\n",
              "          document.querySelector('#df-3543ec09-01d5-4849-8ed7-0b031dab2707 button.colab-df-convert');\n",
              "        buttonEl.style.display =\n",
              "          google.colab.kernel.accessAllowed ? 'block' : 'none';\n",
              "\n",
              "        async function convertToInteractive(key) {\n",
              "          const element = document.querySelector('#df-3543ec09-01d5-4849-8ed7-0b031dab2707');\n",
              "          const dataTable =\n",
              "            await google.colab.kernel.invokeFunction('convertToInteractive',\n",
              "                                                     [key], {});\n",
              "          if (!dataTable) return;\n",
              "\n",
              "          const docLinkHtml = 'Like what you see? Visit the ' +\n",
              "            '<a target=\"_blank\" href=https://colab.research.google.com/notebooks/data_table.ipynb>data table notebook</a>'\n",
              "            + ' to learn more about interactive tables.';\n",
              "          element.innerHTML = '';\n",
              "          dataTable['output_type'] = 'display_data';\n",
              "          await google.colab.output.renderOutput(dataTable, element);\n",
              "          const docLink = document.createElement('div');\n",
              "          docLink.innerHTML = docLinkHtml;\n",
              "          element.appendChild(docLink);\n",
              "        }\n",
              "      </script>\n",
              "    </div>\n",
              "  </div>\n",
              "  "
            ]
          },
          "metadata": {},
          "execution_count": 190
        }
      ]
    },
    {
      "cell_type": "code",
      "source": [
        "n = 2164\n",
        "e_p= np.array(belstat['percentage_population'])\n",
        "e= e_p*n\n",
        "print(e)"
      ],
      "metadata": {
        "id": "_b4ZEq2PumAo",
        "outputId": "20ce0fc2-d642-41b3-b725-0884fbe4858d",
        "colab": {
          "base_uri": "https://localhost:8080/"
        }
      },
      "execution_count": null,
      "outputs": [
        {
          "output_type": "stream",
          "name": "stdout",
          "text": [
            "[149.64377737 311.24769431 330.94943664 388.63311141 357.93199148\n",
            " 154.80797495 470.78601384]\n"
          ]
        }
      ]
    },
    {
      "cell_type": "code",
      "source": [
        "o = np.array(digi['Percentage']) /100 *n\n",
        "print(o)"
      ],
      "metadata": {
        "id": "Yg9kq-OQul94",
        "outputId": "6c37a124-709d-4491-bc2d-ea7d32ed1b33",
        "colab": {
          "base_uri": "https://localhost:8080/"
        }
      },
      "execution_count": null,
      "outputs": [
        {
          "output_type": "stream",
          "name": "stdout",
          "text": [
            "[142.824 307.288 324.6   352.732 374.372 157.972 502.048]\n"
          ]
        }
      ]
    },
    {
      "cell_type": "code",
      "source": [
        "alpha = 0.05\n",
        "k=len(o)\n",
        "df=k-1\n",
        "g=stats.chi2.isf(alpha, df)\n",
        "#chi2,p,df,e= stats.chi2_contingency(o)    \n",
        "chi2,p=stats.chisquare(f_obs=o, f_exp=e )\n",
        "print(\"k: %.2f\" %k)\n",
        "print(\"df: %.2f\" % df)\n",
        "print('chi-kwadraat: %.2f'% chi2)\n",
        "print(\"g value %.2f\" % g)\n",
        "print(\"p value: %.2f\" %p)"
      ],
      "metadata": {
        "id": "TIWljmzwul7J",
        "outputId": "4fa6a9da-07af-484e-c103-daac937eb94e",
        "colab": {
          "base_uri": "https://localhost:8080/"
        }
      },
      "execution_count": null,
      "outputs": [
        {
          "output_type": "stream",
          "name": "stdout",
          "text": [
            "k: 7.00\n",
            "df: 6.00\n",
            "chi-kwadraat: 6.70\n",
            "g value 12.59\n",
            "p value: 0.35\n"
          ]
        }
      ]
    },
    {
      "cell_type": "markdown",
      "source": [
        "#**Hoodstuk 5 kwalitatieve en kwantitatieve variabele**"
      ],
      "metadata": {
        "id": "k3YUIbKLkz3F"
      }
    },
    {
      "cell_type": "code",
      "source": [
        "!pip install --upgrade scipy==1.6.0"
      ],
      "metadata": {
        "id": "o-Qhr-Cxk9j8",
        "outputId": "2d6a741e-34fd-4e57-96b4-a03f732ffc7d",
        "colab": {
          "base_uri": "https://localhost:8080/"
        }
      },
      "execution_count": null,
      "outputs": [
        {
          "output_type": "stream",
          "name": "stdout",
          "text": [
            "Looking in indexes: https://pypi.org/simple, https://us-python.pkg.dev/colab-wheels/public/simple/\n",
            "Requirement already satisfied: scipy==1.6.0 in /usr/local/lib/python3.7/dist-packages (1.6.0)\n",
            "Requirement already satisfied: numpy>=1.16.5 in /usr/local/lib/python3.7/dist-packages (from scipy==1.6.0) (1.21.6)\n"
          ]
        }
      ]
    },
    {
      "cell_type": "markdown",
      "source": [
        "##unpaired samples"
      ],
      "metadata": {
        "id": "n5NvOqfu6tL8"
      }
    },
    {
      "cell_type": "code",
      "source": [
        "control=np.array([91,87,99,77,88,91])\n",
        "treatment=np.array([101,110,103,93,99,104])"
      ],
      "metadata": {
        "id": "QbrwZU2x6tCF"
      },
      "execution_count": null,
      "outputs": []
    },
    {
      "cell_type": "code",
      "source": [
        "test = stats.ttest_ind(a=control, b=treatment,alternative='less', equal_var=False)  #less -> gemiddelde van control groep is kleiner dan gemm van de treatment groep\n",
        "                                                                                    #equal_var=false -> er wordt van uit gegaan dat s1 != s2\n",
        "print(test)\n",
        "print(\"p value is kleiner dan 0.05 dus er is wel een significant verschil -> h0 verwerpen\")"
      ],
      "metadata": {
        "id": "hNAG7vkU6tAH",
        "outputId": "b719c6c9-678f-4784-ffa1-ac3db16e14fa",
        "colab": {
          "base_uri": "https://localhost:8080/"
        }
      },
      "execution_count": null,
      "outputs": [
        {
          "output_type": "stream",
          "name": "stdout",
          "text": [
            "Ttest_indResult(statistic=-3.445612673536487, pvalue=0.003391230079206901)\n",
            "p value is kleiner dan 0.05 dus er is wel een significant verschil -> h0 verwerpen\n"
          ]
        }
      ]
    },
    {
      "cell_type": "code",
      "source": [
        "stats.ttest_ind(alternative= 'two-sided', a=tips.tip[tips.sex == 'Male'], b=tips.tip[tips.sex == 'Female']) #p value is groter dan 0.05 -> h1 word verworpen"
      ],
      "metadata": {
        "id": "wkkbzeGl6s9D",
        "outputId": "02095314-273d-4ebb-f185-c868201b8556",
        "colab": {
          "base_uri": "https://localhost:8080/"
        }
      },
      "execution_count": null,
      "outputs": [
        {
          "output_type": "execute_result",
          "data": {
            "text/plain": [
              "Ttest_indResult(statistic=1.3878597054212687, pvalue=0.16645623503456763)"
            ]
          },
          "metadata": {},
          "execution_count": 23
        }
      ]
    },
    {
      "cell_type": "markdown",
      "source": [
        "##Paired samples"
      ],
      "metadata": {
        "id": "fljJLgyB9syz"
      }
    },
    {
      "cell_type": "code",
      "source": [
        "regular=  np.array([16,20,21,22,23,22,27,25,27,28])\n",
        "additives=  np.array([19,22,24,24,25,25,26,26,28,32])"
      ],
      "metadata": {
        "id": "3ylRfw6I9sqK"
      },
      "execution_count": null,
      "outputs": []
    },
    {
      "cell_type": "code",
      "source": [
        "stats.ttest_rel(regular,additives,alternative='less')"
      ],
      "metadata": {
        "id": "90dinc8e9snq",
        "outputId": "1a31c839-35ce-49d7-ba5e-a64e7110136f",
        "colab": {
          "base_uri": "https://localhost:8080/"
        }
      },
      "execution_count": null,
      "outputs": [
        {
          "output_type": "execute_result",
          "data": {
            "text/plain": [
              "Ttest_relResult(statistic=-4.47213595499958, pvalue=0.00077494295585091)"
            ]
          },
          "metadata": {},
          "execution_count": 4
        }
      ]
    },
    {
      "cell_type": "markdown",
      "source": [
        "##Effect size (cohens d) - EMPTY -"
      ],
      "metadata": {
        "id": "sYhREQRewhO9"
      }
    },
    {
      "cell_type": "code",
      "source": [
        ""
      ],
      "metadata": {
        "id": "INKTJtnrwkBc"
      },
      "execution_count": null,
      "outputs": []
    },
    {
      "cell_type": "code",
      "source": [
        ""
      ],
      "metadata": {
        "id": "Gy7jvGf6wj78"
      },
      "execution_count": null,
      "outputs": []
    },
    {
      "cell_type": "markdown",
      "source": [
        "##grafieken opstellen"
      ],
      "metadata": {
        "id": "VPCFoDvY1klL"
      }
    },
    {
      "cell_type": "code",
      "source": [
        "tips = sns.load_dataset(\"tips\")\n",
        "tips.head()"
      ],
      "metadata": {
        "id": "s2O3SjSOk9hU",
        "outputId": "9b32ca3c-a302-4cfa-9a73-3b99f1215bfa",
        "colab": {
          "base_uri": "https://localhost:8080/",
          "height": 206
        }
      },
      "execution_count": null,
      "outputs": [
        {
          "output_type": "execute_result",
          "data": {
            "text/plain": [
              "   total_bill   tip     sex smoker  day    time  size\n",
              "0       16.99  1.01  Female     No  Sun  Dinner     2\n",
              "1       10.34  1.66    Male     No  Sun  Dinner     3\n",
              "2       21.01  3.50    Male     No  Sun  Dinner     3\n",
              "3       23.68  3.31    Male     No  Sun  Dinner     2\n",
              "4       24.59  3.61  Female     No  Sun  Dinner     4"
            ],
            "text/html": [
              "\n",
              "  <div id=\"df-50cca58d-d3e1-4ce5-bc63-5259b893178f\">\n",
              "    <div class=\"colab-df-container\">\n",
              "      <div>\n",
              "<style scoped>\n",
              "    .dataframe tbody tr th:only-of-type {\n",
              "        vertical-align: middle;\n",
              "    }\n",
              "\n",
              "    .dataframe tbody tr th {\n",
              "        vertical-align: top;\n",
              "    }\n",
              "\n",
              "    .dataframe thead th {\n",
              "        text-align: right;\n",
              "    }\n",
              "</style>\n",
              "<table border=\"1\" class=\"dataframe\">\n",
              "  <thead>\n",
              "    <tr style=\"text-align: right;\">\n",
              "      <th></th>\n",
              "      <th>total_bill</th>\n",
              "      <th>tip</th>\n",
              "      <th>sex</th>\n",
              "      <th>smoker</th>\n",
              "      <th>day</th>\n",
              "      <th>time</th>\n",
              "      <th>size</th>\n",
              "    </tr>\n",
              "  </thead>\n",
              "  <tbody>\n",
              "    <tr>\n",
              "      <th>0</th>\n",
              "      <td>16.99</td>\n",
              "      <td>1.01</td>\n",
              "      <td>Female</td>\n",
              "      <td>No</td>\n",
              "      <td>Sun</td>\n",
              "      <td>Dinner</td>\n",
              "      <td>2</td>\n",
              "    </tr>\n",
              "    <tr>\n",
              "      <th>1</th>\n",
              "      <td>10.34</td>\n",
              "      <td>1.66</td>\n",
              "      <td>Male</td>\n",
              "      <td>No</td>\n",
              "      <td>Sun</td>\n",
              "      <td>Dinner</td>\n",
              "      <td>3</td>\n",
              "    </tr>\n",
              "    <tr>\n",
              "      <th>2</th>\n",
              "      <td>21.01</td>\n",
              "      <td>3.50</td>\n",
              "      <td>Male</td>\n",
              "      <td>No</td>\n",
              "      <td>Sun</td>\n",
              "      <td>Dinner</td>\n",
              "      <td>3</td>\n",
              "    </tr>\n",
              "    <tr>\n",
              "      <th>3</th>\n",
              "      <td>23.68</td>\n",
              "      <td>3.31</td>\n",
              "      <td>Male</td>\n",
              "      <td>No</td>\n",
              "      <td>Sun</td>\n",
              "      <td>Dinner</td>\n",
              "      <td>2</td>\n",
              "    </tr>\n",
              "    <tr>\n",
              "      <th>4</th>\n",
              "      <td>24.59</td>\n",
              "      <td>3.61</td>\n",
              "      <td>Female</td>\n",
              "      <td>No</td>\n",
              "      <td>Sun</td>\n",
              "      <td>Dinner</td>\n",
              "      <td>4</td>\n",
              "    </tr>\n",
              "  </tbody>\n",
              "</table>\n",
              "</div>\n",
              "      <button class=\"colab-df-convert\" onclick=\"convertToInteractive('df-50cca58d-d3e1-4ce5-bc63-5259b893178f')\"\n",
              "              title=\"Convert this dataframe to an interactive table.\"\n",
              "              style=\"display:none;\">\n",
              "        \n",
              "  <svg xmlns=\"http://www.w3.org/2000/svg\" height=\"24px\"viewBox=\"0 0 24 24\"\n",
              "       width=\"24px\">\n",
              "    <path d=\"M0 0h24v24H0V0z\" fill=\"none\"/>\n",
              "    <path d=\"M18.56 5.44l.94 2.06.94-2.06 2.06-.94-2.06-.94-.94-2.06-.94 2.06-2.06.94zm-11 1L8.5 8.5l.94-2.06 2.06-.94-2.06-.94L8.5 2.5l-.94 2.06-2.06.94zm10 10l.94 2.06.94-2.06 2.06-.94-2.06-.94-.94-2.06-.94 2.06-2.06.94z\"/><path d=\"M17.41 7.96l-1.37-1.37c-.4-.4-.92-.59-1.43-.59-.52 0-1.04.2-1.43.59L10.3 9.45l-7.72 7.72c-.78.78-.78 2.05 0 2.83L4 21.41c.39.39.9.59 1.41.59.51 0 1.02-.2 1.41-.59l7.78-7.78 2.81-2.81c.8-.78.8-2.07 0-2.86zM5.41 20L4 18.59l7.72-7.72 1.47 1.35L5.41 20z\"/>\n",
              "  </svg>\n",
              "      </button>\n",
              "      \n",
              "  <style>\n",
              "    .colab-df-container {\n",
              "      display:flex;\n",
              "      flex-wrap:wrap;\n",
              "      gap: 12px;\n",
              "    }\n",
              "\n",
              "    .colab-df-convert {\n",
              "      background-color: #E8F0FE;\n",
              "      border: none;\n",
              "      border-radius: 50%;\n",
              "      cursor: pointer;\n",
              "      display: none;\n",
              "      fill: #1967D2;\n",
              "      height: 32px;\n",
              "      padding: 0 0 0 0;\n",
              "      width: 32px;\n",
              "    }\n",
              "\n",
              "    .colab-df-convert:hover {\n",
              "      background-color: #E2EBFA;\n",
              "      box-shadow: 0px 1px 2px rgba(60, 64, 67, 0.3), 0px 1px 3px 1px rgba(60, 64, 67, 0.15);\n",
              "      fill: #174EA6;\n",
              "    }\n",
              "\n",
              "    [theme=dark] .colab-df-convert {\n",
              "      background-color: #3B4455;\n",
              "      fill: #D2E3FC;\n",
              "    }\n",
              "\n",
              "    [theme=dark] .colab-df-convert:hover {\n",
              "      background-color: #434B5C;\n",
              "      box-shadow: 0px 1px 3px 1px rgba(0, 0, 0, 0.15);\n",
              "      filter: drop-shadow(0px 1px 2px rgba(0, 0, 0, 0.3));\n",
              "      fill: #FFFFFF;\n",
              "    }\n",
              "  </style>\n",
              "\n",
              "      <script>\n",
              "        const buttonEl =\n",
              "          document.querySelector('#df-50cca58d-d3e1-4ce5-bc63-5259b893178f button.colab-df-convert');\n",
              "        buttonEl.style.display =\n",
              "          google.colab.kernel.accessAllowed ? 'block' : 'none';\n",
              "\n",
              "        async function convertToInteractive(key) {\n",
              "          const element = document.querySelector('#df-50cca58d-d3e1-4ce5-bc63-5259b893178f');\n",
              "          const dataTable =\n",
              "            await google.colab.kernel.invokeFunction('convertToInteractive',\n",
              "                                                     [key], {});\n",
              "          if (!dataTable) return;\n",
              "\n",
              "          const docLinkHtml = 'Like what you see? Visit the ' +\n",
              "            '<a target=\"_blank\" href=https://colab.research.google.com/notebooks/data_table.ipynb>data table notebook</a>'\n",
              "            + ' to learn more about interactive tables.';\n",
              "          element.innerHTML = '';\n",
              "          dataTable['output_type'] = 'display_data';\n",
              "          await google.colab.output.renderOutput(dataTable, element);\n",
              "          const docLink = document.createElement('div');\n",
              "          docLink.innerHTML = docLinkHtml;\n",
              "          element.appendChild(docLink);\n",
              "        }\n",
              "      </script>\n",
              "    </div>\n",
              "  </div>\n",
              "  "
            ]
          },
          "metadata": {},
          "execution_count": 8
        }
      ]
    },
    {
      "cell_type": "code",
      "source": [
        "sns.boxplot(data=tips, x='tip',y='sex')"
      ],
      "metadata": {
        "id": "BWKz1b1sk9dM",
        "outputId": "53198021-2412-4f70-d3a3-0b80f57fd037",
        "colab": {
          "base_uri": "https://localhost:8080/",
          "height": 297
        }
      },
      "execution_count": null,
      "outputs": [
        {
          "output_type": "execute_result",
          "data": {
            "text/plain": [
              "<matplotlib.axes._subplots.AxesSubplot at 0x7fb54bd01a10>"
            ]
          },
          "metadata": {},
          "execution_count": 10
        },
        {
          "output_type": "display_data",
          "data": {
            "text/plain": [
              "<Figure size 432x288 with 1 Axes>"
            ],
            "image/png": "[encoded data removed]"
          },
          "metadata": {
            "needs_background": "light"
          }
        }
      ]
    },
    {
      "cell_type": "code",
      "source": [
        "#density plot\n",
        "sns.kdeplot(data=tips, hue=\"sex\",x='tip')"
      ],
      "metadata": {
        "id": "1q1u_2WRk9ak",
        "outputId": "8d5c0874-a4d1-4b01-c694-c20b63d7528c",
        "colab": {
          "base_uri": "https://localhost:8080/",
          "height": 297
        }
      },
      "execution_count": null,
      "outputs": [
        {
          "output_type": "execute_result",
          "data": {
            "text/plain": [
              "<matplotlib.axes._subplots.AxesSubplot at 0x7fb54ba76bd0>"
            ]
          },
          "metadata": {},
          "execution_count": 12
        },
        {
          "output_type": "display_data",
          "data": {
            "text/plain": [
              "<Figure size 432x288 with 1 Axes>"
            ],
            "image/png": "[encoded data removed]"
          },
          "metadata": {
            "needs_background": "light"
          }
        }
      ]
    },
    {
      "cell_type": "code",
      "source": [
        "#bar chart with error bars\n",
        "sns.barplot(data=tips, x='sex', y='tip',ci='sd')"
      ],
      "metadata": {
        "id": "l6yD4FRxk9X1",
        "outputId": "8babb336-b11b-4266-fc78-5a843fb55f43",
        "colab": {
          "base_uri": "https://localhost:8080/",
          "height": 297
        }
      },
      "execution_count": null,
      "outputs": [
        {
          "output_type": "execute_result",
          "data": {
            "text/plain": [
              "<matplotlib.axes._subplots.AxesSubplot at 0x7fb54b907250>"
            ]
          },
          "metadata": {},
          "execution_count": 16
        },
        {
          "output_type": "display_data",
          "data": {
            "text/plain": [
              "<Figure size 432x288 with 1 Axes>"
            ],
            "image/png": "[encoded data removed]"
          },
          "metadata": {
            "needs_background": "light"
          }
        }
      ]
    },
    {
      "cell_type": "markdown",
      "source": [
        "## Excercises"
      ],
      "metadata": {
        "id": "87284N2y-i9x"
      }
    },
    {
      "cell_type": "markdown",
      "source": [
        "###Excersice 1"
      ],
      "metadata": {
        "id": "D5jTX5aqwcYE"
      }
    },
    {
      "cell_type": "code",
      "source": [
        "android = pd.read_csv('https://raw.githubusercontent.com/arnauddormaels/Data-Science-and-AI/main/data/android_persistence_cpu.csv', delimiter=';')\n",
        "android.head()"
      ],
      "metadata": {
        "id": "1cCtWsaq-i2i",
        "outputId": "08fda6e3-955c-4339-bd3f-56771f85cbdf",
        "colab": {
          "base_uri": "https://localhost:8080/",
          "height": 206
        }
      },
      "execution_count": null,
      "outputs": [
        {
          "output_type": "execute_result",
          "data": {
            "text/plain": [
              "   Time    PersistenceType DataSize\n",
              "0  1.81  Sharedpreferences    Small\n",
              "1  1.35  Sharedpreferences    Small\n",
              "2  1.84  Sharedpreferences    Small\n",
              "3  1.54  Sharedpreferences    Small\n",
              "4  1.81  Sharedpreferences    Small"
            ],
            "text/html": [
              "\n",
              "  <div id=\"df-97f6af53-55ae-4463-a379-92344a294bf1\">\n",
              "    <div class=\"colab-df-container\">\n",
              "      <div>\n",
              "<style scoped>\n",
              "    .dataframe tbody tr th:only-of-type {\n",
              "        vertical-align: middle;\n",
              "    }\n",
              "\n",
              "    .dataframe tbody tr th {\n",
              "        vertical-align: top;\n",
              "    }\n",
              "\n",
              "    .dataframe thead th {\n",
              "        text-align: right;\n",
              "    }\n",
              "</style>\n",
              "<table border=\"1\" class=\"dataframe\">\n",
              "  <thead>\n",
              "    <tr style=\"text-align: right;\">\n",
              "      <th></th>\n",
              "      <th>Time</th>\n",
              "      <th>PersistenceType</th>\n",
              "      <th>DataSize</th>\n",
              "    </tr>\n",
              "  </thead>\n",
              "  <tbody>\n",
              "    <tr>\n",
              "      <th>0</th>\n",
              "      <td>1.81</td>\n",
              "      <td>Sharedpreferences</td>\n",
              "      <td>Small</td>\n",
              "    </tr>\n",
              "    <tr>\n",
              "      <th>1</th>\n",
              "      <td>1.35</td>\n",
              "      <td>Sharedpreferences</td>\n",
              "      <td>Small</td>\n",
              "    </tr>\n",
              "    <tr>\n",
              "      <th>2</th>\n",
              "      <td>1.84</td>\n",
              "      <td>Sharedpreferences</td>\n",
              "      <td>Small</td>\n",
              "    </tr>\n",
              "    <tr>\n",
              "      <th>3</th>\n",
              "      <td>1.54</td>\n",
              "      <td>Sharedpreferences</td>\n",
              "      <td>Small</td>\n",
              "    </tr>\n",
              "    <tr>\n",
              "      <th>4</th>\n",
              "      <td>1.81</td>\n",
              "      <td>Sharedpreferences</td>\n",
              "      <td>Small</td>\n",
              "    </tr>\n",
              "  </tbody>\n",
              "</table>\n",
              "</div>\n",
              "      <button class=\"colab-df-convert\" onclick=\"convertToInteractive('df-97f6af53-55ae-4463-a379-92344a294bf1')\"\n",
              "              title=\"Convert this dataframe to an interactive table.\"\n",
              "              style=\"display:none;\">\n",
              "        \n",
              "  <svg xmlns=\"http://www.w3.org/2000/svg\" height=\"24px\"viewBox=\"0 0 24 24\"\n",
              "       width=\"24px\">\n",
              "    <path d=\"M0 0h24v24H0V0z\" fill=\"none\"/>\n",
              "    <path d=\"M18.56 5.44l.94 2.06.94-2.06 2.06-.94-2.06-.94-.94-2.06-.94 2.06-2.06.94zm-11 1L8.5 8.5l.94-2.06 2.06-.94-2.06-.94L8.5 2.5l-.94 2.06-2.06.94zm10 10l.94 2.06.94-2.06 2.06-.94-2.06-.94-.94-2.06-.94 2.06-2.06.94z\"/><path d=\"M17.41 7.96l-1.37-1.37c-.4-.4-.92-.59-1.43-.59-.52 0-1.04.2-1.43.59L10.3 9.45l-7.72 7.72c-.78.78-.78 2.05 0 2.83L4 21.41c.39.39.9.59 1.41.59.51 0 1.02-.2 1.41-.59l7.78-7.78 2.81-2.81c.8-.78.8-2.07 0-2.86zM5.41 20L4 18.59l7.72-7.72 1.47 1.35L5.41 20z\"/>\n",
              "  </svg>\n",
              "      </button>\n",
              "      \n",
              "  <style>\n",
              "    .colab-df-container {\n",
              "      display:flex;\n",
              "      flex-wrap:wrap;\n",
              "      gap: 12px;\n",
              "    }\n",
              "\n",
              "    .colab-df-convert {\n",
              "      background-color: #E8F0FE;\n",
              "      border: none;\n",
              "      border-radius: 50%;\n",
              "      cursor: pointer;\n",
              "      display: none;\n",
              "      fill: #1967D2;\n",
              "      height: 32px;\n",
              "      padding: 0 0 0 0;\n",
              "      width: 32px;\n",
              "    }\n",
              "\n",
              "    .colab-df-convert:hover {\n",
              "      background-color: #E2EBFA;\n",
              "      box-shadow: 0px 1px 2px rgba(60, 64, 67, 0.3), 0px 1px 3px 1px rgba(60, 64, 67, 0.15);\n",
              "      fill: #174EA6;\n",
              "    }\n",
              "\n",
              "    [theme=dark] .colab-df-convert {\n",
              "      background-color: #3B4455;\n",
              "      fill: #D2E3FC;\n",
              "    }\n",
              "\n",
              "    [theme=dark] .colab-df-convert:hover {\n",
              "      background-color: #434B5C;\n",
              "      box-shadow: 0px 1px 3px 1px rgba(0, 0, 0, 0.15);\n",
              "      filter: drop-shadow(0px 1px 2px rgba(0, 0, 0, 0.3));\n",
              "      fill: #FFFFFF;\n",
              "    }\n",
              "  </style>\n",
              "\n",
              "      <script>\n",
              "        const buttonEl =\n",
              "          document.querySelector('#df-97f6af53-55ae-4463-a379-92344a294bf1 button.colab-df-convert');\n",
              "        buttonEl.style.display =\n",
              "          google.colab.kernel.accessAllowed ? 'block' : 'none';\n",
              "\n",
              "        async function convertToInteractive(key) {\n",
              "          const element = document.querySelector('#df-97f6af53-55ae-4463-a379-92344a294bf1');\n",
              "          const dataTable =\n",
              "            await google.colab.kernel.invokeFunction('convertToInteractive',\n",
              "                                                     [key], {});\n",
              "          if (!dataTable) return;\n",
              "\n",
              "          const docLinkHtml = 'Like what you see? Visit the ' +\n",
              "            '<a target=\"_blank\" href=https://colab.research.google.com/notebooks/data_table.ipynb>data table notebook</a>'\n",
              "            + ' to learn more about interactive tables.';\n",
              "          element.innerHTML = '';\n",
              "          dataTable['output_type'] = 'display_data';\n",
              "          await google.colab.output.renderOutput(dataTable, element);\n",
              "          const docLink = document.createElement('div');\n",
              "          docLink.innerHTML = docLinkHtml;\n",
              "          element.appendChild(docLink);\n",
              "        }\n",
              "      </script>\n",
              "    </div>\n",
              "  </div>\n",
              "  "
            ]
          },
          "metadata": {},
          "execution_count": 5
        }
      ]
    },
    {
      "cell_type": "code",
      "source": [
        "android.groupby(['DataSize','PersistenceType'])['Time'].mean()"
      ],
      "metadata": {
        "id": "ifxU9o-N-it5",
        "outputId": "de14f520-2952-4749-eb82-b8b0288e9e3a",
        "colab": {
          "base_uri": "https://localhost:8080/"
        }
      },
      "execution_count": null,
      "outputs": [
        {
          "output_type": "execute_result",
          "data": {
            "text/plain": [
              "DataSize  PersistenceType  \n",
              "Large     GreenDAO             12.110333\n",
              "          Realm                10.651667\n",
              "          SQLLite              11.515000\n",
              "Medium    GreenDAO              7.454000\n",
              "          Realm                 5.818000\n",
              "          SQLLite               7.794000\n",
              "Small     GreenDAO              1.893667\n",
              "          Realm                 1.599000\n",
              "          SQLLite               1.799000\n",
              "          Sharedpreferences     1.673667\n",
              "Name: Time, dtype: float64"
            ]
          },
          "metadata": {},
          "execution_count": 6
        }
      ]
    },
    {
      "cell_type": "code",
      "source": [
        "realm=np.array(android[(android.DataSize=='Small') & (android.PersistenceType=='Realm')]['Time'])\n",
        "print(realm)\n",
        "sharedPreferences = np.array(android[(android.DataSize=='Small') & (android.PersistenceType=='Sharedpreferences')]['Time'])\n",
        "print(sharedPreferences)"
      ],
      "metadata": {
        "id": "BVPr1N7Lsp3M",
        "outputId": "6c4111f4-064a-4d91-f52c-1d74763ed5ae",
        "colab": {
          "base_uri": "https://localhost:8080/"
        }
      },
      "execution_count": null,
      "outputs": [
        {
          "output_type": "stream",
          "name": "stdout",
          "text": [
            "[1.57 1.77 1.75 1.78 1.36 2.17 1.58 1.59 1.36 1.55 1.33 1.96 1.58 1.59\n",
            " 1.78 1.31 1.59 2.25 1.34 2.27 1.74 1.31 1.81 1.13 1.58 1.14 1.98 1.33\n",
            " 1.12 1.35]\n",
            "[1.81 1.35 1.84 1.54 1.81 1.82 1.79 1.57 1.78 1.79 1.97 1.6  1.77 2.23\n",
            " 1.79 1.77 1.32 1.76 2.   1.3  1.77 1.35 1.56 1.79 1.31 2.23 1.83 1.09\n",
            " 1.57 1.1 ]\n"
          ]
        }
      ]
    },
    {
      "cell_type": "code",
      "source": [
        "stats.ttest_ind(a=realm,b=sharedPreferences, alternative = 'less', equal_var=False)"
      ],
      "metadata": {
        "id": "KeFl-SWmsp0s",
        "outputId": "779fd8e0-a3c3-4fbd-8a92-9732da3601da",
        "colab": {
          "base_uri": "https://localhost:8080/"
        }
      },
      "execution_count": null,
      "outputs": [
        {
          "output_type": "execute_result",
          "data": {
            "text/plain": [
              "Ttest_indResult(statistic=-0.9624716662718158, pvalue=0.16992370571901433)"
            ]
          },
          "metadata": {},
          "execution_count": 8
        }
      ]
    },
    {
      "cell_type": "markdown",
      "source": [
        "###Excersice 2 "
      ],
      "metadata": {
        "id": "scOMvH7axBIM"
      }
    },
    {
      "cell_type": "code",
      "source": [
        "scores= pd.read_csv(\"https://raw.githubusercontent.com/arnauddormaels/Data-Science-and-AI/main/data/test-results.csv\")\n",
        "scores.head()"
      ],
      "metadata": {
        "id": "ltEtTAtQxBBu",
        "outputId": "ff8978df-df38-41f0-b699-282e5d90bc50",
        "colab": {
          "base_uri": "https://localhost:8080/",
          "height": 206
        }
      },
      "execution_count": null,
      "outputs": [
        {
          "output_type": "execute_result",
          "data": {
            "text/plain": [
              "  Session  Score\n",
              "0       A   12.5\n",
              "1       A    7.5\n",
              "2       A    NaN\n",
              "3       A   21.0\n",
              "4       A   10.0"
            ],
            "text/html": [
              "\n",
              "  <div id=\"df-5e9cc663-14b5-477d-9e7f-dfb751c8cdef\">\n",
              "    <div class=\"colab-df-container\">\n",
              "      <div>\n",
              "<style scoped>\n",
              "    .dataframe tbody tr th:only-of-type {\n",
              "        vertical-align: middle;\n",
              "    }\n",
              "\n",
              "    .dataframe tbody tr th {\n",
              "        vertical-align: top;\n",
              "    }\n",
              "\n",
              "    .dataframe thead th {\n",
              "        text-align: right;\n",
              "    }\n",
              "</style>\n",
              "<table border=\"1\" class=\"dataframe\">\n",
              "  <thead>\n",
              "    <tr style=\"text-align: right;\">\n",
              "      <th></th>\n",
              "      <th>Session</th>\n",
              "      <th>Score</th>\n",
              "    </tr>\n",
              "  </thead>\n",
              "  <tbody>\n",
              "    <tr>\n",
              "      <th>0</th>\n",
              "      <td>A</td>\n",
              "      <td>12.5</td>\n",
              "    </tr>\n",
              "    <tr>\n",
              "      <th>1</th>\n",
              "      <td>A</td>\n",
              "      <td>7.5</td>\n",
              "    </tr>\n",
              "    <tr>\n",
              "      <th>2</th>\n",
              "      <td>A</td>\n",
              "      <td>NaN</td>\n",
              "    </tr>\n",
              "    <tr>\n",
              "      <th>3</th>\n",
              "      <td>A</td>\n",
              "      <td>21.0</td>\n",
              "    </tr>\n",
              "    <tr>\n",
              "      <th>4</th>\n",
              "      <td>A</td>\n",
              "      <td>10.0</td>\n",
              "    </tr>\n",
              "  </tbody>\n",
              "</table>\n",
              "</div>\n",
              "      <button class=\"colab-df-convert\" onclick=\"convertToInteractive('df-5e9cc663-14b5-477d-9e7f-dfb751c8cdef')\"\n",
              "              title=\"Convert this dataframe to an interactive table.\"\n",
              "              style=\"display:none;\">\n",
              "        \n",
              "  <svg xmlns=\"http://www.w3.org/2000/svg\" height=\"24px\"viewBox=\"0 0 24 24\"\n",
              "       width=\"24px\">\n",
              "    <path d=\"M0 0h24v24H0V0z\" fill=\"none\"/>\n",
              "    <path d=\"M18.56 5.44l.94 2.06.94-2.06 2.06-.94-2.06-.94-.94-2.06-.94 2.06-2.06.94zm-11 1L8.5 8.5l.94-2.06 2.06-.94-2.06-.94L8.5 2.5l-.94 2.06-2.06.94zm10 10l.94 2.06.94-2.06 2.06-.94-2.06-.94-.94-2.06-.94 2.06-2.06.94z\"/><path d=\"M17.41 7.96l-1.37-1.37c-.4-.4-.92-.59-1.43-.59-.52 0-1.04.2-1.43.59L10.3 9.45l-7.72 7.72c-.78.78-.78 2.05 0 2.83L4 21.41c.39.39.9.59 1.41.59.51 0 1.02-.2 1.41-.59l7.78-7.78 2.81-2.81c.8-.78.8-2.07 0-2.86zM5.41 20L4 18.59l7.72-7.72 1.47 1.35L5.41 20z\"/>\n",
              "  </svg>\n",
              "      </button>\n",
              "      \n",
              "  <style>\n",
              "    .colab-df-container {\n",
              "      display:flex;\n",
              "      flex-wrap:wrap;\n",
              "      gap: 12px;\n",
              "    }\n",
              "\n",
              "    .colab-df-convert {\n",
              "      background-color: #E8F0FE;\n",
              "      border: none;\n",
              "      border-radius: 50%;\n",
              "      cursor: pointer;\n",
              "      display: none;\n",
              "      fill: #1967D2;\n",
              "      height: 32px;\n",
              "      padding: 0 0 0 0;\n",
              "      width: 32px;\n",
              "    }\n",
              "\n",
              "    .colab-df-convert:hover {\n",
              "      background-color: #E2EBFA;\n",
              "      box-shadow: 0px 1px 2px rgba(60, 64, 67, 0.3), 0px 1px 3px 1px rgba(60, 64, 67, 0.15);\n",
              "      fill: #174EA6;\n",
              "    }\n",
              "\n",
              "    [theme=dark] .colab-df-convert {\n",
              "      background-color: #3B4455;\n",
              "      fill: #D2E3FC;\n",
              "    }\n",
              "\n",
              "    [theme=dark] .colab-df-convert:hover {\n",
              "      background-color: #434B5C;\n",
              "      box-shadow: 0px 1px 3px 1px rgba(0, 0, 0, 0.15);\n",
              "      filter: drop-shadow(0px 1px 2px rgba(0, 0, 0, 0.3));\n",
              "      fill: #FFFFFF;\n",
              "    }\n",
              "  </style>\n",
              "\n",
              "      <script>\n",
              "        const buttonEl =\n",
              "          document.querySelector('#df-5e9cc663-14b5-477d-9e7f-dfb751c8cdef button.colab-df-convert');\n",
              "        buttonEl.style.display =\n",
              "          google.colab.kernel.accessAllowed ? 'block' : 'none';\n",
              "\n",
              "        async function convertToInteractive(key) {\n",
              "          const element = document.querySelector('#df-5e9cc663-14b5-477d-9e7f-dfb751c8cdef');\n",
              "          const dataTable =\n",
              "            await google.colab.kernel.invokeFunction('convertToInteractive',\n",
              "                                                     [key], {});\n",
              "          if (!dataTable) return;\n",
              "\n",
              "          const docLinkHtml = 'Like what you see? Visit the ' +\n",
              "            '<a target=\"_blank\" href=https://colab.research.google.com/notebooks/data_table.ipynb>data table notebook</a>'\n",
              "            + ' to learn more about interactive tables.';\n",
              "          element.innerHTML = '';\n",
              "          dataTable['output_type'] = 'display_data';\n",
              "          await google.colab.output.renderOutput(dataTable, element);\n",
              "          const docLink = document.createElement('div');\n",
              "          docLink.innerHTML = docLinkHtml;\n",
              "          element.appendChild(docLink);\n",
              "        }\n",
              "      </script>\n",
              "    </div>\n",
              "  </div>\n",
              "  "
            ]
          },
          "metadata": {},
          "execution_count": 19
        }
      ]
    },
    {
      "cell_type": "code",
      "source": [
        "scores = scores.dropna()\n",
        "scores.head()"
      ],
      "metadata": {
        "id": "4s8CCxQ7xA--",
        "outputId": "44883ad8-3332-427f-9b89-1445a4dc68b2",
        "colab": {
          "base_uri": "https://localhost:8080/",
          "height": 206
        }
      },
      "execution_count": null,
      "outputs": [
        {
          "output_type": "execute_result",
          "data": {
            "text/plain": [
              "  Session  Score\n",
              "0       A   12.5\n",
              "1       A    7.5\n",
              "3       A   21.0\n",
              "4       A   10.0\n",
              "5       A   20.5"
            ],
            "text/html": [
              "\n",
              "  <div id=\"df-476a82de-7cd3-4fed-bd22-57610b581eae\">\n",
              "    <div class=\"colab-df-container\">\n",
              "      <div>\n",
              "<style scoped>\n",
              "    .dataframe tbody tr th:only-of-type {\n",
              "        vertical-align: middle;\n",
              "    }\n",
              "\n",
              "    .dataframe tbody tr th {\n",
              "        vertical-align: top;\n",
              "    }\n",
              "\n",
              "    .dataframe thead th {\n",
              "        text-align: right;\n",
              "    }\n",
              "</style>\n",
              "<table border=\"1\" class=\"dataframe\">\n",
              "  <thead>\n",
              "    <tr style=\"text-align: right;\">\n",
              "      <th></th>\n",
              "      <th>Session</th>\n",
              "      <th>Score</th>\n",
              "    </tr>\n",
              "  </thead>\n",
              "  <tbody>\n",
              "    <tr>\n",
              "      <th>0</th>\n",
              "      <td>A</td>\n",
              "      <td>12.5</td>\n",
              "    </tr>\n",
              "    <tr>\n",
              "      <th>1</th>\n",
              "      <td>A</td>\n",
              "      <td>7.5</td>\n",
              "    </tr>\n",
              "    <tr>\n",
              "      <th>3</th>\n",
              "      <td>A</td>\n",
              "      <td>21.0</td>\n",
              "    </tr>\n",
              "    <tr>\n",
              "      <th>4</th>\n",
              "      <td>A</td>\n",
              "      <td>10.0</td>\n",
              "    </tr>\n",
              "    <tr>\n",
              "      <th>5</th>\n",
              "      <td>A</td>\n",
              "      <td>20.5</td>\n",
              "    </tr>\n",
              "  </tbody>\n",
              "</table>\n",
              "</div>\n",
              "      <button class=\"colab-df-convert\" onclick=\"convertToInteractive('df-476a82de-7cd3-4fed-bd22-57610b581eae')\"\n",
              "              title=\"Convert this dataframe to an interactive table.\"\n",
              "              style=\"display:none;\">\n",
              "        \n",
              "  <svg xmlns=\"http://www.w3.org/2000/svg\" height=\"24px\"viewBox=\"0 0 24 24\"\n",
              "       width=\"24px\">\n",
              "    <path d=\"M0 0h24v24H0V0z\" fill=\"none\"/>\n",
              "    <path d=\"M18.56 5.44l.94 2.06.94-2.06 2.06-.94-2.06-.94-.94-2.06-.94 2.06-2.06.94zm-11 1L8.5 8.5l.94-2.06 2.06-.94-2.06-.94L8.5 2.5l-.94 2.06-2.06.94zm10 10l.94 2.06.94-2.06 2.06-.94-2.06-.94-.94-2.06-.94 2.06-2.06.94z\"/><path d=\"M17.41 7.96l-1.37-1.37c-.4-.4-.92-.59-1.43-.59-.52 0-1.04.2-1.43.59L10.3 9.45l-7.72 7.72c-.78.78-.78 2.05 0 2.83L4 21.41c.39.39.9.59 1.41.59.51 0 1.02-.2 1.41-.59l7.78-7.78 2.81-2.81c.8-.78.8-2.07 0-2.86zM5.41 20L4 18.59l7.72-7.72 1.47 1.35L5.41 20z\"/>\n",
              "  </svg>\n",
              "      </button>\n",
              "      \n",
              "  <style>\n",
              "    .colab-df-container {\n",
              "      display:flex;\n",
              "      flex-wrap:wrap;\n",
              "      gap: 12px;\n",
              "    }\n",
              "\n",
              "    .colab-df-convert {\n",
              "      background-color: #E8F0FE;\n",
              "      border: none;\n",
              "      border-radius: 50%;\n",
              "      cursor: pointer;\n",
              "      display: none;\n",
              "      fill: #1967D2;\n",
              "      height: 32px;\n",
              "      padding: 0 0 0 0;\n",
              "      width: 32px;\n",
              "    }\n",
              "\n",
              "    .colab-df-convert:hover {\n",
              "      background-color: #E2EBFA;\n",
              "      box-shadow: 0px 1px 2px rgba(60, 64, 67, 0.3), 0px 1px 3px 1px rgba(60, 64, 67, 0.15);\n",
              "      fill: #174EA6;\n",
              "    }\n",
              "\n",
              "    [theme=dark] .colab-df-convert {\n",
              "      background-color: #3B4455;\n",
              "      fill: #D2E3FC;\n",
              "    }\n",
              "\n",
              "    [theme=dark] .colab-df-convert:hover {\n",
              "      background-color: #434B5C;\n",
              "      box-shadow: 0px 1px 3px 1px rgba(0, 0, 0, 0.15);\n",
              "      filter: drop-shadow(0px 1px 2px rgba(0, 0, 0, 0.3));\n",
              "      fill: #FFFFFF;\n",
              "    }\n",
              "  </style>\n",
              "\n",
              "      <script>\n",
              "        const buttonEl =\n",
              "          document.querySelector('#df-476a82de-7cd3-4fed-bd22-57610b581eae button.colab-df-convert');\n",
              "        buttonEl.style.display =\n",
              "          google.colab.kernel.accessAllowed ? 'block' : 'none';\n",
              "\n",
              "        async function convertToInteractive(key) {\n",
              "          const element = document.querySelector('#df-476a82de-7cd3-4fed-bd22-57610b581eae');\n",
              "          const dataTable =\n",
              "            await google.colab.kernel.invokeFunction('convertToInteractive',\n",
              "                                                     [key], {});\n",
              "          if (!dataTable) return;\n",
              "\n",
              "          const docLinkHtml = 'Like what you see? Visit the ' +\n",
              "            '<a target=\"_blank\" href=https://colab.research.google.com/notebooks/data_table.ipynb>data table notebook</a>'\n",
              "            + ' to learn more about interactive tables.';\n",
              "          element.innerHTML = '';\n",
              "          dataTable['output_type'] = 'display_data';\n",
              "          await google.colab.output.renderOutput(dataTable, element);\n",
              "          const docLink = document.createElement('div');\n",
              "          docLink.innerHTML = docLinkHtml;\n",
              "          element.appendChild(docLink);\n",
              "        }\n",
              "      </script>\n",
              "    </div>\n",
              "  </div>\n",
              "  "
            ]
          },
          "metadata": {},
          "execution_count": 20
        }
      ]
    },
    {
      "cell_type": "code",
      "source": [
        "scores.groupby('Session').describe()"
      ],
      "metadata": {
        "id": "hWauK6mTxA8U",
        "outputId": "780884f7-6d52-4e7e-8eac-3e3d8e35a900",
        "colab": {
          "base_uri": "https://localhost:8080/",
          "height": 363
        }
      },
      "execution_count": null,
      "outputs": [
        {
          "output_type": "execute_result",
          "data": {
            "text/plain": [
              "        Score                                                          \n",
              "        count       mean       std   min     25%     50%     75%    max\n",
              "Session                                                                \n",
              "A        17.0  13.117647  6.040306   4.0   8.000  12.500  17.000  26.50\n",
              "B        21.0  17.214286  9.150917   1.0  10.000  14.500  26.500  31.50\n",
              "C        25.0  18.800000  6.539941  10.0  13.000  18.500  22.000  34.50\n",
              "D        26.0  22.451923  4.641670  13.0  19.125  22.125  25.750  30.50\n",
              "E        22.0  18.852273  7.010052   0.0  16.375  19.250  21.375  30.75\n",
              "F        27.0  17.814815  6.274028   6.5  12.875  17.500  22.000  32.00\n",
              "G        29.0  18.736207  5.261126  10.0  16.500  18.750  23.000  27.75\n",
              "H        28.0  20.946429  8.133537   3.0  15.750  22.000  26.625  34.50"
            ],
            "text/html": [
              "\n",
              "  <div id=\"df-3b6f7595-79a3-420f-8326-bfe081edc470\">\n",
              "    <div class=\"colab-df-container\">\n",
              "      <div>\n",
              "<style scoped>\n",
              "    .dataframe tbody tr th:only-of-type {\n",
              "        vertical-align: middle;\n",
              "    }\n",
              "\n",
              "    .dataframe tbody tr th {\n",
              "        vertical-align: top;\n",
              "    }\n",
              "\n",
              "    .dataframe thead tr th {\n",
              "        text-align: left;\n",
              "    }\n",
              "\n",
              "    .dataframe thead tr:last-of-type th {\n",
              "        text-align: right;\n",
              "    }\n",
              "</style>\n",
              "<table border=\"1\" class=\"dataframe\">\n",
              "  <thead>\n",
              "    <tr>\n",
              "      <th></th>\n",
              "      <th colspan=\"8\" halign=\"left\">Score</th>\n",
              "    </tr>\n",
              "    <tr>\n",
              "      <th></th>\n",
              "      <th>count</th>\n",
              "      <th>mean</th>\n",
              "      <th>std</th>\n",
              "      <th>min</th>\n",
              "      <th>25%</th>\n",
              "      <th>50%</th>\n",
              "      <th>75%</th>\n",
              "      <th>max</th>\n",
              "    </tr>\n",
              "    <tr>\n",
              "      <th>Session</th>\n",
              "      <th></th>\n",
              "      <th></th>\n",
              "      <th></th>\n",
              "      <th></th>\n",
              "      <th></th>\n",
              "      <th></th>\n",
              "      <th></th>\n",
              "      <th></th>\n",
              "    </tr>\n",
              "  </thead>\n",
              "  <tbody>\n",
              "    <tr>\n",
              "      <th>A</th>\n",
              "      <td>17.0</td>\n",
              "      <td>13.117647</td>\n",
              "      <td>6.040306</td>\n",
              "      <td>4.0</td>\n",
              "      <td>8.000</td>\n",
              "      <td>12.500</td>\n",
              "      <td>17.000</td>\n",
              "      <td>26.50</td>\n",
              "    </tr>\n",
              "    <tr>\n",
              "      <th>B</th>\n",
              "      <td>21.0</td>\n",
              "      <td>17.214286</td>\n",
              "      <td>9.150917</td>\n",
              "      <td>1.0</td>\n",
              "      <td>10.000</td>\n",
              "      <td>14.500</td>\n",
              "      <td>26.500</td>\n",
              "      <td>31.50</td>\n",
              "    </tr>\n",
              "    <tr>\n",
              "      <th>C</th>\n",
              "      <td>25.0</td>\n",
              "      <td>18.800000</td>\n",
              "      <td>6.539941</td>\n",
              "      <td>10.0</td>\n",
              "      <td>13.000</td>\n",
              "      <td>18.500</td>\n",
              "      <td>22.000</td>\n",
              "      <td>34.50</td>\n",
              "    </tr>\n",
              "    <tr>\n",
              "      <th>D</th>\n",
              "      <td>26.0</td>\n",
              "      <td>22.451923</td>\n",
              "      <td>4.641670</td>\n",
              "      <td>13.0</td>\n",
              "      <td>19.125</td>\n",
              "      <td>22.125</td>\n",
              "      <td>25.750</td>\n",
              "      <td>30.50</td>\n",
              "    </tr>\n",
              "    <tr>\n",
              "      <th>E</th>\n",
              "      <td>22.0</td>\n",
              "      <td>18.852273</td>\n",
              "      <td>7.010052</td>\n",
              "      <td>0.0</td>\n",
              "      <td>16.375</td>\n",
              "      <td>19.250</td>\n",
              "      <td>21.375</td>\n",
              "      <td>30.75</td>\n",
              "    </tr>\n",
              "    <tr>\n",
              "      <th>F</th>\n",
              "      <td>27.0</td>\n",
              "      <td>17.814815</td>\n",
              "      <td>6.274028</td>\n",
              "      <td>6.5</td>\n",
              "      <td>12.875</td>\n",
              "      <td>17.500</td>\n",
              "      <td>22.000</td>\n",
              "      <td>32.00</td>\n",
              "    </tr>\n",
              "    <tr>\n",
              "      <th>G</th>\n",
              "      <td>29.0</td>\n",
              "      <td>18.736207</td>\n",
              "      <td>5.261126</td>\n",
              "      <td>10.0</td>\n",
              "      <td>16.500</td>\n",
              "      <td>18.750</td>\n",
              "      <td>23.000</td>\n",
              "      <td>27.75</td>\n",
              "    </tr>\n",
              "    <tr>\n",
              "      <th>H</th>\n",
              "      <td>28.0</td>\n",
              "      <td>20.946429</td>\n",
              "      <td>8.133537</td>\n",
              "      <td>3.0</td>\n",
              "      <td>15.750</td>\n",
              "      <td>22.000</td>\n",
              "      <td>26.625</td>\n",
              "      <td>34.50</td>\n",
              "    </tr>\n",
              "  </tbody>\n",
              "</table>\n",
              "</div>\n",
              "      <button class=\"colab-df-convert\" onclick=\"convertToInteractive('df-3b6f7595-79a3-420f-8326-bfe081edc470')\"\n",
              "              title=\"Convert this dataframe to an interactive table.\"\n",
              "              style=\"display:none;\">\n",
              "        \n",
              "  <svg xmlns=\"http://www.w3.org/2000/svg\" height=\"24px\"viewBox=\"0 0 24 24\"\n",
              "       width=\"24px\">\n",
              "    <path d=\"M0 0h24v24H0V0z\" fill=\"none\"/>\n",
              "    <path d=\"M18.56 5.44l.94 2.06.94-2.06 2.06-.94-2.06-.94-.94-2.06-.94 2.06-2.06.94zm-11 1L8.5 8.5l.94-2.06 2.06-.94-2.06-.94L8.5 2.5l-.94 2.06-2.06.94zm10 10l.94 2.06.94-2.06 2.06-.94-2.06-.94-.94-2.06-.94 2.06-2.06.94z\"/><path d=\"M17.41 7.96l-1.37-1.37c-.4-.4-.92-.59-1.43-.59-.52 0-1.04.2-1.43.59L10.3 9.45l-7.72 7.72c-.78.78-.78 2.05 0 2.83L4 21.41c.39.39.9.59 1.41.59.51 0 1.02-.2 1.41-.59l7.78-7.78 2.81-2.81c.8-.78.8-2.07 0-2.86zM5.41 20L4 18.59l7.72-7.72 1.47 1.35L5.41 20z\"/>\n",
              "  </svg>\n",
              "      </button>\n",
              "      \n",
              "  <style>\n",
              "    .colab-df-container {\n",
              "      display:flex;\n",
              "      flex-wrap:wrap;\n",
              "      gap: 12px;\n",
              "    }\n",
              "\n",
              "    .colab-df-convert {\n",
              "      background-color: #E8F0FE;\n",
              "      border: none;\n",
              "      border-radius: 50%;\n",
              "      cursor: pointer;\n",
              "      display: none;\n",
              "      fill: #1967D2;\n",
              "      height: 32px;\n",
              "      padding: 0 0 0 0;\n",
              "      width: 32px;\n",
              "    }\n",
              "\n",
              "    .colab-df-convert:hover {\n",
              "      background-color: #E2EBFA;\n",
              "      box-shadow: 0px 1px 2px rgba(60, 64, 67, 0.3), 0px 1px 3px 1px rgba(60, 64, 67, 0.15);\n",
              "      fill: #174EA6;\n",
              "    }\n",
              "\n",
              "    [theme=dark] .colab-df-convert {\n",
              "      background-color: #3B4455;\n",
              "      fill: #D2E3FC;\n",
              "    }\n",
              "\n",
              "    [theme=dark] .colab-df-convert:hover {\n",
              "      background-color: #434B5C;\n",
              "      box-shadow: 0px 1px 3px 1px rgba(0, 0, 0, 0.15);\n",
              "      filter: drop-shadow(0px 1px 2px rgba(0, 0, 0, 0.3));\n",
              "      fill: #FFFFFF;\n",
              "    }\n",
              "  </style>\n",
              "\n",
              "      <script>\n",
              "        const buttonEl =\n",
              "          document.querySelector('#df-3b6f7595-79a3-420f-8326-bfe081edc470 button.colab-df-convert');\n",
              "        buttonEl.style.display =\n",
              "          google.colab.kernel.accessAllowed ? 'block' : 'none';\n",
              "\n",
              "        async function convertToInteractive(key) {\n",
              "          const element = document.querySelector('#df-3b6f7595-79a3-420f-8326-bfe081edc470');\n",
              "          const dataTable =\n",
              "            await google.colab.kernel.invokeFunction('convertToInteractive',\n",
              "                                                     [key], {});\n",
              "          if (!dataTable) return;\n",
              "\n",
              "          const docLinkHtml = 'Like what you see? Visit the ' +\n",
              "            '<a target=\"_blank\" href=https://colab.research.google.com/notebooks/data_table.ipynb>data table notebook</a>'\n",
              "            + ' to learn more about interactive tables.';\n",
              "          element.innerHTML = '';\n",
              "          dataTable['output_type'] = 'display_data';\n",
              "          await google.colab.output.renderOutput(dataTable, element);\n",
              "          const docLink = document.createElement('div');\n",
              "          docLink.innerHTML = docLinkHtml;\n",
              "          element.appendChild(docLink);\n",
              "        }\n",
              "      </script>\n",
              "    </div>\n",
              "  </div>\n",
              "  "
            ]
          },
          "metadata": {},
          "execution_count": 22
        }
      ]
    },
    {
      "cell_type": "code",
      "source": [
        "sns.barplot(data=scores,x='Session',y='Score', ci='sd')"
      ],
      "metadata": {
        "id": "VulbWHp6xA5k",
        "outputId": "90e9ad86-1330-4297-b0a5-901b2598aa5a",
        "colab": {
          "base_uri": "https://localhost:8080/",
          "height": 299
        }
      },
      "execution_count": null,
      "outputs": [
        {
          "output_type": "execute_result",
          "data": {
            "text/plain": [
              "<matplotlib.axes._subplots.AxesSubplot at 0x7f2298dbe310>"
            ]
          },
          "metadata": {},
          "execution_count": 25
        },
        {
          "output_type": "display_data",
          "data": {
            "text/plain": [
              "<Figure size 432x288 with 1 Axes>"
            ],
            "image/png": "[encoded data removed]"
          },
          "metadata": {
            "needs_background": "light"
          }
        }
      ]
    },
    {
      "cell_type": "code",
      "source": [
        "sns.boxplot(data=scores[(scores.Session=='A') | (scores.Session=='B')],x=\"Score\",y='Session')"
      ],
      "metadata": {
        "id": "dfb9RzAMxAoL",
        "outputId": "54b477ba-342c-437c-e5b0-93e445eab673",
        "colab": {
          "base_uri": "https://localhost:8080/",
          "height": 297
        }
      },
      "execution_count": null,
      "outputs": [
        {
          "output_type": "execute_result",
          "data": {
            "text/plain": [
              "<matplotlib.axes._subplots.AxesSubplot at 0x7f2296e0a150>"
            ]
          },
          "metadata": {},
          "execution_count": 27
        },
        {
          "output_type": "display_data",
          "data": {
            "text/plain": [
              "<Figure size 432x288 with 1 Axes>"
            ],
            "image/png": "[encoded data removed]"
          },
          "metadata": {
            "needs_background": "light"
          }
        }
      ]
    },
    {
      "cell_type": "code",
      "source": [
        "a = np.array(scores[scores.Session == 'A']['Score'])\n",
        "b = np.array(scores[scores.Session=='B'].Score)\n",
        "print(a)\n",
        "print(b)\n",
        "stats.ttest_ind(a=a,b=b,alternative='less',equal_var=False)"
      ],
      "metadata": {
        "id": "lKmgflhFyNG7",
        "outputId": "67e1a82e-7584-451a-9554-b601c593ad69",
        "colab": {
          "base_uri": "https://localhost:8080/"
        }
      },
      "execution_count": null,
      "outputs": [
        {
          "output_type": "stream",
          "name": "stdout",
          "text": [
            "[12.5  7.5 21.  10.  20.5 14.   4.   7.   7.5  8.  13.5 26.5 18.  16.\n",
            " 10.5 17.   9.5]\n",
            "[21.5 10.  17.5 14.  28.  26.5  5.5 12.  31.5 14.5 11.5 27.  27.5 13.5\n",
            " 26.  27.5  1.   7.   6.  23.5 10. ]\n"
          ]
        },
        {
          "output_type": "execute_result",
          "data": {
            "text/plain": [
              "Ttest_indResult(statistic=-1.6541070146039145, pvalue=0.053557184014211265)"
            ]
          },
          "metadata": {},
          "execution_count": 34
        }
      ]
    },
    {
      "cell_type": "markdown",
      "source": [
        "#**Hoofdstuk 6 Twee kwantitatieve variabelen**"
      ],
      "metadata": {
        "id": "7U5sNM7evbZh"
      }
    },
    {
      "cell_type": "markdown",
      "source": [
        "##Som van de kleinste kwadraten"
      ],
      "metadata": {
        "id": "J8zq-RSA4BVg"
      }
    },
    {
      "cell_type": "code",
      "source": [
        "penguins = sns.load_dataset('penguins') # Load the Palmer Penguins demo dataset\n",
        "male_chinstrap = penguins[(penguins['species'] == 'Chinstrap') & (penguins['sex'] == 'Male')]\n",
        "male_chinstrap = male_chinstrap.groupby('flipper_length_mm')['body_mass_g'].mean().reset_index()\n",
        "male_chinstrap.head()"
      ],
      "metadata": {
        "id": "_df4BHgayNEs",
        "outputId": "7af922e5-5af6-4f47-fece-d936c23d926c",
        "colab": {
          "base_uri": "https://localhost:8080/",
          "height": 206
        }
      },
      "execution_count": 8,
      "outputs": [
        {
          "output_type": "execute_result",
          "data": {
            "text/plain": [
              "   flipper_length_mm  body_mass_g\n",
              "0              187.0  3250.000000\n",
              "1              191.0  3400.000000\n",
              "2              193.0  3741.666667\n",
              "3              194.0  3775.000000\n",
              "4              195.0  4000.000000"
            ],
            "text/html": [
              "\n",
              "  <div id=\"df-44f4d5fc-5fa7-4a60-b60a-b90f061f25af\">\n",
              "    <div class=\"colab-df-container\">\n",
              "      <div>\n",
              "<style scoped>\n",
              "    .dataframe tbody tr th:only-of-type {\n",
              "        vertical-align: middle;\n",
              "    }\n",
              "\n",
              "    .dataframe tbody tr th {\n",
              "        vertical-align: top;\n",
              "    }\n",
              "\n",
              "    .dataframe thead th {\n",
              "        text-align: right;\n",
              "    }\n",
              "</style>\n",
              "<table border=\"1\" class=\"dataframe\">\n",
              "  <thead>\n",
              "    <tr style=\"text-align: right;\">\n",
              "      <th></th>\n",
              "      <th>flipper_length_mm</th>\n",
              "      <th>body_mass_g</th>\n",
              "    </tr>\n",
              "  </thead>\n",
              "  <tbody>\n",
              "    <tr>\n",
              "      <th>0</th>\n",
              "      <td>187.0</td>\n",
              "      <td>3250.000000</td>\n",
              "    </tr>\n",
              "    <tr>\n",
              "      <th>1</th>\n",
              "      <td>191.0</td>\n",
              "      <td>3400.000000</td>\n",
              "    </tr>\n",
              "    <tr>\n",
              "      <th>2</th>\n",
              "      <td>193.0</td>\n",
              "      <td>3741.666667</td>\n",
              "    </tr>\n",
              "    <tr>\n",
              "      <th>3</th>\n",
              "      <td>194.0</td>\n",
              "      <td>3775.000000</td>\n",
              "    </tr>\n",
              "    <tr>\n",
              "      <th>4</th>\n",
              "      <td>195.0</td>\n",
              "      <td>4000.000000</td>\n",
              "    </tr>\n",
              "  </tbody>\n",
              "</table>\n",
              "</div>\n",
              "      <button class=\"colab-df-convert\" onclick=\"convertToInteractive('df-44f4d5fc-5fa7-4a60-b60a-b90f061f25af')\"\n",
              "              title=\"Convert this dataframe to an interactive table.\"\n",
              "              style=\"display:none;\">\n",
              "        \n",
              "  <svg xmlns=\"http://www.w3.org/2000/svg\" height=\"24px\"viewBox=\"0 0 24 24\"\n",
              "       width=\"24px\">\n",
              "    <path d=\"M0 0h24v24H0V0z\" fill=\"none\"/>\n",
              "    <path d=\"M18.56 5.44l.94 2.06.94-2.06 2.06-.94-2.06-.94-.94-2.06-.94 2.06-2.06.94zm-11 1L8.5 8.5l.94-2.06 2.06-.94-2.06-.94L8.5 2.5l-.94 2.06-2.06.94zm10 10l.94 2.06.94-2.06 2.06-.94-2.06-.94-.94-2.06-.94 2.06-2.06.94z\"/><path d=\"M17.41 7.96l-1.37-1.37c-.4-.4-.92-.59-1.43-.59-.52 0-1.04.2-1.43.59L10.3 9.45l-7.72 7.72c-.78.78-.78 2.05 0 2.83L4 21.41c.39.39.9.59 1.41.59.51 0 1.02-.2 1.41-.59l7.78-7.78 2.81-2.81c.8-.78.8-2.07 0-2.86zM5.41 20L4 18.59l7.72-7.72 1.47 1.35L5.41 20z\"/>\n",
              "  </svg>\n",
              "      </button>\n",
              "      \n",
              "  <style>\n",
              "    .colab-df-container {\n",
              "      display:flex;\n",
              "      flex-wrap:wrap;\n",
              "      gap: 12px;\n",
              "    }\n",
              "\n",
              "    .colab-df-convert {\n",
              "      background-color: #E8F0FE;\n",
              "      border: none;\n",
              "      border-radius: 50%;\n",
              "      cursor: pointer;\n",
              "      display: none;\n",
              "      fill: #1967D2;\n",
              "      height: 32px;\n",
              "      padding: 0 0 0 0;\n",
              "      width: 32px;\n",
              "    }\n",
              "\n",
              "    .colab-df-convert:hover {\n",
              "      background-color: #E2EBFA;\n",
              "      box-shadow: 0px 1px 2px rgba(60, 64, 67, 0.3), 0px 1px 3px 1px rgba(60, 64, 67, 0.15);\n",
              "      fill: #174EA6;\n",
              "    }\n",
              "\n",
              "    [theme=dark] .colab-df-convert {\n",
              "      background-color: #3B4455;\n",
              "      fill: #D2E3FC;\n",
              "    }\n",
              "\n",
              "    [theme=dark] .colab-df-convert:hover {\n",
              "      background-color: #434B5C;\n",
              "      box-shadow: 0px 1px 3px 1px rgba(0, 0, 0, 0.15);\n",
              "      filter: drop-shadow(0px 1px 2px rgba(0, 0, 0, 0.3));\n",
              "      fill: #FFFFFF;\n",
              "    }\n",
              "  </style>\n",
              "\n",
              "      <script>\n",
              "        const buttonEl =\n",
              "          document.querySelector('#df-44f4d5fc-5fa7-4a60-b60a-b90f061f25af button.colab-df-convert');\n",
              "        buttonEl.style.display =\n",
              "          google.colab.kernel.accessAllowed ? 'block' : 'none';\n",
              "\n",
              "        async function convertToInteractive(key) {\n",
              "          const element = document.querySelector('#df-44f4d5fc-5fa7-4a60-b60a-b90f061f25af');\n",
              "          const dataTable =\n",
              "            await google.colab.kernel.invokeFunction('convertToInteractive',\n",
              "                                                     [key], {});\n",
              "          if (!dataTable) return;\n",
              "\n",
              "          const docLinkHtml = 'Like what you see? Visit the ' +\n",
              "            '<a target=\"_blank\" href=https://colab.research.google.com/notebooks/data_table.ipynb>data table notebook</a>'\n",
              "            + ' to learn more about interactive tables.';\n",
              "          element.innerHTML = '';\n",
              "          dataTable['output_type'] = 'display_data';\n",
              "          await google.colab.output.renderOutput(dataTable, element);\n",
              "          const docLink = document.createElement('div');\n",
              "          docLink.innerHTML = docLinkHtml;\n",
              "          element.appendChild(docLink);\n",
              "        }\n",
              "      </script>\n",
              "    </div>\n",
              "  </div>\n",
              "  "
            ]
          },
          "metadata": {},
          "execution_count": 8
        }
      ]
    },
    {
      "cell_type": "code",
      "source": [
        "mx = male_chinstrap.flipper_length_mm.mean()\n",
        "my = male_chinstrap.body_mass_g.mean()\n",
        "xx = male_chinstrap.flipper_length_mm - mx\n",
        "yy = male_chinstrap.body_mass_g - my"
      ],
      "metadata": {
        "id": "fkrT-WV650r_"
      },
      "execution_count": 6,
      "outputs": []
    },
    {
      "cell_type": "code",
      "source": [
        "beta1 = sum(xx * yy) / sum(xx ** 2)\n",
        "beta0 = my - beta1 * mx\n",
        "\n",
        "# Regression line equation\n",
        "print(f\"ŷ = {beta0:.2f} + {beta1:.2f} x\")"
      ],
      "metadata": {
        "id": "h3mRfzW6yNB7",
        "outputId": "35ecedc3-4b7d-44f1-8650-e3733ab81c7b",
        "colab": {
          "base_uri": "https://localhost:8080/"
        }
      },
      "execution_count": 7,
      "outputs": [
        {
          "output_type": "stream",
          "name": "stdout",
          "text": [
            "ŷ = -3868.33 + 38.83 x\n"
          ]
        }
      ]
    },
    {
      "cell_type": "code",
      "source": [
        "sns.regplot(x=male_chinstrap.flipper_length_mm, y=male_chinstrap.body_mass_g)"
      ],
      "metadata": {
        "id": "0py7THR565k_",
        "outputId": "08c50c34-88b7-49d9-9540-577d398082f5",
        "colab": {
          "base_uri": "https://localhost:8080/",
          "height": 298
        }
      },
      "execution_count": 9,
      "outputs": [
        {
          "output_type": "execute_result",
          "data": {
            "text/plain": [
              "<matplotlib.axes._subplots.AxesSubplot at 0x7f9a239b1090>"
            ]
          },
          "metadata": {},
          "execution_count": 9
        },
        {
          "output_type": "display_data",
          "data": {
            "text/plain": [
              "<Figure size 432x288 with 1 Axes>"
            ],
            "image/png": "[encoded data removed]"
          },
          "metadata": {
            "needs_background": "light"
          }
        }
      ]
    },
    {
      "cell_type": "markdown",
      "source": [
        "##lineaire regressie (Vergelijking van de rechte)"
      ],
      "metadata": {
        "id": "9UDioknF7F_3"
      }
    },
    {
      "cell_type": "code",
      "source": [
        "penguins = sns.load_dataset('penguins') # Load the Palmer Penguins demo dataset"
      ],
      "metadata": {
        "id": "szgT1Ekv7ify"
      },
      "execution_count": 11,
      "outputs": []
    },
    {
      "cell_type": "code",
      "source": [
        "male_chinstrap = penguins[(penguins['species'] == 'Chinstrap') & (penguins['sex'] == 'Male')]\n",
        "male_chinstrap = male_chinstrap.groupby('flipper_length_mm')['body_mass_g'].mean().reset_index()\n",
        "\n",
        "male_chinstrap_x = male_chinstrap.flipper_length_mm.values.reshape(-1,1)\n",
        "male_chinstrap_y = male_chinstrap.body_mass_g"
      ],
      "metadata": {
        "id": "FfSqFQdN65ig"
      },
      "execution_count": 17,
      "outputs": []
    },
    {
      "cell_type": "code",
      "source": [
        "weight_model = LinearRegression().fit(male_chinstrap_x, male_chinstrap_y)                   #geeft de optimale rechte voor de waargenomen waarden\n",
        "print(\"Regressie rechte y = %.2f + %.2fx\"%(weight_model.intercept_, weight_model.coef_[0]))"
      ],
      "metadata": {
        "id": "gujWAlkM65fv",
        "outputId": "f6393a52-94ee-4f84-fac2-d369bde5f89f",
        "colab": {
          "base_uri": "https://localhost:8080/"
        }
      },
      "execution_count": 18,
      "outputs": [
        {
          "output_type": "stream",
          "name": "stdout",
          "text": [
            "Regressie rechte y = -3868.33 + 38.83x\n"
          ]
        }
      ]
    },
    {
      "cell_type": "markdown",
      "source": [
        "##Covariantie & corelatie(R)"
      ],
      "metadata": {
        "id": "BsxDkw4995P_"
      }
    },
    {
      "cell_type": "code",
      "source": [
        "families =  pd.DataFrame(data={'x':[1,1,2,2,2,2,3,3,3,3,4,4,4,5,6],\n",
        "                               'y':[2,3,2,3,4,5,2,3,4,5,5,6,8,6,7]})"
      ],
      "metadata": {
        "id": "8uSHqmMF95Hv"
      },
      "execution_count": 18,
      "outputs": []
    },
    {
      "cell_type": "code",
      "source": [
        "mx= families.x.mean()\n",
        "my= families.y.mean()\n",
        "\n",
        "cov = sum((families.x - mx) * (families.y - my)) / (len(families.x) -1)            #cov > 0 relatie verterkt\n",
        "print(\"Cov(x,y): %.2f\"%cov)                                                        #cov < 0 relatie verzwakt\n",
        "                                                                                   #cov = 1 er is geen relatie\n",
        "#corelatie(R) berekenen\n",
        "R = cov / (families.x.std() * families.y.std())                                    #Pearson's coefficient\n",
        "#R = np.corrcoef(families.x, families.y)[0,1]\n",
        "print(\"R: %.2f\" % R)\n",
        "\n",
        "\n",
        "R2 =R**2                                                                           #R² \n",
        "print(\"%.2f%% van de (originele) variatie wordt verklaardt door de onafhankelijke (veranderlijke) variabele\" %(R2*100) )"
      ],
      "metadata": {
        "id": "CZuIPWWX95FX",
        "outputId": "c8d1abd9-7733-40f3-f44c-c74664d26ba3",
        "colab": {
          "base_uri": "https://localhost:8080/"
        }
      },
      "execution_count": 21,
      "outputs": [
        {
          "output_type": "stream",
          "name": "stdout",
          "text": [
            "Cov(x,y): 2.00\n",
            "R: 0.75\n",
            "56.76% van de (originele) variatie wordt verklaardt door de onafhankelijke (veranderlijke) variabele\n"
          ]
        }
      ]
    },
    {
      "cell_type": "markdown",
      "source": [
        "##oefeningen"
      ],
      "metadata": {
        "id": "6KgmtPRtuSvA"
      }
    },
    {
      "cell_type": "markdown",
      "source": [
        "###Oefening 1"
      ],
      "metadata": {
        "id": "2peARlSv9YZH"
      }
    },
    {
      "cell_type": "code",
      "source": [
        "cats = pd.read_csv('https://raw.githubusercontent.com/arnauddormaels/Data-Science-and-AI/main/data/Cats.csv')\n",
        "cats.head()"
      ],
      "metadata": {
        "id": "W4AkEKlu95C2",
        "outputId": "1774cb95-72c2-43fa-9d84-57dfcf4b1a45",
        "colab": {
          "base_uri": "https://localhost:8080/",
          "height": 206
        }
      },
      "execution_count": 2,
      "outputs": [
        {
          "output_type": "execute_result",
          "data": {
            "text/plain": [
              "   ID Sex  Hwt  Bwt\n",
              "0   1   F  2.0  7.0\n",
              "1   2   F  2.0  7.4\n",
              "2   3   F  2.0  9.5\n",
              "3   4   F  2.1  7.2\n",
              "4   5   F  2.1  7.3"
            ],
            "text/html": [
              "\n",
              "  <div id=\"df-649935a5-80e2-497d-94d1-a6fee3bbbd9c\">\n",
              "    <div class=\"colab-df-container\">\n",
              "      <div>\n",
              "<style scoped>\n",
              "    .dataframe tbody tr th:only-of-type {\n",
              "        vertical-align: middle;\n",
              "    }\n",
              "\n",
              "    .dataframe tbody tr th {\n",
              "        vertical-align: top;\n",
              "    }\n",
              "\n",
              "    .dataframe thead th {\n",
              "        text-align: right;\n",
              "    }\n",
              "</style>\n",
              "<table border=\"1\" class=\"dataframe\">\n",
              "  <thead>\n",
              "    <tr style=\"text-align: right;\">\n",
              "      <th></th>\n",
              "      <th>ID</th>\n",
              "      <th>Sex</th>\n",
              "      <th>Hwt</th>\n",
              "      <th>Bwt</th>\n",
              "    </tr>\n",
              "  </thead>\n",
              "  <tbody>\n",
              "    <tr>\n",
              "      <th>0</th>\n",
              "      <td>1</td>\n",
              "      <td>F</td>\n",
              "      <td>2.0</td>\n",
              "      <td>7.0</td>\n",
              "    </tr>\n",
              "    <tr>\n",
              "      <th>1</th>\n",
              "      <td>2</td>\n",
              "      <td>F</td>\n",
              "      <td>2.0</td>\n",
              "      <td>7.4</td>\n",
              "    </tr>\n",
              "    <tr>\n",
              "      <th>2</th>\n",
              "      <td>3</td>\n",
              "      <td>F</td>\n",
              "      <td>2.0</td>\n",
              "      <td>9.5</td>\n",
              "    </tr>\n",
              "    <tr>\n",
              "      <th>3</th>\n",
              "      <td>4</td>\n",
              "      <td>F</td>\n",
              "      <td>2.1</td>\n",
              "      <td>7.2</td>\n",
              "    </tr>\n",
              "    <tr>\n",
              "      <th>4</th>\n",
              "      <td>5</td>\n",
              "      <td>F</td>\n",
              "      <td>2.1</td>\n",
              "      <td>7.3</td>\n",
              "    </tr>\n",
              "  </tbody>\n",
              "</table>\n",
              "</div>\n",
              "      <button class=\"colab-df-convert\" onclick=\"convertToInteractive('df-649935a5-80e2-497d-94d1-a6fee3bbbd9c')\"\n",
              "              title=\"Convert this dataframe to an interactive table.\"\n",
              "              style=\"display:none;\">\n",
              "        \n",
              "  <svg xmlns=\"http://www.w3.org/2000/svg\" height=\"24px\"viewBox=\"0 0 24 24\"\n",
              "       width=\"24px\">\n",
              "    <path d=\"M0 0h24v24H0V0z\" fill=\"none\"/>\n",
              "    <path d=\"M18.56 5.44l.94 2.06.94-2.06 2.06-.94-2.06-.94-.94-2.06-.94 2.06-2.06.94zm-11 1L8.5 8.5l.94-2.06 2.06-.94-2.06-.94L8.5 2.5l-.94 2.06-2.06.94zm10 10l.94 2.06.94-2.06 2.06-.94-2.06-.94-.94-2.06-.94 2.06-2.06.94z\"/><path d=\"M17.41 7.96l-1.37-1.37c-.4-.4-.92-.59-1.43-.59-.52 0-1.04.2-1.43.59L10.3 9.45l-7.72 7.72c-.78.78-.78 2.05 0 2.83L4 21.41c.39.39.9.59 1.41.59.51 0 1.02-.2 1.41-.59l7.78-7.78 2.81-2.81c.8-.78.8-2.07 0-2.86zM5.41 20L4 18.59l7.72-7.72 1.47 1.35L5.41 20z\"/>\n",
              "  </svg>\n",
              "      </button>\n",
              "      \n",
              "  <style>\n",
              "    .colab-df-container {\n",
              "      display:flex;\n",
              "      flex-wrap:wrap;\n",
              "      gap: 12px;\n",
              "    }\n",
              "\n",
              "    .colab-df-convert {\n",
              "      background-color: #E8F0FE;\n",
              "      border: none;\n",
              "      border-radius: 50%;\n",
              "      cursor: pointer;\n",
              "      display: none;\n",
              "      fill: #1967D2;\n",
              "      height: 32px;\n",
              "      padding: 0 0 0 0;\n",
              "      width: 32px;\n",
              "    }\n",
              "\n",
              "    .colab-df-convert:hover {\n",
              "      background-color: #E2EBFA;\n",
              "      box-shadow: 0px 1px 2px rgba(60, 64, 67, 0.3), 0px 1px 3px 1px rgba(60, 64, 67, 0.15);\n",
              "      fill: #174EA6;\n",
              "    }\n",
              "\n",
              "    [theme=dark] .colab-df-convert {\n",
              "      background-color: #3B4455;\n",
              "      fill: #D2E3FC;\n",
              "    }\n",
              "\n",
              "    [theme=dark] .colab-df-convert:hover {\n",
              "      background-color: #434B5C;\n",
              "      box-shadow: 0px 1px 3px 1px rgba(0, 0, 0, 0.15);\n",
              "      filter: drop-shadow(0px 1px 2px rgba(0, 0, 0, 0.3));\n",
              "      fill: #FFFFFF;\n",
              "    }\n",
              "  </style>\n",
              "\n",
              "      <script>\n",
              "        const buttonEl =\n",
              "          document.querySelector('#df-649935a5-80e2-497d-94d1-a6fee3bbbd9c button.colab-df-convert');\n",
              "        buttonEl.style.display =\n",
              "          google.colab.kernel.accessAllowed ? 'block' : 'none';\n",
              "\n",
              "        async function convertToInteractive(key) {\n",
              "          const element = document.querySelector('#df-649935a5-80e2-497d-94d1-a6fee3bbbd9c');\n",
              "          const dataTable =\n",
              "            await google.colab.kernel.invokeFunction('convertToInteractive',\n",
              "                                                     [key], {});\n",
              "          if (!dataTable) return;\n",
              "\n",
              "          const docLinkHtml = 'Like what you see? Visit the ' +\n",
              "            '<a target=\"_blank\" href=https://colab.research.google.com/notebooks/data_table.ipynb>data table notebook</a>'\n",
              "            + ' to learn more about interactive tables.';\n",
              "          element.innerHTML = '';\n",
              "          dataTable['output_type'] = 'display_data';\n",
              "          await google.colab.output.renderOutput(dataTable, element);\n",
              "          const docLink = document.createElement('div');\n",
              "          docLink.innerHTML = docLinkHtml;\n",
              "          element.appendChild(docLink);\n",
              "        }\n",
              "      </script>\n",
              "    </div>\n",
              "  </div>\n",
              "  "
            ]
          },
          "metadata": {},
          "execution_count": 2
        }
      ]
    },
    {
      "cell_type": "code",
      "source": [
        "sns.relplot(data=cats,x='Hwt',y='Bwt',hue='Sex')"
      ],
      "metadata": {
        "id": "ukSyDARv95AH",
        "outputId": "9fb3fa44-cff8-41ac-9664-140816fa5a62",
        "colab": {
          "base_uri": "https://localhost:8080/",
          "height": 387
        }
      },
      "execution_count": 4,
      "outputs": [
        {
          "output_type": "execute_result",
          "data": {
            "text/plain": [
              "<seaborn.axisgrid.FacetGrid at 0x7f327c147790>"
            ]
          },
          "metadata": {},
          "execution_count": 4
        },
        {
          "output_type": "display_data",
          "data": {
            "text/plain": [
              "<Figure size 404.625x360 with 1 Axes>"
            ],
            "image/png": "[encoded data removed]"
          },
          "metadata": {
            "needs_background": "light"
          }
        }
      ]
    },
    {
      "cell_type": "code",
      "source": [
        "sns.regplot(x=cats.Hwt,y=cats.Bwt,line_kws={'color':'b'}, scatter_kws = {'color':'g'})"
      ],
      "metadata": {
        "id": "a5pFVg8X949X",
        "outputId": "01b6e5db-4001-4542-dbba-00d385705a03",
        "colab": {
          "base_uri": "https://localhost:8080/",
          "height": 297
        }
      },
      "execution_count": 7,
      "outputs": [
        {
          "output_type": "execute_result",
          "data": {
            "text/plain": [
              "<matplotlib.axes._subplots.AxesSubplot at 0x7f3277266450>"
            ]
          },
          "metadata": {},
          "execution_count": 7
        },
        {
          "output_type": "display_data",
          "data": {
            "text/plain": [
              "<Figure size 432x288 with 1 Axes>"
            ],
            "image/png": "[encoded data removed]"
          },
          "metadata": {
            "needs_background": "light"
          }
        }
      ]
    },
    {
      "cell_type": "code",
      "source": [
        "x= cats.Hwt.values.reshape(-1,1)\n",
        "y= cats.Bwt.values.reshape(-1,1)\n",
        "\n",
        "weight_model=LinearRegression().fit(x,y)\n",
        "\n",
        "print(\" regressie rechte y= %.2f + %.2fx\" % (weight_model.intercept_,weight_model.coef_))"
      ],
      "metadata": {
        "id": "lTH88nTxwqof",
        "outputId": "cb639b7b-3180-4433-aba2-64f6d70914a5",
        "colab": {
          "base_uri": "https://localhost:8080/"
        }
      },
      "execution_count": 13,
      "outputs": [
        {
          "output_type": "stream",
          "name": "stdout",
          "text": [
            " regressie rechte y= -0.35 + 4.03x\n"
          ]
        }
      ]
    },
    {
      "cell_type": "code",
      "source": [
        "corr= np.corrcoef(cats.Hwt,cats.Bwt)[0,1]\n",
        "print('R = %.2f' %corr)\n",
        "print('R²= %.2f' % corr**2)"
      ],
      "metadata": {
        "id": "UTzS5Sjc1IRn",
        "outputId": "40d8a4bd-d661-4467-ed8d-b2cc685acc83",
        "colab": {
          "base_uri": "https://localhost:8080/"
        }
      },
      "execution_count": 22,
      "outputs": [
        {
          "output_type": "stream",
          "name": "stdout",
          "text": [
            "R = 0.80\n",
            "R²= 0.65\n"
          ]
        }
      ]
    },
    {
      "cell_type": "code",
      "source": [
        "#mannetjes katten\n",
        "x= cats[cats.Sex=='M'].Hwt.values.reshape(-1,1)\n",
        "y= cats[cats.Sex=='M'].Bwt.values.reshape(-1,1)\n",
        "\n",
        "weight_model=LinearRegression().fit(x,y)\n",
        "\n",
        "print(\" regressie rechte y= %.2f + %.2fx\" % (weight_model.intercept_,weight_model.coef_))\n",
        "\n",
        "corr= np.corrcoef(cats[cats.Sex=='M'].Hwt,cats[cats.Sex=='M'].Bwt)[0,1]\n",
        "print('R = %.2f' %corr)\n",
        "print('R²= %.2f%%' % (corr**2*100))"
      ],
      "metadata": {
        "id": "dwnuac4w1IO_",
        "outputId": "2047f884-397a-4213-f008-6c4f3249927c",
        "colab": {
          "base_uri": "https://localhost:8080/"
        }
      },
      "execution_count": 27,
      "outputs": [
        {
          "output_type": "stream",
          "name": "stdout",
          "text": [
            " regressie rechte y= -1.18 + 4.31x\n",
            "R = 0.79\n",
            "R²= 62.89%\n"
          ]
        }
      ]
    },
    {
      "cell_type": "code",
      "source": [
        "sns.relplot(data=cats[cats.Sex=='M'], x='Hwt', y='Bwt')"
      ],
      "metadata": {
        "id": "sS15IRrK6uKv",
        "outputId": "cf75f65c-a44d-4b95-9cfc-a32ed9574945",
        "colab": {
          "base_uri": "https://localhost:8080/",
          "height": 387
        }
      },
      "execution_count": 30,
      "outputs": [
        {
          "output_type": "execute_result",
          "data": {
            "text/plain": [
              "<seaborn.axisgrid.FacetGrid at 0x7f3276e1ca50>"
            ]
          },
          "metadata": {},
          "execution_count": 30
        },
        {
          "output_type": "display_data",
          "data": {
            "text/plain": [
              "<Figure size 360x360 with 1 Axes>"
            ],
            "image/png": "[encoded data removed]"
          },
          "metadata": {
            "needs_background": "light"
          }
        }
      ]
    },
    {
      "cell_type": "code",
      "source": [
        "#Vrouwtjes katten\n",
        "x= cats[cats.Sex=='F'].Hwt.values.reshape(-1,1)\n",
        "y= cats[cats.Sex=='F'].Bwt.values.reshape(-1,1)\n",
        "\n",
        "weight_model=LinearRegression().fit(x,y)\n",
        "\n",
        "print(\" regressie rechte y= %.2f + %.2fx\" % (weight_model.intercept_,weight_model.coef_))\n",
        "\n",
        "corr= np.corrcoef(cats[cats.Sex=='F'].Hwt,cats[cats.Sex=='F'].Bwt)[0,1]\n",
        "print('R = %.2f' %corr)\n",
        "print('R²= %.2f%%' % (corr**2*100))"
      ],
      "metadata": {
        "id": "GJS_Z5VE1IMj",
        "outputId": "dc0703bf-624b-4175-a997-d568e10aec54",
        "colab": {
          "base_uri": "https://localhost:8080/"
        }
      },
      "execution_count": 28,
      "outputs": [
        {
          "output_type": "stream",
          "name": "stdout",
          "text": [
            " regressie rechte y= 2.98 + 2.64x\n",
            "R = 0.53\n",
            "R²= 28.31%\n"
          ]
        }
      ]
    },
    {
      "cell_type": "markdown",
      "source": [
        "###Oefening 2"
      ],
      "metadata": {
        "id": "r7ctKHH29bDn"
      }
    },
    {
      "cell_type": "code",
      "source": [
        "landbouw = pd.read_csv('https://raw.githubusercontent.com/arnauddormaels/Data-Science-and-AI/main/data/Landbouw%20Vlaanderen.csv',delimiter = ';')\n",
        "landbouw.head()"
      ],
      "metadata": {
        "id": "enZx0tlR1IJk",
        "outputId": "03658695-54ce-4583-e1d6-5880875ea21b",
        "colab": {
          "base_uri": "https://localhost:8080/",
          "height": 206
        }
      },
      "execution_count": 40,
      "outputs": [
        {
          "output_type": "execute_result",
          "data": {
            "text/plain": [
              "   jaar  aantal land en tuinbouwbedrijven  \\\n",
              "0  1980                             75706   \n",
              "1  1981                             73292   \n",
              "2  1982                             71255   \n",
              "3  1983                             69807   \n",
              "4  1984                             68083   \n",
              "\n",
              "  gemiddelde oppervlakte per bedrijf (ha)  \n",
              "0                                    8,38  \n",
              "1                                    8,58  \n",
              "2                                    8,79  \n",
              "3                                    8,94  \n",
              "4                                    9,15  "
            ],
            "text/html": [
              "\n",
              "  <div id=\"df-43ea1639-1165-4f18-9d93-9ac28f50e57d\">\n",
              "    <div class=\"colab-df-container\">\n",
              "      <div>\n",
              "<style scoped>\n",
              "    .dataframe tbody tr th:only-of-type {\n",
              "        vertical-align: middle;\n",
              "    }\n",
              "\n",
              "    .dataframe tbody tr th {\n",
              "        vertical-align: top;\n",
              "    }\n",
              "\n",
              "    .dataframe thead th {\n",
              "        text-align: right;\n",
              "    }\n",
              "</style>\n",
              "<table border=\"1\" class=\"dataframe\">\n",
              "  <thead>\n",
              "    <tr style=\"text-align: right;\">\n",
              "      <th></th>\n",
              "      <th>jaar</th>\n",
              "      <th>aantal land en tuinbouwbedrijven</th>\n",
              "      <th>gemiddelde oppervlakte per bedrijf (ha)</th>\n",
              "    </tr>\n",
              "  </thead>\n",
              "  <tbody>\n",
              "    <tr>\n",
              "      <th>0</th>\n",
              "      <td>1980</td>\n",
              "      <td>75706</td>\n",
              "      <td>8,38</td>\n",
              "    </tr>\n",
              "    <tr>\n",
              "      <th>1</th>\n",
              "      <td>1981</td>\n",
              "      <td>73292</td>\n",
              "      <td>8,58</td>\n",
              "    </tr>\n",
              "    <tr>\n",
              "      <th>2</th>\n",
              "      <td>1982</td>\n",
              "      <td>71255</td>\n",
              "      <td>8,79</td>\n",
              "    </tr>\n",
              "    <tr>\n",
              "      <th>3</th>\n",
              "      <td>1983</td>\n",
              "      <td>69807</td>\n",
              "      <td>8,94</td>\n",
              "    </tr>\n",
              "    <tr>\n",
              "      <th>4</th>\n",
              "      <td>1984</td>\n",
              "      <td>68083</td>\n",
              "      <td>9,15</td>\n",
              "    </tr>\n",
              "  </tbody>\n",
              "</table>\n",
              "</div>\n",
              "      <button class=\"colab-df-convert\" onclick=\"convertToInteractive('df-43ea1639-1165-4f18-9d93-9ac28f50e57d')\"\n",
              "              title=\"Convert this dataframe to an interactive table.\"\n",
              "              style=\"display:none;\">\n",
              "        \n",
              "  <svg xmlns=\"http://www.w3.org/2000/svg\" height=\"24px\"viewBox=\"0 0 24 24\"\n",
              "       width=\"24px\">\n",
              "    <path d=\"M0 0h24v24H0V0z\" fill=\"none\"/>\n",
              "    <path d=\"M18.56 5.44l.94 2.06.94-2.06 2.06-.94-2.06-.94-.94-2.06-.94 2.06-2.06.94zm-11 1L8.5 8.5l.94-2.06 2.06-.94-2.06-.94L8.5 2.5l-.94 2.06-2.06.94zm10 10l.94 2.06.94-2.06 2.06-.94-2.06-.94-.94-2.06-.94 2.06-2.06.94z\"/><path d=\"M17.41 7.96l-1.37-1.37c-.4-.4-.92-.59-1.43-.59-.52 0-1.04.2-1.43.59L10.3 9.45l-7.72 7.72c-.78.78-.78 2.05 0 2.83L4 21.41c.39.39.9.59 1.41.59.51 0 1.02-.2 1.41-.59l7.78-7.78 2.81-2.81c.8-.78.8-2.07 0-2.86zM5.41 20L4 18.59l7.72-7.72 1.47 1.35L5.41 20z\"/>\n",
              "  </svg>\n",
              "      </button>\n",
              "      \n",
              "  <style>\n",
              "    .colab-df-container {\n",
              "      display:flex;\n",
              "      flex-wrap:wrap;\n",
              "      gap: 12px;\n",
              "    }\n",
              "\n",
              "    .colab-df-convert {\n",
              "      background-color: #E8F0FE;\n",
              "      border: none;\n",
              "      border-radius: 50%;\n",
              "      cursor: pointer;\n",
              "      display: none;\n",
              "      fill: #1967D2;\n",
              "      height: 32px;\n",
              "      padding: 0 0 0 0;\n",
              "      width: 32px;\n",
              "    }\n",
              "\n",
              "    .colab-df-convert:hover {\n",
              "      background-color: #E2EBFA;\n",
              "      box-shadow: 0px 1px 2px rgba(60, 64, 67, 0.3), 0px 1px 3px 1px rgba(60, 64, 67, 0.15);\n",
              "      fill: #174EA6;\n",
              "    }\n",
              "\n",
              "    [theme=dark] .colab-df-convert {\n",
              "      background-color: #3B4455;\n",
              "      fill: #D2E3FC;\n",
              "    }\n",
              "\n",
              "    [theme=dark] .colab-df-convert:hover {\n",
              "      background-color: #434B5C;\n",
              "      box-shadow: 0px 1px 3px 1px rgba(0, 0, 0, 0.15);\n",
              "      filter: drop-shadow(0px 1px 2px rgba(0, 0, 0, 0.3));\n",
              "      fill: #FFFFFF;\n",
              "    }\n",
              "  </style>\n",
              "\n",
              "      <script>\n",
              "        const buttonEl =\n",
              "          document.querySelector('#df-43ea1639-1165-4f18-9d93-9ac28f50e57d button.colab-df-convert');\n",
              "        buttonEl.style.display =\n",
              "          google.colab.kernel.accessAllowed ? 'block' : 'none';\n",
              "\n",
              "        async function convertToInteractive(key) {\n",
              "          const element = document.querySelector('#df-43ea1639-1165-4f18-9d93-9ac28f50e57d');\n",
              "          const dataTable =\n",
              "            await google.colab.kernel.invokeFunction('convertToInteractive',\n",
              "                                                     [key], {});\n",
              "          if (!dataTable) return;\n",
              "\n",
              "          const docLinkHtml = 'Like what you see? Visit the ' +\n",
              "            '<a target=\"_blank\" href=https://colab.research.google.com/notebooks/data_table.ipynb>data table notebook</a>'\n",
              "            + ' to learn more about interactive tables.';\n",
              "          element.innerHTML = '';\n",
              "          dataTable['output_type'] = 'display_data';\n",
              "          await google.colab.output.renderOutput(dataTable, element);\n",
              "          const docLink = document.createElement('div');\n",
              "          docLink.innerHTML = docLinkHtml;\n",
              "          element.appendChild(docLink);\n",
              "        }\n",
              "      </script>\n",
              "    </div>\n",
              "  </div>\n",
              "  "
            ]
          },
          "metadata": {},
          "execution_count": 40
        }
      ]
    },
    {
      "cell_type": "code",
      "source": [
        "landbouw.dtypes"
      ],
      "metadata": {
        "id": "zs9roTwd-GNv",
        "outputId": "d76dc04c-8014-4365-e1f5-1ac7fd19fbf8",
        "colab": {
          "base_uri": "https://localhost:8080/"
        }
      },
      "execution_count": 36,
      "outputs": [
        {
          "output_type": "execute_result",
          "data": {
            "text/plain": [
              "jaar                                        int64\n",
              "aantal land en tuinbouwbedrijven            int64\n",
              "gemiddelde oppervlakte per bedrijf (ha)    object\n",
              "dtype: object"
            ]
          },
          "metadata": {},
          "execution_count": 36
        }
      ]
    },
    {
      "cell_type": "code",
      "source": [
        "aantal = 'aantal land en tuinbouwbedrijven'\n",
        "opp = 'gemiddelde oppervlakte per bedrijf (ha)'\n",
        "landbouw[opp] = landbouw[opp].str.replace(\",\",\".\").astype(float)     #Maakt van object een float + vervang te punten naar komma's"
      ],
      "metadata": {
        "id": "8U6Yi530-GLm"
      },
      "execution_count": 41,
      "outputs": []
    },
    {
      "cell_type": "code",
      "source": [
        ""
      ],
      "metadata": {
        "id": "j7PTY0eO-GJE"
      },
      "execution_count": null,
      "outputs": []
    },
    {
      "cell_type": "code",
      "source": [
        ""
      ],
      "metadata": {
        "id": "70luzRlC-GGp"
      },
      "execution_count": null,
      "outputs": []
    },
    {
      "cell_type": "code",
      "source": [
        ""
      ],
      "metadata": {
        "id": "EDuUNUVR-GDn"
      },
      "execution_count": null,
      "outputs": []
    },
    {
      "cell_type": "code",
      "source": [
        ""
      ],
      "metadata": {
        "id": "9dFJYPp6-GA4"
      },
      "execution_count": null,
      "outputs": []
    },
    {
      "cell_type": "code",
      "source": [
        ""
      ],
      "metadata": {
        "id": "xXFjlU0D-F-H"
      },
      "execution_count": null,
      "outputs": []
    },
    {
      "cell_type": "code",
      "source": [
        ""
      ],
      "metadata": {
        "id": "qkbxiisI-F7f"
      },
      "execution_count": null,
      "outputs": []
    }
  ],
  "metadata": {
    "language_info": {
      "name": "python"
    },
    "orig_nbformat": 4,
    "colab": {
      "name": "lab-1.01-ais.ipynb",
      "provenance": []
    },
    "kernelspec": {
      "name": "python3",
      "display_name": "Python 3"
    }
  },
  "nbformat": 4,
  "nbformat_minor": 0
}