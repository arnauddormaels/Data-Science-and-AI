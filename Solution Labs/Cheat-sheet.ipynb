{
  "cells": [
    {
      "cell_type": "code",
      "source": [
        "import numpy as np                                  # \"Scientific computing\"\n",
        "import scipy.stats as stats                         # Statistical tests\n",
        "\n",
        "import pandas as pd                                 # Data Frame\n",
        "from pandas.api.types import CategoricalDtype\n",
        "\n",
        "import matplotlib.pyplot as plt                     # Basic visualisation\n",
        "from statsmodels.graphics.mosaicplot import mosaic  # Mosaic diagram\n",
        "import seaborn as sns                               # Advanced data visualisation\n",
        "import altair as alt                                # Alternative visualisation system\n",
        "from pandas.core.algorithms import value_counts     #Extra import voor value_counts xx\n",
        "from scipy import stats\n",
        "import math"
      ],
      "metadata": {
        "id": "-hFXxXATONGd",
        "outputId": "9f11231d-b2f0-4731-edfe-80e655d15123",
        "colab": {
          "base_uri": "https://localhost:8080/"
        }
      },
      "execution_count": 1,
      "outputs": [
        {
          "output_type": "stream",
          "name": "stderr",
          "text": [
            "/usr/local/lib/python3.7/dist-packages/statsmodels/tools/_testing.py:19: FutureWarning: pandas.util.testing is deprecated. Use the functions in the public API at pandas.testing instead.\n",
            "  import pandas.util.testing as tm\n"
          ]
        }
      ]
    },
    {
      "cell_type": "code",
      "source": [
        "ais = pd.read_csv(\"https://raw.githubusercontent.com/DataRepo2019/Data-files/master/titanic.csv\")\n",
        "\n",
        "\n",
        "ais.set_index(['PassengerId'])        # set index/id\n",
        "ais.Survived= ais.Survived.astype('category')             #Gaat de numerieke waarden van deze kolom aanschouwen als een categorie\n",
        "\n",
        "\n",
        "ais.head()\n"
      ],
      "metadata": {
        "id": "uaNlm6DZOneF"
      },
      "execution_count": null,
      "outputs": []
    },
    {
      "cell_type": "markdown",
      "source": [
        "# **Hoofdstuk 1** \n",
        "\n"
      ],
      "metadata": {
        "id": "txFWJg1rOPWO"
      }
    },
    {
      "cell_type": "markdown",
      "source": [
        "Categoriën ordenen/categorie ordinaal maken"
      ],
      "metadata": {
        "id": "nnBK_gG2Tk-U"
      }
    },
    {
      "cell_type": "code",
      "source": [
        "embarked_type = CategoricalDtype(categories=['S','C','Q'], ordered=True)\n",
        "ais.Embarked= ais.Embarked.astype(embarked_type)\n",
        "ais.Embarked.describe()"
      ],
      "metadata": {
        "id": "134U1tjZOqXf"
      },
      "execution_count": null,
      "outputs": []
    },
    {
      "cell_type": "markdown",
      "source": [
        "Bepaalde kolommen selecteren"
      ],
      "metadata": {
        "id": "cSKU3tN1Wf5T"
      }
    },
    {
      "cell_type": "code",
      "source": [
        "ais[[\"PassengerId\",\"Survived\",\"Name\"]]            ##Dubbele haken!!!\n",
        "ais[ais['PassengerId'] < 6][[\"PassengerId\",'Survived', 'Name']]          #Combinatie met if-else \n",
        "ais[(ais.sport == 'Netball')&('wt' == 63)]                               #combinatie van 2x if-else"
      ],
      "metadata": {
        "id": "827VQ770OqUX"
      },
      "execution_count": null,
      "outputs": []
    },
    {
      "cell_type": "code",
      "source": [
        "ais = pd.read_csv('https://raw.githubusercontent.com/arnauddormaels/Data-Science-and-AI/main/data/ais.csv')"
      ],
      "metadata": {
        "id": "tLlqogJgZPyz"
      },
      "execution_count": null,
      "outputs": []
    },
    {
      "cell_type": "code",
      "source": [
        "print(ais.ferr.describe())\n",
        "print('='*50)"
      ],
      "metadata": {
        "id": "qdokC-8HOqRd"
      },
      "execution_count": null,
      "outputs": []
    },
    {
      "cell_type": "code",
      "source": [
        "#quality of Life \n",
        "                                          ##Geeft een overzicht van alle variabelen\n",
        "ais.sport.value_counts()                  ##Handig voor als je ze moet overtyppen voor een if-else case bijvoorbeeld                     "
      ],
      "metadata": {
        "id": "YARUTqX4TNJH",
        "outputId": "e29debed-4234-4c0a-faf8-7e71423ed61f",
        "colab": {
          "base_uri": "https://localhost:8080/"
        }
      },
      "execution_count": null,
      "outputs": [
        {
          "output_type": "execute_result",
          "data": {
            "text/plain": [
              "Row        37\n",
              "T_400m     29\n",
              "B_Ball     25\n",
              "Netball    23\n",
              "Swim       22\n",
              "Field      19\n",
              "W_Polo     17\n",
              "T_Sprnt    15\n",
              "Tennis     11\n",
              "Gym         4\n",
              "Name: sport, dtype: int64"
            ]
          },
          "metadata": {},
          "execution_count": 69
        }
      ]
    },
    {
      "cell_type": "code",
      "source": [
        "ais[ais.bmi >26 ] ['sport'].value_counts()            #gaat alle waardes dat hiertoe behoeren en overeen komen met elkaar samen tellen"
      ],
      "metadata": {
        "id": "aWfxIBG0OqOt"
      },
      "execution_count": null,
      "outputs": []
    },
    {
      "cell_type": "markdown",
      "source": [
        "# **Hoofdstuk 2 Grafieken tekenen**\n"
      ],
      "metadata": {
        "id": "LFKMnedlbAsM"
      }
    },
    {
      "cell_type": "markdown",
      "source": [
        "## grafieken"
      ],
      "metadata": {
        "id": "GY-KMhl9sg4g"
      }
    },
    {
      "cell_type": "code",
      "source": [
        "ais = pd.read_csv('https://raw.githubusercontent.com/arnauddormaels/Data-Science-and-AI/main/data/ais.csv')\n",
        "ais = ais.set_index(['id'])\n",
        "ais.sex=ais.sex.astype('category')\n",
        "ais.sport=ais.sport.astype('category')"
      ],
      "metadata": {
        "id": "k_hW6W0rOqLu"
      },
      "execution_count": null,
      "outputs": []
    },
    {
      "cell_type": "code",
      "source": [
        "sns.catplot(data=ais,kind=\"count\",y=\"sex\")"
      ],
      "metadata": {
        "colab": {
          "base_uri": "https://localhost:8080/",
          "height": 386
        },
        "id": "HpMAKtwzOqJF",
        "outputId": "33390bfe-2903-4c45-c512-ab93a742b53c"
      },
      "execution_count": null,
      "outputs": [
        {
          "output_type": "execute_result",
          "data": {
            "text/plain": [
              "<seaborn.axisgrid.FacetGrid at 0x7fe56f17bfd0>"
            ]
          },
          "metadata": {},
          "execution_count": 35
        },
        {
          "output_type": "display_data",
          "data": {
            "text/plain": [
              "<Figure size 360x360 with 1 Axes>"
            ],
            "image/png": "[encoded data removed]"
          },
          "metadata": {
            "needs_background": "light"
          }
        }
      ]
    },
    {
      "cell_type": "code",
      "source": [
        "#sns.catplot(data=ais,kind=\"count\",y=\"sport\")                                     #not sorted\n",
        "sns.countplot(data=ais, y=\"sport\", order = ais.sport.value_counts().index)        #sorted"
      ],
      "metadata": {
        "colab": {
          "base_uri": "https://localhost:8080/",
          "height": 296
        },
        "id": "66kfbwrqOqGF",
        "outputId": "02747369-07f8-46d3-fb11-2659b29c7550"
      },
      "execution_count": null,
      "outputs": [
        {
          "output_type": "execute_result",
          "data": {
            "text/plain": [
              "<matplotlib.axes._subplots.AxesSubplot at 0x7fe56a38edd0>"
            ]
          },
          "metadata": {},
          "execution_count": 38
        },
        {
          "output_type": "display_data",
          "data": {
            "text/plain": [
              "<Figure size 432x288 with 1 Axes>"
            ],
            "image/png": "[encoded data removed]"
          },
          "metadata": {
            "needs_background": "light"
          }
        }
      ]
    },
    {
      "cell_type": "code",
      "source": [
        "sns.boxplot(data=ais,x='ht',y='sport')"
      ],
      "metadata": {
        "colab": {
          "base_uri": "https://localhost:8080/",
          "height": 296
        },
        "id": "OxpTAC60Op8c",
        "outputId": "1d1ee396-c34d-4bff-e06e-100955e4386b"
      },
      "execution_count": null,
      "outputs": [
        {
          "output_type": "execute_result",
          "data": {
            "text/plain": [
              "<matplotlib.axes._subplots.AxesSubplot at 0x7fe56a301dd0>"
            ]
          },
          "metadata": {},
          "execution_count": 39
        },
        {
          "output_type": "display_data",
          "data": {
            "text/plain": [
              "<Figure size 432x288 with 1 Axes>"
            ],
            "image/png": "[encoded data removed]"
          },
          "metadata": {
            "needs_background": "light"
          }
        }
      ]
    },
    {
      "cell_type": "code",
      "source": [
        "sns.violinplot(data=ais,x='ht',y='sport')"
      ],
      "metadata": {
        "colab": {
          "base_uri": "https://localhost:8080/",
          "height": 296
        },
        "id": "KBD5KmcabIN-",
        "outputId": "7b0c3a31-a537-4314-d70b-9d22bed3b3e2"
      },
      "execution_count": null,
      "outputs": [
        {
          "output_type": "execute_result",
          "data": {
            "text/plain": [
              "<matplotlib.axes._subplots.AxesSubplot at 0x7fe56a1747d0>"
            ]
          },
          "metadata": {},
          "execution_count": 40
        },
        {
          "output_type": "display_data",
          "data": {
            "text/plain": [
              "<Figure size 432x288 with 1 Axes>"
            ],
            "image/png": "[encoded data removed]"
          },
          "metadata": {
            "needs_background": "light"
          }
        }
      ]
    },
    {
      "cell_type": "code",
      "source": [
        "sns.boxplot(data=ais[ais.sex=='f'],x='ht')"
      ],
      "metadata": {
        "colab": {
          "base_uri": "https://localhost:8080/",
          "height": 296
        },
        "id": "2HtbQS1zbILT",
        "outputId": "42b51b35-789e-4cd6-86c4-26a459a68d88"
      },
      "execution_count": null,
      "outputs": [
        {
          "output_type": "execute_result",
          "data": {
            "text/plain": [
              "<matplotlib.axes._subplots.AxesSubplot at 0x7fe5680ec290>"
            ]
          },
          "metadata": {},
          "execution_count": 41
        },
        {
          "output_type": "display_data",
          "data": {
            "text/plain": [
              "<Figure size 432x288 with 1 Axes>"
            ],
            "image/png": "[encoded data removed]"
          },
          "metadata": {
            "needs_background": "light"
          }
        }
      ]
    },
    {
      "cell_type": "code",
      "source": [
        "sns.boxplot(data=ais[ais.sex=='m'],x='ht',color='orange')"
      ],
      "metadata": {
        "colab": {
          "base_uri": "https://localhost:8080/",
          "height": 296
        },
        "id": "cddnSfvhbIIj",
        "outputId": "786d1eb4-30c8-4b06-e6e4-8e3a1eae0d59"
      },
      "execution_count": null,
      "outputs": [
        {
          "output_type": "execute_result",
          "data": {
            "text/plain": [
              "<matplotlib.axes._subplots.AxesSubplot at 0x7fe56805c8d0>"
            ]
          },
          "metadata": {},
          "execution_count": 42
        },
        {
          "output_type": "display_data",
          "data": {
            "text/plain": [
              "<Figure size 432x288 with 1 Axes>"
            ],
            "image/png": "[encoded data removed]"
          },
          "metadata": {
            "needs_background": "light"
          }
        }
      ]
    },
    {
      "cell_type": "markdown",
      "source": [
        "## oefening "
      ],
      "metadata": {
        "id": "0K3LPDBEsnry"
      }
    },
    {
      "cell_type": "code",
      "source": [
        "ais = pd.read_csv('https://raw.githubusercontent.com/arnauddormaels/Data-Science-and-AI/main/data/ais.csv')\n",
        "ais = ais.set_index(['id'])\n",
        "ais.sex=ais.sex.astype('category')\n",
        "ais.sport=ais.sport.astype('category')"
      ],
      "metadata": {
        "id": "g9_d9Wv_s9JJ"
      },
      "execution_count": null,
      "outputs": []
    },
    {
      "cell_type": "code",
      "source": [
        "# ais[(ais.sport=='Row')|(ais.sport=='Netball')|(ais.sport=='Tennis')].ht.describe()     #Zonder tussenstap\n",
        "\n",
        "\n",
        "data=ais[(ais.sport=='Row')|(ais.sport=='Netball')|(ais.sport=='Tennis')]               #met tussenstap\n",
        "print(data.ht.describe())"
      ],
      "metadata": {
        "colab": {
          "base_uri": "https://localhost:8080/"
        },
        "id": "SsSKUFSzbIFz",
        "outputId": "285dab4b-273d-4d61-f2d8-24ee5354b536"
      },
      "execution_count": null,
      "outputs": [
        {
          "output_type": "stream",
          "name": "stdout",
          "text": [
            "count     71.000000\n",
            "mean     179.066197\n",
            "std        7.936371\n",
            "min      156.000000\n",
            "25%      174.250000\n",
            "50%      179.500000\n",
            "75%      183.400000\n",
            "max      198.000000\n",
            "Name: ht, dtype: float64\n"
          ]
        }
      ]
    },
    {
      "cell_type": "code",
      "source": [
        "data=ais[(ais.sport=='Row')|(ais.sport=='Netball')|(ais.sport=='Tennis')]\n",
        "print(data.sex.describe())\n"
      ],
      "metadata": {
        "colab": {
          "base_uri": "https://localhost:8080/"
        },
        "id": "9YmdJYQNbIC7",
        "outputId": "66e8d06f-5624-4781-f958-be7f0f7e6756"
      },
      "execution_count": null,
      "outputs": [
        {
          "output_type": "stream",
          "name": "stdout",
          "text": [
            "count     71\n",
            "unique     2\n",
            "top        f\n",
            "freq      52\n",
            "Name: sex, dtype: object\n"
          ]
        }
      ]
    },
    {
      "cell_type": "markdown",
      "source": [
        "## lab 02 "
      ],
      "metadata": {
        "id": "P0Mm30QL-oSV"
      }
    },
    {
      "cell_type": "code",
      "source": [
        "ais.groupby('sport')['sex'].value_counts() #Groupby gebruiken\n"
      ],
      "metadata": {
        "colab": {
          "base_uri": "https://localhost:8080/"
        },
        "id": "0KCANA3P-t0g",
        "outputId": "d8ea0682-35bc-4c19-813b-c8fa1f688bd3"
      },
      "execution_count": null,
      "outputs": [
        {
          "output_type": "execute_result",
          "data": {
            "text/plain": [
              "sport     \n",
              "B_Ball   f    13\n",
              "         m    12\n",
              "Field    m    12\n",
              "         f     7\n",
              "Gym      f     4\n",
              "         m     0\n",
              "Netball  f    23\n",
              "         m     0\n",
              "Row      f    22\n",
              "         m    15\n",
              "Swim     m    13\n",
              "         f     9\n",
              "T_400m   m    18\n",
              "         f    11\n",
              "T_Sprnt  m    11\n",
              "         f     4\n",
              "Tennis   f     7\n",
              "         m     4\n",
              "W_Polo   m    17\n",
              "         f     0\n",
              "Name: sex, dtype: int64"
            ]
          },
          "metadata": {},
          "execution_count": 66
        }
      ]
    },
    {
      "cell_type": "code",
      "source": [
        "ais.head()"
      ],
      "metadata": {
        "colab": {
          "base_uri": "https://localhost:8080/",
          "height": 238
        },
        "id": "KGNzy0dc-3_X",
        "outputId": "04ebf645-779f-4778-edb9-1b22193a2013"
      },
      "execution_count": null,
      "outputs": [
        {
          "output_type": "execute_result",
          "data": {
            "text/plain": [
              "     rcc  wcc    hc    hg  ferr    bmi    ssf  pcBfat    lbm     ht    wt sex  \\\n",
              "id                                                                              \n",
              "1   3.96  7.5  37.5  12.3    60  20.56  109.1   19.75  63.32  195.9  78.9   f   \n",
              "2   4.41  8.3  38.2  12.7    68  20.67  102.8   21.30  58.55  189.7  74.4   f   \n",
              "3   4.14  5.0  36.4  11.6    21  21.86  104.6   19.88  55.36  177.8  69.1   f   \n",
              "4   4.11  5.3  37.3  12.6    69  21.88  126.4   23.66  57.18  185.0  74.9   f   \n",
              "5   4.45  6.8  41.5  14.0    29  18.96   80.3   17.64  53.20  184.6  64.6   f   \n",
              "\n",
              "     sport  \n",
              "id          \n",
              "1   B_Ball  \n",
              "2   B_Ball  \n",
              "3   B_Ball  \n",
              "4   B_Ball  \n",
              "5   B_Ball  "
            ],
            "text/html": [
              "\n",
              "  <div id=\"df-b86cf164-c154-4645-bac6-7d4d23bcbb29\">\n",
              "    <div class=\"colab-df-container\">\n",
              "      <div>\n",
              "<style scoped>\n",
              "    .dataframe tbody tr th:only-of-type {\n",
              "        vertical-align: middle;\n",
              "    }\n",
              "\n",
              "    .dataframe tbody tr th {\n",
              "        vertical-align: top;\n",
              "    }\n",
              "\n",
              "    .dataframe thead th {\n",
              "        text-align: right;\n",
              "    }\n",
              "</style>\n",
              "<table border=\"1\" class=\"dataframe\">\n",
              "  <thead>\n",
              "    <tr style=\"text-align: right;\">\n",
              "      <th></th>\n",
              "      <th>rcc</th>\n",
              "      <th>wcc</th>\n",
              "      <th>hc</th>\n",
              "      <th>hg</th>\n",
              "      <th>ferr</th>\n",
              "      <th>bmi</th>\n",
              "      <th>ssf</th>\n",
              "      <th>pcBfat</th>\n",
              "      <th>lbm</th>\n",
              "      <th>ht</th>\n",
              "      <th>wt</th>\n",
              "      <th>sex</th>\n",
              "      <th>sport</th>\n",
              "    </tr>\n",
              "    <tr>\n",
              "      <th>id</th>\n",
              "      <th></th>\n",
              "      <th></th>\n",
              "      <th></th>\n",
              "      <th></th>\n",
              "      <th></th>\n",
              "      <th></th>\n",
              "      <th></th>\n",
              "      <th></th>\n",
              "      <th></th>\n",
              "      <th></th>\n",
              "      <th></th>\n",
              "      <th></th>\n",
              "      <th></th>\n",
              "    </tr>\n",
              "  </thead>\n",
              "  <tbody>\n",
              "    <tr>\n",
              "      <th>1</th>\n",
              "      <td>3.96</td>\n",
              "      <td>7.5</td>\n",
              "      <td>37.5</td>\n",
              "      <td>12.3</td>\n",
              "      <td>60</td>\n",
              "      <td>20.56</td>\n",
              "      <td>109.1</td>\n",
              "      <td>19.75</td>\n",
              "      <td>63.32</td>\n",
              "      <td>195.9</td>\n",
              "      <td>78.9</td>\n",
              "      <td>f</td>\n",
              "      <td>B_Ball</td>\n",
              "    </tr>\n",
              "    <tr>\n",
              "      <th>2</th>\n",
              "      <td>4.41</td>\n",
              "      <td>8.3</td>\n",
              "      <td>38.2</td>\n",
              "      <td>12.7</td>\n",
              "      <td>68</td>\n",
              "      <td>20.67</td>\n",
              "      <td>102.8</td>\n",
              "      <td>21.30</td>\n",
              "      <td>58.55</td>\n",
              "      <td>189.7</td>\n",
              "      <td>74.4</td>\n",
              "      <td>f</td>\n",
              "      <td>B_Ball</td>\n",
              "    </tr>\n",
              "    <tr>\n",
              "      <th>3</th>\n",
              "      <td>4.14</td>\n",
              "      <td>5.0</td>\n",
              "      <td>36.4</td>\n",
              "      <td>11.6</td>\n",
              "      <td>21</td>\n",
              "      <td>21.86</td>\n",
              "      <td>104.6</td>\n",
              "      <td>19.88</td>\n",
              "      <td>55.36</td>\n",
              "      <td>177.8</td>\n",
              "      <td>69.1</td>\n",
              "      <td>f</td>\n",
              "      <td>B_Ball</td>\n",
              "    </tr>\n",
              "    <tr>\n",
              "      <th>4</th>\n",
              "      <td>4.11</td>\n",
              "      <td>5.3</td>\n",
              "      <td>37.3</td>\n",
              "      <td>12.6</td>\n",
              "      <td>69</td>\n",
              "      <td>21.88</td>\n",
              "      <td>126.4</td>\n",
              "      <td>23.66</td>\n",
              "      <td>57.18</td>\n",
              "      <td>185.0</td>\n",
              "      <td>74.9</td>\n",
              "      <td>f</td>\n",
              "      <td>B_Ball</td>\n",
              "    </tr>\n",
              "    <tr>\n",
              "      <th>5</th>\n",
              "      <td>4.45</td>\n",
              "      <td>6.8</td>\n",
              "      <td>41.5</td>\n",
              "      <td>14.0</td>\n",
              "      <td>29</td>\n",
              "      <td>18.96</td>\n",
              "      <td>80.3</td>\n",
              "      <td>17.64</td>\n",
              "      <td>53.20</td>\n",
              "      <td>184.6</td>\n",
              "      <td>64.6</td>\n",
              "      <td>f</td>\n",
              "      <td>B_Ball</td>\n",
              "    </tr>\n",
              "  </tbody>\n",
              "</table>\n",
              "</div>\n",
              "      <button class=\"colab-df-convert\" onclick=\"convertToInteractive('df-b86cf164-c154-4645-bac6-7d4d23bcbb29')\"\n",
              "              title=\"Convert this dataframe to an interactive table.\"\n",
              "              style=\"display:none;\">\n",
              "        \n",
              "  <svg xmlns=\"http://www.w3.org/2000/svg\" height=\"24px\"viewBox=\"0 0 24 24\"\n",
              "       width=\"24px\">\n",
              "    <path d=\"M0 0h24v24H0V0z\" fill=\"none\"/>\n",
              "    <path d=\"M18.56 5.44l.94 2.06.94-2.06 2.06-.94-2.06-.94-.94-2.06-.94 2.06-2.06.94zm-11 1L8.5 8.5l.94-2.06 2.06-.94-2.06-.94L8.5 2.5l-.94 2.06-2.06.94zm10 10l.94 2.06.94-2.06 2.06-.94-2.06-.94-.94-2.06-.94 2.06-2.06.94z\"/><path d=\"M17.41 7.96l-1.37-1.37c-.4-.4-.92-.59-1.43-.59-.52 0-1.04.2-1.43.59L10.3 9.45l-7.72 7.72c-.78.78-.78 2.05 0 2.83L4 21.41c.39.39.9.59 1.41.59.51 0 1.02-.2 1.41-.59l7.78-7.78 2.81-2.81c.8-.78.8-2.07 0-2.86zM5.41 20L4 18.59l7.72-7.72 1.47 1.35L5.41 20z\"/>\n",
              "  </svg>\n",
              "      </button>\n",
              "      \n",
              "  <style>\n",
              "    .colab-df-container {\n",
              "      display:flex;\n",
              "      flex-wrap:wrap;\n",
              "      gap: 12px;\n",
              "    }\n",
              "\n",
              "    .colab-df-convert {\n",
              "      background-color: #E8F0FE;\n",
              "      border: none;\n",
              "      border-radius: 50%;\n",
              "      cursor: pointer;\n",
              "      display: none;\n",
              "      fill: #1967D2;\n",
              "      height: 32px;\n",
              "      padding: 0 0 0 0;\n",
              "      width: 32px;\n",
              "    }\n",
              "\n",
              "    .colab-df-convert:hover {\n",
              "      background-color: #E2EBFA;\n",
              "      box-shadow: 0px 1px 2px rgba(60, 64, 67, 0.3), 0px 1px 3px 1px rgba(60, 64, 67, 0.15);\n",
              "      fill: #174EA6;\n",
              "    }\n",
              "\n",
              "    [theme=dark] .colab-df-convert {\n",
              "      background-color: #3B4455;\n",
              "      fill: #D2E3FC;\n",
              "    }\n",
              "\n",
              "    [theme=dark] .colab-df-convert:hover {\n",
              "      background-color: #434B5C;\n",
              "      box-shadow: 0px 1px 3px 1px rgba(0, 0, 0, 0.15);\n",
              "      filter: drop-shadow(0px 1px 2px rgba(0, 0, 0, 0.3));\n",
              "      fill: #FFFFFF;\n",
              "    }\n",
              "  </style>\n",
              "\n",
              "      <script>\n",
              "        const buttonEl =\n",
              "          document.querySelector('#df-b86cf164-c154-4645-bac6-7d4d23bcbb29 button.colab-df-convert');\n",
              "        buttonEl.style.display =\n",
              "          google.colab.kernel.accessAllowed ? 'block' : 'none';\n",
              "\n",
              "        async function convertToInteractive(key) {\n",
              "          const element = document.querySelector('#df-b86cf164-c154-4645-bac6-7d4d23bcbb29');\n",
              "          const dataTable =\n",
              "            await google.colab.kernel.invokeFunction('convertToInteractive',\n",
              "                                                     [key], {});\n",
              "          if (!dataTable) return;\n",
              "\n",
              "          const docLinkHtml = 'Like what you see? Visit the ' +\n",
              "            '<a target=\"_blank\" href=https://colab.research.google.com/notebooks/data_table.ipynb>data table notebook</a>'\n",
              "            + ' to learn more about interactive tables.';\n",
              "          element.innerHTML = '';\n",
              "          dataTable['output_type'] = 'display_data';\n",
              "          await google.colab.output.renderOutput(dataTable, element);\n",
              "          const docLink = document.createElement('div');\n",
              "          docLink.innerHTML = docLinkHtml;\n",
              "          element.appendChild(docLink);\n",
              "        }\n",
              "      </script>\n",
              "    </div>\n",
              "  </div>\n",
              "  "
            ]
          },
          "metadata": {},
          "execution_count": 61
        }
      ]
    },
    {
      "cell_type": "markdown",
      "source": [
        "## Functies"
      ],
      "metadata": {
        "id": "0wgC65G5sbep"
      }
    },
    {
      "cell_type": "code",
      "source": [
        "mpg = sns.load_dataset(\"mpg\")      # Characteristics of cars\n",
        "tips = sns.load_dataset(\"tips\")    # Info on tips given at restaurants"
      ],
      "metadata": {
        "id": "A2B2K9r-bH3K"
      },
      "execution_count": null,
      "outputs": []
    },
    {
      "cell_type": "code",
      "source": [
        "#lange versie\n",
        "\n",
        "print(f\"Mean:                {tips['tip'].mean()}\")\n",
        "print(f\"Standard deviation:  {tips['tip'].std()}\") # Pay attention: n-1 in the denominator\n",
        "print(f\"Variance:            {tips['tip'].var()}\") # Pay attention: n-1 in the denominator\n",
        "print(f\"Skewness:            {tips['tip'].skew()}\")\n",
        "print(f\"Kurtosis:            {tips['tip'].kurtosis()}\")\n",
        "\n",
        "# Median & co\n",
        "print(f\"Minimum:   {tips['tip'].min()}\")\n",
        "print(f\"Median:    {tips['tip'].median()}\")\n",
        "print(f\"Maximum:   {tips['tip'].max()}\")\n",
        "percentiles = [0.0, 0.25, 0.5, 0.75, 1.0]\n",
        "print(\"Percentiles\", percentiles, \"\\n\", tips['tip'].quantile(percentiles))\n",
        "print(\"Inter Quartile Range:\", tips['tip'].quantile(.75) - tips['tip'].quantile(.25))\n",
        "print(f\"Range :    {tips['tip'].max() - tips['tip'].min()}\")"
      ],
      "metadata": {
        "id": "9ZIEkrFIbHmC"
      },
      "execution_count": null,
      "outputs": []
    },
    {
      "cell_type": "code",
      "source": [
        "#korte versie\n",
        "tips[\"tip\"].describe()"
      ],
      "metadata": {
        "colab": {
          "base_uri": "https://localhost:8080/"
        },
        "id": "gHJlLc99ygB4",
        "outputId": "2ede9006-41f1-4db1-c5ef-97171c8d033a"
      },
      "execution_count": null,
      "outputs": [
        {
          "output_type": "execute_result",
          "data": {
            "text/plain": [
              "count    244.000000\n",
              "mean       2.998279\n",
              "std        1.383638\n",
              "min        1.000000\n",
              "25%        2.000000\n",
              "50%        2.900000\n",
              "75%        3.562500\n",
              "max       10.000000\n",
              "Name: tip, dtype: float64"
            ]
          },
          "metadata": {},
          "execution_count": 58
        }
      ]
    },
    {
      "cell_type": "markdown",
      "source": [
        "# **Hoofdstuk 3 Normaalverdeling + T-verdeling** "
      ],
      "metadata": {
        "id": "wxauGwT1S_xl"
      }
    },
    {
      "cell_type": "markdown",
      "source": [
        "## Normaalverdeling functies\n",
        "\n"
      ],
      "metadata": {
        "id": "EghQXh-3rmum"
      }
    },
    {
      "cell_type": "code",
      "source": [
        "mu= 5             #gemiddelde\n",
        "sigma = 1.5       #deviatie\n",
        "x = 6             #x-waarde\n",
        "p=0.40            #percentage"
      ],
      "metadata": {
        "id": "xQ9ih5NJyh6e"
      },
      "execution_count": null,
      "outputs": []
    },
    {
      "cell_type": "code",
      "source": [
        "#probabilty density function: berekend de Y-waarde die overeenkomt met x (is niet hetzelfde als een kans)\n",
        "\n",
        "pdf_value = stats.norm.pdf(x, loc=mu, scale=sigma)   \n",
        "print(pdf_value)\n",
        "\n",
        "#Cumulatieve distributie functie: kans dat een waarde kleiner is dan x (berekend de oppervlakte onder de curve)\n",
        "#cdf_value= stats.norm.cdf(x, loc=mu, scale=sigma)\n",
        "#print(cdf_value)\n",
        "\n",
        "#Survival function: kans dat de waarde groter is dan x\n",
        "sf_value= stats.norm.sf(x, loc=mu, scale=sigma)\n",
        "print(sf_value)\n",
        "\n",
        "\n",
        "#Inversed survival function: x waarde dat komt overeen met het (meegegeven) percentage   \n",
        "#ipv het percentage te berekenen, gaat deze de x-waarde berekenen (omgekeerde van de sf-function)\n",
        "\n",
        "isf_value = stats.norm.isf(sf_value, loc=mu, scale=sigma)\n",
        "print(isf_value)\n",
        "\n"
      ],
      "metadata": {
        "id": "QJfHhH91yh4T",
        "outputId": "040e06d4-e4bf-4890-e52d-8e8749138dc0",
        "colab": {
          "base_uri": "https://localhost:8080/"
        }
      },
      "execution_count": null,
      "outputs": [
        {
          "output_type": "stream",
          "name": "stdout",
          "text": [
            "0.2129653370149015\n",
            "0.2524925375469229\n",
            "6.0\n"
          ]
        }
      ]
    },
    {
      "cell_type": "markdown",
      "source": [
        "## Centrale limiet stelling\n"
      ],
      "metadata": {
        "id": "e65w6RjU3_vb"
      }
    },
    {
      "cell_type": "markdown",
      "source": [
        "###aantonen dat de gemiddeldes een normaal verdeling zijn"
      ],
      "metadata": {
        "id": "RT2zlgVP8sbx"
      }
    },
    {
      "cell_type": "code",
      "source": [
        "ais = pd.read_csv('https://raw.githubusercontent.com/arnauddormaels/Data-Science-and-AI/main/data/ais.csv')\n"
      ],
      "metadata": {
        "id": "AV_mGvupyh1o"
      },
      "execution_count": null,
      "outputs": []
    },
    {
      "cell_type": "code",
      "source": [
        "ais.head()"
      ],
      "metadata": {
        "id": "FwOvWFK5yhv5",
        "outputId": "6fd9f122-5ee8-439c-8629-81d85a4b4eb2",
        "colab": {
          "base_uri": "https://localhost:8080/"
        }
      },
      "execution_count": null,
      "outputs": [
        {
          "output_type": "execute_result",
          "data": {
            "text/plain": [
              "   id   rcc  wcc    hc    hg  ferr    bmi    ssf  pcBfat    lbm     ht    wt  \\\n",
              "0   1  3.96  7.5  37.5  12.3    60  20.56  109.1   19.75  63.32  195.9  78.9   \n",
              "1   2  4.41  8.3  38.2  12.7    68  20.67  102.8   21.30  58.55  189.7  74.4   \n",
              "2   3  4.14  5.0  36.4  11.6    21  21.86  104.6   19.88  55.36  177.8  69.1   \n",
              "3   4  4.11  5.3  37.3  12.6    69  21.88  126.4   23.66  57.18  185.0  74.9   \n",
              "4   5  4.45  6.8  41.5  14.0    29  18.96   80.3   17.64  53.20  184.6  64.6   \n",
              "\n",
              "  sex   sport  \n",
              "0   f  B_Ball  \n",
              "1   f  B_Ball  \n",
              "2   f  B_Ball  \n",
              "3   f  B_Ball  \n",
              "4   f  B_Ball  "
            ],
            "text/html": [
              "\n",
              "  <div id=\"df-b6a10243-8584-41fa-adbf-1240d028f70e\">\n",
              "    <div class=\"colab-df-container\">\n",
              "      <div>\n",
              "<style scoped>\n",
              "    .dataframe tbody tr th:only-of-type {\n",
              "        vertical-align: middle;\n",
              "    }\n",
              "\n",
              "    .dataframe tbody tr th {\n",
              "        vertical-align: top;\n",
              "    }\n",
              "\n",
              "    .dataframe thead th {\n",
              "        text-align: right;\n",
              "    }\n",
              "</style>\n",
              "<table border=\"1\" class=\"dataframe\">\n",
              "  <thead>\n",
              "    <tr style=\"text-align: right;\">\n",
              "      <th></th>\n",
              "      <th>id</th>\n",
              "      <th>rcc</th>\n",
              "      <th>wcc</th>\n",
              "      <th>hc</th>\n",
              "      <th>hg</th>\n",
              "      <th>ferr</th>\n",
              "      <th>bmi</th>\n",
              "      <th>ssf</th>\n",
              "      <th>pcBfat</th>\n",
              "      <th>lbm</th>\n",
              "      <th>ht</th>\n",
              "      <th>wt</th>\n",
              "      <th>sex</th>\n",
              "      <th>sport</th>\n",
              "    </tr>\n",
              "  </thead>\n",
              "  <tbody>\n",
              "    <tr>\n",
              "      <th>0</th>\n",
              "      <td>1</td>\n",
              "      <td>3.96</td>\n",
              "      <td>7.5</td>\n",
              "      <td>37.5</td>\n",
              "      <td>12.3</td>\n",
              "      <td>60</td>\n",
              "      <td>20.56</td>\n",
              "      <td>109.1</td>\n",
              "      <td>19.75</td>\n",
              "      <td>63.32</td>\n",
              "      <td>195.9</td>\n",
              "      <td>78.9</td>\n",
              "      <td>f</td>\n",
              "      <td>B_Ball</td>\n",
              "    </tr>\n",
              "    <tr>\n",
              "      <th>1</th>\n",
              "      <td>2</td>\n",
              "      <td>4.41</td>\n",
              "      <td>8.3</td>\n",
              "      <td>38.2</td>\n",
              "      <td>12.7</td>\n",
              "      <td>68</td>\n",
              "      <td>20.67</td>\n",
              "      <td>102.8</td>\n",
              "      <td>21.30</td>\n",
              "      <td>58.55</td>\n",
              "      <td>189.7</td>\n",
              "      <td>74.4</td>\n",
              "      <td>f</td>\n",
              "      <td>B_Ball</td>\n",
              "    </tr>\n",
              "    <tr>\n",
              "      <th>2</th>\n",
              "      <td>3</td>\n",
              "      <td>4.14</td>\n",
              "      <td>5.0</td>\n",
              "      <td>36.4</td>\n",
              "      <td>11.6</td>\n",
              "      <td>21</td>\n",
              "      <td>21.86</td>\n",
              "      <td>104.6</td>\n",
              "      <td>19.88</td>\n",
              "      <td>55.36</td>\n",
              "      <td>177.8</td>\n",
              "      <td>69.1</td>\n",
              "      <td>f</td>\n",
              "      <td>B_Ball</td>\n",
              "    </tr>\n",
              "    <tr>\n",
              "      <th>3</th>\n",
              "      <td>4</td>\n",
              "      <td>4.11</td>\n",
              "      <td>5.3</td>\n",
              "      <td>37.3</td>\n",
              "      <td>12.6</td>\n",
              "      <td>69</td>\n",
              "      <td>21.88</td>\n",
              "      <td>126.4</td>\n",
              "      <td>23.66</td>\n",
              "      <td>57.18</td>\n",
              "      <td>185.0</td>\n",
              "      <td>74.9</td>\n",
              "      <td>f</td>\n",
              "      <td>B_Ball</td>\n",
              "    </tr>\n",
              "    <tr>\n",
              "      <th>4</th>\n",
              "      <td>5</td>\n",
              "      <td>4.45</td>\n",
              "      <td>6.8</td>\n",
              "      <td>41.5</td>\n",
              "      <td>14.0</td>\n",
              "      <td>29</td>\n",
              "      <td>18.96</td>\n",
              "      <td>80.3</td>\n",
              "      <td>17.64</td>\n",
              "      <td>53.20</td>\n",
              "      <td>184.6</td>\n",
              "      <td>64.6</td>\n",
              "      <td>f</td>\n",
              "      <td>B_Ball</td>\n",
              "    </tr>\n",
              "  </tbody>\n",
              "</table>\n",
              "</div>\n",
              "      <button class=\"colab-df-convert\" onclick=\"convertToInteractive('df-b6a10243-8584-41fa-adbf-1240d028f70e')\"\n",
              "              title=\"Convert this dataframe to an interactive table.\"\n",
              "              style=\"display:none;\">\n",
              "        \n",
              "  <svg xmlns=\"http://www.w3.org/2000/svg\" height=\"24px\"viewBox=\"0 0 24 24\"\n",
              "       width=\"24px\">\n",
              "    <path d=\"M0 0h24v24H0V0z\" fill=\"none\"/>\n",
              "    <path d=\"M18.56 5.44l.94 2.06.94-2.06 2.06-.94-2.06-.94-.94-2.06-.94 2.06-2.06.94zm-11 1L8.5 8.5l.94-2.06 2.06-.94-2.06-.94L8.5 2.5l-.94 2.06-2.06.94zm10 10l.94 2.06.94-2.06 2.06-.94-2.06-.94-.94-2.06-.94 2.06-2.06.94z\"/><path d=\"M17.41 7.96l-1.37-1.37c-.4-.4-.92-.59-1.43-.59-.52 0-1.04.2-1.43.59L10.3 9.45l-7.72 7.72c-.78.78-.78 2.05 0 2.83L4 21.41c.39.39.9.59 1.41.59.51 0 1.02-.2 1.41-.59l7.78-7.78 2.81-2.81c.8-.78.8-2.07 0-2.86zM5.41 20L4 18.59l7.72-7.72 1.47 1.35L5.41 20z\"/>\n",
              "  </svg>\n",
              "      </button>\n",
              "      \n",
              "  <style>\n",
              "    .colab-df-container {\n",
              "      display:flex;\n",
              "      flex-wrap:wrap;\n",
              "      gap: 12px;\n",
              "    }\n",
              "\n",
              "    .colab-df-convert {\n",
              "      background-color: #E8F0FE;\n",
              "      border: none;\n",
              "      border-radius: 50%;\n",
              "      cursor: pointer;\n",
              "      display: none;\n",
              "      fill: #1967D2;\n",
              "      height: 32px;\n",
              "      padding: 0 0 0 0;\n",
              "      width: 32px;\n",
              "    }\n",
              "\n",
              "    .colab-df-convert:hover {\n",
              "      background-color: #E2EBFA;\n",
              "      box-shadow: 0px 1px 2px rgba(60, 64, 67, 0.3), 0px 1px 3px 1px rgba(60, 64, 67, 0.15);\n",
              "      fill: #174EA6;\n",
              "    }\n",
              "\n",
              "    [theme=dark] .colab-df-convert {\n",
              "      background-color: #3B4455;\n",
              "      fill: #D2E3FC;\n",
              "    }\n",
              "\n",
              "    [theme=dark] .colab-df-convert:hover {\n",
              "      background-color: #434B5C;\n",
              "      box-shadow: 0px 1px 3px 1px rgba(0, 0, 0, 0.15);\n",
              "      filter: drop-shadow(0px 1px 2px rgba(0, 0, 0, 0.3));\n",
              "      fill: #FFFFFF;\n",
              "    }\n",
              "  </style>\n",
              "\n",
              "      <script>\n",
              "        const buttonEl =\n",
              "          document.querySelector('#df-b6a10243-8584-41fa-adbf-1240d028f70e button.colab-df-convert');\n",
              "        buttonEl.style.display =\n",
              "          google.colab.kernel.accessAllowed ? 'block' : 'none';\n",
              "\n",
              "        async function convertToInteractive(key) {\n",
              "          const element = document.querySelector('#df-b6a10243-8584-41fa-adbf-1240d028f70e');\n",
              "          const dataTable =\n",
              "            await google.colab.kernel.invokeFunction('convertToInteractive',\n",
              "                                                     [key], {});\n",
              "          if (!dataTable) return;\n",
              "\n",
              "          const docLinkHtml = 'Like what you see? Visit the ' +\n",
              "            '<a target=\"_blank\" href=https://colab.research.google.com/notebooks/data_table.ipynb>data table notebook</a>'\n",
              "            + ' to learn more about interactive tables.';\n",
              "          element.innerHTML = '';\n",
              "          dataTable['output_type'] = 'display_data';\n",
              "          await google.colab.output.renderOutput(dataTable, element);\n",
              "          const docLink = document.createElement('div');\n",
              "          docLink.innerHTML = docLinkHtml;\n",
              "          element.appendChild(docLink);\n",
              "        }\n",
              "      </script>\n",
              "    </div>\n",
              "  </div>\n",
              "  "
            ]
          },
          "metadata": {},
          "execution_count": 55
        }
      ]
    },
    {
      "cell_type": "code",
      "source": [
        "arr =np.array([])\n",
        "for i in range(5000):\n",
        "  arr=np.append(arr,ais['ht'].sample(n=50).mean())\n",
        "\n",
        "sns.displot(arr)"
      ],
      "metadata": {
        "id": "KBIObzO1yhyw",
        "outputId": "942f7b26-a612-4c1d-f2a1-a254e9ff133d",
        "colab": {
          "base_uri": "https://localhost:8080/"
        }
      },
      "execution_count": null,
      "outputs": [
        {
          "output_type": "execute_result",
          "data": {
            "text/plain": [
              "<seaborn.axisgrid.FacetGrid at 0x7f4bde332a50>"
            ]
          },
          "metadata": {},
          "execution_count": 56
        },
        {
          "output_type": "display_data",
          "data": {
            "text/plain": [
              "<Figure size 360x360 with 1 Axes>"
            ],
            "image/png": "[encoded data removed]"
          },
          "metadata": {
            "needs_background": "light"
          }
        }
      ]
    },
    {
      "cell_type": "markdown",
      "source": [
        "### werken met centrale limietstelling"
      ],
      "metadata": {
        "id": "6KWMw_1K8-Bp"
      }
    },
    {
      "cell_type": "code",
      "source": [
        "mu= 12.1             #gemiddelde\n",
        "sigma = 3.8/math.sqrt(43)       #deviatie van sample/sample grootte = deviatie\n",
        "x = 11             #x-waarde\n",
        "p=0.40            #percentage\n"
      ],
      "metadata": {
        "id": "xZfXcAUUyhtA"
      },
      "execution_count": null,
      "outputs": []
    },
    {
      "cell_type": "code",
      "source": [
        "cdf_value= stats.norm.cdf(x, loc=mu, scale=sigma)\n",
        "print(cdf_value)"
      ],
      "metadata": {
        "id": "4Ydq9ZSmyhqJ",
        "outputId": "50e84061-fac9-4499-be64-b1525a7241bd",
        "colab": {
          "base_uri": "https://localhost:8080/"
        }
      },
      "execution_count": null,
      "outputs": [
        {
          "output_type": "stream",
          "name": "stdout",
          "text": [
            "0.02883448270747309\n"
          ]
        }
      ]
    },
    {
      "cell_type": "markdown",
      "source": [
        "## Normaal verdeling (Betrouwbaarheidsinterval + Z-score)\n",
        "\n"
      ],
      "metadata": {
        "id": "KfR1CFar-eW5"
      }
    },
    {
      "cell_type": "code",
      "source": [
        "sample = np.array([123,22,55,44,66,45,8489,5,4,84,35,4,84,5,43,84,3,354,354,546,2134,8943,4849])\n",
        "\n",
        "m= 5.2                          #Sample mean                                  m=(sample.mean())\n",
        "s= 1.5                          #Populatie standaardafwijking/sigma\n",
        "n= 100                          #Sample size                                  n=sample_size=len(sample)\n",
        "alpha= 0.5                      #1-alpha = betrouwbaarheids gebied (95%)\n",
        "x = 5.4                         #meegegeven variabele"
      ],
      "metadata": {
        "id": "UIAyxXoCyhnA"
      },
      "execution_count": null,
      "outputs": []
    },
    {
      "cell_type": "code",
      "source": [
        "z_score=(x-m)/s                                         #z-score berekenen\n",
        "print(\"Z-score voor %.1f is: %.2f\" % (x,z_score))\n",
        "\n",
        "\n",
        "z_alpha_div2=stats.norm.isf(alpha/2)                         #alpha/2 bereken\n",
        "#z_alpha_div2=stats.t.isf(alpha/2,n-1)                       #enkel gebruiken indien de s van de populatie onbekend is of n<30 \n",
        "print(\"z_alpha/2: %f.5\" % z_alpha_div2)                      #getal dat overeenkomt met alpha/2 op de norm\n",
        "\n",
        "\n",
        "\n",
        "lower_limit =m - (z_alpha_div2*s / math.sqrt(n))               #Betrouwbaarheids interval berekenen\n",
        "upper_limit =m + (z_alpha_div2*s / math.sqrt(n))\n",
        "\n",
        "\n",
        "print(\"Confidence interval: [%.5f ,%.5f]\" % (lower_limit,upper_limit))\n"
      ],
      "metadata": {
        "id": "B3aD8zJ5yhhQ",
        "outputId": "2508905b-66e6-4d50-f41a-200bfe44e4fd",
        "colab": {
          "base_uri": "https://localhost:8080/"
        }
      },
      "execution_count": null,
      "outputs": [
        {
          "output_type": "stream",
          "name": "stdout",
          "text": [
            "Z-score voor 5.4 is: 0.13\n",
            "z_alpha/2: 0.674490.5\n",
            "Confidence interval: [5.09883 ,5.30117]\n"
          ]
        }
      ]
    },
    {
      "cell_type": "markdown",
      "source": [
        "## T-verdeling\n"
      ],
      "metadata": {
        "id": "V3vdaN6NcDcn"
      }
    },
    {
      "cell_type": "code",
      "source": [
        "m= 5.2                #Sample mean                                  m=(sample.mean())\n",
        "s= 1.5              #Populatie standaardafwijking/sigma\n",
        "n = 15               #Sample size                                  n=sample_size=len(sample)\n",
        "alpha=0.05          #1-alpha = betrouwbaarheids gebied (95%)"
      ],
      "metadata": {
        "id": "3nxNyQgIzm6K"
      },
      "execution_count": null,
      "outputs": []
    },
    {
      "cell_type": "code",
      "source": [
        "t = stats.t.isf(alpha/2, df=n-1)                #T-score berekenen\n",
        "print(\"T-score: %.5f\" % t)\n",
        "\n",
        "\n",
        "lower_limit= m - (t*s / math.sqrt(n))\n",
        "upper_limit= m + (t*s / math.sqrt(n))\n",
        "\n",
        "print(\"Confidence interval: [%.5f ,%.5f]\" % (lower_limit,upper_limit))\n"
      ],
      "metadata": {
        "id": "30k03ZC_zm3c",
        "outputId": "3c59507b-0209-47e4-ef65-e5ca85a39245",
        "colab": {
          "base_uri": "https://localhost:8080/"
        }
      },
      "execution_count": null,
      "outputs": [
        {
          "output_type": "stream",
          "name": "stdout",
          "text": [
            "T-score: 2.14479\n",
            "Confidence interval: [4.36933 ,6.03067]\n"
          ]
        }
      ]
    },
    {
      "cell_type": "markdown",
      "source": [
        "## Grafiek plotten\n"
      ],
      "metadata": {
        "id": "twVL_OaydVmK"
      }
    },
    {
      "cell_type": "markdown",
      "source": [
        "### normaal verdeling plotten"
      ],
      "metadata": {
        "id": "MwBxRsvembGr"
      }
    },
    {
      "cell_type": "code",
      "source": [
        "m = 2.5\n",
        "s = 1.5\n",
        "x1 = 0.5\n",
        "x2 = 4"
      ],
      "metadata": {
        "id": "NhuPgn__zm01"
      },
      "execution_count": null,
      "outputs": []
    },
    {
      "cell_type": "code",
      "source": [
        "a = stats.norm.cdf(x1,loc=m,scale=s)\n",
        "b= stats.norm.cdf(x2,loc=m,scale=s)\n",
        "print(\"oppervlakte onder de grafiek:%.5f\" % (b-a))\n",
        "print(\"\")\n",
        "\n",
        "x = np.linspace(m - 4*s, m + 4*s,201)\n",
        "y=stats.norm.pdf(x, m, s)\n",
        "plt.plot(x,y)\n",
        "# Left tail probability plot\n",
        "\n",
        "\n",
        "# Fill the area left of x\n",
        "plt.fill_between(x, 0, y, where=(x1 <= x) &(x2>=x), color='lightblue')\n",
        "# Show the mean with an orange line\n",
        "# plt.axvline(m, color=\"orange\", lw=2)                              %toont het gemiddelde\n",
        "# Show x with a green line\n",
        "plt.axvline(x1, color=\"green\")\n",
        "plt.axvline(x2, color=\"red\")\n",
        "\n",
        "\n",
        "\n",
        "#bonus\n",
        "#y_cdf = stats.norm.cdf(x,loc=m,scale=s)                                  #De kans dat de het getal kleiner zou zijn dan de x waarde op dat moment (wanneer je op het gemiddelde zit is y = 0.5 dan heb je 50% kans dat de waarde kleiner is dan x/gemiddelde (op dit moment))\n",
        "#plt.plot(x,y_cdf)                                                        #Wanneer y=1 heb je 100% kans dat de waarde gelijk kleiner is dan x"
      ],
      "metadata": {
        "id": "hMy2TI4fzmyC",
        "colab": {
          "base_uri": "https://localhost:8080/",
          "height": 317
        },
        "outputId": "d544d3a9-5802-4f2c-f7cb-54d09e40e631"
      },
      "execution_count": null,
      "outputs": [
        {
          "output_type": "stream",
          "name": "stdout",
          "text": [
            "oppervlakte onder de grafiek:0.75013\n",
            "\n"
          ]
        },
        {
          "output_type": "execute_result",
          "data": {
            "text/plain": [
              "<matplotlib.lines.Line2D at 0x7f796bc1ad50>"
            ]
          },
          "metadata": {},
          "execution_count": 7
        },
        {
          "output_type": "display_data",
          "data": {
            "text/plain": [
              "<Figure size 432x288 with 1 Axes>"
            ],
            "image/png": "[encoded data removed]"
          },
          "metadata": {
            "needs_background": "light"
          }
        }
      ]
    },
    {
      "cell_type": "markdown",
      "source": [
        "###T-verdeling plotten"
      ],
      "metadata": {
        "id": "fOuh1uhgmhih"
      }
    },
    {
      "cell_type": "code",
      "source": [
        "m = 0\n",
        "s = 1\n",
        "x1 = 0.5\n",
        "x2 = 4\n",
        "df = 3            #Aantal vrijheidsgraden"
      ],
      "metadata": {
        "id": "atjZCDjzzmsb"
      },
      "execution_count": null,
      "outputs": []
    },
    {
      "cell_type": "code",
      "source": [
        "a = stats.t.cdf(x1,df=df)\n",
        "b= stats.t.cdf(x2,df=df)\n",
        "print(\"oppervlakte onder de grafiek:%.5f\" % (b-a))\n",
        "print(\"\")\n",
        "\n",
        "x = np.linspace(m - 4*s, m + 4*s,201)\n",
        "t=stats.t.pdf(x, df)\n",
        "plt.plot(x,t)\n",
        "# Left tail probability plot\n",
        "\n",
        "\n",
        "# Fill the area left of x\n",
        "#plt.fill_between(x, 0, t, where=(x1 <= x) &(x2>=x), color='lightblue')\n",
        "# Show the mean with an orange line\n",
        "# plt.axvline(m, color=\"orange\", lw=2)                              %toont het gemiddelde\n",
        "# Show x with a green line\n",
        "#plt.axvline(x1, color=\"green\")\n",
        "#plt.axvline(x2, color=\"red\")\n",
        "y=stats.norm.pdf(x, m, s)\n",
        "plt.plot(x,y)\n",
        "#bonus\n",
        "t_cdf = stats.t.cdf(x,df)                                  #De kans dat de het getal kleiner zou zijn dan de x waarde op dat moment (wanneer je op het gemiddelde zit is y = 0.5 dan heb je 50% kans dat de waarde kleiner is dan x/gemiddelde (op dit moment))\n",
        "plt.plot(x,t_cdf)                                                        #Wanneer y=1 heb je 100% kans dat de waarde gelijk kleiner is dan x"
      ],
      "metadata": {
        "id": "inEe9G7Ezmva",
        "colab": {
          "base_uri": "https://localhost:8080/",
          "height": 317
        },
        "outputId": "d5f51ebd-486f-4932-9b49-83e387960d44"
      },
      "execution_count": null,
      "outputs": [
        {
          "output_type": "stream",
          "name": "stdout",
          "text": [
            "oppervlakte onder de grafiek:0.31172\n",
            "\n"
          ]
        },
        {
          "output_type": "execute_result",
          "data": {
            "text/plain": [
              "[<matplotlib.lines.Line2D at 0x7f796b3cc390>]"
            ]
          },
          "metadata": {},
          "execution_count": 30
        },
        {
          "output_type": "display_data",
          "data": {
            "text/plain": [
              "<Figure size 432x288 with 1 Axes>"
            ],
            "image/png": "[encoded data removed]"
          },
          "metadata": {
            "needs_background": "light"
          }
        }
      ]
    },
    {
      "cell_type": "markdown",
      "source": [
        "## Oefening theorie vs praktijk\n",
        "\n",
        "\n",
        "\n"
      ],
      "metadata": {
        "id": "SThyUJl1qqaz"
      }
    },
    {
      "cell_type": "code",
      "source": [
        "n=10                   #Hoe groter n hoe nauwkeuriger dat de observaties gaan zijn\n",
        "m=0\n",
        "s=1\n",
        "\n",
        "observaties = np.random.normal(loc = m ,scale=s,size=n)              #neemt n random waarden van de T-verdeling\n",
        "\n",
        "obs_hist = sns.histplot(observaties,stat='density', kde=True)        #toont de verdeling en histogram van de uitkozen waarden\n",
        "\n",
        "\n",
        "x_dist = np.linspace(m-4*s,m+4*s, num=201)\n",
        "dist_y = stats.norm.pdf(x_dist,m,s)\n",
        "obs_hist.plot(x_dist, dist_y,'red', lw=2)                           #toont de t-verdeling van de waarden\n"
      ],
      "metadata": {
        "id": "vN85rYk-zmpq",
        "colab": {
          "base_uri": "https://localhost:8080/",
          "height": 282
        },
        "outputId": "6069febf-a785-42a0-cb4f-8a49d944d3e7"
      },
      "execution_count": null,
      "outputs": [
        {
          "output_type": "execute_result",
          "data": {
            "text/plain": [
              "[<matplotlib.lines.Line2D at 0x7f796872f390>]"
            ]
          },
          "metadata": {},
          "execution_count": 55
        },
        {
          "output_type": "display_data",
          "data": {
            "text/plain": [
              "<Figure size 432x288 with 1 Axes>"
            ],
            "image/png": "[encoded data removed]"
          },
          "metadata": {
            "needs_background": "light"
          }
        }
      ]
    },
    {
      "cell_type": "markdown",
      "source": [
        "rode lijn is theorie \n",
        "\n",
        "blauw is praktijk"
      ],
      "metadata": {
        "id": "3K8bAJj5vtGz"
      }
    },
    {
      "cell_type": "markdown",
      "source": [
        "## oefeningen"
      ],
      "metadata": {
        "id": "nZyuTjL5vmyM"
      }
    },
    {
      "cell_type": "markdown",
      "source": [
        "### Excercise 1"
      ],
      "metadata": {
        "id": "ihm2FUyBG6I3"
      }
    },
    {
      "cell_type": "code",
      "source": [
        "m = 2.5\n",
        "s = 1.5\n",
        "x1 = 0.5\n",
        "x2 = 4\n",
        "\n",
        "a = stats.norm.cdf(x1,loc=m,scale=s)\n",
        "b= stats.norm.cdf(x2,loc=m,scale=s)\n",
        "print(\"oppervlakte onder de grafiek:%.5f\" % (b-a))                  #Oppervlakte berekenen\n",
        "print(\"\")\n",
        "\n",
        "x = np.linspace(m - 4*s, m + 4*s,201)\n",
        "y=stats.norm.pdf(x, m, s)\n",
        "plt.plot(x,y)\n",
        "# Left tail probability plot\n",
        "\n",
        "\n",
        "# Fill the area left of x\n",
        "plt.fill_between(x, 0, y, where=(x1 <= x) &(x2>=x), color='lightblue')\n",
        "# Show the mean with an orange line\n",
        "# plt.axvline(m, color=\"orange\", lw=2)                              %toont het gemiddelde\n",
        "# Show x with a green line\n",
        "plt.axvline(x1, color=\"green\")\n",
        "plt.axvline(x2, color=\"green\")\n",
        "\n",
        "\n",
        "y_cdf = stats.norm.cdf(x,loc=m,scale=s)\n",
        "plt.plot(x,y_cdf)"
      ],
      "metadata": {
        "colab": {
          "base_uri": "https://localhost:8080/",
          "height": 317
        },
        "id": "AQFIkztYvmkE",
        "outputId": "89063883-ebf8-4a68-e527-5708e4031173"
      },
      "execution_count": null,
      "outputs": [
        {
          "output_type": "stream",
          "name": "stdout",
          "text": [
            "oppervlakte onder de grafiek:0.75013\n",
            "\n"
          ]
        },
        {
          "output_type": "execute_result",
          "data": {
            "text/plain": [
              "[<matplotlib.lines.Line2D at 0x7f7966306fd0>]"
            ]
          },
          "metadata": {},
          "execution_count": 90
        },
        {
          "output_type": "display_data",
          "data": {
            "text/plain": [
              "<Figure size 432x288 with 1 Axes>"
            ],
            "image/png": "[encoded data removed]"
          },
          "metadata": {
            "needs_background": "light"
          }
        }
      ]
    },
    {
      "cell_type": "markdown",
      "source": [
        "### Exercise 2"
      ],
      "metadata": {
        "id": "rRDl05sbHBLP"
      }
    },
    {
      "cell_type": "code",
      "source": [
        "n=64\n",
        "m= 20\n",
        "s=16/math.sqrt(n)\n",
        "x1=22\n",
        "x2=16\n",
        "x=np.linspace(m - 4*s, m + 4*s,201)\n",
        "y=stats.norm.pdf(x,m,s)\n",
        "plt.plot(x,y)\n",
        "\n",
        "\n",
        "\n",
        "a= stats.norm.cdf(x1, loc=m, scale=s)\n",
        "print(\"kans dat x kleiner is dan %.2f is %.2f\" % (x1,a))\n",
        "b=stats.norm.cdf(x2, loc=m, scale=s)\n",
        "print(\"kans dat x tussen x1 en x2 ligt is %.2f\" %(a-b))\n",
        "print(\"kans dat x groter is dan x3 is %.2f\" % stats.norm.sf(19,loc=m,scale=s))\n",
        "\n",
        "\n",
        "z1=(15.5-m)/s\n",
        "print(\"Z-score: %.2f\" % z1)\n",
        "\n",
        "z2=(23-m)/s\n",
        "print(\"Z-score: %.2f\" % z2)"
      ],
      "metadata": {
        "colab": {
          "base_uri": "https://localhost:8080/",
          "height": 352
        },
        "id": "PgB7BAv-vmhc",
        "outputId": "4edaf041-9f0d-485d-c820-c3c2509d6e83"
      },
      "execution_count": null,
      "outputs": [
        {
          "output_type": "stream",
          "name": "stdout",
          "text": [
            "kans dat x kleiner is dan 22.00 is 0.84\n",
            "kans dat x tussen x1 en x2 ligt is 0.82\n",
            "kans dat x groter is dan x3 is 0.69\n",
            "Z-score: -2.25\n",
            "Z-score: 1.50\n"
          ]
        },
        {
          "output_type": "display_data",
          "data": {
            "text/plain": [
              "<Figure size 432x288 with 1 Axes>"
            ],
            "image/png": "[encoded data removed]"
          },
          "metadata": {
            "needs_background": "light"
          }
        }
      ]
    },
    {
      "cell_type": "markdown",
      "source": [
        "###Exercise 3"
      ],
      "metadata": {
        "id": "-uSLUZfNHB-J"
      }
    },
    {
      "cell_type": "code",
      "source": [
        "df = pd.read_csv('https://raw.githubusercontent.com/arnauddormaels/Data-Science-and-AI/main/data/rlanders.csv').set_index([\"ID\"])\n",
        "df.head"
      ],
      "metadata": {
        "id": "kXEZwuZrvmeE"
      },
      "execution_count": null,
      "outputs": []
    },
    {
      "cell_type": "code",
      "source": [
        "s=df['Money'][:25].std()                                      #gebruikt enkel de eerste 25 waarden nemen van df\n",
        "n=25\n",
        "m=df['Money'][:25].mean()\n",
        "alpha= 0.05\n",
        "\n",
        "z_alpha_div2=stats.t.isf(alpha/2,n-1)                         #alpha/2 bereken    \n",
        "print(\"alpha/2: %f.5\" % z_alpha_div2)                        \n",
        "\n",
        "lower_limit =m - (z_alpha_div2*s / math.sqrt(n))               #Betrouwbaarheids interval berekenen\n",
        "upper_limit =m + (z_alpha_div2*s / math.sqrt(n))\n",
        "\n",
        "\n",
        "print(\"Confidence interval: [%.5f ,%.5f]\" % (lower_limit,upper_limit))"
      ],
      "metadata": {
        "id": "YbEj_hEGzmm6",
        "colab": {
          "base_uri": "https://localhost:8080/"
        },
        "outputId": "19eeebd2-26cc-4df4-e76e-96f1cc622e11"
      },
      "execution_count": null,
      "outputs": [
        {
          "output_type": "stream",
          "name": "stdout",
          "text": [
            "alpha/2: 2.063899.5\n",
            "Confidence interval: [450.29121 ,536.66879]\n"
          ]
        }
      ]
    },
    {
      "cell_type": "markdown",
      "source": [
        "# **Hoofdstuk 3 Hypothese testing** "
      ],
      "metadata": {
        "id": "EpqscCnUJrif"
      }
    },
    {
      "cell_type": "markdown",
      "source": [
        "## Z-test"
      ],
      "metadata": {
        "id": "3MOwVu3WKClP"
      }
    },
    {
      "cell_type": "markdown",
      "source": [
        "###Rechtzijdige Z-toets"
      ],
      "metadata": {
        "id": "SSFpdUIRvyHd"
      }
    },
    {
      "cell_type": "code",
      "source": [
        "n=40\n",
        "m=351.2\n",
        "s=4.1\n",
        "m_sample = 352.8                                   #Gemiddelde dat wordt waargenomen\n",
        "s_sample = s/math.sqrt(n)       \n",
        "significance = 0.05                                  #Significantie niveau "
      ],
      "metadata": {
        "id": "2KLAFWM3KEUv"
      },
      "execution_count": null,
      "outputs": []
    },
    {
      "cell_type": "code",
      "source": [
        "#methode 1 \n",
        "p_value = stats.norm.sf(m_sample, loc=m, scale=s_sample)\n",
        "print(\"de kans dat m_sample kleiner is dan %.2f is %.2f\" % (m_sample,p_value))      #indien p_value kleiner is dan significantie niveau(5%) verwerpen hypothese\n",
        "print(\"p_value > significance\")\n",
        "print(\"%.2f > %.2f\" % (p_value,significance))\n",
        "\n",
        "\n",
        "#methode 2 eerst grenswaarde berekenen adhv significnatie niveau (5%) en kijken of deze waarde kleiner is dan m_sample\n",
        "g_value = stats.norm.isf(significance, m, s_sample)                                    #grens waarde\n",
        "print(\"Grens waarde > m_sample\")                                                #indien g_value kleiner dan m_sample verwerpen hypothese\n",
        "print(\" %.2f > %.2f\" % (g_value,m_sample))\n",
        "\n",
        "\n",
        "#tekening maken\n",
        "dist_x=np.linspace(m - 4 * s_sample,m + 4 * s_sample,num=201)\n",
        "dist_y= stats.norm.pdf(dist_x,m,s_sample)\n",
        "\n",
        "plt.plot(dist_x,dist_y)\n",
        "plt.fill_between(dist_x,dist_y, where=dist_x >= g_value,color='lightblue')\n",
        "plt.axvline(x=g_value, color='blue')\n",
        "plt.axvline(x=m_sample, color='green')                                                  #indien groen in het blauw ligt = verwerpen"
      ],
      "metadata": {
        "id": "bzoty6MaKER_",
        "outputId": "bf6d49a4-31d3-41e1-a4c5-0d8e24868ff3",
        "colab": {
          "base_uri": "https://localhost:8080/",
          "height": 369
        }
      },
      "execution_count": null,
      "outputs": [
        {
          "output_type": "stream",
          "name": "stdout",
          "text": [
            "de kans dat m_sample kleiner is dan 352.80 is 0.01\n",
            "p_value > significance\n",
            "0.01 > 0.05\n",
            "Grens waarde > m_sample\n",
            " 352.27 > 352.80\n"
          ]
        },
        {
          "output_type": "execute_result",
          "data": {
            "text/plain": [
              "<matplotlib.lines.Line2D at 0x7f1d8cb3e850>"
            ]
          },
          "metadata": {},
          "execution_count": 32
        },
        {
          "output_type": "display_data",
          "data": {
            "text/plain": [
              "<Figure size 432x288 with 1 Axes>"
            ],
            "image/png": "[encoded data removed]"
          },
          "metadata": {
            "needs_background": "light"
          }
        }
      ]
    },
    {
      "cell_type": "markdown",
      "source": [
        "###Linkszijdige Z-test"
      ],
      "metadata": {
        "id": "toGfUhk_1c6t"
      }
    },
    {
      "cell_type": "code",
      "source": [
        "n=40\n",
        "m=351.2\n",
        "s=4.1\n",
        "m_sample = 350.4                                  #Gemiddelde dat wordt waargenomen\n",
        "s_sample = s/math.sqrt(n)       \n",
        "significance = 0.05                                  #Significantie niveau "
      ],
      "metadata": {
        "id": "uWHBCn6wKD0I"
      },
      "execution_count": null,
      "outputs": []
    },
    {
      "cell_type": "code",
      "source": [
        "#methode 1 \n",
        "p_value = stats.norm.cdf(m_sample,loc=m,scale=s_sample)\n",
        "print(\"de kans dat m_sample kleiner is dan m is %.2f\" % p_value)             #indien p_value kleiner is dan significance (5%) -> nulhypothese verwerpen\n",
        "print(\"p_value > significance\")\n",
        "print(\"%.2f > %.2f\" % (p_value,significance))\n",
        "\n",
        "\n",
        "#methode 2 \n",
        "g_value = stats.norm.isf(1-significance,loc=m,scale=s_sample)                #!!!!(1-significance)\n",
        "print(\"m_sample > g_value\")                                                  #indien m_sample kleiner is dan nulhypothese verwerpen\n",
        "print(\"%.2f > %.2f\" % (m_sample,g_value))\n",
        "\n",
        "\n",
        "\n",
        "#tekening\n",
        "dist_x=np.linspace(m - 4 * s_sample,m + 4 * s_sample,num=201)\n",
        "dist_y= stats.norm.pdf(dist_x,m,s_sample)\n",
        "\n",
        "plt.plot(dist_x,dist_y)\n",
        "plt.fill_between(dist_x,dist_y, where=dist_x <= g_value,color='lightblue')\n",
        "plt.axvline(x=g_value, color='blue')\n",
        "plt.axvline(x=m_sample, color='green')                                                  #indien groen in het blauw ligt = verwerpen nulhypothese"
      ],
      "metadata": {
        "id": "re3j7IroKDxY",
        "outputId": "90853090-9d54-4df2-b437-55d6799f2daf",
        "colab": {
          "base_uri": "https://localhost:8080/",
          "height": 369
        }
      },
      "execution_count": null,
      "outputs": [
        {
          "output_type": "stream",
          "name": "stdout",
          "text": [
            "de kans dat m_sample kleiner is dan m is 0.11\n",
            "p_value > significance\n",
            "0.11 > 0.05\n",
            "m_sample > g_value\n",
            "350.40 > 350.13\n"
          ]
        },
        {
          "output_type": "execute_result",
          "data": {
            "text/plain": [
              "<matplotlib.lines.Line2D at 0x7f1d8ced0a90>"
            ]
          },
          "metadata": {},
          "execution_count": 21
        },
        {
          "output_type": "display_data",
          "data": {
            "text/plain": [
              "<Figure size 432x288 with 1 Axes>"
            ],
            "image/png": "[encoded data removed]"
          },
          "metadata": {
            "needs_background": "light"
          }
        }
      ]
    },
    {
      "cell_type": "markdown",
      "source": [
        "### Dubbelzijdige Z-test"
      ],
      "metadata": {
        "id": "qvJ1rMMB1ovN"
      }
    },
    {
      "cell_type": "code",
      "source": [
        "n=40\n",
        "m=351.2\n",
        "s=4.1\n",
        "m_sample = 351.4                                  #Gemiddelde dat wordt waargenomen\n",
        "s_sample = s/math.sqrt(n)       \n",
        "significance = 0.05                                  #Significantie niveau \n"
      ],
      "metadata": {
        "id": "3s5aX5WEKDpP"
      },
      "execution_count": null,
      "outputs": []
    },
    {
      "cell_type": "code",
      "source": [
        "#methode 1 \n",
        "p_value = stats.norm.sf(m_sample, loc=m, scale=s_sample)\n",
        "\n",
        "\n",
        "print(\"de kans dat m_sample kleiner is dan %.2f is %.2f\" % (m_sample,p_value))      #indien niet tussen de waarden ligt dan verwerpen hypothese\n",
        "print(\"significane < p_value < significance\")\n",
        "print(\"%.2f < %.2f < %.2f\" % (significance/2,p_value,1-significance/2))\n",
        "\n",
        "\n",
        "#methode 2 eerst grenswaarde berekenen adhv significnatie niveau (5%) en kijken of deze waarde kleiner is dan m_sample\n",
        "g_upper = stats.norm.isf(significance/2, m, s_sample)                                    #grens waarde\n",
        "g_lower = stats.norm.isf(1-significance/2,loc=m,scale=s_sample)\n",
        "print(\"grens waarde < m_sample < grenswaarde\")                                                         #indien m_sample niet tussen de waarde ligt dan verwerpen hypothese\n",
        "print(\"%.2f < %.2f < %.2f\" % (g_lower,m_sample,g_upper))\n",
        "\n",
        "\n",
        "#tekening maken\n",
        "dist_x=np.linspace(m - 4 * s_sample,m + 4 * s_sample,num=201)\n",
        "dist_y= stats.norm.pdf(dist_x,m,s_sample)\n",
        "\n",
        "plt.plot(dist_x,dist_y)\n",
        "plt.fill_between(dist_x,dist_y, where=dist_x >= g_upper,color='lightblue')\n",
        "plt.fill_between(dist_x,dist_y, where=dist_x <= g_lower,color='lightblue')\n",
        "\n",
        "plt.axvline(x=g_upper, color='blue')\n",
        "plt.axvline(x=g_lower, color='blue')\n",
        "plt.axvline(x=m_sample, color='green')                                                  #windien groen in het blauw ligt = verwerpen"
      ],
      "metadata": {
        "id": "zoKXA5f-KDIn",
        "outputId": "e1c706b7-ef51-47cf-dd4b-7b6de8fcb266",
        "colab": {
          "base_uri": "https://localhost:8080/",
          "height": 369
        }
      },
      "execution_count": null,
      "outputs": [
        {
          "output_type": "stream",
          "name": "stdout",
          "text": [
            "de kans dat m_sample kleiner is dan 351.40 is 0.38\n",
            "significane < p_value < significance\n",
            "0.03 < 0.38 < 0.97\n",
            "grens waarde < m_sample < grenswaarde\n",
            "349.93 < 351.40 < 352.47\n"
          ]
        },
        {
          "output_type": "execute_result",
          "data": {
            "text/plain": [
              "<matplotlib.lines.Line2D at 0x7f1d8c008c90>"
            ]
          },
          "metadata": {},
          "execution_count": 52
        },
        {
          "output_type": "display_data",
          "data": {
            "text/plain": [
              "<Figure size 432x288 with 1 Axes>"
            ],
            "image/png": "[encoded data removed]"
          },
          "metadata": {
            "needs_background": "light"
          }
        }
      ]
    },
    {
      "cell_type": "markdown",
      "source": [
        "## oefeningen"
      ],
      "metadata": {
        "id": "34svyflY7bNq"
      }
    },
    {
      "cell_type": "markdown",
      "source": [
        "###Exercise 1 Rechtzijdige T-test"
      ],
      "metadata": {
        "id": "gkARZTNF7hmR"
      }
    },
    {
      "cell_type": "code",
      "source": [
        "pulses = [48,52,59,45,57,52,44,58,56,44,63,50]\n",
        "\n",
        "n=len(pulses)\n",
        "m=80\n",
        "s=9\n",
        "m_sample = np.mean(pulses)\n",
        "s_sample = np.std(pulses, ddof=1)\n",
        "significance = 0.05\n",
        "#methode 1 \n",
        "p_value = stats.t.cdf(m_sample, loc=m, scale = s_sample/math.sqrt(n), df=n-1)\n",
        "print(\"de kans dat m_sample kleiner is dan m is %.2f\" % p_value)             #indien p_value kleiner is dan significance (5%) -> nulhypothese verwerpen\n",
        "print(\"p_value > significance\")\n",
        "print(\"%f > %.2f\" % (p_value,significance))\n",
        "\n",
        "\n",
        "#methode 2 \n",
        "g_value = stats.t.isf(1-significance,loc=m,scale=s_sample/math.sqrt(n), df=n-1)                #!!!!(1-significance)\n",
        "print(\"m_sample > g_value\")                                                  #indien m_sample kleiner is dan nulhypothese verwerpen\n",
        "print(\"%.2f > %.2f\" % (m_sample,g_value))\n",
        "\n",
        "\n",
        "\n",
        "#tekening\n",
        "dist_x=np.linspace(m - 4 * s_sample,m + 4 * s_sample,num=201)\n",
        "dist_y= stats.norm.pdf(dist_x,m,s_sample)\n",
        "\n",
        "plt.plot(dist_x,dist_y)\n",
        "plt.fill_between(dist_x,dist_y, where=dist_x <= g_value,color='lightblue')\n",
        "plt.axvline(x=g_value, color='blue')\n",
        "plt.axvline(x=m_sample, color='green')                                                  #indien groen in het blauw ligt = verwerpen nulhypothese\n",
        "\n",
        "\n"
      ],
      "metadata": {
        "id": "o4ZYQSkq7hBB",
        "outputId": "a03b36ee-5e28-4933-e817-a8c65153a51a",
        "colab": {
          "base_uri": "https://localhost:8080/",
          "height": 369
        }
      },
      "execution_count": null,
      "outputs": [
        {
          "output_type": "stream",
          "name": "stdout",
          "text": [
            "de kans dat m_sample kleiner is dan m is 0.00\n",
            "p_value > significance\n",
            "0.000000 > 0.05\n",
            "m_sample > g_value\n",
            "52.33 > 76.71\n"
          ]
        },
        {
          "output_type": "execute_result",
          "data": {
            "text/plain": [
              "<matplotlib.lines.Line2D at 0x7fdc0a3475d0>"
            ]
          },
          "metadata": {},
          "execution_count": 3
        },
        {
          "output_type": "display_data",
          "data": {
            "text/plain": [
              "<Figure size 432x288 with 1 Axes>"
            ],
            "image/png": "[encoded data removed]"
          },
          "metadata": {
            "needs_background": "light"
          }
        }
      ]
    },
    {
      "cell_type": "markdown",
      "source": [
        "### Exercise 2"
      ],
      "metadata": {
        "id": "-E4rF222a3yf"
      }
    },
    {
      "cell_type": "code",
      "source": [
        "m=44\n",
        "s=6.2\n",
        "n=72\n",
        "m_sample= 46.2\n",
        "s_sample = s/math.sqrt(n)\n",
        "significance = 0.025\n",
        "\n",
        "#1.\n",
        "g_value=stats.norm.isf(significance,loc=m,scale=s_sample)\n",
        "print(g_value)\n",
        "\n",
        "\n",
        "#2.\n",
        "p_value = stats.norm.sf(m_sample, loc = m, scale = s_sample)\n",
        "print(p_value)\n",
        "\n",
        "#tekening maken\n",
        "dist_x=np.linspace(m - 4 * s_sample,m + 4 * s_sample,num=201)\n",
        "dist_y= stats.norm.pdf(dist_x,m,s_sample)\n",
        "\n",
        "plt.plot(dist_x,dist_y)\n",
        "plt.fill_between(dist_x,dist_y, where=dist_x >= g_value,color='lightblue')\n",
        "plt.axvline(x=g_value, color='blue')\n",
        "plt.axvline(x=m_sample, color='green')                                                  #indien groen in het blauw ligt = verwerpen"
      ],
      "metadata": {
        "id": "fqZJJ6Sc7g-R",
        "colab": {
          "base_uri": "https://localhost:8080/",
          "height": 317
        },
        "outputId": "043546aa-312f-4ea2-e1d3-265221654d40"
      },
      "execution_count": null,
      "outputs": [
        {
          "output_type": "stream",
          "name": "stdout",
          "text": [
            "45.432100618494665\n",
            "0.001302346104883357\n"
          ]
        },
        {
          "output_type": "execute_result",
          "data": {
            "text/plain": [
              "<matplotlib.lines.Line2D at 0x7fdc0716f8d0>"
            ]
          },
          "metadata": {},
          "execution_count": 9
        },
        {
          "output_type": "display_data",
          "data": {
            "text/plain": [
              "<Figure size 432x288 with 1 Axes>"
            ],
            "image/png": "[encoded data removed]"
          },
          "metadata": {
            "needs_background": "light"
          }
        }
      ]
    },
    {
      "cell_type": "markdown",
      "source": [
        "###Excercise 3\n",
        "\n"
      ],
      "metadata": {
        "id": "4tfe_svLebtn"
      }
    },
    {
      "cell_type": "code",
      "source": [
        "arr=[400,350,400,500,300,350,200,500,200,250,250,500,350,100]\n",
        "\n",
        "m=300\n",
        "n=len(arr)\n",
        "m_sample = np.mean(arr)\n",
        "s_sample = np.std(arr, ddof=1) / math.sqrt(n)\n",
        "significance = 0.05\n",
        "\n",
        "p_value = stats.t.sf(m_sample, loc=m, scale=s_sample, df=n-1)\n",
        "print(p_value)\n",
        "\n",
        "g_value = stats.t.isf(significance, loc=m, scale=s_sample, df=n-1)\n",
        "g_value\n",
        "\n"
      ],
      "metadata": {
        "id": "Dq1oi-7q7g4a",
        "colab": {
          "base_uri": "https://localhost:8080/"
        },
        "outputId": "24e0fb3e-7d9b-458f-93c3-cb0e17d8eb02"
      },
      "execution_count": null,
      "outputs": [
        {
          "output_type": "stream",
          "name": "stdout",
          "text": [
            "0.1738147584626205\n"
          ]
        },
        {
          "output_type": "execute_result",
          "data": {
            "text/plain": [
              "358.41687132781624"
            ]
          },
          "metadata": {},
          "execution_count": 23
        }
      ]
    },
    {
      "cell_type": "markdown",
      "source": [
        "###Excercise 4"
      ],
      "metadata": {
        "id": "ArTrPpM2j-vV"
      }
    },
    {
      "cell_type": "code",
      "source": [
        "rlanders = pd.read_csv('https://raw.githubusercontent.com/arnauddormaels/Data-Science-and-AI/main/data/rlanders.csv')\n",
        "rlanders.head()"
      ],
      "metadata": {
        "id": "a9erpUvN7g1h",
        "colab": {
          "base_uri": "https://localhost:8080/",
          "height": 206
        },
        "outputId": "ddbe71ac-1704-4234-ed2b-cf7a486d09db"
      },
      "execution_count": null,
      "outputs": [
        {
          "output_type": "execute_result",
          "data": {
            "text/plain": [
              "   ID  Gender  Money  Days  Months  Count  Survey\n",
              "0   1  Female    440    29      11     35       3\n",
              "1   2  Female    503    23      10     52       3\n",
              "2   3    Male    412    16      11     55       3\n",
              "3   4    Male    587    25       9     28       5\n",
              "4   5    Male    525    30      11     41       4"
            ],
            "text/html": [
              "\n",
              "  <div id=\"df-e076a439-8533-41b6-bb6e-0603e463b9e2\">\n",
              "    <div class=\"colab-df-container\">\n",
              "      <div>\n",
              "<style scoped>\n",
              "    .dataframe tbody tr th:only-of-type {\n",
              "        vertical-align: middle;\n",
              "    }\n",
              "\n",
              "    .dataframe tbody tr th {\n",
              "        vertical-align: top;\n",
              "    }\n",
              "\n",
              "    .dataframe thead th {\n",
              "        text-align: right;\n",
              "    }\n",
              "</style>\n",
              "<table border=\"1\" class=\"dataframe\">\n",
              "  <thead>\n",
              "    <tr style=\"text-align: right;\">\n",
              "      <th></th>\n",
              "      <th>ID</th>\n",
              "      <th>Gender</th>\n",
              "      <th>Money</th>\n",
              "      <th>Days</th>\n",
              "      <th>Months</th>\n",
              "      <th>Count</th>\n",
              "      <th>Survey</th>\n",
              "    </tr>\n",
              "  </thead>\n",
              "  <tbody>\n",
              "    <tr>\n",
              "      <th>0</th>\n",
              "      <td>1</td>\n",
              "      <td>Female</td>\n",
              "      <td>440</td>\n",
              "      <td>29</td>\n",
              "      <td>11</td>\n",
              "      <td>35</td>\n",
              "      <td>3</td>\n",
              "    </tr>\n",
              "    <tr>\n",
              "      <th>1</th>\n",
              "      <td>2</td>\n",
              "      <td>Female</td>\n",
              "      <td>503</td>\n",
              "      <td>23</td>\n",
              "      <td>10</td>\n",
              "      <td>52</td>\n",
              "      <td>3</td>\n",
              "    </tr>\n",
              "    <tr>\n",
              "      <th>2</th>\n",
              "      <td>3</td>\n",
              "      <td>Male</td>\n",
              "      <td>412</td>\n",
              "      <td>16</td>\n",
              "      <td>11</td>\n",
              "      <td>55</td>\n",
              "      <td>3</td>\n",
              "    </tr>\n",
              "    <tr>\n",
              "      <th>3</th>\n",
              "      <td>4</td>\n",
              "      <td>Male</td>\n",
              "      <td>587</td>\n",
              "      <td>25</td>\n",
              "      <td>9</td>\n",
              "      <td>28</td>\n",
              "      <td>5</td>\n",
              "    </tr>\n",
              "    <tr>\n",
              "      <th>4</th>\n",
              "      <td>5</td>\n",
              "      <td>Male</td>\n",
              "      <td>525</td>\n",
              "      <td>30</td>\n",
              "      <td>11</td>\n",
              "      <td>41</td>\n",
              "      <td>4</td>\n",
              "    </tr>\n",
              "  </tbody>\n",
              "</table>\n",
              "</div>\n",
              "      <button class=\"colab-df-convert\" onclick=\"convertToInteractive('df-e076a439-8533-41b6-bb6e-0603e463b9e2')\"\n",
              "              title=\"Convert this dataframe to an interactive table.\"\n",
              "              style=\"display:none;\">\n",
              "        \n",
              "  <svg xmlns=\"http://www.w3.org/2000/svg\" height=\"24px\"viewBox=\"0 0 24 24\"\n",
              "       width=\"24px\">\n",
              "    <path d=\"M0 0h24v24H0V0z\" fill=\"none\"/>\n",
              "    <path d=\"M18.56 5.44l.94 2.06.94-2.06 2.06-.94-2.06-.94-.94-2.06-.94 2.06-2.06.94zm-11 1L8.5 8.5l.94-2.06 2.06-.94-2.06-.94L8.5 2.5l-.94 2.06-2.06.94zm10 10l.94 2.06.94-2.06 2.06-.94-2.06-.94-.94-2.06-.94 2.06-2.06.94z\"/><path d=\"M17.41 7.96l-1.37-1.37c-.4-.4-.92-.59-1.43-.59-.52 0-1.04.2-1.43.59L10.3 9.45l-7.72 7.72c-.78.78-.78 2.05 0 2.83L4 21.41c.39.39.9.59 1.41.59.51 0 1.02-.2 1.41-.59l7.78-7.78 2.81-2.81c.8-.78.8-2.07 0-2.86zM5.41 20L4 18.59l7.72-7.72 1.47 1.35L5.41 20z\"/>\n",
              "  </svg>\n",
              "      </button>\n",
              "      \n",
              "  <style>\n",
              "    .colab-df-container {\n",
              "      display:flex;\n",
              "      flex-wrap:wrap;\n",
              "      gap: 12px;\n",
              "    }\n",
              "\n",
              "    .colab-df-convert {\n",
              "      background-color: #E8F0FE;\n",
              "      border: none;\n",
              "      border-radius: 50%;\n",
              "      cursor: pointer;\n",
              "      display: none;\n",
              "      fill: #1967D2;\n",
              "      height: 32px;\n",
              "      padding: 0 0 0 0;\n",
              "      width: 32px;\n",
              "    }\n",
              "\n",
              "    .colab-df-convert:hover {\n",
              "      background-color: #E2EBFA;\n",
              "      box-shadow: 0px 1px 2px rgba(60, 64, 67, 0.3), 0px 1px 3px 1px rgba(60, 64, 67, 0.15);\n",
              "      fill: #174EA6;\n",
              "    }\n",
              "\n",
              "    [theme=dark] .colab-df-convert {\n",
              "      background-color: #3B4455;\n",
              "      fill: #D2E3FC;\n",
              "    }\n",
              "\n",
              "    [theme=dark] .colab-df-convert:hover {\n",
              "      background-color: #434B5C;\n",
              "      box-shadow: 0px 1px 3px 1px rgba(0, 0, 0, 0.15);\n",
              "      filter: drop-shadow(0px 1px 2px rgba(0, 0, 0, 0.3));\n",
              "      fill: #FFFFFF;\n",
              "    }\n",
              "  </style>\n",
              "\n",
              "      <script>\n",
              "        const buttonEl =\n",
              "          document.querySelector('#df-e076a439-8533-41b6-bb6e-0603e463b9e2 button.colab-df-convert');\n",
              "        buttonEl.style.display =\n",
              "          google.colab.kernel.accessAllowed ? 'block' : 'none';\n",
              "\n",
              "        async function convertToInteractive(key) {\n",
              "          const element = document.querySelector('#df-e076a439-8533-41b6-bb6e-0603e463b9e2');\n",
              "          const dataTable =\n",
              "            await google.colab.kernel.invokeFunction('convertToInteractive',\n",
              "                                                     [key], {});\n",
              "          if (!dataTable) return;\n",
              "\n",
              "          const docLinkHtml = 'Like what you see? Visit the ' +\n",
              "            '<a target=\"_blank\" href=https://colab.research.google.com/notebooks/data_table.ipynb>data table notebook</a>'\n",
              "            + ' to learn more about interactive tables.';\n",
              "          element.innerHTML = '';\n",
              "          dataTable['output_type'] = 'display_data';\n",
              "          await google.colab.output.renderOutput(dataTable, element);\n",
              "          const docLink = document.createElement('div');\n",
              "          docLink.innerHTML = docLinkHtml;\n",
              "          element.appendChild(docLink);\n",
              "        }\n",
              "      </script>\n",
              "    </div>\n",
              "  </div>\n",
              "  "
            ]
          },
          "metadata": {},
          "execution_count": 24
        }
      ]
    },
    {
      "cell_type": "code",
      "source": [
        "m=500\n",
        "s=98\n",
        "m_sample = rlanders['Money'].mean()\n",
        "significance = 0.05\n",
        "\n",
        "sns.kdeplot(data= rlanders, x='Money',hue='Gender' )\n",
        "plt.axvline(m_sample, color=\"red\")"
      ],
      "metadata": {
        "id": "KSTMriE97gy7",
        "colab": {
          "base_uri": "https://localhost:8080/",
          "height": 296
        },
        "outputId": "ddde9d4f-5883-487f-d77b-4c6b30913720"
      },
      "execution_count": null,
      "outputs": [
        {
          "output_type": "execute_result",
          "data": {
            "text/plain": [
              "<matplotlib.lines.Line2D at 0x7fdc01c37f50>"
            ]
          },
          "metadata": {},
          "execution_count": 59
        },
        {
          "output_type": "display_data",
          "data": {
            "text/plain": [
              "<Figure size 432x288 with 1 Axes>"
            ],
            "image/png": "[encoded data removed]"
          },
          "metadata": {
            "needs_background": "light"
          }
        }
      ]
    },
    {
      "cell_type": "code",
      "source": [
        "#men \n",
        "n1=rlanders[rlanders['Gender'] == 'Male']['Money'].count()\n",
        "m_sample1= rlanders[rlanders['Gender'] == 'Male']['Money'].mean()\n",
        "\n",
        "\n",
        "p_value1= stats.norm.sf(m_sample1,loc=m,scale=s/math.sqrt(n1))\n",
        "print(p_value1)\n",
        "\n",
        "g_value1 = stats.norm.isf(significance,loc=m,scale=s/math.sqrt(n1))\n",
        "print(g_value1)\n",
        "\n",
        "#women\n",
        "n2=rlanders[rlanders['Gender'] == 'Female']['Money'].count()\n",
        "m_sample2= rlanders[rlanders['Gender'] == 'Female']['Money'].mean()\n",
        "\n",
        "\n",
        "p_value2= stats.norm.cdf(m_sample2,loc=m,scale=s/math.sqrt(n2))\n",
        "print(p_value2)\n",
        "\n",
        "g_value2 = stats.norm.isf(1-significance,loc=m,scale=s/math.sqrt(n2))\n",
        "print(g_value2)"
      ],
      "metadata": {
        "colab": {
          "base_uri": "https://localhost:8080/"
        },
        "id": "HHvjlt8DeYTW",
        "outputId": "99d29a0f-71b1-4205-bf6c-f2262de71cfd"
      },
      "execution_count": null,
      "outputs": [
        {
          "output_type": "stream",
          "name": "stdout",
          "text": [
            "0.1396357338827816\n",
            "511.45567640449514\n",
            "0.01988789146266692\n",
            "477.64618457402185\n"
          ]
        }
      ]
    },
    {
      "cell_type": "markdown",
      "source": [
        "#**Hoofdstuk 4 Twee kwantitatieve variabelen**"
      ],
      "metadata": {
        "id": "UcU71UteuYeF"
      }
    },
    {
      "cell_type": "markdown",
      "source": [
        "## Crosstable "
      ],
      "metadata": {
        "id": "6-upq296un9k"
      }
    },
    {
      "cell_type": "code",
      "source": [
        "rlanders = pd.read_csv('https://raw.githubusercontent.com/arnauddormaels/Data-Science-and-AI/main/data/rlanders.csv')"
      ],
      "metadata": {
        "id": "gSil2TlxeYQu"
      },
      "execution_count": null,
      "outputs": []
    },
    {
      "cell_type": "code",
      "source": [
        "o = pd.crosstab(rlanders.Survey, rlanders.Gender)\n",
        "\n",
        "chi2,p,df,e= stats.chi2_contingency(o)                                          #expected table opzetten op basis van observed\n",
        "print(\"chi²: %.2f\" % chi2)\n",
        "print(\"p_value: %.2f\" % p)\n",
        "print(\"df: %d\" % df)\n",
        "print(f\"{e}\")\n"
      ],
      "metadata": {
        "colab": {
          "base_uri": "https://localhost:8080/"
        },
        "id": "5uaxBatbeYOB",
        "outputId": "363c9b23-8bd0-4032-dce1-4def878dd006"
      },
      "execution_count": null,
      "outputs": [
        {
          "output_type": "stream",
          "name": "stdout",
          "text": [
            "Gender  Female  Male\n",
            "Survey              \n",
            "1            0     4\n",
            "2           17    45\n",
            "3           23    91\n",
            "4           12    53\n",
            "5            0     5\n",
            "chi²: 4.26\n",
            "p_value: 0.37\n",
            "df: 4\n",
            "[[ 0.832  3.168]\n",
            " [12.896 49.104]\n",
            " [23.712 90.288]\n",
            " [13.52  51.48 ]\n",
            " [ 1.04   3.96 ]]\n"
          ]
        }
      ]
    },
    {
      "cell_type": "markdown",
      "source": [
        "##Goodness of fit test\n",
        "\n"
      ],
      "metadata": {
        "id": "PtpL_Hjn16Hz"
      }
    },
    {
      "cell_type": "code",
      "source": [
        "o= np.array([127,75,98,27,73])\n",
        "e_p= np.array([.35, .17,.23,.08,.17])\n",
        "e= e_p * sum(o)\n",
        "chi2,p=stats.chisquare(f_obs=o, f_exp=e )\n",
        "print(\"chi2: %.2f\"%chi2)\n",
        "print(\"p: %.2f\", p)"
      ],
      "metadata": {
        "colab": {
          "base_uri": "https://localhost:8080/"
        },
        "id": "vMLohXxjeYLQ",
        "outputId": "7e62489c-271d-4760-81d4-2035b6f32dbf"
      },
      "execution_count": null,
      "outputs": [
        {
          "output_type": "stream",
          "name": "stdout",
          "text": [
            "chi2: 3.47\n",
            "p: %.2f 0.4827710008728282\n"
          ]
        }
      ]
    },
    {
      "cell_type": "markdown",
      "source": [
        "##"
      ],
      "metadata": {
        "id": "cyZ52e582U0o"
      }
    },
    {
      "cell_type": "code",
      "source": [
        ""
      ],
      "metadata": {
        "id": "cOjKP9ZWeYIW"
      },
      "execution_count": null,
      "outputs": []
    },
    {
      "cell_type": "code",
      "source": [
        ""
      ],
      "metadata": {
        "id": "aRgx3CmIeYFX"
      },
      "execution_count": null,
      "outputs": []
    },
    {
      "cell_type": "code",
      "source": [
        ""
      ],
      "metadata": {
        "id": "bB1bkQuseX_u"
      },
      "execution_count": null,
      "outputs": []
    },
    {
      "cell_type": "code",
      "source": [
        "df = pd.read_csv('https://raw.githubusercontent.com/arnauddormaels/Data-Science-and-AI/main/data/MuziekWijn.csv')\n",
        "df.head()"
      ],
      "metadata": {
        "id": "64A9ycA-eX8u"
      },
      "execution_count": null,
      "outputs": []
    },
    {
      "cell_type": "code",
      "source": [
        "df = df.rename(columns={' Wijn': 'Wijn'})\n",
        "df.columns\n"
      ],
      "metadata": {
        "id": "Vh4eKQ9WnXV6"
      },
      "execution_count": null,
      "outputs": []
    },
    {
      "cell_type": "code",
      "source": [
        "o = pd.crosstab(df.Muziek,df.Wijn)\n",
        "o"
      ],
      "metadata": {
        "id": "4WXBf53_nXTa"
      },
      "execution_count": null,
      "outputs": []
    },
    {
      "cell_type": "code",
      "source": [
        "\n",
        "#marginale totalen bereken\n",
        "row_sums = o.sum(axis=1)\n",
        "col_sums = o.sum()\n",
        "n=row_sums.sum()\n",
        "\n",
        "print(row_sums)\n",
        "print(col_sums)\n",
        "print('aantal observaties: %d' %n)"
      ],
      "metadata": {
        "id": "nIsVsYYunXQZ"
      },
      "execution_count": null,
      "outputs": []
    },
    {
      "cell_type": "code",
      "source": [
        "#expected tabel opstellen\n",
        "\n",
        "e= np.outer(row_sums,col_sums)/n\n",
        "print(e)\n",
        "\n",
        "e_row_sums = e.sum(axis = 1)\n",
        "e_col_sum = e.sum(axis = 0)\n",
        "n = e_row_sums.sum()\n",
        "\n",
        "print(e_row_sums)\n",
        "print(e_col_sum)\n",
        "print('aantal observaties: %d' %n)\n"
      ],
      "metadata": {
        "id": "ZiVwz9janW-C"
      },
      "execution_count": null,
      "outputs": []
    },
    {
      "cell_type": "code",
      "source": [
        "#chi² berekenen\n",
        "\n",
        "diffs = (e-o)**2/e                                    #Spreiding berekenen\n",
        "print(diffs)\n",
        "\n",
        "chi2 = diffs.values.sum()\n",
        "print(\"chi-kwadraat: %.2f\" %chi2)"
      ],
      "metadata": {
        "id": "B7dHND2bneoy"
      },
      "execution_count": null,
      "outputs": []
    },
    {
      "cell_type": "code",
      "source": [
        ""
      ],
      "metadata": {
        "id": "lyB59BrOnelx"
      },
      "execution_count": null,
      "outputs": []
    },
    {
      "cell_type": "code",
      "source": [
        ""
      ],
      "metadata": {
        "id": "Bsj321BunedZ"
      },
      "execution_count": null,
      "outputs": []
    }
  ],
  "metadata": {
    "language_info": {
      "name": "python"
    },
    "orig_nbformat": 4,
    "colab": {
      "name": "lab-1.01-ais.ipynb",
      "provenance": []
    },
    "kernelspec": {
      "name": "python3",
      "display_name": "Python 3"
    }
  },
  "nbformat": 4,
  "nbformat_minor": 0
}