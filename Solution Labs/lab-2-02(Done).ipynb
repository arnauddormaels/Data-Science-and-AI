{
  "cells": [
    {
      "cell_type": "markdown",
      "metadata": {
        "id": "HbYxtfKS7TgR"
      },
      "source": [
        "\n",
        "\n",
        "```\n",
        "# Dit is opgemaakt als code\n",
        "```\n",
        "\n",
        "# Lab 2.02 - Android Persistence\n",
        "\n",
        "Import all necessary Python libraries and load the Android Persistence dataset from lab exercise 1.02.  Do not forget the conversion to categorical variables. Define an order in case of an ordinal variable."
      ]
    },
    {
      "cell_type": "code",
      "execution_count": 1,
      "metadata": {
        "id": "G6Ebsy0F7TgU",
        "outputId": "37714b21-cc78-421f-aba3-dc0fac8184e0",
        "colab": {
          "base_uri": "https://localhost:8080/"
        }
      },
      "outputs": [
        {
          "output_type": "stream",
          "name": "stderr",
          "text": [
            "/usr/local/lib/python3.7/dist-packages/statsmodels/tools/_testing.py:19: FutureWarning: pandas.util.testing is deprecated. Use the functions in the public API at pandas.testing instead.\n",
            "  import pandas.util.testing as tm\n"
          ]
        }
      ],
      "source": [
        "import numpy as np                                  # \"Scientific computing\"\n",
        "import scipy.stats as stats                         # Statistical tests\n",
        "\n",
        "import pandas as pd                                 # Data Frame\n",
        "from pandas.api.types import CategoricalDtype\n",
        "\n",
        "import matplotlib.pyplot as plt                     # Basic visualisation\n",
        "from statsmodels.graphics.mosaicplot import mosaic  # Mosaic diagram\n",
        "import seaborn as sns                               # Advanced data visualisation\n",
        "import altair as alt                                # Alternative visualisation system\n",
        "from pandas.core.algorithms import value_counts     #Extra import voor value_counts xx"
      ]
    },
    {
      "cell_type": "code",
      "execution_count": 2,
      "metadata": {
        "colab": {
          "base_uri": "https://localhost:8080/",
          "height": 261
        },
        "id": "SvVpCVlW7TgV",
        "outputId": "802b6ced-a740-4270-9c35-d2990a1b5bbf"
      },
      "outputs": [
        {
          "output_type": "stream",
          "name": "stderr",
          "text": [
            "/usr/local/lib/python3.7/dist-packages/IPython/core/interactiveshell.py:2882: FutureWarning: In a future version of pandas all arguments of read_csv except for the argument 'filepath_or_buffer' will be keyword-only\n",
            "  exec(code_obj, self.user_global_ns, self.user_ns)\n"
          ]
        },
        {
          "output_type": "execute_result",
          "data": {
            "text/plain": [
              "   Time    PersistenceType DataSize\n",
              "0  1.81  Sharedpreferences    Small\n",
              "1  1.35  Sharedpreferences    Small\n",
              "2  1.84  Sharedpreferences    Small\n",
              "3  1.54  Sharedpreferences    Small\n",
              "4  1.81  Sharedpreferences    Small"
            ],
            "text/html": [
              "\n",
              "  <div id=\"df-734e57d2-d650-41c9-a072-d21c569aaeb5\">\n",
              "    <div class=\"colab-df-container\">\n",
              "      <div>\n",
              "<style scoped>\n",
              "    .dataframe tbody tr th:only-of-type {\n",
              "        vertical-align: middle;\n",
              "    }\n",
              "\n",
              "    .dataframe tbody tr th {\n",
              "        vertical-align: top;\n",
              "    }\n",
              "\n",
              "    .dataframe thead th {\n",
              "        text-align: right;\n",
              "    }\n",
              "</style>\n",
              "<table border=\"1\" class=\"dataframe\">\n",
              "  <thead>\n",
              "    <tr style=\"text-align: right;\">\n",
              "      <th></th>\n",
              "      <th>Time</th>\n",
              "      <th>PersistenceType</th>\n",
              "      <th>DataSize</th>\n",
              "    </tr>\n",
              "  </thead>\n",
              "  <tbody>\n",
              "    <tr>\n",
              "      <th>0</th>\n",
              "      <td>1.81</td>\n",
              "      <td>Sharedpreferences</td>\n",
              "      <td>Small</td>\n",
              "    </tr>\n",
              "    <tr>\n",
              "      <th>1</th>\n",
              "      <td>1.35</td>\n",
              "      <td>Sharedpreferences</td>\n",
              "      <td>Small</td>\n",
              "    </tr>\n",
              "    <tr>\n",
              "      <th>2</th>\n",
              "      <td>1.84</td>\n",
              "      <td>Sharedpreferences</td>\n",
              "      <td>Small</td>\n",
              "    </tr>\n",
              "    <tr>\n",
              "      <th>3</th>\n",
              "      <td>1.54</td>\n",
              "      <td>Sharedpreferences</td>\n",
              "      <td>Small</td>\n",
              "    </tr>\n",
              "    <tr>\n",
              "      <th>4</th>\n",
              "      <td>1.81</td>\n",
              "      <td>Sharedpreferences</td>\n",
              "      <td>Small</td>\n",
              "    </tr>\n",
              "  </tbody>\n",
              "</table>\n",
              "</div>\n",
              "      <button class=\"colab-df-convert\" onclick=\"convertToInteractive('df-734e57d2-d650-41c9-a072-d21c569aaeb5')\"\n",
              "              title=\"Convert this dataframe to an interactive table.\"\n",
              "              style=\"display:none;\">\n",
              "        \n",
              "  <svg xmlns=\"http://www.w3.org/2000/svg\" height=\"24px\"viewBox=\"0 0 24 24\"\n",
              "       width=\"24px\">\n",
              "    <path d=\"M0 0h24v24H0V0z\" fill=\"none\"/>\n",
              "    <path d=\"M18.56 5.44l.94 2.06.94-2.06 2.06-.94-2.06-.94-.94-2.06-.94 2.06-2.06.94zm-11 1L8.5 8.5l.94-2.06 2.06-.94-2.06-.94L8.5 2.5l-.94 2.06-2.06.94zm10 10l.94 2.06.94-2.06 2.06-.94-2.06-.94-.94-2.06-.94 2.06-2.06.94z\"/><path d=\"M17.41 7.96l-1.37-1.37c-.4-.4-.92-.59-1.43-.59-.52 0-1.04.2-1.43.59L10.3 9.45l-7.72 7.72c-.78.78-.78 2.05 0 2.83L4 21.41c.39.39.9.59 1.41.59.51 0 1.02-.2 1.41-.59l7.78-7.78 2.81-2.81c.8-.78.8-2.07 0-2.86zM5.41 20L4 18.59l7.72-7.72 1.47 1.35L5.41 20z\"/>\n",
              "  </svg>\n",
              "      </button>\n",
              "      \n",
              "  <style>\n",
              "    .colab-df-container {\n",
              "      display:flex;\n",
              "      flex-wrap:wrap;\n",
              "      gap: 12px;\n",
              "    }\n",
              "\n",
              "    .colab-df-convert {\n",
              "      background-color: #E8F0FE;\n",
              "      border: none;\n",
              "      border-radius: 50%;\n",
              "      cursor: pointer;\n",
              "      display: none;\n",
              "      fill: #1967D2;\n",
              "      height: 32px;\n",
              "      padding: 0 0 0 0;\n",
              "      width: 32px;\n",
              "    }\n",
              "\n",
              "    .colab-df-convert:hover {\n",
              "      background-color: #E2EBFA;\n",
              "      box-shadow: 0px 1px 2px rgba(60, 64, 67, 0.3), 0px 1px 3px 1px rgba(60, 64, 67, 0.15);\n",
              "      fill: #174EA6;\n",
              "    }\n",
              "\n",
              "    [theme=dark] .colab-df-convert {\n",
              "      background-color: #3B4455;\n",
              "      fill: #D2E3FC;\n",
              "    }\n",
              "\n",
              "    [theme=dark] .colab-df-convert:hover {\n",
              "      background-color: #434B5C;\n",
              "      box-shadow: 0px 1px 3px 1px rgba(0, 0, 0, 0.15);\n",
              "      filter: drop-shadow(0px 1px 2px rgba(0, 0, 0, 0.3));\n",
              "      fill: #FFFFFF;\n",
              "    }\n",
              "  </style>\n",
              "\n",
              "      <script>\n",
              "        const buttonEl =\n",
              "          document.querySelector('#df-734e57d2-d650-41c9-a072-d21c569aaeb5 button.colab-df-convert');\n",
              "        buttonEl.style.display =\n",
              "          google.colab.kernel.accessAllowed ? 'block' : 'none';\n",
              "\n",
              "        async function convertToInteractive(key) {\n",
              "          const element = document.querySelector('#df-734e57d2-d650-41c9-a072-d21c569aaeb5');\n",
              "          const dataTable =\n",
              "            await google.colab.kernel.invokeFunction('convertToInteractive',\n",
              "                                                     [key], {});\n",
              "          if (!dataTable) return;\n",
              "\n",
              "          const docLinkHtml = 'Like what you see? Visit the ' +\n",
              "            '<a target=\"_blank\" href=https://colab.research.google.com/notebooks/data_table.ipynb>data table notebook</a>'\n",
              "            + ' to learn more about interactive tables.';\n",
              "          element.innerHTML = '';\n",
              "          dataTable['output_type'] = 'display_data';\n",
              "          await google.colab.output.renderOutput(dataTable, element);\n",
              "          const docLink = document.createElement('div');\n",
              "          docLink.innerHTML = docLinkHtml;\n",
              "          element.appendChild(docLink);\n",
              "        }\n",
              "      </script>\n",
              "    </div>\n",
              "  </div>\n",
              "  "
            ]
          },
          "metadata": {},
          "execution_count": 2
        }
      ],
      "source": [
        "android=pd.read_csv('https://raw.githubusercontent.com/arnauddormaels/Data-Science-and-AI/main/data/android_persistence_cpu.csv',\";\")\n",
        "android.head()"
      ]
    },
    {
      "cell_type": "markdown",
      "metadata": {
        "id": "yVwHmuyn7TgU"
      },
      "source": [
        "Visualise the variables `DataSize` and `PersistenceType` separately using a suitable chart type."
      ]
    },
    {
      "cell_type": "code",
      "source": [
        "print(android.DataSize)\n",
        "print('*'*50)\n",
        "print(android.PersistenceType)"
      ],
      "metadata": {
        "colab": {
          "base_uri": "https://localhost:8080/"
        },
        "id": "FFWARtPA9J3V",
        "outputId": "cea7280f-9d2e-4ea2-a683-b9caf8d3715f"
      },
      "execution_count": null,
      "outputs": [
        {
          "output_type": "stream",
          "name": "stdout",
          "text": [
            "0      Small\n",
            "1      Small\n",
            "2      Small\n",
            "3      Small\n",
            "4      Small\n",
            "       ...  \n",
            "295    Large\n",
            "296    Large\n",
            "297    Large\n",
            "298    Large\n",
            "299    Large\n",
            "Name: DataSize, Length: 300, dtype: object\n",
            "**************************************************\n",
            "0      Sharedpreferences\n",
            "1      Sharedpreferences\n",
            "2      Sharedpreferences\n",
            "3      Sharedpreferences\n",
            "4      Sharedpreferences\n",
            "             ...        \n",
            "295                Realm\n",
            "296                Realm\n",
            "297                Realm\n",
            "298                Realm\n",
            "299                Realm\n",
            "Name: PersistenceType, Length: 300, dtype: object\n"
          ]
        }
      ]
    },
    {
      "cell_type": "markdown",
      "metadata": {
        "id": "vDKtz8tH7TgV"
      },
      "source": [
        "How often does each combination of `DataSize` and `PersistenceType` occur? Show the frequencies of `PersistenceType` (parameter `hue`), grouped according to `DataSize` (parameter `x`). Try it the other way round too!"
      ]
    },
    {
      "cell_type": "code",
      "execution_count": null,
      "metadata": {
        "colab": {
          "base_uri": "https://localhost:8080/"
        },
        "id": "Xcj4JqTl7TgV",
        "outputId": "f93714c8-c9fd-4240-f3f3-3fb5e16c00c3"
      },
      "outputs": [
        {
          "output_type": "execute_result",
          "data": {
            "text/plain": [
              "PersistenceType    DataSize\n",
              "GreenDAO           Large       30\n",
              "                   Medium      30\n",
              "                   Small       30\n",
              "Realm              Large       30\n",
              "                   Medium      30\n",
              "                   Small       30\n",
              "SQLLite            Large       30\n",
              "                   Medium      30\n",
              "                   Small       30\n",
              "Sharedpreferences  Small       30\n",
              "Name: DataSize, dtype: int64"
            ]
          },
          "metadata": {},
          "execution_count": 17
        }
      ],
      "source": [
        "android.groupby('PersistenceType')['DataSize'].value_counts()"
      ]
    },
    {
      "cell_type": "markdown",
      "metadata": {
        "id": "YnG6KQC27TgW"
      },
      "source": [
        "Visualise the variable `Time` with a boxplot, each time with more detail. Do you notice how you get a better view of the data each time you do this?\n",
        "\n",
        "- First over the entire dataset (parameter `x`)\n",
        "- Then grouped according to `DataSize` (parameter `y`)\n",
        "- Finally, split it according to `PersistenceType` (parameter `hue`)"
      ]
    },
    {
      "cell_type": "code",
      "execution_count": null,
      "metadata": {
        "colab": {
          "base_uri": "https://localhost:8080/",
          "height": 296
        },
        "id": "XJgAohUb7TgW",
        "outputId": "b2560570-414c-4650-f2c0-1a91cae480c0"
      },
      "outputs": [
        {
          "output_type": "execute_result",
          "data": {
            "text/plain": [
              "<matplotlib.axes._subplots.AxesSubplot at 0x7f592d913dd0>"
            ]
          },
          "metadata": {},
          "execution_count": 26
        },
        {
          "output_type": "display_data",
          "data": {
            "text/plain": [
              "<Figure size 432x288 with 1 Axes>"
            ],
            "image/png": "[encoded data removed]"
          },
          "metadata": {
            "needs_background": "light"
          }
        }
      ],
      "source": [
        "sns.boxplot(data=android,x='Time',y='DataSize',hue='PersistenceType')"
      ]
    },
    {
      "cell_type": "markdown",
      "metadata": {
        "id": "8N5C8LX37TgW"
      },
      "source": [
        "**(Challenge)** Try to do something similar with a density graph: for each value of `DataSize`, show a scatter diagram showing a density graph of the variable `Time` for each value of `PersistenceType` (tip: `sns.FacetGrid()`). The result may look something like this:\n",
        "\n",
        "![Density graphs for each `DataSize`, comparing the performance of different `PersistenceTypes`](https://github.com/HoGentTIN/dsai-en-labs/blob/main/2-analysis-1-var/img/persistence-density.png?raw=1)"
      ]
    },
    {
      "cell_type": "code",
      "execution_count": 5,
      "metadata": {
        "colab": {
          "base_uri": "https://localhost:8080/",
          "height": 242
        },
        "id": "bfDTJH5e7TgX",
        "outputId": "5058dc22-e68b-4891-949e-29d192872d6f"
      },
      "outputs": [
        {
          "output_type": "execute_result",
          "data": {
            "text/plain": [
              "<seaborn.axisgrid.FacetGrid at 0x7f53d1beff10>"
            ]
          },
          "metadata": {},
          "execution_count": 5
        },
        {
          "output_type": "display_data",
          "data": {
            "text/plain": [
              "<Figure size 778.375x216 with 3 Axes>"
            ],
            "image/png": "[encoded data removed]"
          },
          "metadata": {
            "needs_background": "light"
          }
        }
      ],
      "source": [
        "#from operator import length_hint\n",
        "#figure, axis = plt.subplots(3,0)\n",
        "#sns.displot(data=android[(android.DataSize=='Small')], hue='PersistenceType',x='Time',kind='kde',ax=axis[0])\n",
        "#\n",
        "#sns.displot(data=android[(android.DataSize=='Medium')], hue='PersistenceType',x='Time',kind='kde',ax=axis[1])\n",
        "#\n",
        "#sns.displot(data=android[(android.DataSize=='Large')], hue='PersistenceType',x='Time',kind='kde',ax=axis[2])\n",
        "\n",
        "\n",
        "#BETERE Methode\n",
        "\n",
        "g=sns.FacetGrid(data=android,col='DataSize',hue='PersistenceType')\n",
        "\n",
        "g.map(sns.kdeplot,'Time')\n",
        "g.add_legend()\n"
      ]
    },
    {
      "cell_type": "markdown",
      "metadata": {
        "id": "N5LzVv-07TgX"
      },
      "source": [
        "Calculate sample mean and standard deviation of `Time`.\n",
        "\n",
        "- Across the whole dataset\n",
        "- Broken down according to `DataSize`\n",
        "- Broken down according to `PersistenceType`\n",
        "- Broken down according to `DataSize` and `PersistenceType`"
      ]
    },
    {
      "cell_type": "code",
      "execution_count": null,
      "metadata": {
        "colab": {
          "base_uri": "https://localhost:8080/"
        },
        "id": "9B6h-fAk7TgX",
        "outputId": "b21f0857-da91-4091-b44e-137e0533261f"
      },
      "outputs": [
        {
          "output_type": "stream",
          "name": "stdout",
          "text": [
            "mean    6.230833\n",
            "std     4.229599\n",
            "Name: Time, dtype: float64\n",
            "               mean       std\n",
            "DataSize                     \n",
            "Large     11.425667  1.163785\n",
            "Medium     7.022000  1.864335\n",
            "Small      1.741333  0.358625\n",
            "                       mean       std\n",
            "PersistenceType                      \n",
            "GreenDAO           7.152667  4.385917\n",
            "Realm              6.022889  3.884175\n",
            "SQLLite            7.036000  4.146336\n",
            "Sharedpreferences  1.673667  0.285192\n"
          ]
        }
      ],
      "source": [
        "\n",
        "print(android.Time.describe()[['mean','std']])\n",
        "print(android.groupby('DataSize')['Time'].describe()[['mean','std']])\n",
        "print(android.groupby('PersistenceType')['Time'].describe()[['mean','std']])\n",
        "\n",
        "\n"
      ]
    },
    {
      "cell_type": "markdown",
      "metadata": {
        "id": "JzVfI38z7TgY"
      },
      "source": [
        "## Expected results\n",
        "\n",
        "As a check, you can find the expected results here (max. 3 decimal places):\n",
        "\n",
        "| Statistic         | Mean   | Standard deviation |\n",
        "| :---------------- | :----- | :----------------- |\n",
        "| Whole dataset     | 6.231  | 4.230              |\n",
        "| Small             | 1.741  | 0.359              |\n",
        "| Medium            | 7.022  | 1.864              |\n",
        "| Large             | 11.426 | 1.164              |\n",
        "| GreenDAO          | 7.152  | 4.386              |\n",
        "| Realm             | 6.023  | 3.884              |\n",
        "| SQLite            | 7.036  | 4.146              |\n",
        "| SharedPreferences | 1.674  | 0.285              |\n",
        "\n",
        "Split on both criteria:\n",
        "\n",
        "| Sample mean       | Small | Medium | Large  |\n",
        "| :---------------- | :---- | :----- | :----- |\n",
        "| GreenDAO          | 1.894 | 7.454  | 12.110 |\n",
        "| Realm             | 1.599 | 5.818  | 10.652 |\n",
        "| SQLite            | 1.799 | 7.794  | 11.515 |\n",
        "| SharedPreferences | 1.674 | -      | -      |\n",
        "\n",
        "| Standard deviation | Small | Medium | Large |\n",
        "| :----------------- | :---- | :----- | :---- |\n",
        "| GreenDAO           | 0.348 | 2.007  | 0.868 |\n",
        "| Realm              | 0.315 | 1.331  | 1.406 |\n",
        "| SQLite             | 0.416 | 1.599  | 0.559 |\n",
        "| SharedPreferences  | 0.285 | -      | -     |\n"
      ]
    }
  ],
  "metadata": {
    "language_info": {
      "name": "python"
    },
    "orig_nbformat": 4,
    "colab": {
      "name": "lab-2-02.ipynb",
      "provenance": []
    },
    "kernelspec": {
      "name": "python3",
      "display_name": "Python 3"
    }
  },
  "nbformat": 4,
  "nbformat_minor": 0
}